{
  "nbformat": 4,
  "nbformat_minor": 0,
  "metadata": {
    "kernelspec": {
      "display_name": "Python 3",
      "language": "python",
      "name": "python3"
    },
    "language_info": {
      "codemirror_mode": {
        "name": "ipython",
        "version": 3
      },
      "file_extension": ".py",
      "mimetype": "text/x-python",
      "name": "python",
      "nbconvert_exporter": "python",
      "pygments_lexer": "ipython3",
      "version": "3.8.5"
    },
    "colab": {
      "name": "T8 - 1 - SVM - Linear SVC.ipynb",
      "provenance": [],
      "include_colab_link": true
    }
  },
  "cells": [
    {
      "cell_type": "markdown",
      "metadata": {
        "id": "view-in-github",
        "colab_type": "text"
      },
      "source": [
        "<a href=\"https://colab.research.google.com/github/EduHdzVillasana/UdemyDS/blob/main/Seccion%2010/Linear%20-%20SVM.ipynb\" target=\"_parent\"><img src=\"https://colab.research.google.com/assets/colab-badge.svg\" alt=\"Open In Colab\"/></a>"
      ]
    },
    {
      "cell_type": "markdown",
      "metadata": {
        "id": "NwihuTtE1XNN"
      },
      "source": [
        "# Linear Support Vector Classifier"
      ]
    },
    {
      "cell_type": "code",
      "metadata": {
        "id": "SFXlYnE21XNb"
      },
      "source": [
        "import numpy as np\n",
        "import matplotlib.pyplot as plt\n",
        "from matplotlib import style\n",
        "style.use(\"ggplot\")\n",
        "from sklearn import svm"
      ],
      "execution_count": 1,
      "outputs": []
    },
    {
      "cell_type": "code",
      "metadata": {
        "id": "FxK2h1a11XNd"
      },
      "source": [
        "X = [1,5,1.5,8,1,9]\n",
        "Y = [2,8,1.8,8,0.6,11]"
      ],
      "execution_count": 45,
      "outputs": []
    },
    {
      "cell_type": "code",
      "metadata": {
        "id": "zMuUadVF1XNe",
        "outputId": "b6076c74-0661-431d-d27c-548f24fb5f15",
        "colab": {
          "base_uri": "https://localhost:8080/",
          "height": 265
        }
      },
      "source": [
        "plt.scatter(X,Y)\n",
        "plt.show()"
      ],
      "execution_count": 46,
      "outputs": [
        {
          "output_type": "display_data",
          "data": {
            "image/png": "[encoded data removed]",
            "text/plain": [
              "<Figure size 432x288 with 1 Axes>"
            ]
          },
          "metadata": {
            "tags": [],
            "needs_background": "light"
          }
        }
      ]
    },
    {
      "cell_type": "code",
      "metadata": {
        "id": "O7oBtvWm1XNh"
      },
      "source": [
        "data = np.array(list(zip(X,Y)))"
      ],
      "execution_count": 47,
      "outputs": []
    },
    {
      "cell_type": "code",
      "metadata": {
        "id": "1_E8HUa41XNh",
        "outputId": "975aecf0-da58-4491-f86f-f4860c6fdcf3",
        "colab": {
          "base_uri": "https://localhost:8080/"
        }
      },
      "source": [
        "data"
      ],
      "execution_count": 48,
      "outputs": [
        {
          "output_type": "execute_result",
          "data": {
            "text/plain": [
              "array([[ 1. ,  2. ],\n",
              "       [ 5. ,  8. ],\n",
              "       [ 1.5,  1.8],\n",
              "       [ 8. ,  8. ],\n",
              "       [ 1. ,  0.6],\n",
              "       [ 9. , 11. ]])"
            ]
          },
          "metadata": {
            "tags": []
          },
          "execution_count": 48
        }
      ]
    },
    {
      "cell_type": "code",
      "metadata": {
        "id": "Kj2huSks1XNi"
      },
      "source": [
        "target = [0, 1, 0, 1, 0, 1]"
      ],
      "execution_count": 49,
      "outputs": []
    },
    {
      "cell_type": "code",
      "metadata": {
        "id": "X6XHoGic1XNj",
        "outputId": "5a0f8824-90d6-433e-e9de-3182a04bc692",
        "colab": {
          "base_uri": "https://localhost:8080/"
        }
      },
      "source": [
        "classifier = svm.SVC(kernel=\"linear\", C = 1.0)\n",
        "classifier.fit(data, target)"
      ],
      "execution_count": 50,
      "outputs": [
        {
          "output_type": "execute_result",
          "data": {
            "text/plain": [
              "SVC(C=1.0, break_ties=False, cache_size=200, class_weight=None, coef0=0.0,\n",
              "    decision_function_shape='ovr', degree=3, gamma='scale', kernel='linear',\n",
              "    max_iter=-1, probability=False, random_state=None, shrinking=True,\n",
              "    tol=0.001, verbose=False)"
            ]
          },
          "metadata": {
            "tags": []
          },
          "execution_count": 50
        }
      ]
    },
    {
      "cell_type": "code",
      "metadata": {
        "id": "o-yVk0IS1XNk",
        "outputId": "2fd156c1-ccaa-4aa4-8a53-e317d75c959b",
        "colab": {
          "base_uri": "https://localhost:8080/"
        }
      },
      "source": [
        "p = np.array([10.32, 12.67]).reshape(1,2)\n",
        "print(p)\n",
        "classifier.predict(p)"
      ],
      "execution_count": 57,
      "outputs": [
        {
          "output_type": "stream",
          "text": [
            "[[10.32 12.67]]\n"
          ],
          "name": "stdout"
        },
        {
          "output_type": "execute_result",
          "data": {
            "text/plain": [
              "array([1])"
            ]
          },
          "metadata": {
            "tags": []
          },
          "execution_count": 57
        }
      ]
    },
    {
      "cell_type": "markdown",
      "metadata": {
        "id": "1JZNslq61XNl"
      },
      "source": [
        "* Modelo:\n",
        "\n",
        "  $w_0.x+w_1.y+e=0$\n",
        "* Ecuación del hiperplano en 2D:\n",
        "\n",
        "  $y = a.x+b$"
      ]
    },
    {
      "cell_type": "code",
      "metadata": {
        "id": "wlwteU4B1XNl",
        "outputId": "a0501378-e05a-464f-9bdc-121e8e04c821",
        "colab": {
          "base_uri": "https://localhost:8080/"
        }
      },
      "source": [
        "w = classifier.coef_[0]\n",
        "w"
      ],
      "execution_count": 52,
      "outputs": [
        {
          "output_type": "execute_result",
          "data": {
            "text/plain": [
              "array([0.1380943 , 0.24462418])"
            ]
          },
          "metadata": {
            "tags": []
          },
          "execution_count": 52
        }
      ]
    },
    {
      "cell_type": "code",
      "metadata": {
        "id": "D3CrxowQ1XNm",
        "outputId": "e1829492-9432-46e9-f598-4f17a43634b3",
        "colab": {
          "base_uri": "https://localhost:8080/"
        }
      },
      "source": [
        "a = -w[0]/w[1]\n",
        "a"
      ],
      "execution_count": 58,
      "outputs": [
        {
          "output_type": "execute_result",
          "data": {
            "text/plain": [
              "-0.5645161290322581"
            ]
          },
          "metadata": {
            "tags": []
          },
          "execution_count": 58
        }
      ]
    },
    {
      "cell_type": "code",
      "metadata": {
        "id": "7ZW2d_bY1XNn",
        "outputId": "c1f4ca9e-06ca-4aa7-f8ad-35932bcae665",
        "colab": {
          "base_uri": "https://localhost:8080/"
        }
      },
      "source": [
        "b = - classifier.intercept_[0]/w[1]\n",
        "b"
      ],
      "execution_count": 59,
      "outputs": [
        {
          "output_type": "execute_result",
          "data": {
            "text/plain": [
              "6.734677437813051"
            ]
          },
          "metadata": {
            "tags": []
          },
          "execution_count": 59
        }
      ]
    },
    {
      "cell_type": "code",
      "metadata": {
        "id": "pNE9DbnL1XNo"
      },
      "source": [
        "xx = np.linspace(0,10)\n",
        "yy = a * xx + b"
      ],
      "execution_count": 60,
      "outputs": []
    },
    {
      "cell_type": "code",
      "metadata": {
        "id": "tWguOgXx1XNo",
        "outputId": "e6cea60c-c819-4112-c91e-5e65b39d61a0",
        "colab": {
          "base_uri": "https://localhost:8080/",
          "height": 283
        }
      },
      "source": [
        "plt.plot(xx, yy, 'k-', label = \"Hiperplano de separación\")\n",
        "plt.scatter(X, Y, c = target, cmap=\"gist_rainbow\")\n",
        "plt.legend()\n",
        "plt.plot()"
      ],
      "execution_count": 61,
      "outputs": [
        {
          "output_type": "execute_result",
          "data": {
            "text/plain": [
              "[]"
            ]
          },
          "metadata": {
            "tags": []
          },
          "execution_count": 61
        },
        {
          "output_type": "display_data",
          "data": {
            "image/png": "[encoded data removed]",
            "text/plain": [
              "<Figure size 432x288 with 1 Axes>"
            ]
          },
          "metadata": {
            "tags": [],
            "needs_background": "light"
          }
        }
      ]
    },
    {
      "cell_type": "code",
      "metadata": {
        "id": "CIf-T61r1XNp"
      },
      "source": [
        ""
      ],
      "execution_count": null,
      "outputs": []
    }
  ]
}