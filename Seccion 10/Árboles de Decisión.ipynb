{
  "nbformat": 4,
  "nbformat_minor": 0,
  "metadata": {
    "kernelspec": {
      "display_name": "Python 3",
      "language": "python",
      "name": "python3"
    },
    "language_info": {
      "codemirror_mode": {
        "name": "ipython",
        "version": 3
      },
      "file_extension": ".py",
      "mimetype": "text/x-python",
      "name": "python",
      "nbconvert_exporter": "python",
      "pygments_lexer": "ipython3",
      "version": "3.8.5"
    },
    "colab": {
      "name": "T7 - 1 - Trees - Árboles de Decisión.ipynb",
      "provenance": [],
      "toc_visible": true
    }
  },
  "cells": [
    {
      "cell_type": "markdown",
      "metadata": {
        "id": "5dDRZWzx1d_7"
      },
      "source": [
        "# Árbol de decisión para especies de flores"
      ]
    },
    {
      "cell_type": "code",
      "metadata": {
        "id": "ZkrfRpDc1d__"
      },
      "source": [
        "import pandas as pd\n",
        "import matplotlib.pyplot as plt\n",
        "import os"
      ],
      "execution_count": 1,
      "outputs": []
    },
    {
      "cell_type": "code",
      "metadata": {
        "id": "-sPBrwQB1eAA",
        "colab": {
          "base_uri": "https://localhost:8080/",
          "height": 195
        },
        "outputId": "3e773893-0184-4396-ed55-34baf60e0d3e"
      },
      "source": [
        "mainpath = \"https://raw.githubusercontent.com/joanby/python-ml-course/master/datasets\"\n",
        "filepath = \"iris/iris.csv\"\n",
        "data = pd.read_csv(os.path.join(mainpath,filepath))\n",
        "data.sample(5)"
      ],
      "execution_count": 2,
      "outputs": [
        {
          "output_type": "execute_result",
          "data": {
            "text/html": [
              "<div>\n",
              "<style scoped>\n",
              "    .dataframe tbody tr th:only-of-type {\n",
              "        vertical-align: middle;\n",
              "    }\n",
              "\n",
              "    .dataframe tbody tr th {\n",
              "        vertical-align: top;\n",
              "    }\n",
              "\n",
              "    .dataframe thead th {\n",
              "        text-align: right;\n",
              "    }\n",
              "</style>\n",
              "<table border=\"1\" class=\"dataframe\">\n",
              "  <thead>\n",
              "    <tr style=\"text-align: right;\">\n",
              "      <th></th>\n",
              "      <th>Sepal.Length</th>\n",
              "      <th>Sepal.Width</th>\n",
              "      <th>Petal.Length</th>\n",
              "      <th>Petal.Width</th>\n",
              "      <th>Species</th>\n",
              "    </tr>\n",
              "  </thead>\n",
              "  <tbody>\n",
              "    <tr>\n",
              "      <th>70</th>\n",
              "      <td>5.9</td>\n",
              "      <td>3.2</td>\n",
              "      <td>4.8</td>\n",
              "      <td>1.8</td>\n",
              "      <td>versicolor</td>\n",
              "    </tr>\n",
              "    <tr>\n",
              "      <th>79</th>\n",
              "      <td>5.7</td>\n",
              "      <td>2.6</td>\n",
              "      <td>3.5</td>\n",
              "      <td>1.0</td>\n",
              "      <td>versicolor</td>\n",
              "    </tr>\n",
              "    <tr>\n",
              "      <th>86</th>\n",
              "      <td>6.7</td>\n",
              "      <td>3.1</td>\n",
              "      <td>4.7</td>\n",
              "      <td>1.5</td>\n",
              "      <td>versicolor</td>\n",
              "    </tr>\n",
              "    <tr>\n",
              "      <th>135</th>\n",
              "      <td>7.7</td>\n",
              "      <td>3.0</td>\n",
              "      <td>6.1</td>\n",
              "      <td>2.3</td>\n",
              "      <td>virginica</td>\n",
              "    </tr>\n",
              "    <tr>\n",
              "      <th>12</th>\n",
              "      <td>4.8</td>\n",
              "      <td>3.0</td>\n",
              "      <td>1.4</td>\n",
              "      <td>0.1</td>\n",
              "      <td>setosa</td>\n",
              "    </tr>\n",
              "  </tbody>\n",
              "</table>\n",
              "</div>"
            ],
            "text/plain": [
              "     Sepal.Length  Sepal.Width  Petal.Length  Petal.Width     Species\n",
              "70            5.9          3.2           4.8          1.8  versicolor\n",
              "79            5.7          2.6           3.5          1.0  versicolor\n",
              "86            6.7          3.1           4.7          1.5  versicolor\n",
              "135           7.7          3.0           6.1          2.3   virginica\n",
              "12            4.8          3.0           1.4          0.1      setosa"
            ]
          },
          "metadata": {
            "tags": []
          },
          "execution_count": 2
        }
      ]
    },
    {
      "cell_type": "code",
      "metadata": {
        "id": "5TXLdPHI1eAA",
        "colab": {
          "base_uri": "https://localhost:8080/"
        },
        "outputId": "43706217-3c34-419c-bb84-cae6854ba7c4"
      },
      "source": [
        "data.shape"
      ],
      "execution_count": 3,
      "outputs": [
        {
          "output_type": "execute_result",
          "data": {
            "text/plain": [
              "(150, 5)"
            ]
          },
          "metadata": {
            "tags": []
          },
          "execution_count": 3
        }
      ]
    },
    {
      "cell_type": "code",
      "metadata": {
        "id": "SIk2Jdeg1eAA",
        "colab": {
          "base_uri": "https://localhost:8080/",
          "height": 315
        },
        "outputId": "37588154-d94f-4bfb-d7ad-ef99200b3ecc"
      },
      "source": [
        "plt.hist(data.Species)"
      ],
      "execution_count": 4,
      "outputs": [
        {
          "output_type": "execute_result",
          "data": {
            "text/plain": [
              "(array([50.,  0.,  0.,  0.,  0., 50.,  0.,  0.,  0., 50.]),\n",
              " array([0. , 0.2, 0.4, 0.6, 0.8, 1. , 1.2, 1.4, 1.6, 1.8, 2. ]),\n",
              " <a list of 10 Patch objects>)"
            ]
          },
          "metadata": {
            "tags": []
          },
          "execution_count": 4
        },
        {
          "output_type": "display_data",
          "data": {
            "image/png": "[encoded data removed]",
            "text/plain": [
              "<Figure size 432x288 with 1 Axes>"
            ]
          },
          "metadata": {
            "tags": [],
            "needs_background": "light"
          }
        }
      ]
    },
    {
      "cell_type": "code",
      "metadata": {
        "id": "huRuSpgl1eAB",
        "colab": {
          "base_uri": "https://localhost:8080/"
        },
        "outputId": "e4842e8f-ed38-45d8-deae-c7f85f848228"
      },
      "source": [
        "data.Species.unique()"
      ],
      "execution_count": 5,
      "outputs": [
        {
          "output_type": "execute_result",
          "data": {
            "text/plain": [
              "array(['setosa', 'versicolor', 'virginica'], dtype=object)"
            ]
          },
          "metadata": {
            "tags": []
          },
          "execution_count": 5
        }
      ]
    },
    {
      "cell_type": "code",
      "metadata": {
        "id": "fFwctWME1eAB"
      },
      "source": [
        "colnames = data.columns.values.tolist()\n",
        "predictors = colnames[:4] # X\n",
        "target = colnames[4] # Y"
      ],
      "execution_count": 6,
      "outputs": []
    },
    {
      "cell_type": "code",
      "metadata": {
        "id": "x2L98_a07dFT"
      },
      "source": [
        "X = data[predictors]\n",
        "Y = data[target]"
      ],
      "execution_count": 7,
      "outputs": []
    },
    {
      "cell_type": "code",
      "metadata": {
        "id": "Yc4e2HqF1eAB"
      },
      "source": [
        "import numpy as np\n",
        "from sklearn.model_selection import train_test_split"
      ],
      "execution_count": 8,
      "outputs": []
    },
    {
      "cell_type": "code",
      "metadata": {
        "id": "pNhbQ4tF6aD1"
      },
      "source": [
        "X_train, X_test, Y_train, Y_test = train_test_split(X,Y, test_size = 0.25, random_state = 0)"
      ],
      "execution_count": 9,
      "outputs": []
    },
    {
      "cell_type": "code",
      "metadata": {
        "id": "6wuRcFmU1eAC"
      },
      "source": [
        "train = pd.concat([X_train,Y_train], axis = 1)\n",
        "test = pd.concat([X_test,Y_test], axis = 1)"
      ],
      "execution_count": 10,
      "outputs": []
    },
    {
      "cell_type": "code",
      "metadata": {
        "id": "mSv2OpXJ1eAC"
      },
      "source": [
        "from sklearn.tree import DecisionTreeClassifier"
      ],
      "execution_count": 11,
      "outputs": []
    },
    {
      "cell_type": "code",
      "metadata": {
        "id": "CwSKtMMv1eAC",
        "colab": {
          "base_uri": "https://localhost:8080/"
        },
        "outputId": "9a34e5ad-8abf-48e5-efac-9d3de457ccf6"
      },
      "source": [
        "tree = DecisionTreeClassifier(criterion=\"entropy\", min_samples_split=20, random_state=99) # Se usa el algoritmo ID3\n",
        "tree.fit(train[predictors], train[target])"
      ],
      "execution_count": 12,
      "outputs": [
        {
          "output_type": "execute_result",
          "data": {
            "text/plain": [
              "DecisionTreeClassifier(ccp_alpha=0.0, class_weight=None, criterion='entropy',\n",
              "                       max_depth=None, max_features=None, max_leaf_nodes=None,\n",
              "                       min_impurity_decrease=0.0, min_impurity_split=None,\n",
              "                       min_samples_leaf=1, min_samples_split=20,\n",
              "                       min_weight_fraction_leaf=0.0, presort='deprecated',\n",
              "                       random_state=99, splitter='best')"
            ]
          },
          "metadata": {
            "tags": []
          },
          "execution_count": 12
        }
      ]
    },
    {
      "cell_type": "code",
      "metadata": {
        "id": "OOXRZuGz1eAC"
      },
      "source": [
        "preds = tree.predict(X_test)"
      ],
      "execution_count": 13,
      "outputs": []
    },
    {
      "cell_type": "code",
      "metadata": {
        "id": "KybEksWe1eAC",
        "colab": {
          "base_uri": "https://localhost:8080/",
          "height": 166
        },
        "outputId": "0566d73f-b0ed-4dc3-ba11-245e1b1d52d1"
      },
      "source": [
        "pd.crosstab(Y_test, preds, rownames=[\"Actual\"], colnames=[\"Predictions\"])"
      ],
      "execution_count": 14,
      "outputs": [
        {
          "output_type": "execute_result",
          "data": {
            "text/html": [
              "<div>\n",
              "<style scoped>\n",
              "    .dataframe tbody tr th:only-of-type {\n",
              "        vertical-align: middle;\n",
              "    }\n",
              "\n",
              "    .dataframe tbody tr th {\n",
              "        vertical-align: top;\n",
              "    }\n",
              "\n",
              "    .dataframe thead th {\n",
              "        text-align: right;\n",
              "    }\n",
              "</style>\n",
              "<table border=\"1\" class=\"dataframe\">\n",
              "  <thead>\n",
              "    <tr style=\"text-align: right;\">\n",
              "      <th>Predictions</th>\n",
              "      <th>setosa</th>\n",
              "      <th>versicolor</th>\n",
              "      <th>virginica</th>\n",
              "    </tr>\n",
              "    <tr>\n",
              "      <th>Actual</th>\n",
              "      <th></th>\n",
              "      <th></th>\n",
              "      <th></th>\n",
              "    </tr>\n",
              "  </thead>\n",
              "  <tbody>\n",
              "    <tr>\n",
              "      <th>setosa</th>\n",
              "      <td>13</td>\n",
              "      <td>0</td>\n",
              "      <td>0</td>\n",
              "    </tr>\n",
              "    <tr>\n",
              "      <th>versicolor</th>\n",
              "      <td>0</td>\n",
              "      <td>15</td>\n",
              "      <td>1</td>\n",
              "    </tr>\n",
              "    <tr>\n",
              "      <th>virginica</th>\n",
              "      <td>0</td>\n",
              "      <td>0</td>\n",
              "      <td>9</td>\n",
              "    </tr>\n",
              "  </tbody>\n",
              "</table>\n",
              "</div>"
            ],
            "text/plain": [
              "Predictions  setosa  versicolor  virginica\n",
              "Actual                                    \n",
              "setosa           13           0          0\n",
              "versicolor        0          15          1\n",
              "virginica         0           0          9"
            ]
          },
          "metadata": {
            "tags": []
          },
          "execution_count": 14
        }
      ]
    },
    {
      "cell_type": "code",
      "metadata": {
        "id": "EcMAbb97_uGa",
        "colab": {
          "base_uri": "https://localhost:8080/"
        },
        "outputId": "3624e025-2827-4ba2-a157-569c865b1098"
      },
      "source": [
        "tree.score(X_test,Y_test)"
      ],
      "execution_count": 15,
      "outputs": [
        {
          "output_type": "execute_result",
          "data": {
            "text/plain": [
              "0.9736842105263158"
            ]
          },
          "metadata": {
            "tags": []
          },
          "execution_count": 15
        }
      ]
    },
    {
      "cell_type": "markdown",
      "metadata": {
        "id": "ZfSQ90jf1eAD"
      },
      "source": [
        "## Visualización del árbol de decisión"
      ]
    },
    {
      "cell_type": "code",
      "metadata": {
        "id": "sSofeHXO1eAD"
      },
      "source": [
        "from sklearn.tree import export_graphviz"
      ],
      "execution_count": 16,
      "outputs": []
    },
    {
      "cell_type": "code",
      "metadata": {
        "scrolled": true,
        "id": "esOWOOaC1eAD"
      },
      "source": [
        "with open(\"resources/iris_dtree.dot\", \"w\") as dotfile:\n",
        "    export_graphviz(tree, out_file=dotfile, feature_names=predictors)\n",
        "    dotfile.close()"
      ],
      "execution_count": 17,
      "outputs": []
    },
    {
      "cell_type": "code",
      "metadata": {
        "id": "1u8L1elG1eAD"
      },
      "source": [
        "import os\n",
        "from graphviz import Source"
      ],
      "execution_count": 18,
      "outputs": []
    },
    {
      "cell_type": "code",
      "metadata": {
        "scrolled": true,
        "id": "BynM4uiB1eAD",
        "colab": {
          "base_uri": "https://localhost:8080/",
          "height": 136
        },
        "outputId": "7485e0fc-0de2-4629-fea9-d63ee3943be0"
      },
      "source": [
        "file = open(\"resources/iris_dtree.dot\", \"r\")\n",
        "text = file.read()\n",
        "text"
      ],
      "execution_count": 19,
      "outputs": [
        {
          "output_type": "execute_result",
          "data": {
            "application/vnd.google.colaboratory.intrinsic+json": {
              "type": "string"
            },
            "text/plain": [
              "'digraph Tree {\\nnode [shape=box] ;\\n0 [label=\"Petal.Length <= 2.35\\\\nentropy = 1.581\\\\nsamples = 112\\\\nvalue = [37, 34, 41]\"] ;\\n1 [label=\"entropy = 0.0\\\\nsamples = 37\\\\nvalue = [37, 0, 0]\"] ;\\n0 -> 1 [labeldistance=2.5, labelangle=45, headlabel=\"True\"] ;\\n2 [label=\"Petal.Length <= 4.95\\\\nentropy = 0.994\\\\nsamples = 75\\\\nvalue = [0, 34, 41]\"] ;\\n0 -> 2 [labeldistance=2.5, labelangle=-45, headlabel=\"False\"] ;\\n3 [label=\"Petal.Width <= 1.65\\\\nentropy = 0.414\\\\nsamples = 36\\\\nvalue = [0, 33, 3]\"] ;\\n2 -> 3 ;\\n4 [label=\"entropy = 0.0\\\\nsamples = 32\\\\nvalue = [0, 32, 0]\"] ;\\n3 -> 4 ;\\n5 [label=\"entropy = 0.811\\\\nsamples = 4\\\\nvalue = [0, 1, 3]\"] ;\\n3 -> 5 ;\\n6 [label=\"Petal.Width <= 1.75\\\\nentropy = 0.172\\\\nsamples = 39\\\\nvalue = [0, 1, 38]\"] ;\\n2 -> 6 ;\\n7 [label=\"entropy = 0.811\\\\nsamples = 4\\\\nvalue = [0, 1, 3]\"] ;\\n6 -> 7 ;\\n8 [label=\"entropy = 0.0\\\\nsamples = 35\\\\nvalue = [0, 0, 35]\"] ;\\n6 -> 8 ;\\n}'"
            ]
          },
          "metadata": {
            "tags": []
          },
          "execution_count": 19
        }
      ]
    },
    {
      "cell_type": "code",
      "metadata": {
        "id": "O6mt5AU11eAE",
        "colab": {
          "base_uri": "https://localhost:8080/",
          "height": 518
        },
        "outputId": "c906ed48-9928-414e-cc14-29a37e759632"
      },
      "source": [
        "Source(text)"
      ],
      "execution_count": 20,
      "outputs": [
        {
          "output_type": "execute_result",
          "data": {
            "text/plain": [
              "<graphviz.files.Source at 0x7f80625f6550>"
            ],
            "image/svg+xml": "<?xml version=\"1.0\" encoding=\"UTF-8\" standalone=\"no\"?>\n<!DOCTYPE svg PUBLIC \"-//W3C//DTD SVG 1.1//EN\"\n \"http://www.w3.org/Graphics/SVG/1.1/DTD/svg11.dtd\">\n<!-- Generated by graphviz version 2.40.1 (20161225.0304)\n -->\n<!-- Title: Tree Pages: 1 -->\n<svg width=\"529pt\" height=\"373pt\"\n viewBox=\"0.00 0.00 529.00 373.00\" xmlns=\"http://www.w3.org/2000/svg\" xmlns:xlink=\"http://www.w3.org/1999/xlink\">\n<g id=\"graph0\" class=\"graph\" transform=\"scale(1 1) rotate(0) translate(4 369)\">\n<title>Tree</title>\n<polygon fill=\"#ffffff\" stroke=\"transparent\" points=\"-4,4 -4,-369 525,-369 525,4 -4,4\"/>\n<!-- 0 -->\n<g id=\"node1\" class=\"node\">\n<title>0</title>\n<polygon fill=\"none\" stroke=\"#000000\" points=\"256.5,-365 116.5,-365 116.5,-297 256.5,-297 256.5,-365\"/>\n<text text-anchor=\"middle\" x=\"186.5\" y=\"-349.8\" font-family=\"Times,serif\" font-size=\"14.00\" fill=\"#000000\">Petal.Length &lt;= 2.35</text>\n<text text-anchor=\"middle\" x=\"186.5\" y=\"-334.8\" font-family=\"Times,serif\" font-size=\"14.00\" fill=\"#000000\">entropy = 1.581</text>\n<text text-anchor=\"middle\" x=\"186.5\" y=\"-319.8\" font-family=\"Times,serif\" font-size=\"14.00\" fill=\"#000000\">samples = 112</text>\n<text text-anchor=\"middle\" x=\"186.5\" y=\"-304.8\" font-family=\"Times,serif\" font-size=\"14.00\" fill=\"#000000\">value = [37, 34, 41]</text>\n</g>\n<!-- 1 -->\n<g id=\"node2\" class=\"node\">\n<title>1</title>\n<polygon fill=\"none\" stroke=\"#000000\" points=\"172,-253.5 55,-253.5 55,-200.5 172,-200.5 172,-253.5\"/>\n<text text-anchor=\"middle\" x=\"113.5\" y=\"-238.3\" font-family=\"Times,serif\" font-size=\"14.00\" fill=\"#000000\">entropy = 0.0</text>\n<text text-anchor=\"middle\" x=\"113.5\" y=\"-223.3\" font-family=\"Times,serif\" font-size=\"14.00\" fill=\"#000000\">samples = 37</text>\n<text text-anchor=\"middle\" x=\"113.5\" y=\"-208.3\" font-family=\"Times,serif\" font-size=\"14.00\" fill=\"#000000\">value = [37, 0, 0]</text>\n</g>\n<!-- 0&#45;&gt;1 -->\n<g id=\"edge1\" class=\"edge\">\n<title>0&#45;&gt;1</title>\n<path fill=\"none\" stroke=\"#000000\" d=\"M162.5971,-296.9465C154.7108,-285.7113 145.9303,-273.2021 138.0002,-261.9043\"/>\n<polygon fill=\"#000000\" stroke=\"#000000\" points=\"140.7405,-259.7163 132.1306,-253.5422 135.0111,-263.7379 140.7405,-259.7163\"/>\n<text text-anchor=\"middle\" x=\"127.8177\" y=\"-274.4673\" font-family=\"Times,serif\" font-size=\"14.00\" fill=\"#000000\">True</text>\n</g>\n<!-- 2 -->\n<g id=\"node3\" class=\"node\">\n<title>2</title>\n<polygon fill=\"none\" stroke=\"#000000\" points=\"330.5,-261 190.5,-261 190.5,-193 330.5,-193 330.5,-261\"/>\n<text text-anchor=\"middle\" x=\"260.5\" y=\"-245.8\" font-family=\"Times,serif\" font-size=\"14.00\" fill=\"#000000\">Petal.Length &lt;= 4.95</text>\n<text text-anchor=\"middle\" x=\"260.5\" y=\"-230.8\" font-family=\"Times,serif\" font-size=\"14.00\" fill=\"#000000\">entropy = 0.994</text>\n<text text-anchor=\"middle\" x=\"260.5\" y=\"-215.8\" font-family=\"Times,serif\" font-size=\"14.00\" fill=\"#000000\">samples = 75</text>\n<text text-anchor=\"middle\" x=\"260.5\" y=\"-200.8\" font-family=\"Times,serif\" font-size=\"14.00\" fill=\"#000000\">value = [0, 34, 41]</text>\n</g>\n<!-- 0&#45;&gt;2 -->\n<g id=\"edge2\" class=\"edge\">\n<title>0&#45;&gt;2</title>\n<path fill=\"none\" stroke=\"#000000\" d=\"M210.7304,-296.9465C216.9912,-288.1475 223.808,-278.5672 230.3313,-269.3993\"/>\n<polygon fill=\"#000000\" stroke=\"#000000\" points=\"233.2694,-271.3071 236.2152,-261.13 227.5658,-267.2488 233.2694,-271.3071\"/>\n<text text-anchor=\"middle\" x=\"240.3701\" y=\"-282.0823\" font-family=\"Times,serif\" font-size=\"14.00\" fill=\"#000000\">False</text>\n</g>\n<!-- 3 -->\n<g id=\"node4\" class=\"node\">\n<title>3</title>\n<polygon fill=\"none\" stroke=\"#000000\" points=\"251.5,-157 117.5,-157 117.5,-89 251.5,-89 251.5,-157\"/>\n<text text-anchor=\"middle\" x=\"184.5\" y=\"-141.8\" font-family=\"Times,serif\" font-size=\"14.00\" fill=\"#000000\">Petal.Width &lt;= 1.65</text>\n<text text-anchor=\"middle\" x=\"184.5\" y=\"-126.8\" font-family=\"Times,serif\" font-size=\"14.00\" fill=\"#000000\">entropy = 0.414</text>\n<text text-anchor=\"middle\" x=\"184.5\" y=\"-111.8\" font-family=\"Times,serif\" font-size=\"14.00\" fill=\"#000000\">samples = 36</text>\n<text text-anchor=\"middle\" x=\"184.5\" y=\"-96.8\" font-family=\"Times,serif\" font-size=\"14.00\" fill=\"#000000\">value = [0, 33, 3]</text>\n</g>\n<!-- 2&#45;&gt;3 -->\n<g id=\"edge3\" class=\"edge\">\n<title>2&#45;&gt;3</title>\n<path fill=\"none\" stroke=\"#000000\" d=\"M235.6148,-192.9465C229.1847,-184.1475 222.1837,-174.5672 215.4841,-165.3993\"/>\n<polygon fill=\"#000000\" stroke=\"#000000\" points=\"218.1672,-163.1389 209.4412,-157.13 212.5155,-167.269 218.1672,-163.1389\"/>\n</g>\n<!-- 6 -->\n<g id=\"node7\" class=\"node\">\n<title>6</title>\n<polygon fill=\"none\" stroke=\"#000000\" points=\"403.5,-157 269.5,-157 269.5,-89 403.5,-89 403.5,-157\"/>\n<text text-anchor=\"middle\" x=\"336.5\" y=\"-141.8\" font-family=\"Times,serif\" font-size=\"14.00\" fill=\"#000000\">Petal.Width &lt;= 1.75</text>\n<text text-anchor=\"middle\" x=\"336.5\" y=\"-126.8\" font-family=\"Times,serif\" font-size=\"14.00\" fill=\"#000000\">entropy = 0.172</text>\n<text text-anchor=\"middle\" x=\"336.5\" y=\"-111.8\" font-family=\"Times,serif\" font-size=\"14.00\" fill=\"#000000\">samples = 39</text>\n<text text-anchor=\"middle\" x=\"336.5\" y=\"-96.8\" font-family=\"Times,serif\" font-size=\"14.00\" fill=\"#000000\">value = [0, 1, 38]</text>\n</g>\n<!-- 2&#45;&gt;6 -->\n<g id=\"edge6\" class=\"edge\">\n<title>2&#45;&gt;6</title>\n<path fill=\"none\" stroke=\"#000000\" d=\"M285.3852,-192.9465C291.8153,-184.1475 298.8163,-174.5672 305.5159,-165.3993\"/>\n<polygon fill=\"#000000\" stroke=\"#000000\" points=\"308.4845,-167.269 311.5588,-157.13 302.8328,-163.1389 308.4845,-167.269\"/>\n</g>\n<!-- 4 -->\n<g id=\"node5\" class=\"node\">\n<title>4</title>\n<polygon fill=\"none\" stroke=\"#000000\" points=\"117,-53 0,-53 0,0 117,0 117,-53\"/>\n<text text-anchor=\"middle\" x=\"58.5\" y=\"-37.8\" font-family=\"Times,serif\" font-size=\"14.00\" fill=\"#000000\">entropy = 0.0</text>\n<text text-anchor=\"middle\" x=\"58.5\" y=\"-22.8\" font-family=\"Times,serif\" font-size=\"14.00\" fill=\"#000000\">samples = 32</text>\n<text text-anchor=\"middle\" x=\"58.5\" y=\"-7.8\" font-family=\"Times,serif\" font-size=\"14.00\" fill=\"#000000\">value = [0, 32, 0]</text>\n</g>\n<!-- 3&#45;&gt;4 -->\n<g id=\"edge4\" class=\"edge\">\n<title>3&#45;&gt;4</title>\n<path fill=\"none\" stroke=\"#000000\" d=\"M140.0771,-88.9777C127.523,-79.3629 113.8881,-68.9203 101.424,-59.3743\"/>\n<polygon fill=\"#000000\" stroke=\"#000000\" points=\"103.4927,-56.5502 93.4255,-53.2485 99.2365,-62.1076 103.4927,-56.5502\"/>\n</g>\n<!-- 5 -->\n<g id=\"node6\" class=\"node\">\n<title>5</title>\n<polygon fill=\"none\" stroke=\"#000000\" points=\"245.5,-53 135.5,-53 135.5,0 245.5,0 245.5,-53\"/>\n<text text-anchor=\"middle\" x=\"190.5\" y=\"-37.8\" font-family=\"Times,serif\" font-size=\"14.00\" fill=\"#000000\">entropy = 0.811</text>\n<text text-anchor=\"middle\" x=\"190.5\" y=\"-22.8\" font-family=\"Times,serif\" font-size=\"14.00\" fill=\"#000000\">samples = 4</text>\n<text text-anchor=\"middle\" x=\"190.5\" y=\"-7.8\" font-family=\"Times,serif\" font-size=\"14.00\" fill=\"#000000\">value = [0, 1, 3]</text>\n</g>\n<!-- 3&#45;&gt;5 -->\n<g id=\"edge5\" class=\"edge\">\n<title>3&#45;&gt;5</title>\n<path fill=\"none\" stroke=\"#000000\" d=\"M186.6154,-88.9777C187.1335,-80.6449 187.6902,-71.6903 188.2159,-63.2364\"/>\n<polygon fill=\"#000000\" stroke=\"#000000\" points=\"191.7095,-63.4464 188.8369,-53.2485 184.723,-63.012 191.7095,-63.4464\"/>\n</g>\n<!-- 7 -->\n<g id=\"node8\" class=\"node\">\n<title>7</title>\n<polygon fill=\"none\" stroke=\"#000000\" points=\"385.5,-53 275.5,-53 275.5,0 385.5,0 385.5,-53\"/>\n<text text-anchor=\"middle\" x=\"330.5\" y=\"-37.8\" font-family=\"Times,serif\" font-size=\"14.00\" fill=\"#000000\">entropy = 0.811</text>\n<text text-anchor=\"middle\" x=\"330.5\" y=\"-22.8\" font-family=\"Times,serif\" font-size=\"14.00\" fill=\"#000000\">samples = 4</text>\n<text text-anchor=\"middle\" x=\"330.5\" y=\"-7.8\" font-family=\"Times,serif\" font-size=\"14.00\" fill=\"#000000\">value = [0, 1, 3]</text>\n</g>\n<!-- 6&#45;&gt;7 -->\n<g id=\"edge7\" class=\"edge\">\n<title>6&#45;&gt;7</title>\n<path fill=\"none\" stroke=\"#000000\" d=\"M334.3846,-88.9777C333.8665,-80.6449 333.3098,-71.6903 332.7841,-63.2364\"/>\n<polygon fill=\"#000000\" stroke=\"#000000\" points=\"336.277,-63.012 332.1631,-53.2485 329.2905,-63.4464 336.277,-63.012\"/>\n</g>\n<!-- 8 -->\n<g id=\"node9\" class=\"node\">\n<title>8</title>\n<polygon fill=\"none\" stroke=\"#000000\" points=\"521,-53 404,-53 404,0 521,0 521,-53\"/>\n<text text-anchor=\"middle\" x=\"462.5\" y=\"-37.8\" font-family=\"Times,serif\" font-size=\"14.00\" fill=\"#000000\">entropy = 0.0</text>\n<text text-anchor=\"middle\" x=\"462.5\" y=\"-22.8\" font-family=\"Times,serif\" font-size=\"14.00\" fill=\"#000000\">samples = 35</text>\n<text text-anchor=\"middle\" x=\"462.5\" y=\"-7.8\" font-family=\"Times,serif\" font-size=\"14.00\" fill=\"#000000\">value = [0, 0, 35]</text>\n</g>\n<!-- 6&#45;&gt;8 -->\n<g id=\"edge8\" class=\"edge\">\n<title>6&#45;&gt;8</title>\n<path fill=\"none\" stroke=\"#000000\" d=\"M380.9229,-88.9777C393.477,-79.3629 407.1119,-68.9203 419.576,-59.3743\"/>\n<polygon fill=\"#000000\" stroke=\"#000000\" points=\"421.7635,-62.1076 427.5745,-53.2485 417.5073,-56.5502 421.7635,-62.1076\"/>\n</g>\n</g>\n</svg>\n"
          },
          "metadata": {
            "tags": []
          },
          "execution_count": 20
        }
      ]
    },
    {
      "cell_type": "markdown",
      "metadata": {
        "id": "qxvprTvQ1eAE"
      },
      "source": [
        "## Cross Validation para la poda"
      ]
    },
    {
      "cell_type": "code",
      "metadata": {
        "id": "AQWh83cB1eAE",
        "colab": {
          "base_uri": "https://localhost:8080/"
        },
        "outputId": "6b8eea22-ca73-4970-95bc-c541f6d61cc3"
      },
      "source": [
        "tree = DecisionTreeClassifier(criterion=\"entropy\", max_depth=5, min_samples_split=20, random_state=99)\n",
        "tree.fit(X,Y)"
      ],
      "execution_count": 21,
      "outputs": [
        {
          "output_type": "execute_result",
          "data": {
            "text/plain": [
              "DecisionTreeClassifier(ccp_alpha=0.0, class_weight=None, criterion='entropy',\n",
              "                       max_depth=5, max_features=None, max_leaf_nodes=None,\n",
              "                       min_impurity_decrease=0.0, min_impurity_split=None,\n",
              "                       min_samples_leaf=1, min_samples_split=20,\n",
              "                       min_weight_fraction_leaf=0.0, presort='deprecated',\n",
              "                       random_state=99, splitter='best')"
            ]
          },
          "metadata": {
            "tags": []
          },
          "execution_count": 21
        }
      ]
    },
    {
      "cell_type": "code",
      "metadata": {
        "id": "io9Tdx3U1eAE"
      },
      "source": [
        "from sklearn.model_selection import KFold"
      ],
      "execution_count": 22,
      "outputs": []
    },
    {
      "cell_type": "code",
      "metadata": {
        "id": "lBOEDQ7T1eAE"
      },
      "source": [
        "#cv = KFold(n = X.shape[0], n_folds=10, shuffle=True, random_state=1)\n",
        "cv = KFold(n_splits=10, shuffle=True, random_state=1)"
      ],
      "execution_count": 23,
      "outputs": []
    },
    {
      "cell_type": "code",
      "metadata": {
        "id": "RkaxvQ9X1eAE"
      },
      "source": [
        "from sklearn.model_selection import cross_val_score"
      ],
      "execution_count": 24,
      "outputs": []
    },
    {
      "cell_type": "code",
      "metadata": {
        "id": "PcFY7GKj1eAF",
        "colab": {
          "base_uri": "https://localhost:8080/"
        },
        "outputId": "b00f068c-ecbc-4764-d2be-3a7a16d3591f"
      },
      "source": [
        "scores = cross_val_score(tree, X, Y, scoring=\"accuracy\", cv = cv, n_jobs=1)\n",
        "scores"
      ],
      "execution_count": 25,
      "outputs": [
        {
          "output_type": "execute_result",
          "data": {
            "text/plain": [
              "array([1.        , 0.93333333, 0.93333333, 0.93333333, 1.        ,\n",
              "       0.93333333, 1.        , 0.86666667, 0.93333333, 0.8       ])"
            ]
          },
          "metadata": {
            "tags": []
          },
          "execution_count": 25
        }
      ]
    },
    {
      "cell_type": "code",
      "metadata": {
        "id": "b8LF6C6X1eAF",
        "colab": {
          "base_uri": "https://localhost:8080/"
        },
        "outputId": "713cfb8c-cacd-4570-8f0e-b8f7cf68938c"
      },
      "source": [
        "score = np.mean(scores)\n",
        "score"
      ],
      "execution_count": 26,
      "outputs": [
        {
          "output_type": "execute_result",
          "data": {
            "text/plain": [
              "0.9333333333333333"
            ]
          },
          "metadata": {
            "tags": []
          },
          "execution_count": 26
        }
      ]
    },
    {
      "cell_type": "code",
      "metadata": {
        "id": "564282fT1eAF",
        "colab": {
          "base_uri": "https://localhost:8080/"
        },
        "outputId": "ad6a8266-0c77-4a19-d519-df16b5709568"
      },
      "source": [
        "for i in range(1,11):\n",
        "  tree = DecisionTreeClassifier(criterion=\"entropy\", max_depth=i, min_samples_split=20, random_state=99)\n",
        "  tree.fit(X,Y)\n",
        "  cv = KFold(n_splits=10, shuffle=True, random_state=1)\n",
        "  scores = cross_val_score(tree, X, Y, scoring=\"accuracy\", cv = cv, n_jobs=1)\n",
        "  score = np.mean(scores)\n",
        "  print(\"Score para i = \",i,\" es de \", score)\n",
        "  #print(\"   \",tree.feature_importances_)"
      ],
      "execution_count": 27,
      "outputs": [
        {
          "output_type": "stream",
          "text": [
            "Score para i =  1  es de  0.5666666666666667\n",
            "Score para i =  2  es de  0.9200000000000002\n",
            "Score para i =  3  es de  0.9400000000000001\n",
            "Score para i =  4  es de  0.9333333333333333\n",
            "Score para i =  5  es de  0.9333333333333333\n",
            "Score para i =  6  es de  0.9333333333333333\n",
            "Score para i =  7  es de  0.9333333333333333\n",
            "Score para i =  8  es de  0.9333333333333333\n",
            "Score para i =  9  es de  0.9333333333333333\n",
            "Score para i =  10  es de  0.9333333333333333\n"
          ],
          "name": "stdout"
        }
      ]
    },
    {
      "cell_type": "code",
      "metadata": {
        "id": "V4_oxClI1eAF",
        "colab": {
          "base_uri": "https://localhost:8080/"
        },
        "outputId": "ca801a4a-6eba-4ca2-8224-0e2984dace28"
      },
      "source": [
        "predictors"
      ],
      "execution_count": 28,
      "outputs": [
        {
          "output_type": "execute_result",
          "data": {
            "text/plain": [
              "['Sepal.Length', 'Sepal.Width', 'Petal.Length', 'Petal.Width']"
            ]
          },
          "metadata": {
            "tags": []
          },
          "execution_count": 28
        }
      ]
    },
    {
      "cell_type": "markdown",
      "metadata": {
        "id": "Nvxecw8Y1eAH"
      },
      "source": [
        "## Random forest"
      ]
    },
    {
      "cell_type": "code",
      "metadata": {
        "id": "oRXCzzVJ1eAH"
      },
      "source": [
        "from sklearn.ensemble import RandomForestClassifier"
      ],
      "execution_count": 29,
      "outputs": []
    },
    {
      "cell_type": "code",
      "metadata": {
        "id": "rAawBnLc1eAH",
        "outputId": "c65f0d46-da29-4c99-b4de-7cb530069b7b",
        "colab": {
          "base_uri": "https://localhost:8080/"
        }
      },
      "source": [
        "forest = RandomForestClassifier(n_jobs=4, oob_score=True, n_estimators=500)\n",
        "forest.fit(X,Y)"
      ],
      "execution_count": 37,
      "outputs": [
        {
          "output_type": "execute_result",
          "data": {
            "text/plain": [
              "RandomForestClassifier(bootstrap=True, ccp_alpha=0.0, class_weight=None,\n",
              "                       criterion='gini', max_depth=None, max_features='auto',\n",
              "                       max_leaf_nodes=None, max_samples=None,\n",
              "                       min_impurity_decrease=0.0, min_impurity_split=None,\n",
              "                       min_samples_leaf=1, min_samples_split=2,\n",
              "                       min_weight_fraction_leaf=0.0, n_estimators=500, n_jobs=4,\n",
              "                       oob_score=True, random_state=None, verbose=0,\n",
              "                       warm_start=False)"
            ]
          },
          "metadata": {
            "tags": []
          },
          "execution_count": 37
        }
      ]
    },
    {
      "cell_type": "code",
      "metadata": {
        "id": "7nvdmEZ71eAH",
        "outputId": "769d79c3-3afc-4e34-ec7f-1057ed622e45",
        "colab": {
          "base_uri": "https://localhost:8080/"
        }
      },
      "source": [
        "forest.oob_decision_function_"
      ],
      "execution_count": 39,
      "outputs": [
        {
          "output_type": "execute_result",
          "data": {
            "text/plain": [
              "array([[1.        , 0.        , 0.        ],\n",
              "       [1.        , 0.        , 0.        ],\n",
              "       [1.        , 0.        , 0.        ],\n",
              "       [1.        , 0.        , 0.        ],\n",
              "       [1.        , 0.        , 0.        ],\n",
              "       [1.        , 0.        , 0.        ],\n",
              "       [1.        , 0.        , 0.        ],\n",
              "       [1.        , 0.        , 0.        ],\n",
              "       [1.        , 0.        , 0.        ],\n",
              "       [1.        , 0.        , 0.        ],\n",
              "       [1.        , 0.        , 0.        ],\n",
              "       [1.        , 0.        , 0.        ],\n",
              "       [1.        , 0.        , 0.        ],\n",
              "       [1.        , 0.        , 0.        ],\n",
              "       [0.97837838, 0.02162162, 0.        ],\n",
              "       [0.9895288 , 0.0104712 , 0.        ],\n",
              "       [1.        , 0.        , 0.        ],\n",
              "       [1.        , 0.        , 0.        ],\n",
              "       [0.98837209, 0.01162791, 0.        ],\n",
              "       [1.        , 0.        , 0.        ],\n",
              "       [1.        , 0.        , 0.        ],\n",
              "       [1.        , 0.        , 0.        ],\n",
              "       [1.        , 0.        , 0.        ],\n",
              "       [1.        , 0.        , 0.        ],\n",
              "       [1.        , 0.        , 0.        ],\n",
              "       [1.        , 0.        , 0.        ],\n",
              "       [1.        , 0.        , 0.        ],\n",
              "       [1.        , 0.        , 0.        ],\n",
              "       [1.        , 0.        , 0.        ],\n",
              "       [1.        , 0.        , 0.        ],\n",
              "       [1.        , 0.        , 0.        ],\n",
              "       [1.        , 0.        , 0.        ],\n",
              "       [1.        , 0.        , 0.        ],\n",
              "       [0.99453552, 0.00546448, 0.        ],\n",
              "       [1.        , 0.        , 0.        ],\n",
              "       [1.        , 0.        , 0.        ],\n",
              "       [0.953125  , 0.046875  , 0.        ],\n",
              "       [1.        , 0.        , 0.        ],\n",
              "       [1.        , 0.        , 0.        ],\n",
              "       [1.        , 0.        , 0.        ],\n",
              "       [1.        , 0.        , 0.        ],\n",
              "       [0.95454545, 0.04545455, 0.        ],\n",
              "       [1.        , 0.        , 0.        ],\n",
              "       [1.        , 0.        , 0.        ],\n",
              "       [1.        , 0.        , 0.        ],\n",
              "       [1.        , 0.        , 0.        ],\n",
              "       [1.        , 0.        , 0.        ],\n",
              "       [1.        , 0.        , 0.        ],\n",
              "       [1.        , 0.        , 0.        ],\n",
              "       [1.        , 0.        , 0.        ],\n",
              "       [0.        , 0.95287958, 0.04712042],\n",
              "       [0.        , 1.        , 0.        ],\n",
              "       [0.        , 0.75      , 0.25      ],\n",
              "       [0.        , 0.98850575, 0.01149425],\n",
              "       [0.        , 0.98918919, 0.01081081],\n",
              "       [0.        , 1.        , 0.        ],\n",
              "       [0.        , 0.94193548, 0.05806452],\n",
              "       [0.        , 0.76878613, 0.23121387],\n",
              "       [0.        , 1.        , 0.        ],\n",
              "       [0.        , 0.96195652, 0.03804348],\n",
              "       [0.00578035, 0.94219653, 0.05202312],\n",
              "       [0.        , 0.98192771, 0.01807229],\n",
              "       [0.        , 0.92261905, 0.07738095],\n",
              "       [0.        , 0.99473684, 0.00526316],\n",
              "       [0.        , 1.        , 0.        ],\n",
              "       [0.        , 1.        , 0.        ],\n",
              "       [0.        , 0.98863636, 0.01136364],\n",
              "       [0.        , 1.        , 0.        ],\n",
              "       [0.        , 0.8956044 , 0.1043956 ],\n",
              "       [0.        , 1.        , 0.        ],\n",
              "       [0.        , 0.05434783, 0.94565217],\n",
              "       [0.        , 1.        , 0.        ],\n",
              "       [0.        , 0.56043956, 0.43956044],\n",
              "       [0.        , 0.99444444, 0.00555556],\n",
              "       [0.        , 1.        , 0.        ],\n",
              "       [0.        , 1.        , 0.        ],\n",
              "       [0.        , 0.79487179, 0.20512821],\n",
              "       [0.        , 0.01630435, 0.98369565],\n",
              "       [0.        , 0.98285714, 0.01714286],\n",
              "       [0.        , 1.        , 0.        ],\n",
              "       [0.        , 1.        , 0.        ],\n",
              "       [0.        , 1.        , 0.        ],\n",
              "       [0.        , 1.        , 0.        ],\n",
              "       [0.        , 0.12352941, 0.87647059],\n",
              "       [0.03571429, 0.93452381, 0.0297619 ],\n",
              "       [0.01704545, 0.96022727, 0.02272727],\n",
              "       [0.        , 1.        , 0.        ],\n",
              "       [0.        , 0.97727273, 0.02272727],\n",
              "       [0.        , 1.        , 0.        ],\n",
              "       [0.        , 1.        , 0.        ],\n",
              "       [0.        , 0.9895288 , 0.0104712 ],\n",
              "       [0.        , 0.99468085, 0.00531915],\n",
              "       [0.        , 0.99425287, 0.00574713],\n",
              "       [0.00483092, 0.96135266, 0.03381643],\n",
              "       [0.        , 1.        , 0.        ],\n",
              "       [0.        , 1.        , 0.        ],\n",
              "       [0.        , 1.        , 0.        ],\n",
              "       [0.        , 1.        , 0.        ],\n",
              "       [0.        , 0.97126437, 0.02873563],\n",
              "       [0.        , 1.        , 0.        ],\n",
              "       [0.        , 0.        , 1.        ],\n",
              "       [0.        , 0.01714286, 0.98285714],\n",
              "       [0.        , 0.        , 1.        ],\n",
              "       [0.        , 0.        , 1.        ],\n",
              "       [0.        , 0.        , 1.        ],\n",
              "       [0.        , 0.        , 1.        ],\n",
              "       [0.        , 0.84180791, 0.15819209],\n",
              "       [0.        , 0.        , 1.        ],\n",
              "       [0.        , 0.        , 1.        ],\n",
              "       [0.        , 0.        , 1.        ],\n",
              "       [0.        , 0.02673797, 0.97326203],\n",
              "       [0.        , 0.01104972, 0.98895028],\n",
              "       [0.        , 0.00540541, 0.99459459],\n",
              "       [0.        , 0.04166667, 0.95833333],\n",
              "       [0.        , 0.        , 1.        ],\n",
              "       [0.        , 0.        , 1.        ],\n",
              "       [0.        , 0.        , 1.        ],\n",
              "       [0.        , 0.        , 1.        ],\n",
              "       [0.        , 0.        , 1.        ],\n",
              "       [0.        , 0.83168317, 0.16831683],\n",
              "       [0.        , 0.        , 1.        ],\n",
              "       [0.        , 0.10588235, 0.89411765],\n",
              "       [0.        , 0.        , 1.        ],\n",
              "       [0.        , 0.1025641 , 0.8974359 ],\n",
              "       [0.        , 0.        , 1.        ],\n",
              "       [0.        , 0.01086957, 0.98913043],\n",
              "       [0.        , 0.20634921, 0.79365079],\n",
              "       [0.        , 0.08080808, 0.91919192],\n",
              "       [0.        , 0.        , 1.        ],\n",
              "       [0.        , 0.41208791, 0.58791209],\n",
              "       [0.        , 0.        , 1.        ],\n",
              "       [0.        , 0.        , 1.        ],\n",
              "       [0.        , 0.        , 1.        ],\n",
              "       [0.        , 0.64375   , 0.35625   ],\n",
              "       [0.        , 0.48087432, 0.51912568],\n",
              "       [0.        , 0.        , 1.        ],\n",
              "       [0.        , 0.        , 1.        ],\n",
              "       [0.        , 0.0052356 , 0.9947644 ],\n",
              "       [0.        , 0.40625   , 0.59375   ],\n",
              "       [0.        , 0.        , 1.        ],\n",
              "       [0.        , 0.        , 1.        ],\n",
              "       [0.        , 0.04736842, 0.95263158],\n",
              "       [0.        , 0.01714286, 0.98285714],\n",
              "       [0.        , 0.00512821, 0.99487179],\n",
              "       [0.        , 0.        , 1.        ],\n",
              "       [0.        , 0.00515464, 0.99484536],\n",
              "       [0.        , 0.05235602, 0.94764398],\n",
              "       [0.        , 0.        , 1.        ],\n",
              "       [0.        , 0.01546392, 0.98453608],\n",
              "       [0.        , 0.10982659, 0.89017341]])"
            ]
          },
          "metadata": {
            "tags": []
          },
          "execution_count": 39
        }
      ]
    },
    {
      "cell_type": "code",
      "metadata": {
        "id": "hnF-P76j1eAH",
        "outputId": "91beff7b-7677-4ae2-cd33-c940ea63a540",
        "colab": {
          "base_uri": "https://localhost:8080/"
        }
      },
      "source": [
        "forest.oob_score_"
      ],
      "execution_count": 38,
      "outputs": [
        {
          "output_type": "execute_result",
          "data": {
            "text/plain": [
              "0.96"
            ]
          },
          "metadata": {
            "tags": []
          },
          "execution_count": 38
        }
      ]
    },
    {
      "cell_type": "code",
      "metadata": {
        "id": "0DWhLh7L1eAI"
      },
      "source": [
        ""
      ],
      "execution_count": null,
      "outputs": []
    }
  ]
}