{
  "nbformat": 4,
  "nbformat_minor": 0,
  "metadata": {
    "kernelspec": {
      "display_name": "Python 3",
      "language": "python",
      "name": "python3"
    },
    "language_info": {
      "codemirror_mode": {
        "name": "ipython",
        "version": 3
      },
      "file_extension": ".py",
      "mimetype": "text/x-python",
      "name": "python",
      "nbconvert_exporter": "python",
      "pygments_lexer": "ipython3",
      "version": "3.8.5"
    },
    "colab": {
      "name": "T10 - 1 - Analisis de Componentes Principales.ipynb",
      "provenance": [],
      "include_colab_link": true
    }
  },
  "cells": [
    {
      "cell_type": "markdown",
      "metadata": {
        "id": "view-in-github",
        "colab_type": "text"
      },
      "source": [
        "<a href=\"https://colab.research.google.com/github/EduHdzVillasana/UdemyDS/blob/main/Seccion%2014/ACP%20Manual.ipynb\" target=\"_parent\"><img src=\"https://colab.research.google.com/assets/colab-badge.svg\" alt=\"Open In Colab\"/></a>"
      ]
    },
    {
      "cell_type": "markdown",
      "metadata": {
        "id": "TpWMwRPMxtSv"
      },
      "source": [
        "# Análisis de Componentes Principales - Paso a Paso"
      ]
    },
    {
      "cell_type": "markdown",
      "metadata": {
        "id": "gWSe2_xixtSx"
      },
      "source": [
        "* Estandarizar los datos (para cada una de las m observaciones)\n",
        "* Obtener los vectores y valores propios a partir de la matriz de covarianzas o de correlaciones o incluso la técnica de singular vector decomposition.\n",
        "* Ordenar los valores propios en orden descendente y quedarnos con los *p* que se correpondan a los *p* mayores y así disminuir el número de variables del dataset (p<m)\n",
        "* Constrir la matriz de proyección W a partir de los p vectores propios\n",
        "* Transformar el dataset original X a través de W para así obtener dadtos en el subespacio dimensional de dimensión *p*, que será Y"
      ]
    },
    {
      "cell_type": "code",
      "metadata": {
        "id": "dN8ms5NMxtSy"
      },
      "source": [
        "import pandas as pd\n",
        "import os"
      ],
      "execution_count": 1,
      "outputs": []
    },
    {
      "cell_type": "code",
      "metadata": {
        "id": "d3GcMpR2xtSy"
      },
      "source": [
        "mainpath = \"https://raw.githubusercontent.com/joanby/python-ml-course/master/datasets\"\n",
        "filepath = \"iris/iris.csv\"\n",
        "df = pd.read_csv(os.path.join(mainpath,filepath))"
      ],
      "execution_count": 2,
      "outputs": []
    },
    {
      "cell_type": "code",
      "metadata": {
        "id": "y6zCfK7bxtSy",
        "colab": {
          "base_uri": "https://localhost:8080/",
          "height": 195
        },
        "outputId": "f283f076-6835-4f40-a72f-a579a07c0abb"
      },
      "source": [
        "df.head()"
      ],
      "execution_count": 3,
      "outputs": [
        {
          "output_type": "execute_result",
          "data": {
            "text/html": [
              "<div>\n",
              "<style scoped>\n",
              "    .dataframe tbody tr th:only-of-type {\n",
              "        vertical-align: middle;\n",
              "    }\n",
              "\n",
              "    .dataframe tbody tr th {\n",
              "        vertical-align: top;\n",
              "    }\n",
              "\n",
              "    .dataframe thead th {\n",
              "        text-align: right;\n",
              "    }\n",
              "</style>\n",
              "<table border=\"1\" class=\"dataframe\">\n",
              "  <thead>\n",
              "    <tr style=\"text-align: right;\">\n",
              "      <th></th>\n",
              "      <th>Sepal.Length</th>\n",
              "      <th>Sepal.Width</th>\n",
              "      <th>Petal.Length</th>\n",
              "      <th>Petal.Width</th>\n",
              "      <th>Species</th>\n",
              "    </tr>\n",
              "  </thead>\n",
              "  <tbody>\n",
              "    <tr>\n",
              "      <th>0</th>\n",
              "      <td>5.1</td>\n",
              "      <td>3.5</td>\n",
              "      <td>1.4</td>\n",
              "      <td>0.2</td>\n",
              "      <td>setosa</td>\n",
              "    </tr>\n",
              "    <tr>\n",
              "      <th>1</th>\n",
              "      <td>4.9</td>\n",
              "      <td>3.0</td>\n",
              "      <td>1.4</td>\n",
              "      <td>0.2</td>\n",
              "      <td>setosa</td>\n",
              "    </tr>\n",
              "    <tr>\n",
              "      <th>2</th>\n",
              "      <td>4.7</td>\n",
              "      <td>3.2</td>\n",
              "      <td>1.3</td>\n",
              "      <td>0.2</td>\n",
              "      <td>setosa</td>\n",
              "    </tr>\n",
              "    <tr>\n",
              "      <th>3</th>\n",
              "      <td>4.6</td>\n",
              "      <td>3.1</td>\n",
              "      <td>1.5</td>\n",
              "      <td>0.2</td>\n",
              "      <td>setosa</td>\n",
              "    </tr>\n",
              "    <tr>\n",
              "      <th>4</th>\n",
              "      <td>5.0</td>\n",
              "      <td>3.6</td>\n",
              "      <td>1.4</td>\n",
              "      <td>0.2</td>\n",
              "      <td>setosa</td>\n",
              "    </tr>\n",
              "  </tbody>\n",
              "</table>\n",
              "</div>"
            ],
            "text/plain": [
              "   Sepal.Length  Sepal.Width  Petal.Length  Petal.Width Species\n",
              "0           5.1          3.5           1.4          0.2  setosa\n",
              "1           4.9          3.0           1.4          0.2  setosa\n",
              "2           4.7          3.2           1.3          0.2  setosa\n",
              "3           4.6          3.1           1.5          0.2  setosa\n",
              "4           5.0          3.6           1.4          0.2  setosa"
            ]
          },
          "metadata": {
            "tags": []
          },
          "execution_count": 3
        }
      ]
    },
    {
      "cell_type": "code",
      "metadata": {
        "id": "GgIf9azextSz"
      },
      "source": [
        "X = df.iloc[:,0:4].values\n",
        "y = df.iloc[:,4].values"
      ],
      "execution_count": 4,
      "outputs": []
    },
    {
      "cell_type": "code",
      "metadata": {
        "id": "lN_PwLvgxtSz",
        "colab": {
          "base_uri": "https://localhost:8080/"
        },
        "outputId": "af7ed8e3-cf9e-4777-822e-5782542dfe4e"
      },
      "source": [
        "X[0]"
      ],
      "execution_count": 5,
      "outputs": [
        {
          "output_type": "execute_result",
          "data": {
            "text/plain": [
              "array([5.1, 3.5, 1.4, 0.2])"
            ]
          },
          "metadata": {
            "tags": []
          },
          "execution_count": 5
        }
      ]
    },
    {
      "cell_type": "code",
      "metadata": {
        "id": "Y4w7qHlycJkG",
        "outputId": "c6a2de8b-971c-4b3b-c904-5968bf7839ba",
        "colab": {
          "base_uri": "https://localhost:8080/"
        }
      },
      "source": [
        "! pip install chart_studio"
      ],
      "execution_count": 7,
      "outputs": [
        {
          "output_type": "stream",
          "text": [
            "Collecting chart_studio\n",
            "\u001b[?25l  Downloading https://files.pythonhosted.org/packages/ca/ce/330794a6b6ca4b9182c38fc69dd2a9cbff60fd49421cb8648ee5fee352dc/chart_studio-1.1.0-py3-none-any.whl (64kB)\n",
            "\r\u001b[K     |█████                           | 10kB 13.8MB/s eta 0:00:01\r\u001b[K     |██████████▏                     | 20kB 19.1MB/s eta 0:00:01\r\u001b[K     |███████████████▎                | 30kB 11.0MB/s eta 0:00:01\r\u001b[K     |████████████████████▍           | 40kB 8.4MB/s eta 0:00:01\r\u001b[K     |█████████████████████████▍      | 51kB 5.5MB/s eta 0:00:01\r\u001b[K     |██████████████████████████████▌ | 61kB 5.7MB/s eta 0:00:01\r\u001b[K     |████████████████████████████████| 71kB 4.0MB/s \n",
            "\u001b[?25hRequirement already satisfied: six in /usr/local/lib/python3.7/dist-packages (from chart_studio) (1.15.0)\n",
            "Requirement already satisfied: requests in /usr/local/lib/python3.7/dist-packages (from chart_studio) (2.23.0)\n",
            "Requirement already satisfied: plotly in /usr/local/lib/python3.7/dist-packages (from chart_studio) (4.4.1)\n",
            "Requirement already satisfied: retrying>=1.3.3 in /usr/local/lib/python3.7/dist-packages (from chart_studio) (1.3.3)\n",
            "Requirement already satisfied: idna<3,>=2.5 in /usr/local/lib/python3.7/dist-packages (from requests->chart_studio) (2.10)\n",
            "Requirement already satisfied: certifi>=2017.4.17 in /usr/local/lib/python3.7/dist-packages (from requests->chart_studio) (2020.12.5)\n",
            "Requirement already satisfied: chardet<4,>=3.0.2 in /usr/local/lib/python3.7/dist-packages (from requests->chart_studio) (3.0.4)\n",
            "Requirement already satisfied: urllib3!=1.25.0,!=1.25.1,<1.26,>=1.21.1 in /usr/local/lib/python3.7/dist-packages (from requests->chart_studio) (1.24.3)\n",
            "Installing collected packages: chart-studio\n",
            "Successfully installed chart-studio-1.1.0\n"
          ],
          "name": "stdout"
        }
      ]
    },
    {
      "cell_type": "code",
      "metadata": {
        "id": "9DXyzm8zxtSz"
      },
      "source": [
        "import chart_studio.plotly as py\n",
        "import plotly.graph_objects as go\n",
        "import chart_studio"
      ],
      "execution_count": 8,
      "outputs": []
    },
    {
      "cell_type": "code",
      "metadata": {
        "id": "Luw7Bz0RxtS0",
        "outputId": "ed0b55ac-3ade-46d9-cea7-67fa3aca28ed",
        "colab": {
          "base_uri": "https://localhost:8080/",
          "height": 542
        }
      },
      "source": [
        "traces = []\n",
        "legend = {0:True, 1:True, 2:True, 3:True}\n",
        "\n",
        "colors = {'setosa': 'rgb(255,127,20)', #FF7F1E\n",
        "         'versicolor': 'rgb(31, 220, 120)', #1FDC78\n",
        "         'virginica': 'rgb(44, 50, 180)'} #2C32B4\n",
        "\n",
        "\n",
        "for col in range(4): \n",
        "    for key in colors:\n",
        "        traces.append(go.Histogram(x=X[y==key, col],\n",
        "                                   opacity = 0.7, \n",
        "                                   xaxis=\"x%s\"%(col+1),\n",
        "                                   marker={\"color\":colors[key]},\n",
        "                                   name = key, showlegend=legend[col])\n",
        "                     )\n",
        "        \n",
        "    legend = {0:False, 1:False, 2:False, 3:False}\n",
        "\n",
        "layout = go.Layout(\n",
        "    title={\"text\":\"Distribución de los rasgos de las diferentes flores Iris\",\n",
        "           \"xref\" : \"paper\",\"x\" : 0.5},\n",
        "    barmode=\"overlay\",\n",
        "    xaxis= {\"domain\" : [0,0.25], \"title\":\"Long. Sépalos (cm)\"},\n",
        "    xaxis2= {\"domain\" : [0.3, 0.5], \"title\" : \"Anch. Sépalos (cm)\"},\n",
        "    xaxis3= {\"domain\" : [0.55, 0.75], \"title\" : \"Long. Pétalos (cm)\"},\n",
        "    xaxis4= {\"domain\" : [0.8,1.0], \"title\" : \"Anch. Pétalos (cm)\"},\n",
        "    yaxis={\"title\":\"Número de ejemplares\"}\n",
        ")\n",
        "\n",
        "fig = go.Figure(data=traces, layout=layout)\n",
        "#py.iplot(fig)\n",
        "fig.show()"
      ],
      "execution_count": 12,
      "outputs": [
        {
          "output_type": "display_data",
          "data": {
            "text/html": [
              "<html>\n",
              "<head><meta charset=\"utf-8\" /></head>\n",
              "<body>\n",
              "    <div>\n",
              "            <script src=\"https://cdnjs.cloudflare.com/ajax/libs/mathjax/2.7.5/MathJax.js?config=TeX-AMS-MML_SVG\"></script><script type=\"text/javascript\">if (window.MathJax) {MathJax.Hub.Config({SVG: {font: \"STIX-Web\"}});}</script>\n",
              "                <script type=\"text/javascript\">window.PlotlyConfig = {MathJaxConfig: 'local'};</script>\n",
              "        <script src=\"https://cdn.plot.ly/plotly-latest.min.js\"></script>    \n",
              "            <div id=\"ec6a7919-7fdd-4a0a-833c-d4f61113bdf8\" class=\"plotly-graph-div\" style=\"height:525px; width:100%;\"></div>\n",
              "            <script type=\"text/javascript\">\n",
              "                \n",
              "                    window.PLOTLYENV=window.PLOTLYENV || {};\n",
              "                    \n",
              "                if (document.getElementById(\"ec6a7919-7fdd-4a0a-833c-d4f61113bdf8\")) {\n",
              "                    Plotly.newPlot(\n",
              "                        'ec6a7919-7fdd-4a0a-833c-d4f61113bdf8',\n",
              "                        [{\"marker\": {\"color\": \"rgb(255,127,20)\"}, \"name\": \"setosa\", \"opacity\": 0.7, \"showlegend\": true, \"type\": \"histogram\", \"x\": [5.1, 4.9, 4.7, 4.6, 5.0, 5.4, 4.6, 5.0, 4.4, 4.9, 5.4, 4.8, 4.8, 4.3, 5.8, 5.7, 5.4, 5.1, 5.7, 5.1, 5.4, 5.1, 4.6, 5.1, 4.8, 5.0, 5.0, 5.2, 5.2, 4.7, 4.8, 5.4, 5.2, 5.5, 4.9, 5.0, 5.5, 4.9, 4.4, 5.1, 5.0, 4.5, 4.4, 5.0, 5.1, 4.8, 5.1, 4.6, 5.3, 5.0], \"xaxis\": \"x\"}, {\"marker\": {\"color\": \"rgb(31, 220, 120)\"}, \"name\": \"versicolor\", \"opacity\": 0.7, \"showlegend\": true, \"type\": \"histogram\", \"x\": [7.0, 6.4, 6.9, 5.5, 6.5, 5.7, 6.3, 4.9, 6.6, 5.2, 5.0, 5.9, 6.0, 6.1, 5.6, 6.7, 5.6, 5.8, 6.2, 5.6, 5.9, 6.1, 6.3, 6.1, 6.4, 6.6, 6.8, 6.7, 6.0, 5.7, 5.5, 5.5, 5.8, 6.0, 5.4, 6.0, 6.7, 6.3, 5.6, 5.5, 5.5, 6.1, 5.8, 5.0, 5.6, 5.7, 5.7, 6.2, 5.1, 5.7], \"xaxis\": \"x\"}, {\"marker\": {\"color\": \"rgb(44, 50, 180)\"}, \"name\": \"virginica\", \"opacity\": 0.7, \"showlegend\": true, \"type\": \"histogram\", \"x\": [6.3, 5.8, 7.1, 6.3, 6.5, 7.6, 4.9, 7.3, 6.7, 7.2, 6.5, 6.4, 6.8, 5.7, 5.8, 6.4, 6.5, 7.7, 7.7, 6.0, 6.9, 5.6, 7.7, 6.3, 6.7, 7.2, 6.2, 6.1, 6.4, 7.2, 7.4, 7.9, 6.4, 6.3, 6.1, 7.7, 6.3, 6.4, 6.0, 6.9, 6.7, 6.9, 5.8, 6.8, 6.7, 6.7, 6.3, 6.5, 6.2, 5.9], \"xaxis\": \"x\"}, {\"marker\": {\"color\": \"rgb(255,127,20)\"}, \"name\": \"setosa\", \"opacity\": 0.7, \"showlegend\": false, \"type\": \"histogram\", \"x\": [3.5, 3.0, 3.2, 3.1, 3.6, 3.9, 3.4, 3.4, 2.9, 3.1, 3.7, 3.4, 3.0, 3.0, 4.0, 4.4, 3.9, 3.5, 3.8, 3.8, 3.4, 3.7, 3.6, 3.3, 3.4, 3.0, 3.4, 3.5, 3.4, 3.2, 3.1, 3.4, 4.1, 4.2, 3.1, 3.2, 3.5, 3.6, 3.0, 3.4, 3.5, 2.3, 3.2, 3.5, 3.8, 3.0, 3.8, 3.2, 3.7, 3.3], \"xaxis\": \"x2\"}, {\"marker\": {\"color\": \"rgb(31, 220, 120)\"}, \"name\": \"versicolor\", \"opacity\": 0.7, \"showlegend\": false, \"type\": \"histogram\", \"x\": [3.2, 3.2, 3.1, 2.3, 2.8, 2.8, 3.3, 2.4, 2.9, 2.7, 2.0, 3.0, 2.2, 2.9, 2.9, 3.1, 3.0, 2.7, 2.2, 2.5, 3.2, 2.8, 2.5, 2.8, 2.9, 3.0, 2.8, 3.0, 2.9, 2.6, 2.4, 2.4, 2.7, 2.7, 3.0, 3.4, 3.1, 2.3, 3.0, 2.5, 2.6, 3.0, 2.6, 2.3, 2.7, 3.0, 2.9, 2.9, 2.5, 2.8], \"xaxis\": \"x2\"}, {\"marker\": {\"color\": \"rgb(44, 50, 180)\"}, \"name\": \"virginica\", \"opacity\": 0.7, \"showlegend\": false, \"type\": \"histogram\", \"x\": [3.3, 2.7, 3.0, 2.9, 3.0, 3.0, 2.5, 2.9, 2.5, 3.6, 3.2, 2.7, 3.0, 2.5, 2.8, 3.2, 3.0, 3.8, 2.6, 2.2, 3.2, 2.8, 2.8, 2.7, 3.3, 3.2, 2.8, 3.0, 2.8, 3.0, 2.8, 3.8, 2.8, 2.8, 2.6, 3.0, 3.4, 3.1, 3.0, 3.1, 3.1, 3.1, 2.7, 3.2, 3.3, 3.0, 2.5, 3.0, 3.4, 3.0], \"xaxis\": \"x2\"}, {\"marker\": {\"color\": \"rgb(255,127,20)\"}, \"name\": \"setosa\", \"opacity\": 0.7, \"showlegend\": false, \"type\": \"histogram\", \"x\": [1.4, 1.4, 1.3, 1.5, 1.4, 1.7, 1.4, 1.5, 1.4, 1.5, 1.5, 1.6, 1.4, 1.1, 1.2, 1.5, 1.3, 1.4, 1.7, 1.5, 1.7, 1.5, 1.0, 1.7, 1.9, 1.6, 1.6, 1.5, 1.4, 1.6, 1.6, 1.5, 1.5, 1.4, 1.5, 1.2, 1.3, 1.4, 1.3, 1.5, 1.3, 1.3, 1.3, 1.6, 1.9, 1.4, 1.6, 1.4, 1.5, 1.4], \"xaxis\": \"x3\"}, {\"marker\": {\"color\": \"rgb(31, 220, 120)\"}, \"name\": \"versicolor\", \"opacity\": 0.7, \"showlegend\": false, \"type\": \"histogram\", \"x\": [4.7, 4.5, 4.9, 4.0, 4.6, 4.5, 4.7, 3.3, 4.6, 3.9, 3.5, 4.2, 4.0, 4.7, 3.6, 4.4, 4.5, 4.1, 4.5, 3.9, 4.8, 4.0, 4.9, 4.7, 4.3, 4.4, 4.8, 5.0, 4.5, 3.5, 3.8, 3.7, 3.9, 5.1, 4.5, 4.5, 4.7, 4.4, 4.1, 4.0, 4.4, 4.6, 4.0, 3.3, 4.2, 4.2, 4.2, 4.3, 3.0, 4.1], \"xaxis\": \"x3\"}, {\"marker\": {\"color\": \"rgb(44, 50, 180)\"}, \"name\": \"virginica\", \"opacity\": 0.7, \"showlegend\": false, \"type\": \"histogram\", \"x\": [6.0, 5.1, 5.9, 5.6, 5.8, 6.6, 4.5, 6.3, 5.8, 6.1, 5.1, 5.3, 5.5, 5.0, 5.1, 5.3, 5.5, 6.7, 6.9, 5.0, 5.7, 4.9, 6.7, 4.9, 5.7, 6.0, 4.8, 4.9, 5.6, 5.8, 6.1, 6.4, 5.6, 5.1, 5.6, 6.1, 5.6, 5.5, 4.8, 5.4, 5.6, 5.1, 5.1, 5.9, 5.7, 5.2, 5.0, 5.2, 5.4, 5.1], \"xaxis\": \"x3\"}, {\"marker\": {\"color\": \"rgb(255,127,20)\"}, \"name\": \"setosa\", \"opacity\": 0.7, \"showlegend\": false, \"type\": \"histogram\", \"x\": [0.2, 0.2, 0.2, 0.2, 0.2, 0.4, 0.3, 0.2, 0.2, 0.1, 0.2, 0.2, 0.1, 0.1, 0.2, 0.4, 0.4, 0.3, 0.3, 0.3, 0.2, 0.4, 0.2, 0.5, 0.2, 0.2, 0.4, 0.2, 0.2, 0.2, 0.2, 0.4, 0.1, 0.2, 0.2, 0.2, 0.2, 0.1, 0.2, 0.2, 0.3, 0.3, 0.2, 0.6, 0.4, 0.3, 0.2, 0.2, 0.2, 0.2], \"xaxis\": \"x4\"}, {\"marker\": {\"color\": \"rgb(31, 220, 120)\"}, \"name\": \"versicolor\", \"opacity\": 0.7, \"showlegend\": false, \"type\": \"histogram\", \"x\": [1.4, 1.5, 1.5, 1.3, 1.5, 1.3, 1.6, 1.0, 1.3, 1.4, 1.0, 1.5, 1.0, 1.4, 1.3, 1.4, 1.5, 1.0, 1.5, 1.1, 1.8, 1.3, 1.5, 1.2, 1.3, 1.4, 1.4, 1.7, 1.5, 1.0, 1.1, 1.0, 1.2, 1.6, 1.5, 1.6, 1.5, 1.3, 1.3, 1.3, 1.2, 1.4, 1.2, 1.0, 1.3, 1.2, 1.3, 1.3, 1.1, 1.3], \"xaxis\": \"x4\"}, {\"marker\": {\"color\": \"rgb(44, 50, 180)\"}, \"name\": \"virginica\", \"opacity\": 0.7, \"showlegend\": false, \"type\": \"histogram\", \"x\": [2.5, 1.9, 2.1, 1.8, 2.2, 2.1, 1.7, 1.8, 1.8, 2.5, 2.0, 1.9, 2.1, 2.0, 2.4, 2.3, 1.8, 2.2, 2.3, 1.5, 2.3, 2.0, 2.0, 1.8, 2.1, 1.8, 1.8, 1.8, 2.1, 1.6, 1.9, 2.0, 2.2, 1.5, 1.4, 2.3, 2.4, 1.8, 1.8, 2.1, 2.4, 2.3, 1.9, 2.3, 2.5, 2.3, 1.9, 2.0, 2.3, 1.8], \"xaxis\": \"x4\"}],\n",
              "                        {\"barmode\": \"overlay\", \"template\": {\"data\": {\"bar\": [{\"error_x\": {\"color\": \"#2a3f5f\"}, \"error_y\": {\"color\": \"#2a3f5f\"}, \"marker\": {\"line\": {\"color\": \"#E5ECF6\", \"width\": 0.5}}, \"type\": \"bar\"}], \"barpolar\": [{\"marker\": {\"line\": {\"color\": \"#E5ECF6\", \"width\": 0.5}}, \"type\": \"barpolar\"}], \"carpet\": [{\"aaxis\": {\"endlinecolor\": \"#2a3f5f\", \"gridcolor\": \"white\", \"linecolor\": \"white\", \"minorgridcolor\": \"white\", \"startlinecolor\": \"#2a3f5f\"}, \"baxis\": {\"endlinecolor\": \"#2a3f5f\", \"gridcolor\": \"white\", \"linecolor\": \"white\", \"minorgridcolor\": \"white\", \"startlinecolor\": \"#2a3f5f\"}, \"type\": \"carpet\"}], \"choropleth\": [{\"colorbar\": {\"outlinewidth\": 0, \"ticks\": \"\"}, \"type\": \"choropleth\"}], \"contour\": [{\"colorbar\": {\"outlinewidth\": 0, \"ticks\": \"\"}, \"colorscale\": [[0.0, \"#0d0887\"], [0.1111111111111111, \"#46039f\"], [0.2222222222222222, \"#7201a8\"], [0.3333333333333333, \"#9c179e\"], [0.4444444444444444, \"#bd3786\"], [0.5555555555555556, \"#d8576b\"], [0.6666666666666666, \"#ed7953\"], [0.7777777777777778, \"#fb9f3a\"], [0.8888888888888888, \"#fdca26\"], [1.0, \"#f0f921\"]], \"type\": \"contour\"}], \"contourcarpet\": [{\"colorbar\": {\"outlinewidth\": 0, \"ticks\": \"\"}, \"type\": \"contourcarpet\"}], \"heatmap\": [{\"colorbar\": {\"outlinewidth\": 0, \"ticks\": \"\"}, \"colorscale\": [[0.0, \"#0d0887\"], [0.1111111111111111, \"#46039f\"], [0.2222222222222222, \"#7201a8\"], [0.3333333333333333, \"#9c179e\"], [0.4444444444444444, \"#bd3786\"], [0.5555555555555556, \"#d8576b\"], [0.6666666666666666, \"#ed7953\"], [0.7777777777777778, \"#fb9f3a\"], [0.8888888888888888, \"#fdca26\"], [1.0, \"#f0f921\"]], \"type\": \"heatmap\"}], \"heatmapgl\": [{\"colorbar\": {\"outlinewidth\": 0, \"ticks\": \"\"}, \"colorscale\": [[0.0, \"#0d0887\"], [0.1111111111111111, \"#46039f\"], [0.2222222222222222, \"#7201a8\"], [0.3333333333333333, \"#9c179e\"], [0.4444444444444444, \"#bd3786\"], [0.5555555555555556, \"#d8576b\"], [0.6666666666666666, \"#ed7953\"], [0.7777777777777778, \"#fb9f3a\"], [0.8888888888888888, \"#fdca26\"], [1.0, \"#f0f921\"]], \"type\": \"heatmapgl\"}], \"histogram\": [{\"marker\": {\"colorbar\": {\"outlinewidth\": 0, \"ticks\": \"\"}}, \"type\": \"histogram\"}], \"histogram2d\": [{\"colorbar\": {\"outlinewidth\": 0, \"ticks\": \"\"}, \"colorscale\": [[0.0, \"#0d0887\"], [0.1111111111111111, \"#46039f\"], [0.2222222222222222, \"#7201a8\"], [0.3333333333333333, \"#9c179e\"], [0.4444444444444444, \"#bd3786\"], [0.5555555555555556, \"#d8576b\"], [0.6666666666666666, \"#ed7953\"], [0.7777777777777778, \"#fb9f3a\"], [0.8888888888888888, \"#fdca26\"], [1.0, \"#f0f921\"]], \"type\": \"histogram2d\"}], \"histogram2dcontour\": [{\"colorbar\": {\"outlinewidth\": 0, \"ticks\": \"\"}, \"colorscale\": [[0.0, \"#0d0887\"], [0.1111111111111111, \"#46039f\"], [0.2222222222222222, \"#7201a8\"], [0.3333333333333333, \"#9c179e\"], [0.4444444444444444, \"#bd3786\"], [0.5555555555555556, \"#d8576b\"], [0.6666666666666666, \"#ed7953\"], [0.7777777777777778, \"#fb9f3a\"], [0.8888888888888888, \"#fdca26\"], [1.0, \"#f0f921\"]], \"type\": \"histogram2dcontour\"}], \"mesh3d\": [{\"colorbar\": {\"outlinewidth\": 0, \"ticks\": \"\"}, \"type\": \"mesh3d\"}], \"parcoords\": [{\"line\": {\"colorbar\": {\"outlinewidth\": 0, \"ticks\": \"\"}}, \"type\": \"parcoords\"}], \"pie\": [{\"automargin\": true, \"type\": \"pie\"}], \"scatter\": [{\"marker\": {\"colorbar\": {\"outlinewidth\": 0, \"ticks\": \"\"}}, \"type\": \"scatter\"}], \"scatter3d\": [{\"line\": {\"colorbar\": {\"outlinewidth\": 0, \"ticks\": \"\"}}, \"marker\": {\"colorbar\": {\"outlinewidth\": 0, \"ticks\": \"\"}}, \"type\": \"scatter3d\"}], \"scattercarpet\": [{\"marker\": {\"colorbar\": {\"outlinewidth\": 0, \"ticks\": \"\"}}, \"type\": \"scattercarpet\"}], \"scattergeo\": [{\"marker\": {\"colorbar\": {\"outlinewidth\": 0, \"ticks\": \"\"}}, \"type\": \"scattergeo\"}], \"scattergl\": [{\"marker\": {\"colorbar\": {\"outlinewidth\": 0, \"ticks\": \"\"}}, \"type\": \"scattergl\"}], \"scattermapbox\": [{\"marker\": {\"colorbar\": {\"outlinewidth\": 0, \"ticks\": \"\"}}, \"type\": \"scattermapbox\"}], \"scatterpolar\": [{\"marker\": {\"colorbar\": {\"outlinewidth\": 0, \"ticks\": \"\"}}, \"type\": \"scatterpolar\"}], \"scatterpolargl\": [{\"marker\": {\"colorbar\": {\"outlinewidth\": 0, \"ticks\": \"\"}}, \"type\": \"scatterpolargl\"}], \"scatterternary\": [{\"marker\": {\"colorbar\": {\"outlinewidth\": 0, \"ticks\": \"\"}}, \"type\": \"scatterternary\"}], \"surface\": [{\"colorbar\": {\"outlinewidth\": 0, \"ticks\": \"\"}, \"colorscale\": [[0.0, \"#0d0887\"], [0.1111111111111111, \"#46039f\"], [0.2222222222222222, \"#7201a8\"], [0.3333333333333333, \"#9c179e\"], [0.4444444444444444, \"#bd3786\"], [0.5555555555555556, \"#d8576b\"], [0.6666666666666666, \"#ed7953\"], [0.7777777777777778, \"#fb9f3a\"], [0.8888888888888888, \"#fdca26\"], [1.0, \"#f0f921\"]], \"type\": \"surface\"}], \"table\": [{\"cells\": {\"fill\": {\"color\": \"#EBF0F8\"}, \"line\": {\"color\": \"white\"}}, \"header\": {\"fill\": {\"color\": \"#C8D4E3\"}, \"line\": {\"color\": \"white\"}}, \"type\": \"table\"}]}, \"layout\": {\"annotationdefaults\": {\"arrowcolor\": \"#2a3f5f\", \"arrowhead\": 0, \"arrowwidth\": 1}, \"coloraxis\": {\"colorbar\": {\"outlinewidth\": 0, \"ticks\": \"\"}}, \"colorscale\": {\"diverging\": [[0, \"#8e0152\"], [0.1, \"#c51b7d\"], [0.2, \"#de77ae\"], [0.3, \"#f1b6da\"], [0.4, \"#fde0ef\"], [0.5, \"#f7f7f7\"], [0.6, \"#e6f5d0\"], [0.7, \"#b8e186\"], [0.8, \"#7fbc41\"], [0.9, \"#4d9221\"], [1, \"#276419\"]], \"sequential\": [[0.0, \"#0d0887\"], [0.1111111111111111, \"#46039f\"], [0.2222222222222222, \"#7201a8\"], [0.3333333333333333, \"#9c179e\"], [0.4444444444444444, \"#bd3786\"], [0.5555555555555556, \"#d8576b\"], [0.6666666666666666, \"#ed7953\"], [0.7777777777777778, \"#fb9f3a\"], [0.8888888888888888, \"#fdca26\"], [1.0, \"#f0f921\"]], \"sequentialminus\": [[0.0, \"#0d0887\"], [0.1111111111111111, \"#46039f\"], [0.2222222222222222, \"#7201a8\"], [0.3333333333333333, \"#9c179e\"], [0.4444444444444444, \"#bd3786\"], [0.5555555555555556, \"#d8576b\"], [0.6666666666666666, \"#ed7953\"], [0.7777777777777778, \"#fb9f3a\"], [0.8888888888888888, \"#fdca26\"], [1.0, \"#f0f921\"]]}, \"colorway\": [\"#636efa\", \"#EF553B\", \"#00cc96\", \"#ab63fa\", \"#FFA15A\", \"#19d3f3\", \"#FF6692\", \"#B6E880\", \"#FF97FF\", \"#FECB52\"], \"font\": {\"color\": \"#2a3f5f\"}, \"geo\": {\"bgcolor\": \"white\", \"lakecolor\": \"white\", \"landcolor\": \"#E5ECF6\", \"showlakes\": true, \"showland\": true, \"subunitcolor\": \"white\"}, \"hoverlabel\": {\"align\": \"left\"}, \"hovermode\": \"closest\", \"mapbox\": {\"style\": \"light\"}, \"paper_bgcolor\": \"white\", \"plot_bgcolor\": \"#E5ECF6\", \"polar\": {\"angularaxis\": {\"gridcolor\": \"white\", \"linecolor\": \"white\", \"ticks\": \"\"}, \"bgcolor\": \"#E5ECF6\", \"radialaxis\": {\"gridcolor\": \"white\", \"linecolor\": \"white\", \"ticks\": \"\"}}, \"scene\": {\"xaxis\": {\"backgroundcolor\": \"#E5ECF6\", \"gridcolor\": \"white\", \"gridwidth\": 2, \"linecolor\": \"white\", \"showbackground\": true, \"ticks\": \"\", \"zerolinecolor\": \"white\"}, \"yaxis\": {\"backgroundcolor\": \"#E5ECF6\", \"gridcolor\": \"white\", \"gridwidth\": 2, \"linecolor\": \"white\", \"showbackground\": true, \"ticks\": \"\", \"zerolinecolor\": \"white\"}, \"zaxis\": {\"backgroundcolor\": \"#E5ECF6\", \"gridcolor\": \"white\", \"gridwidth\": 2, \"linecolor\": \"white\", \"showbackground\": true, \"ticks\": \"\", \"zerolinecolor\": \"white\"}}, \"shapedefaults\": {\"line\": {\"color\": \"#2a3f5f\"}}, \"ternary\": {\"aaxis\": {\"gridcolor\": \"white\", \"linecolor\": \"white\", \"ticks\": \"\"}, \"baxis\": {\"gridcolor\": \"white\", \"linecolor\": \"white\", \"ticks\": \"\"}, \"bgcolor\": \"#E5ECF6\", \"caxis\": {\"gridcolor\": \"white\", \"linecolor\": \"white\", \"ticks\": \"\"}}, \"title\": {\"x\": 0.05}, \"xaxis\": {\"automargin\": true, \"gridcolor\": \"white\", \"linecolor\": \"white\", \"ticks\": \"\", \"title\": {\"standoff\": 15}, \"zerolinecolor\": \"white\", \"zerolinewidth\": 2}, \"yaxis\": {\"automargin\": true, \"gridcolor\": \"white\", \"linecolor\": \"white\", \"ticks\": \"\", \"title\": {\"standoff\": 15}, \"zerolinecolor\": \"white\", \"zerolinewidth\": 2}}}, \"title\": {\"text\": \"Distribuci\\u00f3n de los rasgos de las diferentes flores Iris\", \"x\": 0.5, \"xref\": \"paper\"}, \"xaxis\": {\"domain\": [0, 0.25], \"title\": {\"text\": \"Long. S\\u00e9palos (cm)\"}}, \"xaxis2\": {\"domain\": [0.3, 0.5], \"title\": {\"text\": \"Anch. S\\u00e9palos (cm)\"}}, \"xaxis3\": {\"domain\": [0.55, 0.75], \"title\": {\"text\": \"Long. P\\u00e9talos (cm)\"}}, \"xaxis4\": {\"domain\": [0.8, 1.0], \"title\": {\"text\": \"Anch. P\\u00e9talos (cm)\"}}, \"yaxis\": {\"title\": {\"text\": \"N\\u00famero de ejemplares\"}}},\n",
              "                        {\"responsive\": true}\n",
              "                    ).then(function(){\n",
              "                            \n",
              "var gd = document.getElementById('ec6a7919-7fdd-4a0a-833c-d4f61113bdf8');\n",
              "var x = new MutationObserver(function (mutations, observer) {{\n",
              "        var display = window.getComputedStyle(gd).display;\n",
              "        if (!display || display === 'none') {{\n",
              "            console.log([gd, 'removed!']);\n",
              "            Plotly.purge(gd);\n",
              "            observer.disconnect();\n",
              "        }}\n",
              "}});\n",
              "\n",
              "// Listen for the removal of the full notebook cells\n",
              "var notebookContainer = gd.closest('#notebook-container');\n",
              "if (notebookContainer) {{\n",
              "    x.observe(notebookContainer, {childList: true});\n",
              "}}\n",
              "\n",
              "// Listen for the clearing of the current output cell\n",
              "var outputEl = gd.closest('.output');\n",
              "if (outputEl) {{\n",
              "    x.observe(outputEl, {childList: true});\n",
              "}}\n",
              "\n",
              "                        })\n",
              "                };\n",
              "                \n",
              "            </script>\n",
              "        </div>\n",
              "</body>\n",
              "</html>"
            ]
          },
          "metadata": {
            "tags": []
          }
        }
      ]
    },
    {
      "cell_type": "code",
      "metadata": {
        "id": "iFBYpONmxtS0"
      },
      "source": [
        "from sklearn.preprocessing import StandardScaler"
      ],
      "execution_count": 13,
      "outputs": []
    },
    {
      "cell_type": "code",
      "metadata": {
        "id": "ghAzwFwsxtS1"
      },
      "source": [
        "X_std = StandardScaler().fit_transform(X)"
      ],
      "execution_count": 14,
      "outputs": []
    },
    {
      "cell_type": "code",
      "metadata": {
        "id": "qXpkJW74xtS1",
        "outputId": "f23f002b-2461-4f97-e6b0-516c66c5c447",
        "colab": {
          "base_uri": "https://localhost:8080/",
          "height": 542
        }
      },
      "source": [
        "traces = []\n",
        "legend = {0:True, 1:True, 2:True, 3:True}\n",
        "\n",
        "colors = {'setosa': 'rgb(255,127,20)',\n",
        "         'versicolor': 'rgb(31, 220, 120)',\n",
        "         'virginica': 'rgb(44, 50, 180)'}\n",
        "\n",
        "\n",
        "for col in range(4): \n",
        "    for key in colors:\n",
        "        traces.append(go.Histogram(x=X_std[y==key, col],\n",
        "                                   opacity = 0.7, \n",
        "                                   xaxis=\"x%s\"%(col+1),\n",
        "                                   marker={\"color\":colors[key]},\n",
        "                                   name = key, showlegend=legend[col])\n",
        "                     )\n",
        "        \n",
        "    legend = {0:False, 1:False, 2:False, 3:False}\n",
        "\n",
        "layout = go.Layout(\n",
        "    title={\"text\":\"Distribución de los rasgos de las diferentes flores Iris\",\n",
        "           \"xref\" : \"paper\",\"x\" : 0.5},\n",
        "    barmode=\"overlay\",\n",
        "    xaxis= {\"domain\" : [0,0.25], \"title\":\"Long. Sépalos (cm)\"},\n",
        "    xaxis2= {\"domain\" : [0.3, 0.5], \"title\" : \"Anch. Sépalos (cm)\"},\n",
        "    xaxis3= {\"domain\" : [0.55, 0.75], \"title\" : \"Long. Pétalos (cm)\"},\n",
        "    xaxis4= {\"domain\" : [0.8,1.0], \"title\" : \"Anch. Pétalos (cm)\"},\n",
        "    yaxis={\"title\":\"Número de ejemplares\"}\n",
        ")\n",
        "\n",
        "fig = go.Figure(data=traces, layout=layout)\n",
        "#py.iplot(fig)\n",
        "fig.show()"
      ],
      "execution_count": 15,
      "outputs": [
        {
          "output_type": "display_data",
          "data": {
            "text/html": [
              "<html>\n",
              "<head><meta charset=\"utf-8\" /></head>\n",
              "<body>\n",
              "    <div>\n",
              "            <script src=\"https://cdnjs.cloudflare.com/ajax/libs/mathjax/2.7.5/MathJax.js?config=TeX-AMS-MML_SVG\"></script><script type=\"text/javascript\">if (window.MathJax) {MathJax.Hub.Config({SVG: {font: \"STIX-Web\"}});}</script>\n",
              "                <script type=\"text/javascript\">window.PlotlyConfig = {MathJaxConfig: 'local'};</script>\n",
              "        <script src=\"https://cdn.plot.ly/plotly-latest.min.js\"></script>    \n",
              "            <div id=\"dace1254-cb52-487a-b707-b69974e83c8a\" class=\"plotly-graph-div\" style=\"height:525px; width:100%;\"></div>\n",
              "            <script type=\"text/javascript\">\n",
              "                \n",
              "                    window.PLOTLYENV=window.PLOTLYENV || {};\n",
              "                    \n",
              "                if (document.getElementById(\"dace1254-cb52-487a-b707-b69974e83c8a\")) {\n",
              "                    Plotly.newPlot(\n",
              "                        'dace1254-cb52-487a-b707-b69974e83c8a',\n",
              "                        [{\"marker\": {\"color\": \"rgb(255,127,20)\"}, \"name\": \"setosa\", \"opacity\": 0.7, \"showlegend\": true, \"type\": \"histogram\", \"x\": [-0.9006811702978088, -1.1430169111851105, -1.3853526520724133, -1.5065205225160652, -1.0218490407414595, -0.537177558966854, -1.5065205225160652, -1.0218490407414595, -1.7488562634033669, -1.1430169111851105, -0.537177558966854, -1.2641847816287624, -1.2641847816287624, -1.870024133847019, -0.05250607719224957, -0.1736739476359004, -0.537177558966854, -0.9006811702978088, -0.1736739476359004, -0.9006811702978088, -0.537177558966854, -0.9006811702978088, -1.5065205225160652, -0.9006811702978088, -1.2641847816287624, -1.0218490407414595, -1.0218490407414595, -0.7795132998541568, -0.7795132998541568, -1.3853526520724133, -1.2641847816287624, -0.537177558966854, -0.7795132998541568, -0.4160096885232032, -1.1430169111851105, -1.0218490407414595, -0.4160096885232032, -1.1430169111851105, -1.7488562634033669, -0.9006811702978088, -1.0218490407414595, -1.6276883929597161, -1.7488562634033669, -1.0218490407414595, -0.9006811702978088, -1.2641847816287624, -0.9006811702978088, -1.5065205225160652, -0.658345429410506, -1.0218490407414595], \"xaxis\": \"x\"}, {\"marker\": {\"color\": \"rgb(31, 220, 120)\"}, \"name\": \"versicolor\", \"opacity\": 0.7, \"showlegend\": true, \"type\": \"histogram\", \"x\": [1.401508368131566, 0.6745011454696588, 1.2803404976879151, -0.4160096885232032, 0.7956690159133096, -0.1736739476359004, 0.5533332750260068, -1.1430169111851105, 0.9168368863569605, -0.7795132998541568, -1.0218490407414595, 0.06866179325140237, 0.18982966369505322, 0.31099753413870407, -0.29484181807955234, 1.0380047568006125, -0.29484181807955234, -0.05250607719224957, 0.432165404582356, -0.29484181807955234, 0.06866179325140237, 0.31099753413870407, 0.5533332750260068, 0.31099753413870407, 0.6745011454696588, 0.9168368863569605, 1.1591726272442633, 1.0380047568006125, 0.18982966369505322, -0.1736739476359004, -0.4160096885232032, -0.4160096885232032, -0.05250607719224957, 0.18982966369505322, -0.537177558966854, 0.18982966369505322, 1.0380047568006125, 0.5533332750260068, -0.29484181807955234, -0.4160096885232032, -0.4160096885232032, 0.31099753413870407, -0.05250607719224957, -1.0218490407414595, -0.29484181807955234, -0.1736739476359004, -0.1736739476359004, 0.432165404582356, -0.9006811702978088, -0.1736739476359004], \"xaxis\": \"x\"}, {\"marker\": {\"color\": \"rgb(44, 50, 180)\"}, \"name\": \"virginica\", \"opacity\": 0.7, \"showlegend\": true, \"type\": \"histogram\", \"x\": [0.5533332750260068, -0.05250607719224957, 1.522676238575217, 0.5533332750260068, 0.7956690159133096, 2.1285155907934734, -1.1430169111851105, 1.7650119794625196, 1.0380047568006125, 1.643844109018869, 0.7956690159133096, 0.6745011454696588, 1.1591726272442633, -0.1736739476359004, -0.05250607719224957, 0.6745011454696588, 0.7956690159133096, 2.2496834612371255, 2.2496834612371255, 0.18982966369505322, 1.2803404976879151, -0.29484181807955234, 2.2496834612371255, 0.5533332750260068, 1.0380047568006125, 1.643844109018869, 0.432165404582356, 0.31099753413870407, 0.6745011454696588, 1.643844109018869, 1.8861798499061717, 2.4920192021244283, 0.6745011454696588, 0.5533332750260068, 0.31099753413870407, 2.2496834612371255, 0.5533332750260068, 0.6745011454696588, 0.18982966369505322, 1.2803404976879151, 1.0380047568006125, 1.2803404976879151, -0.05250607719224957, 1.1591726272442633, 1.0380047568006125, 1.0380047568006125, 0.5533332750260068, 0.7956690159133096, 0.432165404582356, 0.06866179325140237], \"xaxis\": \"x\"}, {\"marker\": {\"color\": \"rgb(255,127,20)\"}, \"name\": \"setosa\", \"opacity\": 0.7, \"showlegend\": false, \"type\": \"histogram\", \"x\": [1.019004351971607, -0.13197947932162468, 0.32841405319566835, 0.09821728693702184, 1.2492011182302534, 1.939791417006192, 0.7888075857129604, 0.7888075857129604, -0.3621762455802712, 0.09821728693702184, 1.4793978844889, 0.7888075857129604, -0.13197947932162468, -0.13197947932162468, 2.1699881832648384, 3.090775248299425, 1.939791417006192, 1.019004351971607, 1.7095946507475455, 1.7095946507475455, 0.7888075857129604, 1.4793978844889, 1.2492011182302534, 0.5586108194543139, 0.7888075857129604, -0.13197947932162468, 0.7888075857129604, 1.019004351971607, 0.7888075857129604, 0.32841405319566835, 0.09821728693702184, 0.7888075857129604, 2.400184949523484, 2.6303817157821316, 0.09821728693702184, 0.32841405319566835, 1.019004351971607, 1.2492011182302534, -0.13197947932162468, 0.7888075857129604, 1.019004351971607, -1.7433568431321493, 0.32841405319566835, 1.019004351971607, 1.7095946507475455, -0.13197947932162468, 1.7095946507475455, 0.32841405319566835, 1.4793978844889, 0.5586108194543139], \"xaxis\": \"x2\"}, {\"marker\": {\"color\": \"rgb(31, 220, 120)\"}, \"name\": \"versicolor\", \"opacity\": 0.7, \"showlegend\": false, \"type\": \"histogram\", \"x\": [0.32841405319566835, 0.32841405319566835, 0.09821728693702184, -1.7433568431321493, -0.5923730118389178, -0.5923730118389178, 0.5586108194543139, -1.513160076873503, -0.3621762455802712, -0.8225697780975633, -2.433947141908088, -0.13197947932162468, -1.9735536093907948, -0.3621762455802712, -0.3621762455802712, 0.09821728693702184, -0.13197947932162468, -0.8225697780975633, -1.9735536093907948, -1.2829633106148564, 0.32841405319566835, -0.5923730118389178, -1.2829633106148564, -0.5923730118389178, -0.3621762455802712, -0.13197947932162468, -0.5923730118389178, -0.13197947932162468, -0.3621762455802712, -1.0527665443562098, -1.513160076873503, -1.513160076873503, -0.8225697780975633, -0.8225697780975633, -0.13197947932162468, 0.7888075857129604, 0.09821728693702184, -1.7433568431321493, -0.13197947932162468, -1.2829633106148564, -1.0527665443562098, -0.13197947932162468, -1.0527665443562098, -1.7433568431321493, -0.8225697780975633, -0.13197947932162468, -0.3621762455802712, -0.3621762455802712, -1.2829633106148564, -0.5923730118389178], \"xaxis\": \"x2\"}, {\"marker\": {\"color\": \"rgb(44, 50, 180)\"}, \"name\": \"virginica\", \"opacity\": 0.7, \"showlegend\": false, \"type\": \"histogram\", \"x\": [0.5586108194543139, -0.8225697780975633, -0.13197947932162468, -0.3621762455802712, -0.13197947932162468, -0.13197947932162468, -1.2829633106148564, -0.3621762455802712, -1.2829633106148564, 1.2492011182302534, 0.32841405319566835, -0.8225697780975633, -0.13197947932162468, -1.2829633106148564, -0.5923730118389178, 0.32841405319566835, -0.13197947932162468, 1.7095946507475455, -1.0527665443562098, -1.9735536093907948, 0.32841405319566835, -0.5923730118389178, -0.5923730118389178, -0.8225697780975633, 0.5586108194543139, 0.32841405319566835, -0.5923730118389178, -0.13197947932162468, -0.5923730118389178, -0.13197947932162468, -0.5923730118389178, 1.7095946507475455, -0.5923730118389178, -0.5923730118389178, -1.0527665443562098, -0.13197947932162468, 0.7888075857129604, 0.09821728693702184, -0.13197947932162468, 0.09821728693702184, 0.09821728693702184, 0.09821728693702184, -0.8225697780975633, 0.32841405319566835, 0.5586108194543139, -0.13197947932162468, -1.2829633106148564, -0.13197947932162468, 0.7888075857129604, -0.13197947932162468], \"xaxis\": \"x2\"}, {\"marker\": {\"color\": \"rgb(255,127,20)\"}, \"name\": \"setosa\", \"opacity\": 0.7, \"showlegend\": false, \"type\": \"histogram\", \"x\": [-1.3402265266227624, -1.3402265266227624, -1.3970639535363654, -1.2833890997091593, -1.3402265266227624, -1.1697142458819532, -1.3402265266227624, -1.2833890997091593, -1.3402265266227624, -1.2833890997091593, -1.2833890997091593, -1.226551672795556, -1.3402265266227624, -1.5107388073635717, -1.4539013804499687, -1.2833890997091593, -1.3970639535363654, -1.3402265266227624, -1.1697142458819532, -1.2833890997091593, -1.1697142458819532, -1.2833890997091593, -1.567576234277175, -1.1697142458819532, -1.0560393920547466, -1.226551672795556, -1.226551672795556, -1.2833890997091593, -1.3402265266227624, -1.226551672795556, -1.226551672795556, -1.2833890997091593, -1.2833890997091593, -1.3402265266227624, -1.2833890997091593, -1.4539013804499687, -1.3970639535363654, -1.3402265266227624, -1.3970639535363654, -1.2833890997091593, -1.3970639535363654, -1.3970639535363654, -1.3970639535363654, -1.226551672795556, -1.0560393920547466, -1.3402265266227624, -1.226551672795556, -1.3402265266227624, -1.2833890997091593, -1.3402265266227624], \"xaxis\": \"x3\"}, {\"marker\": {\"color\": \"rgb(31, 220, 120)\"}, \"name\": \"versicolor\", \"opacity\": 0.7, \"showlegend\": false, \"type\": \"histogram\", \"x\": [0.5354085615261415, 0.4217337076989351, 0.6490834153533479, 0.13754657313091936, 0.47857113461253803, 0.4217337076989351, 0.5354085615261415, -0.26031541526430274, 0.47857113461253803, 0.08070914621731616, -0.14664056143709636, 0.2512214269581257, 0.13754657313091936, 0.5354085615261415, -0.08980313452349317, 0.36489628078533215, 0.4217337076989351, 0.1943840000445223, 0.4217337076989351, 0.08070914621731616, 0.5922459884397444, 0.13754657313091936, 0.6490834153533479, 0.5354085615261415, 0.30805885387172866, 0.36489628078533215, 0.5922459884397444, 0.7059208422669508, 0.4217337076989351, -0.14664056143709636, 0.023871719303712964, -0.032965707609889976, 0.08070914621731616, 0.7627582691805538, 0.4217337076989351, 0.4217337076989351, 0.5354085615261415, 0.36489628078533215, 0.1943840000445223, 0.13754657313091936, 0.36489628078533215, 0.47857113461253803, 0.13754657313091936, -0.26031541526430274, 0.2512214269581257, 0.2512214269581257, 0.2512214269581257, 0.30805885387172866, -0.4308276960051121, 0.1943840000445223], \"xaxis\": \"x3\"}, {\"marker\": {\"color\": \"rgb(44, 50, 180)\"}, \"name\": \"virginica\", \"opacity\": 0.7, \"showlegend\": false, \"type\": \"histogram\", \"x\": [1.2742951114029821, 0.7627582691805538, 1.2174576844893792, 1.0469454037485695, 1.1606202575757758, 1.6153196728846009, 0.4217337076989351, 1.4448073921437916, 1.1606202575757758, 1.331132538316585, 0.7627582691805538, 0.8764331230077601, 0.9901079768349665, 0.7059208422669508, 0.7627582691805538, 0.8764331230077601, 0.9901079768349665, 1.6721570997982043, 1.7858319536254108, 0.7059208422669508, 1.1037828306621729, 0.6490834153533479, 1.6721570997982043, 0.6490834153533479, 1.1037828306621729, 1.2742951114029821, 0.5922459884397444, 0.6490834153533479, 1.0469454037485695, 1.1606202575757758, 1.331132538316585, 1.501644819057395, 1.0469454037485695, 0.7627582691805538, 1.0469454037485695, 1.331132538316585, 1.0469454037485695, 0.9901079768349665, 0.5922459884397444, 0.9332705499213636, 1.0469454037485695, 0.7627582691805538, 0.7627582691805538, 1.2174576844893792, 1.1037828306621729, 0.8195956960941572, 0.7059208422669508, 0.8195956960941572, 0.9332705499213636, 0.7627582691805538], \"xaxis\": \"x3\"}, {\"marker\": {\"color\": \"rgb(255,127,20)\"}, \"name\": \"setosa\", \"opacity\": 0.7, \"showlegend\": false, \"type\": \"histogram\", \"x\": [-1.3154442950077403, -1.3154442950077403, -1.3154442950077403, -1.3154442950077403, -1.3154442950077403, -1.0521799264271385, -1.1838121107174393, -1.3154442950077403, -1.3154442950077403, -1.4470764792980408, -1.3154442950077403, -1.3154442950077403, -1.4470764792980408, -1.4470764792980408, -1.3154442950077403, -1.0521799264271385, -1.0521799264271385, -1.1838121107174393, -1.1838121107174393, -1.1838121107174393, -1.3154442950077403, -1.0521799264271385, -1.3154442950077403, -0.9205477421368377, -1.3154442950077403, -1.3154442950077403, -1.0521799264271385, -1.3154442950077403, -1.3154442950077403, -1.3154442950077403, -1.3154442950077403, -1.0521799264271385, -1.4470764792980408, -1.3154442950077403, -1.3154442950077403, -1.3154442950077403, -1.3154442950077403, -1.4470764792980408, -1.3154442950077403, -1.3154442950077403, -1.1838121107174393, -1.1838121107174393, -1.3154442950077403, -0.7889155578465368, -1.0521799264271385, -1.1838121107174393, -1.3154442950077403, -1.3154442950077403, -1.3154442950077403, -1.3154442950077403], \"xaxis\": \"x4\"}, {\"marker\": {\"color\": \"rgb(31, 220, 120)\"}, \"name\": \"versicolor\", \"opacity\": 0.7, \"showlegend\": false, \"type\": \"histogram\", \"x\": [0.26414191647586993, 0.3957741007661709, 0.3957741007661709, 0.13250973218556925, 0.3957741007661709, 0.13250973218556925, 0.5274062850564719, -0.26238682068533337, 0.13250973218556925, 0.26414191647586993, -0.26238682068533337, 0.3957741007661709, -0.26238682068533337, 0.26414191647586993, 0.13250973218556925, 0.26414191647586993, 0.3957741007661709, -0.26238682068533337, 0.3957741007661709, -0.1307546363950324, 0.7906706536370736, 0.13250973218556925, 0.3957741007661709, 0.0008775478952682834, 0.13250973218556925, 0.26414191647586993, 0.26414191647586993, 0.6590384693467726, 0.3957741007661709, -0.26238682068533337, -0.1307546363950324, -0.26238682068533337, 0.0008775478952682834, 0.5274062850564719, 0.3957741007661709, 0.5274062850564719, 0.3957741007661709, 0.13250973218556925, 0.13250973218556925, 0.13250973218556925, 0.0008775478952682834, 0.26414191647586993, 0.0008775478952682834, -0.26238682068533337, 0.13250973218556925, 0.0008775478952682834, 0.13250973218556925, 0.13250973218556925, -0.1307546363950324, 0.13250973218556925], \"xaxis\": \"x4\"}, {\"marker\": {\"color\": \"rgb(44, 50, 180)\"}, \"name\": \"virginica\", \"opacity\": 0.7, \"showlegend\": false, \"type\": \"histogram\", \"x\": [1.7120959436691794, 0.9223028379273742, 1.185567206507976, 0.7906706536370736, 1.317199390798277, 1.185567206507976, 0.6590384693467726, 0.7906706536370736, 0.7906706536370736, 1.7120959436691794, 1.053935022217675, 0.9223028379273742, 1.185567206507976, 1.053935022217675, 1.5804637593788784, 1.4488315750885774, 0.7906706536370736, 1.317199390798277, 1.4488315750885774, 0.3957741007661709, 1.4488315750885774, 1.053935022217675, 1.053935022217675, 0.7906706536370736, 1.185567206507976, 0.7906706536370736, 0.7906706536370736, 0.7906706536370736, 1.185567206507976, 0.5274062850564719, 0.9223028379273742, 1.053935022217675, 1.317199390798277, 0.3957741007661709, 0.26414191647586993, 1.4488315750885774, 1.5804637593788784, 0.7906706536370736, 0.7906706536370736, 1.185567206507976, 1.5804637593788784, 1.4488315750885774, 0.9223028379273742, 1.4488315750885774, 1.7120959436691794, 1.4488315750885774, 0.9223028379273742, 1.053935022217675, 1.4488315750885774, 0.7906706536370736], \"xaxis\": \"x4\"}],\n",
              "                        {\"barmode\": \"overlay\", \"template\": {\"data\": {\"bar\": [{\"error_x\": {\"color\": \"#2a3f5f\"}, \"error_y\": {\"color\": \"#2a3f5f\"}, \"marker\": {\"line\": {\"color\": \"#E5ECF6\", \"width\": 0.5}}, \"type\": \"bar\"}], \"barpolar\": [{\"marker\": {\"line\": {\"color\": \"#E5ECF6\", \"width\": 0.5}}, \"type\": \"barpolar\"}], \"carpet\": [{\"aaxis\": {\"endlinecolor\": \"#2a3f5f\", \"gridcolor\": \"white\", \"linecolor\": \"white\", \"minorgridcolor\": \"white\", \"startlinecolor\": \"#2a3f5f\"}, \"baxis\": {\"endlinecolor\": \"#2a3f5f\", \"gridcolor\": \"white\", \"linecolor\": \"white\", \"minorgridcolor\": \"white\", \"startlinecolor\": \"#2a3f5f\"}, \"type\": \"carpet\"}], \"choropleth\": [{\"colorbar\": {\"outlinewidth\": 0, \"ticks\": \"\"}, \"type\": \"choropleth\"}], \"contour\": [{\"colorbar\": {\"outlinewidth\": 0, \"ticks\": \"\"}, \"colorscale\": [[0.0, \"#0d0887\"], [0.1111111111111111, \"#46039f\"], [0.2222222222222222, \"#7201a8\"], [0.3333333333333333, \"#9c179e\"], [0.4444444444444444, \"#bd3786\"], [0.5555555555555556, \"#d8576b\"], [0.6666666666666666, \"#ed7953\"], [0.7777777777777778, \"#fb9f3a\"], [0.8888888888888888, \"#fdca26\"], [1.0, \"#f0f921\"]], \"type\": \"contour\"}], \"contourcarpet\": [{\"colorbar\": {\"outlinewidth\": 0, \"ticks\": \"\"}, \"type\": \"contourcarpet\"}], \"heatmap\": [{\"colorbar\": {\"outlinewidth\": 0, \"ticks\": \"\"}, \"colorscale\": [[0.0, \"#0d0887\"], [0.1111111111111111, \"#46039f\"], [0.2222222222222222, \"#7201a8\"], [0.3333333333333333, \"#9c179e\"], [0.4444444444444444, \"#bd3786\"], [0.5555555555555556, \"#d8576b\"], [0.6666666666666666, \"#ed7953\"], [0.7777777777777778, \"#fb9f3a\"], [0.8888888888888888, \"#fdca26\"], [1.0, \"#f0f921\"]], \"type\": \"heatmap\"}], \"heatmapgl\": [{\"colorbar\": {\"outlinewidth\": 0, \"ticks\": \"\"}, \"colorscale\": [[0.0, \"#0d0887\"], [0.1111111111111111, \"#46039f\"], [0.2222222222222222, \"#7201a8\"], [0.3333333333333333, \"#9c179e\"], [0.4444444444444444, \"#bd3786\"], [0.5555555555555556, \"#d8576b\"], [0.6666666666666666, \"#ed7953\"], [0.7777777777777778, \"#fb9f3a\"], [0.8888888888888888, \"#fdca26\"], [1.0, \"#f0f921\"]], \"type\": \"heatmapgl\"}], \"histogram\": [{\"marker\": {\"colorbar\": {\"outlinewidth\": 0, \"ticks\": \"\"}}, \"type\": \"histogram\"}], \"histogram2d\": [{\"colorbar\": {\"outlinewidth\": 0, \"ticks\": \"\"}, \"colorscale\": [[0.0, \"#0d0887\"], [0.1111111111111111, \"#46039f\"], [0.2222222222222222, \"#7201a8\"], [0.3333333333333333, \"#9c179e\"], [0.4444444444444444, \"#bd3786\"], [0.5555555555555556, \"#d8576b\"], [0.6666666666666666, \"#ed7953\"], [0.7777777777777778, \"#fb9f3a\"], [0.8888888888888888, \"#fdca26\"], [1.0, \"#f0f921\"]], \"type\": \"histogram2d\"}], \"histogram2dcontour\": [{\"colorbar\": {\"outlinewidth\": 0, \"ticks\": \"\"}, \"colorscale\": [[0.0, \"#0d0887\"], [0.1111111111111111, \"#46039f\"], [0.2222222222222222, \"#7201a8\"], [0.3333333333333333, \"#9c179e\"], [0.4444444444444444, \"#bd3786\"], [0.5555555555555556, \"#d8576b\"], [0.6666666666666666, \"#ed7953\"], [0.7777777777777778, \"#fb9f3a\"], [0.8888888888888888, \"#fdca26\"], [1.0, \"#f0f921\"]], \"type\": \"histogram2dcontour\"}], \"mesh3d\": [{\"colorbar\": {\"outlinewidth\": 0, \"ticks\": \"\"}, \"type\": \"mesh3d\"}], \"parcoords\": [{\"line\": {\"colorbar\": {\"outlinewidth\": 0, \"ticks\": \"\"}}, \"type\": \"parcoords\"}], \"pie\": [{\"automargin\": true, \"type\": \"pie\"}], \"scatter\": [{\"marker\": {\"colorbar\": {\"outlinewidth\": 0, \"ticks\": \"\"}}, \"type\": \"scatter\"}], \"scatter3d\": [{\"line\": {\"colorbar\": {\"outlinewidth\": 0, \"ticks\": \"\"}}, \"marker\": {\"colorbar\": {\"outlinewidth\": 0, \"ticks\": \"\"}}, \"type\": \"scatter3d\"}], \"scattercarpet\": [{\"marker\": {\"colorbar\": {\"outlinewidth\": 0, \"ticks\": \"\"}}, \"type\": \"scattercarpet\"}], \"scattergeo\": [{\"marker\": {\"colorbar\": {\"outlinewidth\": 0, \"ticks\": \"\"}}, \"type\": \"scattergeo\"}], \"scattergl\": [{\"marker\": {\"colorbar\": {\"outlinewidth\": 0, \"ticks\": \"\"}}, \"type\": \"scattergl\"}], \"scattermapbox\": [{\"marker\": {\"colorbar\": {\"outlinewidth\": 0, \"ticks\": \"\"}}, \"type\": \"scattermapbox\"}], \"scatterpolar\": [{\"marker\": {\"colorbar\": {\"outlinewidth\": 0, \"ticks\": \"\"}}, \"type\": \"scatterpolar\"}], \"scatterpolargl\": [{\"marker\": {\"colorbar\": {\"outlinewidth\": 0, \"ticks\": \"\"}}, \"type\": \"scatterpolargl\"}], \"scatterternary\": [{\"marker\": {\"colorbar\": {\"outlinewidth\": 0, \"ticks\": \"\"}}, \"type\": \"scatterternary\"}], \"surface\": [{\"colorbar\": {\"outlinewidth\": 0, \"ticks\": \"\"}, \"colorscale\": [[0.0, \"#0d0887\"], [0.1111111111111111, \"#46039f\"], [0.2222222222222222, \"#7201a8\"], [0.3333333333333333, \"#9c179e\"], [0.4444444444444444, \"#bd3786\"], [0.5555555555555556, \"#d8576b\"], [0.6666666666666666, \"#ed7953\"], [0.7777777777777778, \"#fb9f3a\"], [0.8888888888888888, \"#fdca26\"], [1.0, \"#f0f921\"]], \"type\": \"surface\"}], \"table\": [{\"cells\": {\"fill\": {\"color\": \"#EBF0F8\"}, \"line\": {\"color\": \"white\"}}, \"header\": {\"fill\": {\"color\": \"#C8D4E3\"}, \"line\": {\"color\": \"white\"}}, \"type\": \"table\"}]}, \"layout\": {\"annotationdefaults\": {\"arrowcolor\": \"#2a3f5f\", \"arrowhead\": 0, \"arrowwidth\": 1}, \"coloraxis\": {\"colorbar\": {\"outlinewidth\": 0, \"ticks\": \"\"}}, \"colorscale\": {\"diverging\": [[0, \"#8e0152\"], [0.1, \"#c51b7d\"], [0.2, \"#de77ae\"], [0.3, \"#f1b6da\"], [0.4, \"#fde0ef\"], [0.5, \"#f7f7f7\"], [0.6, \"#e6f5d0\"], [0.7, \"#b8e186\"], [0.8, \"#7fbc41\"], [0.9, \"#4d9221\"], [1, \"#276419\"]], \"sequential\": [[0.0, \"#0d0887\"], [0.1111111111111111, \"#46039f\"], [0.2222222222222222, \"#7201a8\"], [0.3333333333333333, \"#9c179e\"], [0.4444444444444444, \"#bd3786\"], [0.5555555555555556, \"#d8576b\"], [0.6666666666666666, \"#ed7953\"], [0.7777777777777778, \"#fb9f3a\"], [0.8888888888888888, \"#fdca26\"], [1.0, \"#f0f921\"]], \"sequentialminus\": [[0.0, \"#0d0887\"], [0.1111111111111111, \"#46039f\"], [0.2222222222222222, \"#7201a8\"], [0.3333333333333333, \"#9c179e\"], [0.4444444444444444, \"#bd3786\"], [0.5555555555555556, \"#d8576b\"], [0.6666666666666666, \"#ed7953\"], [0.7777777777777778, \"#fb9f3a\"], [0.8888888888888888, \"#fdca26\"], [1.0, \"#f0f921\"]]}, \"colorway\": [\"#636efa\", \"#EF553B\", \"#00cc96\", \"#ab63fa\", \"#FFA15A\", \"#19d3f3\", \"#FF6692\", \"#B6E880\", \"#FF97FF\", \"#FECB52\"], \"font\": {\"color\": \"#2a3f5f\"}, \"geo\": {\"bgcolor\": \"white\", \"lakecolor\": \"white\", \"landcolor\": \"#E5ECF6\", \"showlakes\": true, \"showland\": true, \"subunitcolor\": \"white\"}, \"hoverlabel\": {\"align\": \"left\"}, \"hovermode\": \"closest\", \"mapbox\": {\"style\": \"light\"}, \"paper_bgcolor\": \"white\", \"plot_bgcolor\": \"#E5ECF6\", \"polar\": {\"angularaxis\": {\"gridcolor\": \"white\", \"linecolor\": \"white\", \"ticks\": \"\"}, \"bgcolor\": \"#E5ECF6\", \"radialaxis\": {\"gridcolor\": \"white\", \"linecolor\": \"white\", \"ticks\": \"\"}}, \"scene\": {\"xaxis\": {\"backgroundcolor\": \"#E5ECF6\", \"gridcolor\": \"white\", \"gridwidth\": 2, \"linecolor\": \"white\", \"showbackground\": true, \"ticks\": \"\", \"zerolinecolor\": \"white\"}, \"yaxis\": {\"backgroundcolor\": \"#E5ECF6\", \"gridcolor\": \"white\", \"gridwidth\": 2, \"linecolor\": \"white\", \"showbackground\": true, \"ticks\": \"\", \"zerolinecolor\": \"white\"}, \"zaxis\": {\"backgroundcolor\": \"#E5ECF6\", \"gridcolor\": \"white\", \"gridwidth\": 2, \"linecolor\": \"white\", \"showbackground\": true, \"ticks\": \"\", \"zerolinecolor\": \"white\"}}, \"shapedefaults\": {\"line\": {\"color\": \"#2a3f5f\"}}, \"ternary\": {\"aaxis\": {\"gridcolor\": \"white\", \"linecolor\": \"white\", \"ticks\": \"\"}, \"baxis\": {\"gridcolor\": \"white\", \"linecolor\": \"white\", \"ticks\": \"\"}, \"bgcolor\": \"#E5ECF6\", \"caxis\": {\"gridcolor\": \"white\", \"linecolor\": \"white\", \"ticks\": \"\"}}, \"title\": {\"x\": 0.05}, \"xaxis\": {\"automargin\": true, \"gridcolor\": \"white\", \"linecolor\": \"white\", \"ticks\": \"\", \"title\": {\"standoff\": 15}, \"zerolinecolor\": \"white\", \"zerolinewidth\": 2}, \"yaxis\": {\"automargin\": true, \"gridcolor\": \"white\", \"linecolor\": \"white\", \"ticks\": \"\", \"title\": {\"standoff\": 15}, \"zerolinecolor\": \"white\", \"zerolinewidth\": 2}}}, \"title\": {\"text\": \"Distribuci\\u00f3n de los rasgos de las diferentes flores Iris\", \"x\": 0.5, \"xref\": \"paper\"}, \"xaxis\": {\"domain\": [0, 0.25], \"title\": {\"text\": \"Long. S\\u00e9palos (cm)\"}}, \"xaxis2\": {\"domain\": [0.3, 0.5], \"title\": {\"text\": \"Anch. S\\u00e9palos (cm)\"}}, \"xaxis3\": {\"domain\": [0.55, 0.75], \"title\": {\"text\": \"Long. P\\u00e9talos (cm)\"}}, \"xaxis4\": {\"domain\": [0.8, 1.0], \"title\": {\"text\": \"Anch. P\\u00e9talos (cm)\"}}, \"yaxis\": {\"title\": {\"text\": \"N\\u00famero de ejemplares\"}}},\n",
              "                        {\"responsive\": true}\n",
              "                    ).then(function(){\n",
              "                            \n",
              "var gd = document.getElementById('dace1254-cb52-487a-b707-b69974e83c8a');\n",
              "var x = new MutationObserver(function (mutations, observer) {{\n",
              "        var display = window.getComputedStyle(gd).display;\n",
              "        if (!display || display === 'none') {{\n",
              "            console.log([gd, 'removed!']);\n",
              "            Plotly.purge(gd);\n",
              "            observer.disconnect();\n",
              "        }}\n",
              "}});\n",
              "\n",
              "// Listen for the removal of the full notebook cells\n",
              "var notebookContainer = gd.closest('#notebook-container');\n",
              "if (notebookContainer) {{\n",
              "    x.observe(notebookContainer, {childList: true});\n",
              "}}\n",
              "\n",
              "// Listen for the clearing of the current output cell\n",
              "var outputEl = gd.closest('.output');\n",
              "if (outputEl) {{\n",
              "    x.observe(outputEl, {childList: true});\n",
              "}}\n",
              "\n",
              "                        })\n",
              "                };\n",
              "                \n",
              "            </script>\n",
              "        </div>\n",
              "</body>\n",
              "</html>"
            ]
          },
          "metadata": {
            "tags": []
          }
        }
      ]
    },
    {
      "cell_type": "markdown",
      "metadata": {
        "id": "0x-XmAefxtS1"
      },
      "source": [
        "### 1- Calculamos la descomposición de valores y vectores propios\n",
        "##### a) Usando la Matriz de Covarianzas"
      ]
    },
    {
      "cell_type": "markdown",
      "metadata": {
        "id": "a4FU8UnSnqZu"
      },
      "source": [
        "$\\huge{\\sigma_{jk} = \\frac{1}{n-1}\\sum_{i=1}^m (x_{ij} - \\overline{x_j})(x_{ik} - \\overline{x_k})}$"
      ]
    },
    {
      "cell_type": "markdown",
      "metadata": {
        "id": "wnxuAFjMnwqE"
      },
      "source": [
        "$\\huge{\\Sigma = \\frac{1}{n-1}((X-\\overline{x})^T(X-\\overline{x}))}$"
      ]
    },
    {
      "cell_type": "markdown",
      "metadata": {
        "id": "T8GpNANpn2Zc"
      },
      "source": [
        "$\\huge{\\overline{x} = \\sum_{i=1}^n x_i\\in \\mathbb R^m}$"
      ]
    },
    {
      "cell_type": "code",
      "metadata": {
        "id": "5GxDkZ5rxtS2"
      },
      "source": [
        "import numpy as np"
      ],
      "execution_count": 28,
      "outputs": []
    },
    {
      "cell_type": "code",
      "metadata": {
        "id": "m_u7QIQzxtS2",
        "outputId": "e6125f47-40d8-4360-f276-f6a966f818c3",
        "colab": {
          "base_uri": "https://localhost:8080/"
        }
      },
      "source": [
        "mean_vect = np.mean(X_std, axis=0)\n",
        "mean_vect"
      ],
      "execution_count": 29,
      "outputs": [
        {
          "output_type": "execute_result",
          "data": {
            "text/plain": [
              "array([-4.73695157e-16, -7.81597009e-16, -4.26325641e-16, -4.73695157e-16])"
            ]
          },
          "metadata": {
            "tags": []
          },
          "execution_count": 29
        }
      ]
    },
    {
      "cell_type": "code",
      "metadata": {
        "id": "uSMArPhBxtS2",
        "outputId": "55c12e9b-29cd-462a-cb6a-880fbca09289",
        "colab": {
          "base_uri": "https://localhost:8080/"
        }
      },
      "source": [
        "cov_matrix = (X_std - mean_vect).T.dot((X_std - mean_vect))/(X_std.shape[0]-1)\n",
        "print(\"La matriz de covarianzas es \\n%s\"%cov_matrix)\n"
      ],
      "execution_count": 30,
      "outputs": [
        {
          "output_type": "stream",
          "text": [
            "La matriz de covarianzas es \n",
            "[[ 1.00671141 -0.11835884  0.87760447  0.82343066]\n",
            " [-0.11835884  1.00671141 -0.43131554 -0.36858315]\n",
            " [ 0.87760447 -0.43131554  1.00671141  0.96932762]\n",
            " [ 0.82343066 -0.36858315  0.96932762  1.00671141]]\n"
          ],
          "name": "stdout"
        }
      ]
    },
    {
      "cell_type": "code",
      "metadata": {
        "id": "FTQ5sjR8xtS3",
        "outputId": "0d1119fb-7b55-47b4-aaa5-e353d2d4968c",
        "colab": {
          "base_uri": "https://localhost:8080/",
          "height": 166
        }
      },
      "source": [
        "df.drop(columns=\"Species\").corr()"
      ],
      "execution_count": 42,
      "outputs": [
        {
          "output_type": "execute_result",
          "data": {
            "text/html": [
              "<div>\n",
              "<style scoped>\n",
              "    .dataframe tbody tr th:only-of-type {\n",
              "        vertical-align: middle;\n",
              "    }\n",
              "\n",
              "    .dataframe tbody tr th {\n",
              "        vertical-align: top;\n",
              "    }\n",
              "\n",
              "    .dataframe thead th {\n",
              "        text-align: right;\n",
              "    }\n",
              "</style>\n",
              "<table border=\"1\" class=\"dataframe\">\n",
              "  <thead>\n",
              "    <tr style=\"text-align: right;\">\n",
              "      <th></th>\n",
              "      <th>Sepal.Length</th>\n",
              "      <th>Sepal.Width</th>\n",
              "      <th>Petal.Length</th>\n",
              "      <th>Petal.Width</th>\n",
              "    </tr>\n",
              "  </thead>\n",
              "  <tbody>\n",
              "    <tr>\n",
              "      <th>Sepal.Length</th>\n",
              "      <td>1.000000</td>\n",
              "      <td>-0.117570</td>\n",
              "      <td>0.871754</td>\n",
              "      <td>0.817941</td>\n",
              "    </tr>\n",
              "    <tr>\n",
              "      <th>Sepal.Width</th>\n",
              "      <td>-0.117570</td>\n",
              "      <td>1.000000</td>\n",
              "      <td>-0.428440</td>\n",
              "      <td>-0.366126</td>\n",
              "    </tr>\n",
              "    <tr>\n",
              "      <th>Petal.Length</th>\n",
              "      <td>0.871754</td>\n",
              "      <td>-0.428440</td>\n",
              "      <td>1.000000</td>\n",
              "      <td>0.962865</td>\n",
              "    </tr>\n",
              "    <tr>\n",
              "      <th>Petal.Width</th>\n",
              "      <td>0.817941</td>\n",
              "      <td>-0.366126</td>\n",
              "      <td>0.962865</td>\n",
              "      <td>1.000000</td>\n",
              "    </tr>\n",
              "  </tbody>\n",
              "</table>\n",
              "</div>"
            ],
            "text/plain": [
              "              Sepal.Length  Sepal.Width  Petal.Length  Petal.Width\n",
              "Sepal.Length      1.000000    -0.117570      0.871754     0.817941\n",
              "Sepal.Width      -0.117570     1.000000     -0.428440    -0.366126\n",
              "Petal.Length      0.871754    -0.428440      1.000000     0.962865\n",
              "Petal.Width       0.817941    -0.366126      0.962865     1.000000"
            ]
          },
          "metadata": {
            "tags": []
          },
          "execution_count": 42
        }
      ]
    },
    {
      "cell_type": "code",
      "metadata": {
        "id": "37anT4TbxtS3",
        "outputId": "924657bd-9803-4e2a-93b7-cfe80c30be25",
        "colab": {
          "base_uri": "https://localhost:8080/"
        }
      },
      "source": [
        "eig_vals, eig_vectors = np.linalg.eig(cov_matrix)\n",
        "print(\"Valores propios \\n%s\"%eig_vals)\n",
        "print(\"Vectores propios \\n%s\"%eig_vectors)"
      ],
      "execution_count": 43,
      "outputs": [
        {
          "output_type": "stream",
          "text": [
            "Valores propios \n",
            "[2.93808505 0.9201649  0.14774182 0.02085386]\n",
            "Vectores propios \n",
            "[[ 0.52106591 -0.37741762 -0.71956635  0.26128628]\n",
            " [-0.26934744 -0.92329566  0.24438178 -0.12350962]\n",
            " [ 0.5804131  -0.02449161  0.14212637 -0.80144925]\n",
            " [ 0.56485654 -0.06694199  0.63427274  0.52359713]]\n"
          ],
          "name": "stdout"
        }
      ]
    },
    {
      "cell_type": "markdown",
      "metadata": {
        "id": "dYy39K2IxtS3"
      },
      "source": [
        "##### b) Usando la Matriz de Correlaciones"
      ]
    },
    {
      "cell_type": "code",
      "metadata": {
        "id": "oBnmxY94xtS3",
        "outputId": "21437843-a56a-468d-c27d-64aab71f3b7d",
        "colab": {
          "base_uri": "https://localhost:8080/"
        }
      },
      "source": [
        "corr_matrix = np.corrcoef(X_std.T)\n",
        "corr_matrix"
      ],
      "execution_count": 44,
      "outputs": [
        {
          "output_type": "execute_result",
          "data": {
            "text/plain": [
              "array([[ 1.        , -0.11756978,  0.87175378,  0.81794113],\n",
              "       [-0.11756978,  1.        , -0.4284401 , -0.36612593],\n",
              "       [ 0.87175378, -0.4284401 ,  1.        ,  0.96286543],\n",
              "       [ 0.81794113, -0.36612593,  0.96286543,  1.        ]])"
            ]
          },
          "metadata": {
            "tags": []
          },
          "execution_count": 44
        }
      ]
    },
    {
      "cell_type": "code",
      "metadata": {
        "id": "k2mqM7A9xtS3",
        "outputId": "70e94d42-e468-472e-9e2e-ef3235193562",
        "colab": {
          "base_uri": "https://localhost:8080/"
        }
      },
      "source": [
        "eig_vals_corr, eig_vectors_corr = np.linalg.eig(corr_matrix)\n",
        "print(\"Valores propios \\n%s\"%eig_vals_corr)\n",
        "print(\"Vectores propios \\n%s\"%eig_vectors_corr)"
      ],
      "execution_count": 45,
      "outputs": [
        {
          "output_type": "stream",
          "text": [
            "Valores propios \n",
            "[2.91849782 0.91403047 0.14675688 0.02071484]\n",
            "Vectores propios \n",
            "[[ 0.52106591 -0.37741762 -0.71956635  0.26128628]\n",
            " [-0.26934744 -0.92329566  0.24438178 -0.12350962]\n",
            " [ 0.5804131  -0.02449161  0.14212637 -0.80144925]\n",
            " [ 0.56485654 -0.06694199  0.63427274  0.52359713]]\n"
          ],
          "name": "stdout"
        }
      ]
    },
    {
      "cell_type": "code",
      "metadata": {
        "id": "SWt-AHPDxtS4",
        "outputId": "8fdc71a1-c466-41f7-f070-b59cb1aa084f",
        "colab": {
          "base_uri": "https://localhost:8080/"
        }
      },
      "source": [
        "corr_matrix = np.corrcoef(X.T)\n",
        "corr_matrix"
      ],
      "execution_count": 46,
      "outputs": [
        {
          "output_type": "execute_result",
          "data": {
            "text/plain": [
              "array([[ 1.        , -0.11756978,  0.87175378,  0.81794113],\n",
              "       [-0.11756978,  1.        , -0.4284401 , -0.36612593],\n",
              "       [ 0.87175378, -0.4284401 ,  1.        ,  0.96286543],\n",
              "       [ 0.81794113, -0.36612593,  0.96286543,  1.        ]])"
            ]
          },
          "metadata": {
            "tags": []
          },
          "execution_count": 46
        }
      ]
    },
    {
      "cell_type": "markdown",
      "metadata": {
        "id": "Ulz5OALMxtS4"
      },
      "source": [
        "##### c) Singular Value Decomposition"
      ]
    },
    {
      "cell_type": "code",
      "metadata": {
        "id": "fM9ta99jxtS4",
        "outputId": "11cd756d-0cd3-437f-a23b-e1983ba69895",
        "colab": {
          "base_uri": "https://localhost:8080/"
        }
      },
      "source": [
        "u,s,v = np.linalg.svd(X_std.T)\n",
        "u"
      ],
      "execution_count": 47,
      "outputs": [
        {
          "output_type": "execute_result",
          "data": {
            "text/plain": [
              "array([[-0.52106591, -0.37741762,  0.71956635,  0.26128628],\n",
              "       [ 0.26934744, -0.92329566, -0.24438178, -0.12350962],\n",
              "       [-0.5804131 , -0.02449161, -0.14212637, -0.80144925],\n",
              "       [-0.56485654, -0.06694199, -0.63427274,  0.52359713]])"
            ]
          },
          "metadata": {
            "tags": []
          },
          "execution_count": 47
        }
      ]
    },
    {
      "cell_type": "code",
      "metadata": {
        "id": "R3AsPlLixtS4",
        "outputId": "92fc60dd-1cb4-4010-e667-db9479f6ef1a",
        "colab": {
          "base_uri": "https://localhost:8080/"
        }
      },
      "source": [
        "s"
      ],
      "execution_count": 48,
      "outputs": [
        {
          "output_type": "execute_result",
          "data": {
            "text/plain": [
              "array([20.92306556, 11.7091661 ,  4.69185798,  1.76273239])"
            ]
          },
          "metadata": {
            "tags": []
          },
          "execution_count": 48
        }
      ]
    },
    {
      "cell_type": "code",
      "metadata": {
        "id": "yIZ-pXyKxtS4",
        "outputId": "60ba7252-28ce-48fc-9259-18b65e21fd62",
        "colab": {
          "base_uri": "https://localhost:8080/"
        }
      },
      "source": [
        "v"
      ],
      "execution_count": 49,
      "outputs": [
        {
          "output_type": "execute_result",
          "data": {
            "text/plain": [
              "array([[ 1.08239531e-01,  9.94577561e-02,  1.12996303e-01, ...,\n",
              "        -7.27030413e-02, -6.56112167e-02, -4.59137323e-02],\n",
              "       [-4.09957970e-02,  5.75731483e-02,  2.92000319e-02, ...,\n",
              "        -2.29793601e-02, -8.63643414e-02,  2.07800179e-03],\n",
              "       [ 2.72186462e-02,  5.00034005e-02, -9.42089147e-03, ...,\n",
              "        -3.84023516e-02, -1.98939364e-01, -1.12588405e-01],\n",
              "       ...,\n",
              "       [ 5.43380310e-02,  5.12936114e-03,  2.75184277e-02, ...,\n",
              "         9.89532683e-01, -1.41206665e-02, -8.30595907e-04],\n",
              "       [ 1.96438400e-03,  8.48544595e-02,  1.78604309e-01, ...,\n",
              "        -1.25488246e-02,  9.52049996e-01, -2.19201906e-02],\n",
              "       [ 2.46978090e-03,  5.83496936e-03,  1.49419118e-01, ...,\n",
              "        -7.17729676e-04, -2.32048811e-02,  9.77300244e-01]])"
            ]
          },
          "metadata": {
            "tags": []
          },
          "execution_count": 49
        }
      ]
    },
    {
      "cell_type": "markdown",
      "metadata": {
        "id": "zNFQ3FtextS5"
      },
      "source": [
        "### 2 - Las componentes principales"
      ]
    },
    {
      "cell_type": "code",
      "metadata": {
        "id": "OXm5hToSxtS5",
        "outputId": "0af46d04-17f9-4b54-f22b-eab598fb16de",
        "colab": {
          "base_uri": "https://localhost:8080/"
        }
      },
      "source": [
        "for ev in eig_vectors:\n",
        "    print(\"La longitud del VP es: %s\"%np.linalg.norm(ev))"
      ],
      "execution_count": 50,
      "outputs": [
        {
          "output_type": "stream",
          "text": [
            "La longitud del VP es: 1.0000000000000002\n",
            "La longitud del VP es: 0.9999999999999999\n",
            "La longitud del VP es: 1.0\n",
            "La longitud del VP es: 1.0\n"
          ],
          "name": "stdout"
        }
      ]
    },
    {
      "cell_type": "code",
      "metadata": {
        "id": "S9dBXKcgxtS5",
        "outputId": "04de6afb-0b68-4ef0-e954-c957aca6ec9c",
        "colab": {
          "base_uri": "https://localhost:8080/"
        }
      },
      "source": [
        "eigen_pairs = [(np.abs(eig_vals[i]), eig_vectors[:,i]) for i in range(len(eig_vals))]\n",
        "eigen_pairs"
      ],
      "execution_count": 51,
      "outputs": [
        {
          "output_type": "execute_result",
          "data": {
            "text/plain": [
              "[(2.9380850501999944,\n",
              "  array([ 0.52106591, -0.26934744,  0.5804131 ,  0.56485654])),\n",
              " (0.9201649041624848,\n",
              "  array([-0.37741762, -0.92329566, -0.02449161, -0.06694199])),\n",
              " (0.14774182104494737,\n",
              "  array([-0.71956635,  0.24438178,  0.14212637,  0.63427274])),\n",
              " (0.02085386217646304,\n",
              "  array([ 0.26128628, -0.12350962, -0.80144925,  0.52359713]))]"
            ]
          },
          "metadata": {
            "tags": []
          },
          "execution_count": 51
        }
      ]
    },
    {
      "cell_type": "markdown",
      "metadata": {
        "id": "7kKPE-TextS5"
      },
      "source": [
        "Ordenamos los vectores propios con valor propio de mayor a menor"
      ]
    },
    {
      "cell_type": "code",
      "metadata": {
        "id": "JWYzMytxxtS5",
        "outputId": "68e675f0-05fa-433a-8c0a-2d7616158981",
        "colab": {
          "base_uri": "https://localhost:8080/"
        }
      },
      "source": [
        "eigen_pairs.sort()\n",
        "eigen_pairs.reverse()\n",
        "eigen_pairs"
      ],
      "execution_count": 52,
      "outputs": [
        {
          "output_type": "execute_result",
          "data": {
            "text/plain": [
              "[(2.9380850501999944,\n",
              "  array([ 0.52106591, -0.26934744,  0.5804131 ,  0.56485654])),\n",
              " (0.9201649041624848,\n",
              "  array([-0.37741762, -0.92329566, -0.02449161, -0.06694199])),\n",
              " (0.14774182104494737,\n",
              "  array([-0.71956635,  0.24438178,  0.14212637,  0.63427274])),\n",
              " (0.02085386217646304,\n",
              "  array([ 0.26128628, -0.12350962, -0.80144925,  0.52359713]))]"
            ]
          },
          "metadata": {
            "tags": []
          },
          "execution_count": 52
        }
      ]
    },
    {
      "cell_type": "code",
      "metadata": {
        "id": "-34XWDPrxtS5",
        "outputId": "d704416f-3bd5-408d-97cb-38c2c269bcd7",
        "colab": {
          "base_uri": "https://localhost:8080/"
        }
      },
      "source": [
        "print(\"Valores propios en orden descendente:\")\n",
        "for ep in eigen_pairs:\n",
        "    print(ep[0])"
      ],
      "execution_count": 53,
      "outputs": [
        {
          "output_type": "stream",
          "text": [
            "Valores propios en orden descendente:\n",
            "2.9380850501999944\n",
            "0.9201649041624848\n",
            "0.14774182104494737\n",
            "0.02085386217646304\n"
          ],
          "name": "stdout"
        }
      ]
    },
    {
      "cell_type": "code",
      "metadata": {
        "id": "WHDUlBL1xtS6"
      },
      "source": [
        "total_sum = sum(eig_vals)\n",
        "var_exp = [(i/total_sum)*100 for i in sorted(eig_vals, reverse=True)]\n",
        "cum_var_exp = np.cumsum(var_exp)"
      ],
      "execution_count": 54,
      "outputs": []
    },
    {
      "cell_type": "code",
      "metadata": {
        "id": "qE2ZP-qxxtS6",
        "outputId": "61cc60c8-269d-4250-ab26-427f696823ba",
        "colab": {
          "base_uri": "https://localhost:8080/",
          "height": 542
        }
      },
      "source": [
        "plot1 = go.Bar(x=[f\"CP {i}\" for i in range(1,5)], y=var_exp, showlegend= True)\n",
        "plot2 = go.Scatter(x=[f\"CP {i}\" for i in range(1,5)], y=cum_var_exp, showlegend= True)\n",
        "\n",
        "data = [plot1,plot2]\n",
        "\n",
        "layout = go.Layout(xaxis= {\"title\": \"Componentes principales\"},\n",
        "                  yaxis ={\"title\": \"Porcentaje de varianza explicada\"},\n",
        "                  title = \"Porcentaje de variabilidad explicada por cada componente principal\")\n",
        "\n",
        "fig = go.Figure(data=data,layout=layout)\n",
        "#py.iplot(fig)\n",
        "fig.show()"
      ],
      "execution_count": 56,
      "outputs": [
        {
          "output_type": "display_data",
          "data": {
            "text/html": [
              "<html>\n",
              "<head><meta charset=\"utf-8\" /></head>\n",
              "<body>\n",
              "    <div>\n",
              "            <script src=\"https://cdnjs.cloudflare.com/ajax/libs/mathjax/2.7.5/MathJax.js?config=TeX-AMS-MML_SVG\"></script><script type=\"text/javascript\">if (window.MathJax) {MathJax.Hub.Config({SVG: {font: \"STIX-Web\"}});}</script>\n",
              "                <script type=\"text/javascript\">window.PlotlyConfig = {MathJaxConfig: 'local'};</script>\n",
              "        <script src=\"https://cdn.plot.ly/plotly-latest.min.js\"></script>    \n",
              "            <div id=\"9ebc44fc-358a-463a-8f78-8bb6d9c98b87\" class=\"plotly-graph-div\" style=\"height:525px; width:100%;\"></div>\n",
              "            <script type=\"text/javascript\">\n",
              "                \n",
              "                    window.PLOTLYENV=window.PLOTLYENV || {};\n",
              "                    \n",
              "                if (document.getElementById(\"9ebc44fc-358a-463a-8f78-8bb6d9c98b87\")) {\n",
              "                    Plotly.newPlot(\n",
              "                        '9ebc44fc-358a-463a-8f78-8bb6d9c98b87',\n",
              "                        [{\"showlegend\": true, \"type\": \"bar\", \"x\": [\"CP 1\", \"CP 2\", \"CP 3\", \"CP 4\"], \"y\": [72.96244541329992, 22.850761786701725, 3.6689218892828626, 0.5178709107154993]}, {\"showlegend\": true, \"type\": \"scatter\", \"x\": [\"CP 1\", \"CP 2\", \"CP 3\", \"CP 4\"], \"y\": [72.96244541329992, 95.81320720000164, 99.4821290892845, 100.0]}],\n",
              "                        {\"template\": {\"data\": {\"bar\": [{\"error_x\": {\"color\": \"#2a3f5f\"}, \"error_y\": {\"color\": \"#2a3f5f\"}, \"marker\": {\"line\": {\"color\": \"#E5ECF6\", \"width\": 0.5}}, \"type\": \"bar\"}], \"barpolar\": [{\"marker\": {\"line\": {\"color\": \"#E5ECF6\", \"width\": 0.5}}, \"type\": \"barpolar\"}], \"carpet\": [{\"aaxis\": {\"endlinecolor\": \"#2a3f5f\", \"gridcolor\": \"white\", \"linecolor\": \"white\", \"minorgridcolor\": \"white\", \"startlinecolor\": \"#2a3f5f\"}, \"baxis\": {\"endlinecolor\": \"#2a3f5f\", \"gridcolor\": \"white\", \"linecolor\": \"white\", \"minorgridcolor\": \"white\", \"startlinecolor\": \"#2a3f5f\"}, \"type\": \"carpet\"}], \"choropleth\": [{\"colorbar\": {\"outlinewidth\": 0, \"ticks\": \"\"}, \"type\": \"choropleth\"}], \"contour\": [{\"colorbar\": {\"outlinewidth\": 0, \"ticks\": \"\"}, \"colorscale\": [[0.0, \"#0d0887\"], [0.1111111111111111, \"#46039f\"], [0.2222222222222222, \"#7201a8\"], [0.3333333333333333, \"#9c179e\"], [0.4444444444444444, \"#bd3786\"], [0.5555555555555556, \"#d8576b\"], [0.6666666666666666, \"#ed7953\"], [0.7777777777777778, \"#fb9f3a\"], [0.8888888888888888, \"#fdca26\"], [1.0, \"#f0f921\"]], \"type\": \"contour\"}], \"contourcarpet\": [{\"colorbar\": {\"outlinewidth\": 0, \"ticks\": \"\"}, \"type\": \"contourcarpet\"}], \"heatmap\": [{\"colorbar\": {\"outlinewidth\": 0, \"ticks\": \"\"}, \"colorscale\": [[0.0, \"#0d0887\"], [0.1111111111111111, \"#46039f\"], [0.2222222222222222, \"#7201a8\"], [0.3333333333333333, \"#9c179e\"], [0.4444444444444444, \"#bd3786\"], [0.5555555555555556, \"#d8576b\"], [0.6666666666666666, \"#ed7953\"], [0.7777777777777778, \"#fb9f3a\"], [0.8888888888888888, \"#fdca26\"], [1.0, \"#f0f921\"]], \"type\": \"heatmap\"}], \"heatmapgl\": [{\"colorbar\": {\"outlinewidth\": 0, \"ticks\": \"\"}, \"colorscale\": [[0.0, \"#0d0887\"], [0.1111111111111111, \"#46039f\"], [0.2222222222222222, \"#7201a8\"], [0.3333333333333333, \"#9c179e\"], [0.4444444444444444, \"#bd3786\"], [0.5555555555555556, \"#d8576b\"], [0.6666666666666666, \"#ed7953\"], [0.7777777777777778, \"#fb9f3a\"], [0.8888888888888888, \"#fdca26\"], [1.0, \"#f0f921\"]], \"type\": \"heatmapgl\"}], \"histogram\": [{\"marker\": {\"colorbar\": {\"outlinewidth\": 0, \"ticks\": \"\"}}, \"type\": \"histogram\"}], \"histogram2d\": [{\"colorbar\": {\"outlinewidth\": 0, \"ticks\": \"\"}, \"colorscale\": [[0.0, \"#0d0887\"], [0.1111111111111111, \"#46039f\"], [0.2222222222222222, \"#7201a8\"], [0.3333333333333333, \"#9c179e\"], [0.4444444444444444, \"#bd3786\"], [0.5555555555555556, \"#d8576b\"], [0.6666666666666666, \"#ed7953\"], [0.7777777777777778, \"#fb9f3a\"], [0.8888888888888888, \"#fdca26\"], [1.0, \"#f0f921\"]], \"type\": \"histogram2d\"}], \"histogram2dcontour\": [{\"colorbar\": {\"outlinewidth\": 0, \"ticks\": \"\"}, \"colorscale\": [[0.0, \"#0d0887\"], [0.1111111111111111, \"#46039f\"], [0.2222222222222222, \"#7201a8\"], [0.3333333333333333, \"#9c179e\"], [0.4444444444444444, \"#bd3786\"], [0.5555555555555556, \"#d8576b\"], [0.6666666666666666, \"#ed7953\"], [0.7777777777777778, \"#fb9f3a\"], [0.8888888888888888, \"#fdca26\"], [1.0, \"#f0f921\"]], \"type\": \"histogram2dcontour\"}], \"mesh3d\": [{\"colorbar\": {\"outlinewidth\": 0, \"ticks\": \"\"}, \"type\": \"mesh3d\"}], \"parcoords\": [{\"line\": {\"colorbar\": {\"outlinewidth\": 0, \"ticks\": \"\"}}, \"type\": \"parcoords\"}], \"pie\": [{\"automargin\": true, \"type\": \"pie\"}], \"scatter\": [{\"marker\": {\"colorbar\": {\"outlinewidth\": 0, \"ticks\": \"\"}}, \"type\": \"scatter\"}], \"scatter3d\": [{\"line\": {\"colorbar\": {\"outlinewidth\": 0, \"ticks\": \"\"}}, \"marker\": {\"colorbar\": {\"outlinewidth\": 0, \"ticks\": \"\"}}, \"type\": \"scatter3d\"}], \"scattercarpet\": [{\"marker\": {\"colorbar\": {\"outlinewidth\": 0, \"ticks\": \"\"}}, \"type\": \"scattercarpet\"}], \"scattergeo\": [{\"marker\": {\"colorbar\": {\"outlinewidth\": 0, \"ticks\": \"\"}}, \"type\": \"scattergeo\"}], \"scattergl\": [{\"marker\": {\"colorbar\": {\"outlinewidth\": 0, \"ticks\": \"\"}}, \"type\": \"scattergl\"}], \"scattermapbox\": [{\"marker\": {\"colorbar\": {\"outlinewidth\": 0, \"ticks\": \"\"}}, \"type\": \"scattermapbox\"}], \"scatterpolar\": [{\"marker\": {\"colorbar\": {\"outlinewidth\": 0, \"ticks\": \"\"}}, \"type\": \"scatterpolar\"}], \"scatterpolargl\": [{\"marker\": {\"colorbar\": {\"outlinewidth\": 0, \"ticks\": \"\"}}, \"type\": \"scatterpolargl\"}], \"scatterternary\": [{\"marker\": {\"colorbar\": {\"outlinewidth\": 0, \"ticks\": \"\"}}, \"type\": \"scatterternary\"}], \"surface\": [{\"colorbar\": {\"outlinewidth\": 0, \"ticks\": \"\"}, \"colorscale\": [[0.0, \"#0d0887\"], [0.1111111111111111, \"#46039f\"], [0.2222222222222222, \"#7201a8\"], [0.3333333333333333, \"#9c179e\"], [0.4444444444444444, \"#bd3786\"], [0.5555555555555556, \"#d8576b\"], [0.6666666666666666, \"#ed7953\"], [0.7777777777777778, \"#fb9f3a\"], [0.8888888888888888, \"#fdca26\"], [1.0, \"#f0f921\"]], \"type\": \"surface\"}], \"table\": [{\"cells\": {\"fill\": {\"color\": \"#EBF0F8\"}, \"line\": {\"color\": \"white\"}}, \"header\": {\"fill\": {\"color\": \"#C8D4E3\"}, \"line\": {\"color\": \"white\"}}, \"type\": \"table\"}]}, \"layout\": {\"annotationdefaults\": {\"arrowcolor\": \"#2a3f5f\", \"arrowhead\": 0, \"arrowwidth\": 1}, \"coloraxis\": {\"colorbar\": {\"outlinewidth\": 0, \"ticks\": \"\"}}, \"colorscale\": {\"diverging\": [[0, \"#8e0152\"], [0.1, \"#c51b7d\"], [0.2, \"#de77ae\"], [0.3, \"#f1b6da\"], [0.4, \"#fde0ef\"], [0.5, \"#f7f7f7\"], [0.6, \"#e6f5d0\"], [0.7, \"#b8e186\"], [0.8, \"#7fbc41\"], [0.9, \"#4d9221\"], [1, \"#276419\"]], \"sequential\": [[0.0, \"#0d0887\"], [0.1111111111111111, \"#46039f\"], [0.2222222222222222, \"#7201a8\"], [0.3333333333333333, \"#9c179e\"], [0.4444444444444444, \"#bd3786\"], [0.5555555555555556, \"#d8576b\"], [0.6666666666666666, \"#ed7953\"], [0.7777777777777778, \"#fb9f3a\"], [0.8888888888888888, \"#fdca26\"], [1.0, \"#f0f921\"]], \"sequentialminus\": [[0.0, \"#0d0887\"], [0.1111111111111111, \"#46039f\"], [0.2222222222222222, \"#7201a8\"], [0.3333333333333333, \"#9c179e\"], [0.4444444444444444, \"#bd3786\"], [0.5555555555555556, \"#d8576b\"], [0.6666666666666666, \"#ed7953\"], [0.7777777777777778, \"#fb9f3a\"], [0.8888888888888888, \"#fdca26\"], [1.0, \"#f0f921\"]]}, \"colorway\": [\"#636efa\", \"#EF553B\", \"#00cc96\", \"#ab63fa\", \"#FFA15A\", \"#19d3f3\", \"#FF6692\", \"#B6E880\", \"#FF97FF\", \"#FECB52\"], \"font\": {\"color\": \"#2a3f5f\"}, \"geo\": {\"bgcolor\": \"white\", \"lakecolor\": \"white\", \"landcolor\": \"#E5ECF6\", \"showlakes\": true, \"showland\": true, \"subunitcolor\": \"white\"}, \"hoverlabel\": {\"align\": \"left\"}, \"hovermode\": \"closest\", \"mapbox\": {\"style\": \"light\"}, \"paper_bgcolor\": \"white\", \"plot_bgcolor\": \"#E5ECF6\", \"polar\": {\"angularaxis\": {\"gridcolor\": \"white\", \"linecolor\": \"white\", \"ticks\": \"\"}, \"bgcolor\": \"#E5ECF6\", \"radialaxis\": {\"gridcolor\": \"white\", \"linecolor\": \"white\", \"ticks\": \"\"}}, \"scene\": {\"xaxis\": {\"backgroundcolor\": \"#E5ECF6\", \"gridcolor\": \"white\", \"gridwidth\": 2, \"linecolor\": \"white\", \"showbackground\": true, \"ticks\": \"\", \"zerolinecolor\": \"white\"}, \"yaxis\": {\"backgroundcolor\": \"#E5ECF6\", \"gridcolor\": \"white\", \"gridwidth\": 2, \"linecolor\": \"white\", \"showbackground\": true, \"ticks\": \"\", \"zerolinecolor\": \"white\"}, \"zaxis\": {\"backgroundcolor\": \"#E5ECF6\", \"gridcolor\": \"white\", \"gridwidth\": 2, \"linecolor\": \"white\", \"showbackground\": true, \"ticks\": \"\", \"zerolinecolor\": \"white\"}}, \"shapedefaults\": {\"line\": {\"color\": \"#2a3f5f\"}}, \"ternary\": {\"aaxis\": {\"gridcolor\": \"white\", \"linecolor\": \"white\", \"ticks\": \"\"}, \"baxis\": {\"gridcolor\": \"white\", \"linecolor\": \"white\", \"ticks\": \"\"}, \"bgcolor\": \"#E5ECF6\", \"caxis\": {\"gridcolor\": \"white\", \"linecolor\": \"white\", \"ticks\": \"\"}}, \"title\": {\"x\": 0.05}, \"xaxis\": {\"automargin\": true, \"gridcolor\": \"white\", \"linecolor\": \"white\", \"ticks\": \"\", \"title\": {\"standoff\": 15}, \"zerolinecolor\": \"white\", \"zerolinewidth\": 2}, \"yaxis\": {\"automargin\": true, \"gridcolor\": \"white\", \"linecolor\": \"white\", \"ticks\": \"\", \"title\": {\"standoff\": 15}, \"zerolinecolor\": \"white\", \"zerolinewidth\": 2}}}, \"title\": {\"text\": \"Porcentaje de variabilidad explicada por cada componente principal\"}, \"xaxis\": {\"title\": {\"text\": \"Componentes principales\"}}, \"yaxis\": {\"title\": {\"text\": \"Porcentaje de varianza explicada\"}}},\n",
              "                        {\"responsive\": true}\n",
              "                    ).then(function(){\n",
              "                            \n",
              "var gd = document.getElementById('9ebc44fc-358a-463a-8f78-8bb6d9c98b87');\n",
              "var x = new MutationObserver(function (mutations, observer) {{\n",
              "        var display = window.getComputedStyle(gd).display;\n",
              "        if (!display || display === 'none') {{\n",
              "            console.log([gd, 'removed!']);\n",
              "            Plotly.purge(gd);\n",
              "            observer.disconnect();\n",
              "        }}\n",
              "}});\n",
              "\n",
              "// Listen for the removal of the full notebook cells\n",
              "var notebookContainer = gd.closest('#notebook-container');\n",
              "if (notebookContainer) {{\n",
              "    x.observe(notebookContainer, {childList: true});\n",
              "}}\n",
              "\n",
              "// Listen for the clearing of the current output cell\n",
              "var outputEl = gd.closest('.output');\n",
              "if (outputEl) {{\n",
              "    x.observe(outputEl, {childList: true});\n",
              "}}\n",
              "\n",
              "                        })\n",
              "                };\n",
              "                \n",
              "            </script>\n",
              "        </div>\n",
              "</body>\n",
              "</html>"
            ]
          },
          "metadata": {
            "tags": []
          }
        }
      ]
    },
    {
      "cell_type": "code",
      "metadata": {
        "id": "JkDNqJHwxtS6",
        "outputId": "712e336c-8d6a-4fa1-c14f-53d023d997da",
        "colab": {
          "base_uri": "https://localhost:8080/"
        }
      },
      "source": [
        "W = np.hstack((eigen_pairs[0][1].reshape(4,1), \n",
        "               eigen_pairs[1][1].reshape(4,1)))\n",
        "W"
      ],
      "execution_count": 57,
      "outputs": [
        {
          "output_type": "execute_result",
          "data": {
            "text/plain": [
              "array([[ 0.52106591, -0.37741762],\n",
              "       [-0.26934744, -0.92329566],\n",
              "       [ 0.5804131 , -0.02449161],\n",
              "       [ 0.56485654, -0.06694199]])"
            ]
          },
          "metadata": {
            "tags": []
          },
          "execution_count": 57
        }
      ]
    },
    {
      "cell_type": "code",
      "metadata": {
        "id": "hTVfqvzIxtS6",
        "outputId": "576d364e-ee9d-409e-85e1-2c85aa067414",
        "colab": {
          "base_uri": "https://localhost:8080/"
        }
      },
      "source": [
        "X[0]"
      ],
      "execution_count": 58,
      "outputs": [
        {
          "output_type": "execute_result",
          "data": {
            "text/plain": [
              "array([5.1, 3.5, 1.4, 0.2])"
            ]
          },
          "metadata": {
            "tags": []
          },
          "execution_count": 58
        }
      ]
    },
    {
      "cell_type": "markdown",
      "metadata": {
        "id": "LAT_kbAixtS6"
      },
      "source": [
        "### 3- Proyectando las variables en el nuevo subespacio vectorial"
      ]
    },
    {
      "cell_type": "code",
      "metadata": {
        "id": "pm1mB41nxtS6",
        "outputId": "863a4795-d477-42f6-cfd4-5d0daf8b2ef5",
        "colab": {
          "base_uri": "https://localhost:8080/",
          "height": 38
        }
      },
      "source": [
        "display(Math(r'Y = X \\cdot W, X \\in M(\\mathbb R)_{150, 4}, W \\in M(\\mathbb R)_{4,2}, Y \\in M(\\mathbb R)_{150, 2}'))"
      ],
      "execution_count": 59,
      "outputs": [
        {
          "output_type": "display_data",
          "data": {
            "text/latex": "$$Y = X \\cdot W, X \\in M(\\mathbb R)_{150, 4}, W \\in M(\\mathbb R)_{4,2}, Y \\in M(\\mathbb R)_{150, 2}$$",
            "text/plain": [
              "<IPython.core.display.Math object>"
            ]
          },
          "metadata": {
            "tags": []
          }
        }
      ]
    },
    {
      "cell_type": "code",
      "metadata": {
        "id": "lnd4g5iextS6",
        "outputId": "d4cffb4b-3941-4125-e32b-5de609d5ab98",
        "colab": {
          "base_uri": "https://localhost:8080/"
        }
      },
      "source": [
        "Y = X_std.dot(W)\n",
        "Y"
      ],
      "execution_count": 60,
      "outputs": [
        {
          "output_type": "execute_result",
          "data": {
            "text/plain": [
              "array([[-2.26470281, -0.4800266 ],\n",
              "       [-2.08096115,  0.67413356],\n",
              "       [-2.36422905,  0.34190802],\n",
              "       [-2.29938422,  0.59739451],\n",
              "       [-2.38984217, -0.64683538],\n",
              "       [-2.07563095, -1.48917752],\n",
              "       [-2.44402884, -0.0476442 ],\n",
              "       [-2.23284716, -0.22314807],\n",
              "       [-2.33464048,  1.11532768],\n",
              "       [-2.18432817,  0.46901356],\n",
              "       [-2.1663101 , -1.04369065],\n",
              "       [-2.32613087, -0.13307834],\n",
              "       [-2.2184509 ,  0.72867617],\n",
              "       [-2.6331007 ,  0.96150673],\n",
              "       [-2.1987406 , -1.86005711],\n",
              "       [-2.26221453, -2.68628449],\n",
              "       [-2.2075877 , -1.48360936],\n",
              "       [-2.19034951, -0.48883832],\n",
              "       [-1.898572  , -1.40501879],\n",
              "       [-2.34336905, -1.12784938],\n",
              "       [-1.914323  , -0.40885571],\n",
              "       [-2.20701284, -0.92412143],\n",
              "       [-2.7743447 , -0.45834367],\n",
              "       [-1.81866953, -0.08555853],\n",
              "       [-2.22716331, -0.13725446],\n",
              "       [-1.95184633,  0.62561859],\n",
              "       [-2.05115137, -0.24216355],\n",
              "       [-2.16857717, -0.52714953],\n",
              "       [-2.13956345, -0.31321781],\n",
              "       [-2.26526149,  0.3377319 ],\n",
              "       [-2.14012214,  0.50454069],\n",
              "       [-1.83159477, -0.42369507],\n",
              "       [-2.61494794, -1.79357586],\n",
              "       [-2.44617739, -2.15072788],\n",
              "       [-2.10997488,  0.46020184],\n",
              "       [-2.2078089 ,  0.2061074 ],\n",
              "       [-2.04514621, -0.66155811],\n",
              "       [-2.52733191, -0.59229277],\n",
              "       [-2.42963258,  0.90418004],\n",
              "       [-2.16971071, -0.26887896],\n",
              "       [-2.28647514, -0.44171539],\n",
              "       [-1.85812246,  2.33741516],\n",
              "       [-2.5536384 ,  0.47910069],\n",
              "       [-1.96444768, -0.47232667],\n",
              "       [-2.13705901, -1.14222926],\n",
              "       [-2.0697443 ,  0.71105273],\n",
              "       [-2.38473317, -1.1204297 ],\n",
              "       [-2.39437631,  0.38624687],\n",
              "       [-2.22944655, -0.99795976],\n",
              "       [-2.20383344, -0.00921636],\n",
              "       [ 1.10178118, -0.86297242],\n",
              "       [ 0.73133743, -0.59461473],\n",
              "       [ 1.24097932, -0.61629765],\n",
              "       [ 0.40748306,  1.75440399],\n",
              "       [ 1.0754747 ,  0.20842105],\n",
              "       [ 0.38868734,  0.59328364],\n",
              "       [ 0.74652974, -0.77301931],\n",
              "       [-0.48732274,  1.85242909],\n",
              "       [ 0.92790164, -0.03222608],\n",
              "       [ 0.01142619,  1.03401828],\n",
              "       [-0.11019628,  2.65407282],\n",
              "       [ 0.44069345,  0.06329519],\n",
              "       [ 0.56210831,  1.76472438],\n",
              "       [ 0.71956189,  0.18622461],\n",
              "       [-0.0333547 ,  0.43900321],\n",
              "       [ 0.87540719, -0.50906396],\n",
              "       [ 0.35025167,  0.19631173],\n",
              "       [ 0.15881005,  0.79209574],\n",
              "       [ 1.22509363,  1.6222438 ],\n",
              "       [ 0.1649179 ,  1.30260923],\n",
              "       [ 0.73768265, -0.39657156],\n",
              "       [ 0.47628719,  0.41732028],\n",
              "       [ 1.2341781 ,  0.93332573],\n",
              "       [ 0.6328582 ,  0.41638772],\n",
              "       [ 0.70266118,  0.06341182],\n",
              "       [ 0.87427365, -0.25079339],\n",
              "       [ 1.25650912,  0.07725602],\n",
              "       [ 1.35840512, -0.33131168],\n",
              "       [ 0.66480037,  0.22592785],\n",
              "       [-0.04025861,  1.05871855],\n",
              "       [ 0.13079518,  1.56227183],\n",
              "       [ 0.02345269,  1.57247559],\n",
              "       [ 0.24153827,  0.77725638],\n",
              "       [ 1.06109461,  0.63384324],\n",
              "       [ 0.22397877,  0.28777351],\n",
              "       [ 0.42913912, -0.84558224],\n",
              "       [ 1.04872805, -0.5220518 ],\n",
              "       [ 1.04453138,  1.38298872],\n",
              "       [ 0.06958832,  0.21950333],\n",
              "       [ 0.28347724,  1.32932464],\n",
              "       [ 0.27907778,  1.12002852],\n",
              "       [ 0.62456979, -0.02492303],\n",
              "       [ 0.33653037,  0.98840402],\n",
              "       [-0.36218338,  2.01923787],\n",
              "       [ 0.28858624,  0.85573032],\n",
              "       [ 0.09136066,  0.18119213],\n",
              "       [ 0.22771687,  0.38492008],\n",
              "       [ 0.57638829,  0.1548736 ],\n",
              "       [-0.44766702,  1.54379203],\n",
              "       [ 0.25673059,  0.5988518 ],\n",
              "       [ 1.84456887, -0.87042131],\n",
              "       [ 1.15788161,  0.69886986],\n",
              "       [ 2.20526679, -0.56201048],\n",
              "       [ 1.44015066,  0.04698759],\n",
              "       [ 1.86781222, -0.29504482],\n",
              "       [ 2.75187334, -0.8004092 ],\n",
              "       [ 0.36701769,  1.56150289],\n",
              "       [ 2.30243944, -0.42006558],\n",
              "       [ 2.00668647,  0.71143865],\n",
              "       [ 2.25977735, -1.92101038],\n",
              "       [ 1.36417549, -0.69275645],\n",
              "       [ 1.60267867,  0.42170045],\n",
              "       [ 1.8839007 , -0.41924965],\n",
              "       [ 1.2601151 ,  1.16226042],\n",
              "       [ 1.4676452 ,  0.44227159],\n",
              "       [ 1.59007732, -0.67624481],\n",
              "       [ 1.47143146, -0.25562182],\n",
              "       [ 2.42632899, -2.55666125],\n",
              "       [ 3.31069558, -0.01778095],\n",
              "       [ 1.26376667,  1.70674538],\n",
              "       [ 2.0377163 , -0.91046741],\n",
              "       [ 0.97798073,  0.57176432],\n",
              "       [ 2.89765149, -0.41364106],\n",
              "       [ 1.33323218,  0.48181122],\n",
              "       [ 1.7007339 , -1.01392187],\n",
              "       [ 1.95432671, -1.0077776 ],\n",
              "       [ 1.17510363,  0.31639447],\n",
              "       [ 1.02095055, -0.06434603],\n",
              "       [ 1.78834992,  0.18736121],\n",
              "       [ 1.86364755, -0.56229073],\n",
              "       [ 2.43595373, -0.25928443],\n",
              "       [ 2.30492772, -2.62632347],\n",
              "       [ 1.86270322,  0.17854949],\n",
              "       [ 1.11414774,  0.29292262],\n",
              "       [ 1.2024733 ,  0.81131527],\n",
              "       [ 2.79877045, -0.85680333],\n",
              "       [ 1.57625591, -1.06858111],\n",
              "       [ 1.3462921 , -0.42243061],\n",
              "       [ 0.92482492, -0.0172231 ],\n",
              "       [ 1.85204505, -0.67612817],\n",
              "       [ 2.01481043, -0.61388564],\n",
              "       [ 1.90178409, -0.68957549],\n",
              "       [ 1.15788161,  0.69886986],\n",
              "       [ 2.04055823, -0.8675206 ],\n",
              "       [ 1.9981471 , -1.04916875],\n",
              "       [ 1.87050329, -0.38696608],\n",
              "       [ 1.56458048,  0.89668681],\n",
              "       [ 1.5211705 , -0.26906914],\n",
              "       [ 1.37278779, -1.01125442],\n",
              "       [ 0.96065603,  0.02433167]])"
            ]
          },
          "metadata": {
            "tags": []
          },
          "execution_count": 60
        }
      ]
    },
    {
      "cell_type": "code",
      "metadata": {
        "id": "YW3zFTtlxtS6",
        "outputId": "f952a4fb-6fcc-446f-cba0-73bbbc5bec06",
        "colab": {
          "base_uri": "https://localhost:8080/",
          "height": 542
        }
      },
      "source": [
        "results = []\n",
        "for name in ('setosa', 'versicolor', 'virginica'):\n",
        "    result = go.Scatter(x= Y[y==name,0], y =Y[y==name, 1],\n",
        "                       mode = \"markers\", name=name,\n",
        "    marker= { \"size\": 12, \"line\" : { \"color\" : 'rgba(220,220,220,0.15)', \"width\":0.5},\n",
        "           \"opacity\": 0.8})\n",
        "    results.append(result)\n",
        "    \n",
        "layout = go.Layout(showlegend = True, \n",
        "                   scene ={ \"xaxis\" :{\"title\": \"Componente Principal 1\"},\n",
        "                            \"yaxis\" : {\"title\": \"Componente Principal 2\"}},\n",
        "                  xaxis ={ \"zerolinecolor\": \"gray\"},\n",
        "                  yaxis={ \"zerolinecolor\": \"gray\"})\n",
        "fig = go.Figure(data=results,layout=layout)\n",
        "#py.iplot(fig)\n",
        "fig.show()"
      ],
      "execution_count": 61,
      "outputs": [
        {
          "output_type": "display_data",
          "data": {
            "text/html": [
              "<html>\n",
              "<head><meta charset=\"utf-8\" /></head>\n",
              "<body>\n",
              "    <div>\n",
              "            <script src=\"https://cdnjs.cloudflare.com/ajax/libs/mathjax/2.7.5/MathJax.js?config=TeX-AMS-MML_SVG\"></script><script type=\"text/javascript\">if (window.MathJax) {MathJax.Hub.Config({SVG: {font: \"STIX-Web\"}});}</script>\n",
              "                <script type=\"text/javascript\">window.PlotlyConfig = {MathJaxConfig: 'local'};</script>\n",
              "        <script src=\"https://cdn.plot.ly/plotly-latest.min.js\"></script>    \n",
              "            <div id=\"974a5bbf-1f35-4301-8062-9903c6d7edd7\" class=\"plotly-graph-div\" style=\"height:525px; width:100%;\"></div>\n",
              "            <script type=\"text/javascript\">\n",
              "                \n",
              "                    window.PLOTLYENV=window.PLOTLYENV || {};\n",
              "                    \n",
              "                if (document.getElementById(\"974a5bbf-1f35-4301-8062-9903c6d7edd7\")) {\n",
              "                    Plotly.newPlot(\n",
              "                        '974a5bbf-1f35-4301-8062-9903c6d7edd7',\n",
              "                        [{\"marker\": {\"line\": {\"color\": \"rgba(220,220,220,0.15)\", \"width\": 0.5}, \"opacity\": 0.8, \"size\": 12}, \"mode\": \"markers\", \"name\": \"setosa\", \"type\": \"scatter\", \"x\": [-2.264702808807588, -2.080961151965768, -2.364229053890301, -2.299384217042708, -2.389842166313844, -2.0756309481765114, -2.4440288351341524, -2.2328471588720147, -2.334640477907622, -2.1843281749339423, -2.1663101007013212, -2.326130866442698, -2.2184508988224096, -2.6331006957652283, -2.1987406032666885, -2.2622145316010194, -2.207587695824591, -2.190349509192298, -1.898571995802841, -2.343369053074992, -1.9143229960825676, -2.2070128431947977, -2.7743447029273316, -1.8186695286958494, -2.2271633057066382, -1.9518463309003762, -2.0511513727294153, -2.1685771746542155, -2.1395634513013313, -2.2652614931542407, -2.1401221356479847, -1.8315947706760278, -2.614947935858933, -2.446177391696513, -2.1099748753186525, -2.2078088990782656, -2.0451462067542003, -2.5273319131704852, -2.4296325750845464, -2.169710711630663, -2.2864751433456694, -1.858122456373573, -2.553638395614356, -1.9644476837637403, -2.137059005811622, -2.06974429959183, -2.3847331657782616, -2.394376314219633, -2.2294465479426737, -2.20383343551913], \"y\": [-0.48002659652098906, 0.6741335566053522, 0.3419080238846759, 0.5973945076746752, -0.6468353829020266, -1.489177523321166, -0.04764419763001393, -0.22314807268959158, 1.1153276754616657, 0.46901356140237527, -1.0436906530538592, -0.13307833523923138, 0.7286761653165702, 0.9615067291701623, -1.86005711329393, -2.6862844851105905, -1.4836093631555718, -0.48883831648632736, -1.4050187944665484, -1.1278493819084752, -0.408855707755906, -0.9241214267468979, -0.4583436677529151, -0.08555852628736595, -0.13725445536342692, 0.625618587776676, -0.24216355266166675, -0.5271495253082672, -0.3132178101399518, 0.3377319037604804, 0.5045406901415179, -0.4236950676037856, -1.7935758561044277, -2.150727877392923, 0.46020184143703696, 0.20610739768843656, -0.6615581114631081, -0.5922927741908091, 0.9041800403761474, -0.26887896143547074, -0.4417153876990497, 2.3374151575533464, 0.4791006901223139, -0.47232666771926024, -1.1422292620394077, 0.7110527253858936, -1.1204297019845353, 0.386246872589157, -0.9979597643079797, -0.009216357521276317]}, {\"marker\": {\"line\": {\"color\": \"rgba(220,220,220,0.15)\", \"width\": 0.5}, \"opacity\": 0.8, \"size\": 12}, \"mode\": \"markers\", \"name\": \"versicolor\", \"type\": \"scatter\", \"x\": [1.101781183052948, 0.7313374253960871, 1.240979319515831, 0.4074830588173833, 1.0754747006090775, 0.388687336535664, 0.7465297413291606, -0.4873227421256414, 0.9279016383549448, 0.011426188736978928, -0.1101962800006312, 0.4406934489830776, 0.5621083064431773, 0.7195618886754959, -0.03335470317877314, 0.8754071908577374, 0.350251667995082, 0.1588100475479704, 1.2250936335624298, 0.16491789938632595, 0.7376826487712577, 0.4762871909409705, 1.234178097657148, 0.632858199709821, 0.7026611831361816, 0.87427365388129, 1.256509116541883, 1.3584051214406314, 0.6648003672253939, -0.040258610900596604, 0.13079517549785902, 0.023452688970549303, 0.24153827295450983, 1.061094608842613, 0.22397877351237888, 0.42913911551616063, 1.0487280512090873, 1.0445313843962776, 0.06958832111642224, 0.28347723828757393, 0.2790777760554597, 0.624569791498571, 0.3365303701314346, -0.3621833846193851, 0.2885862388231562, 0.09136065565450474, 0.22771686553469922, 0.5763882886534779, -0.4476670190286133, 0.2567305888875837], \"y\": [-0.8629724182621573, -0.594614725669423, -0.6162976544374968, 1.7544039893234102, 0.20842104605096654, 0.593283635990076, -0.7730193120985946, 1.8524290868575737, -0.03222607789115281, 1.0340182751294413, 2.6540728185365636, 0.06329518843800272, 1.7647243806169444, 0.18622460583150696, 0.4390032099816255, -0.5090639567734073, 0.19631173455144552, 0.7920957424327218, 1.6222438030915016, 1.302609230295773, -0.39657156196023685, 0.41732028121355164, 0.9333257287992791, 0.4163877208891004, 0.06341181972480103, -0.2507933929006109, 0.07725601969586997, -0.3313116817908965, 0.2259278546948449, 1.0587185465539086, 1.5622718342099675, 1.5724755942167041, 0.7772563825848422, 0.6338432447349481, 0.28777351204320384, -0.8455822409050765, -0.5220517968629411, 1.382988719190782, 0.21950333464771615, 1.3293246390695768, 1.1200285237424044, -0.024923029254011297, 0.9884040176703605, 2.0192378732386116, 0.8557303199870671, 0.1811921258257764, 0.38492008098735486, 0.15487359721655974, 1.543792034397756, 0.5988517961556702]}, {\"marker\": {\"line\": {\"color\": \"rgba(220,220,220,0.15)\", \"width\": 0.5}, \"opacity\": 0.8, \"size\": 12}, \"mode\": \"markers\", \"name\": \"virginica\", \"type\": \"scatter\", \"x\": [1.8445688677230285, 1.1578816132057785, 2.2052667910753776, 1.4401506638275388, 1.867812220330537, 2.7518733356662763, 0.3670176878607226, 2.302439444625197, 2.0066864676766047, 2.259777349012501, 1.3641754921860074, 1.6026786704779294, 1.883900701703242, 1.260115099197506, 1.4676452010173227, 1.590077317614565, 1.471431461133318, 2.426328987315702, 3.310695583933887, 1.2637666736398265, 2.037716301469404, 0.9779807342494203, 2.8976514907341686, 1.3332321759732078, 1.7007338974912172, 1.9543267058530711, 1.1751036315549315, 1.0209505506957903, 1.7883499201796649, 1.8636475533282608, 2.435953727922703, 2.3049277218317656, 1.8627032197949547, 1.114147740686474, 1.20247330167839, 2.7987704475781077, 1.5762559101947538, 1.3462921036270616, 0.9248249165424186, 1.8520450517676696, 2.014810429954875, 1.9017840902621885, 1.1578816132057785, 2.040558228052092, 1.998147095952376, 1.8705032929564098, 1.5645804830303267, 1.521170499627837, 1.3727877895140728, 0.9606560300371272], \"y\": [-0.8704213123248201, 0.6988698623306919, -0.5620104770083534, 0.046987588105808435, -0.29504482445701735, -0.8004092010275394, 1.5615028914765068, -0.4200655796427743, 0.7114386535471601, -1.9210103764598827, -0.6927564544903847, 0.42170044977261867, -0.4192496506051214, 1.162260421406465, 0.4422715873770845, -0.6762448057233175, -0.2556218244714686, -2.5566612507954884, -0.017780949320625135, 1.7067453803762678, -0.9104674096183081, 0.5717643248129934, -0.4136410595956458, 0.48181121864943055, -1.0139218673227888, -1.00777759615345, 0.3163944723097924, -0.0643460292395601, 0.18736121459083072, -0.5622907258861429, -0.25928443314427846, -2.626323468232375, 0.17854949462549238, 0.29292262333573277, 0.8113152708396698, -0.8568033294971031, -1.0685811073208045, -0.42243061085250627, -0.01722310045228242, -0.6761281744365193, -0.6138856369235726, -0.6895754942430002, 0.6988698623306919, -0.8675206009552255, -1.049168747184142, -0.3869660816657234, 0.8966868088965274, -0.2690691442779497, -1.01125441852679, 0.024331668169401206]}],\n",
              "                        {\"scene\": {\"xaxis\": {\"title\": {\"text\": \"Componente Principal 1\"}}, \"yaxis\": {\"title\": {\"text\": \"Componente Principal 2\"}}}, \"showlegend\": true, \"template\": {\"data\": {\"bar\": [{\"error_x\": {\"color\": \"#2a3f5f\"}, \"error_y\": {\"color\": \"#2a3f5f\"}, \"marker\": {\"line\": {\"color\": \"#E5ECF6\", \"width\": 0.5}}, \"type\": \"bar\"}], \"barpolar\": [{\"marker\": {\"line\": {\"color\": \"#E5ECF6\", \"width\": 0.5}}, \"type\": \"barpolar\"}], \"carpet\": [{\"aaxis\": {\"endlinecolor\": \"#2a3f5f\", \"gridcolor\": \"white\", \"linecolor\": \"white\", \"minorgridcolor\": \"white\", \"startlinecolor\": \"#2a3f5f\"}, \"baxis\": {\"endlinecolor\": \"#2a3f5f\", \"gridcolor\": \"white\", \"linecolor\": \"white\", \"minorgridcolor\": \"white\", \"startlinecolor\": \"#2a3f5f\"}, \"type\": \"carpet\"}], \"choropleth\": [{\"colorbar\": {\"outlinewidth\": 0, \"ticks\": \"\"}, \"type\": \"choropleth\"}], \"contour\": [{\"colorbar\": {\"outlinewidth\": 0, \"ticks\": \"\"}, \"colorscale\": [[0.0, \"#0d0887\"], [0.1111111111111111, \"#46039f\"], [0.2222222222222222, \"#7201a8\"], [0.3333333333333333, \"#9c179e\"], [0.4444444444444444, \"#bd3786\"], [0.5555555555555556, \"#d8576b\"], [0.6666666666666666, \"#ed7953\"], [0.7777777777777778, \"#fb9f3a\"], [0.8888888888888888, \"#fdca26\"], [1.0, \"#f0f921\"]], \"type\": \"contour\"}], \"contourcarpet\": [{\"colorbar\": {\"outlinewidth\": 0, \"ticks\": \"\"}, \"type\": \"contourcarpet\"}], \"heatmap\": [{\"colorbar\": {\"outlinewidth\": 0, \"ticks\": \"\"}, \"colorscale\": [[0.0, \"#0d0887\"], [0.1111111111111111, \"#46039f\"], [0.2222222222222222, \"#7201a8\"], [0.3333333333333333, \"#9c179e\"], [0.4444444444444444, \"#bd3786\"], [0.5555555555555556, \"#d8576b\"], [0.6666666666666666, \"#ed7953\"], [0.7777777777777778, \"#fb9f3a\"], [0.8888888888888888, \"#fdca26\"], [1.0, \"#f0f921\"]], \"type\": \"heatmap\"}], \"heatmapgl\": [{\"colorbar\": {\"outlinewidth\": 0, \"ticks\": \"\"}, \"colorscale\": [[0.0, \"#0d0887\"], [0.1111111111111111, \"#46039f\"], [0.2222222222222222, \"#7201a8\"], [0.3333333333333333, \"#9c179e\"], [0.4444444444444444, \"#bd3786\"], [0.5555555555555556, \"#d8576b\"], [0.6666666666666666, \"#ed7953\"], [0.7777777777777778, \"#fb9f3a\"], [0.8888888888888888, \"#fdca26\"], [1.0, \"#f0f921\"]], \"type\": \"heatmapgl\"}], \"histogram\": [{\"marker\": {\"colorbar\": {\"outlinewidth\": 0, \"ticks\": \"\"}}, \"type\": \"histogram\"}], \"histogram2d\": [{\"colorbar\": {\"outlinewidth\": 0, \"ticks\": \"\"}, \"colorscale\": [[0.0, \"#0d0887\"], [0.1111111111111111, \"#46039f\"], [0.2222222222222222, \"#7201a8\"], [0.3333333333333333, \"#9c179e\"], [0.4444444444444444, \"#bd3786\"], [0.5555555555555556, \"#d8576b\"], [0.6666666666666666, \"#ed7953\"], [0.7777777777777778, \"#fb9f3a\"], [0.8888888888888888, \"#fdca26\"], [1.0, \"#f0f921\"]], \"type\": \"histogram2d\"}], \"histogram2dcontour\": [{\"colorbar\": {\"outlinewidth\": 0, \"ticks\": \"\"}, \"colorscale\": [[0.0, \"#0d0887\"], [0.1111111111111111, \"#46039f\"], [0.2222222222222222, \"#7201a8\"], [0.3333333333333333, \"#9c179e\"], [0.4444444444444444, \"#bd3786\"], [0.5555555555555556, \"#d8576b\"], [0.6666666666666666, \"#ed7953\"], [0.7777777777777778, \"#fb9f3a\"], [0.8888888888888888, \"#fdca26\"], [1.0, \"#f0f921\"]], \"type\": \"histogram2dcontour\"}], \"mesh3d\": [{\"colorbar\": {\"outlinewidth\": 0, \"ticks\": \"\"}, \"type\": \"mesh3d\"}], \"parcoords\": [{\"line\": {\"colorbar\": {\"outlinewidth\": 0, \"ticks\": \"\"}}, \"type\": \"parcoords\"}], \"pie\": [{\"automargin\": true, \"type\": \"pie\"}], \"scatter\": [{\"marker\": {\"colorbar\": {\"outlinewidth\": 0, \"ticks\": \"\"}}, \"type\": \"scatter\"}], \"scatter3d\": [{\"line\": {\"colorbar\": {\"outlinewidth\": 0, \"ticks\": \"\"}}, \"marker\": {\"colorbar\": {\"outlinewidth\": 0, \"ticks\": \"\"}}, \"type\": \"scatter3d\"}], \"scattercarpet\": [{\"marker\": {\"colorbar\": {\"outlinewidth\": 0, \"ticks\": \"\"}}, \"type\": \"scattercarpet\"}], \"scattergeo\": [{\"marker\": {\"colorbar\": {\"outlinewidth\": 0, \"ticks\": \"\"}}, \"type\": \"scattergeo\"}], \"scattergl\": [{\"marker\": {\"colorbar\": {\"outlinewidth\": 0, \"ticks\": \"\"}}, \"type\": \"scattergl\"}], \"scattermapbox\": [{\"marker\": {\"colorbar\": {\"outlinewidth\": 0, \"ticks\": \"\"}}, \"type\": \"scattermapbox\"}], \"scatterpolar\": [{\"marker\": {\"colorbar\": {\"outlinewidth\": 0, \"ticks\": \"\"}}, \"type\": \"scatterpolar\"}], \"scatterpolargl\": [{\"marker\": {\"colorbar\": {\"outlinewidth\": 0, \"ticks\": \"\"}}, \"type\": \"scatterpolargl\"}], \"scatterternary\": [{\"marker\": {\"colorbar\": {\"outlinewidth\": 0, \"ticks\": \"\"}}, \"type\": \"scatterternary\"}], \"surface\": [{\"colorbar\": {\"outlinewidth\": 0, \"ticks\": \"\"}, \"colorscale\": [[0.0, \"#0d0887\"], [0.1111111111111111, \"#46039f\"], [0.2222222222222222, \"#7201a8\"], [0.3333333333333333, \"#9c179e\"], [0.4444444444444444, \"#bd3786\"], [0.5555555555555556, \"#d8576b\"], [0.6666666666666666, \"#ed7953\"], [0.7777777777777778, \"#fb9f3a\"], [0.8888888888888888, \"#fdca26\"], [1.0, \"#f0f921\"]], \"type\": \"surface\"}], \"table\": [{\"cells\": {\"fill\": {\"color\": \"#EBF0F8\"}, \"line\": {\"color\": \"white\"}}, \"header\": {\"fill\": {\"color\": \"#C8D4E3\"}, \"line\": {\"color\": \"white\"}}, \"type\": \"table\"}]}, \"layout\": {\"annotationdefaults\": {\"arrowcolor\": \"#2a3f5f\", \"arrowhead\": 0, \"arrowwidth\": 1}, \"coloraxis\": {\"colorbar\": {\"outlinewidth\": 0, \"ticks\": \"\"}}, \"colorscale\": {\"diverging\": [[0, \"#8e0152\"], [0.1, \"#c51b7d\"], [0.2, \"#de77ae\"], [0.3, \"#f1b6da\"], [0.4, \"#fde0ef\"], [0.5, \"#f7f7f7\"], [0.6, \"#e6f5d0\"], [0.7, \"#b8e186\"], [0.8, \"#7fbc41\"], [0.9, \"#4d9221\"], [1, \"#276419\"]], \"sequential\": [[0.0, \"#0d0887\"], [0.1111111111111111, \"#46039f\"], [0.2222222222222222, \"#7201a8\"], [0.3333333333333333, \"#9c179e\"], [0.4444444444444444, \"#bd3786\"], [0.5555555555555556, \"#d8576b\"], [0.6666666666666666, \"#ed7953\"], [0.7777777777777778, \"#fb9f3a\"], [0.8888888888888888, \"#fdca26\"], [1.0, \"#f0f921\"]], \"sequentialminus\": [[0.0, \"#0d0887\"], [0.1111111111111111, \"#46039f\"], [0.2222222222222222, \"#7201a8\"], [0.3333333333333333, \"#9c179e\"], [0.4444444444444444, \"#bd3786\"], [0.5555555555555556, \"#d8576b\"], [0.6666666666666666, \"#ed7953\"], [0.7777777777777778, \"#fb9f3a\"], [0.8888888888888888, \"#fdca26\"], [1.0, \"#f0f921\"]]}, \"colorway\": [\"#636efa\", \"#EF553B\", \"#00cc96\", \"#ab63fa\", \"#FFA15A\", \"#19d3f3\", \"#FF6692\", \"#B6E880\", \"#FF97FF\", \"#FECB52\"], \"font\": {\"color\": \"#2a3f5f\"}, \"geo\": {\"bgcolor\": \"white\", \"lakecolor\": \"white\", \"landcolor\": \"#E5ECF6\", \"showlakes\": true, \"showland\": true, \"subunitcolor\": \"white\"}, \"hoverlabel\": {\"align\": \"left\"}, \"hovermode\": \"closest\", \"mapbox\": {\"style\": \"light\"}, \"paper_bgcolor\": \"white\", \"plot_bgcolor\": \"#E5ECF6\", \"polar\": {\"angularaxis\": {\"gridcolor\": \"white\", \"linecolor\": \"white\", \"ticks\": \"\"}, \"bgcolor\": \"#E5ECF6\", \"radialaxis\": {\"gridcolor\": \"white\", \"linecolor\": \"white\", \"ticks\": \"\"}}, \"scene\": {\"xaxis\": {\"backgroundcolor\": \"#E5ECF6\", \"gridcolor\": \"white\", \"gridwidth\": 2, \"linecolor\": \"white\", \"showbackground\": true, \"ticks\": \"\", \"zerolinecolor\": \"white\"}, \"yaxis\": {\"backgroundcolor\": \"#E5ECF6\", \"gridcolor\": \"white\", \"gridwidth\": 2, \"linecolor\": \"white\", \"showbackground\": true, \"ticks\": \"\", \"zerolinecolor\": \"white\"}, \"zaxis\": {\"backgroundcolor\": \"#E5ECF6\", \"gridcolor\": \"white\", \"gridwidth\": 2, \"linecolor\": \"white\", \"showbackground\": true, \"ticks\": \"\", \"zerolinecolor\": \"white\"}}, \"shapedefaults\": {\"line\": {\"color\": \"#2a3f5f\"}}, \"ternary\": {\"aaxis\": {\"gridcolor\": \"white\", \"linecolor\": \"white\", \"ticks\": \"\"}, \"baxis\": {\"gridcolor\": \"white\", \"linecolor\": \"white\", \"ticks\": \"\"}, \"bgcolor\": \"#E5ECF6\", \"caxis\": {\"gridcolor\": \"white\", \"linecolor\": \"white\", \"ticks\": \"\"}}, \"title\": {\"x\": 0.05}, \"xaxis\": {\"automargin\": true, \"gridcolor\": \"white\", \"linecolor\": \"white\", \"ticks\": \"\", \"title\": {\"standoff\": 15}, \"zerolinecolor\": \"white\", \"zerolinewidth\": 2}, \"yaxis\": {\"automargin\": true, \"gridcolor\": \"white\", \"linecolor\": \"white\", \"ticks\": \"\", \"title\": {\"standoff\": 15}, \"zerolinecolor\": \"white\", \"zerolinewidth\": 2}}}, \"xaxis\": {\"zerolinecolor\": \"gray\"}, \"yaxis\": {\"zerolinecolor\": \"gray\"}},\n",
              "                        {\"responsive\": true}\n",
              "                    ).then(function(){\n",
              "                            \n",
              "var gd = document.getElementById('974a5bbf-1f35-4301-8062-9903c6d7edd7');\n",
              "var x = new MutationObserver(function (mutations, observer) {{\n",
              "        var display = window.getComputedStyle(gd).display;\n",
              "        if (!display || display === 'none') {{\n",
              "            console.log([gd, 'removed!']);\n",
              "            Plotly.purge(gd);\n",
              "            observer.disconnect();\n",
              "        }}\n",
              "}});\n",
              "\n",
              "// Listen for the removal of the full notebook cells\n",
              "var notebookContainer = gd.closest('#notebook-container');\n",
              "if (notebookContainer) {{\n",
              "    x.observe(notebookContainer, {childList: true});\n",
              "}}\n",
              "\n",
              "// Listen for the clearing of the current output cell\n",
              "var outputEl = gd.closest('.output');\n",
              "if (outputEl) {{\n",
              "    x.observe(outputEl, {childList: true});\n",
              "}}\n",
              "\n",
              "                        })\n",
              "                };\n",
              "                \n",
              "            </script>\n",
              "        </div>\n",
              "</body>\n",
              "</html>"
            ]
          },
          "metadata": {
            "tags": []
          }
        }
      ]
    },
    {
      "cell_type": "code",
      "metadata": {
        "id": "kN3g1_f8xtS7"
      },
      "source": [
        ""
      ],
      "execution_count": null,
      "outputs": []
    }
  ]
}