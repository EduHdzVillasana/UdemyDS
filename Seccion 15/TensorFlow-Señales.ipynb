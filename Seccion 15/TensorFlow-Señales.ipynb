{
  "nbformat": 4,
  "nbformat_minor": 0,
  "metadata": {
    "kernelspec": {
      "display_name": "Python 3",
      "language": "python",
      "name": "python3"
    },
    "language_info": {
      "codemirror_mode": {
        "name": "ipython",
        "version": 3
      },
      "file_extension": ".py",
      "mimetype": "text/x-python",
      "name": "python",
      "nbconvert_exporter": "python",
      "pygments_lexer": "ipython3",
      "version": "3.8.5"
    },
    "colab": {
      "name": "T11 - 1 - TensorFlow101-Colab.ipynb",
      "provenance": [],
      "include_colab_link": true
    }
  },
  "cells": [
    {
      "cell_type": "markdown",
      "metadata": {
        "id": "view-in-github",
        "colab_type": "text"
      },
      "source": [
        "<a href=\"https://colab.research.google.com/github/EduHdzVillasana/UdemyDS/blob/main/Seccion%2015/TensorFlow-Se%C3%B1ales.ipynb\" target=\"_parent\"><img src=\"https://colab.research.google.com/assets/colab-badge.svg\" alt=\"Open In Colab\"/></a>"
      ]
    },
    {
      "cell_type": "markdown",
      "metadata": {
        "id": "qYoWejq0LWOt"
      },
      "source": [
        "<a href=\"https://colab.research.google.com/github/joanby/python-ml-course/blob/master/notebooks/T11%20-%201%20-%20TensorFlow101-Colab.ipynb\" target=\"_parent\"><img src=\"https://colab.research.google.com/assets/colab-badge.svg\" alt=\"Open In Colab\"/></a>"
      ]
    },
    {
      "cell_type": "code",
      "metadata": {
        "id": "Sm1QIpDiTDeP",
        "outputId": "8afb130c-7f9a-41db-dbf3-c281cd19d445",
        "colab": {
          "base_uri": "https://localhost:8080/"
        }
      },
      "source": [
        "!git clone https://github.com/joanby/python-ml-course.git"
      ],
      "execution_count": 15,
      "outputs": [
        {
          "output_type": "stream",
          "text": [
            "Cloning into 'python-ml-course'...\n",
            "remote: Enumerating objects: 17706, done.\u001b[K\n",
            "remote: Total 17706 (delta 0), reused 0 (delta 0), pack-reused 17706\u001b[K\n",
            "Receiving objects: 100% (17706/17706), 519.26 MiB | 25.99 MiB/s, done.\n",
            "Resolving deltas: 100% (351/351), done.\n",
            "Checking out files: 100% (16940/16940), done.\n"
          ],
          "name": "stdout"
        }
      ]
    },
    {
      "cell_type": "code",
      "metadata": {
        "id": "SBlAgfrpTG5l",
        "outputId": "bfa607d6-66c9-452e-9df8-6800543027c6",
        "colab": {
          "base_uri": "https://localhost:8080/"
        }
      },
      "source": [
        "from google.colab import drive\n",
        "drive.mount('/content/drive')\n",
        "# Test it\n",
        "!ls '/content/drive/My Drive' "
      ],
      "execution_count": 16,
      "outputs": [
        {
          "output_type": "stream",
          "text": [
            "Mounted at /content/drive\n",
            " 20210506_135603.mp4\n",
            " Classroom\n",
            "'Colab Notebooks'\n",
            " Credencial_INE.pdf\n",
            " Credencial.pdf\n",
            "'Curso de Python'\n",
            "'Datos Abiertos'\n",
            " Evidencias\n",
            "'Excel Test.pptx'\n",
            "'Formato Experimento.docx'\n",
            "'Fundamento Teorico.gdoc'\n",
            "'Fundamento Teorico - Gráfico de barras 1.gsheet'\n",
            " GitHub\n",
            " HPSCAN_2020080918340218.jpeg\n",
            "'Lenguajes Modernos'\n",
            " LPOO\n",
            " Modelos\n",
            "'PIA FISICA.gdoc'\n",
            " PL_Tarea2_Extra.ipynb\n",
            " Practica11_Semana12.docx\n",
            "'Proyecto Bedu R'\n",
            "'Python Scripts'\n",
            " Referencias.gdoc\n",
            "'Reporte 2.docx'\n",
            " Reto2_movies.png\n",
            " Reto2_ratings.png\n",
            " Reto3_movies.png\n",
            "'Reto 3.png'\n",
            " Reto3_ratings.png\n",
            " SkyBox.rar\n",
            "'Take-home case v2 - Javier.xlsx'\n",
            " TutorialJV.rar\n"
          ],
          "name": "stdout"
        }
      ]
    },
    {
      "cell_type": "code",
      "metadata": {
        "id": "23Eqz6fYTI-Z"
      },
      "source": [
        "from google.colab import files # Para manejar los archivos y, por ejemplo, exportar a su navegador\n",
        "import glob # Para manejar los archivos y, por ejemplo, exportar a su navegador\n",
        "from google.colab import drive # Montar tu Google drive"
      ],
      "execution_count": 17,
      "outputs": []
    },
    {
      "cell_type": "code",
      "metadata": {
        "id": "Hl4OVwWDLWO0",
        "outputId": "fec21d11-5092-4d08-a2f6-cf9abc34f164",
        "colab": {
          "base_uri": "https://localhost:8080/"
        }
      },
      "source": [
        "%tensorflow_version 1.x"
      ],
      "execution_count": 1,
      "outputs": [
        {
          "output_type": "stream",
          "text": [
            "TensorFlow 1.x selected.\n"
          ],
          "name": "stdout"
        }
      ]
    },
    {
      "cell_type": "markdown",
      "metadata": {
        "id": "1YoH-SiNLWO0"
      },
      "source": [
        "# Introducción a Tensor Flow"
      ]
    },
    {
      "cell_type": "code",
      "metadata": {
        "id": "K3WFbp_GLWO1",
        "outputId": "f37f1148-c81b-4462-cfe8-344ef5831f4d",
        "colab": {
          "base_uri": "https://localhost:8080/"
        }
      },
      "source": [
        "import tensorflow as tf\n",
        "print(tf.__version__)"
      ],
      "execution_count": 3,
      "outputs": [
        {
          "output_type": "stream",
          "text": [
            "1.15.2\n"
          ],
          "name": "stdout"
        }
      ]
    },
    {
      "cell_type": "code",
      "metadata": {
        "id": "gqHKqk_lLWO2"
      },
      "source": [
        "x1 = tf.constant([1,2,3,4,5])\n",
        "x2 = tf.constant([6,7,8,9,10])"
      ],
      "execution_count": 4,
      "outputs": []
    },
    {
      "cell_type": "code",
      "metadata": {
        "id": "uJ2PloheLWO3",
        "outputId": "6b5d7f4d-541c-4f32-b902-b8c62b6489aa",
        "colab": {
          "base_uri": "https://localhost:8080/"
        }
      },
      "source": [
        "res = tf.multiply(x1,x2)\n",
        "print(res)"
      ],
      "execution_count": 5,
      "outputs": [
        {
          "output_type": "stream",
          "text": [
            "Tensor(\"Mul:0\", shape=(5,), dtype=int32)\n"
          ],
          "name": "stdout"
        }
      ]
    },
    {
      "cell_type": "code",
      "metadata": {
        "id": "d8FxIfr_LWO4",
        "outputId": "fec3db30-db8c-4f92-a3d9-097c05ca26a5",
        "colab": {
          "base_uri": "https://localhost:8080/"
        }
      },
      "source": [
        "sess = tf.Session()\n",
        "print(sess.run(res))\n",
        "sess.close()"
      ],
      "execution_count": 6,
      "outputs": [
        {
          "output_type": "stream",
          "text": [
            "[ 6 14 24 36 50]\n"
          ],
          "name": "stdout"
        }
      ]
    },
    {
      "cell_type": "code",
      "metadata": {
        "id": "K03wTZx6LWO4",
        "outputId": "33970f06-888e-47a0-8c5f-7ec270605709",
        "colab": {
          "base_uri": "https://localhost:8080/"
        }
      },
      "source": [
        "with tf.Session() as sess:\n",
        "    output = sess.run(res)\n",
        "    print(output)"
      ],
      "execution_count": 7,
      "outputs": [
        {
          "output_type": "stream",
          "text": [
            "[ 6 14 24 36 50]\n"
          ],
          "name": "stdout"
        }
      ]
    },
    {
      "cell_type": "code",
      "metadata": {
        "id": "DG_A8V22LWO5"
      },
      "source": [
        "config = tf.ConfigProto(log_device_placement = True)\n",
        "config = tf.ConfigProto(allow_soft_placement = True)"
      ],
      "execution_count": 8,
      "outputs": []
    },
    {
      "cell_type": "markdown",
      "metadata": {
        "id": "4KLwugPuLWO6"
      },
      "source": [
        "# Reconocimiento de las señales de tráfico\n"
      ]
    },
    {
      "cell_type": "code",
      "metadata": {
        "id": "Wrh0TW5GRyH8"
      },
      "source": [
        "import os\n",
        "import skimage.io as imd\n",
        "import numpy as np"
      ],
      "execution_count": 9,
      "outputs": []
    },
    {
      "cell_type": "code",
      "metadata": {
        "id": "lreopawWR1e2"
      },
      "source": [
        "def load_ml_data(data_directory):\n",
        "    dirs = [d for d in os.listdir(data_directory)\n",
        "            if os.path.isdir(os.path.join(data_directory,d))]\n",
        "    \n",
        "    labels = []\n",
        "    images = []\n",
        "    for d in dirs:\n",
        "        label_dir = os.path.join(data_directory, d)\n",
        "        file_names = [os.path.join(label_dir, f)\n",
        "                     for f in os.listdir(label_dir)\n",
        "                     if f.endswith(\".ppm\")]\n",
        "        \n",
        "        for f in file_names:\n",
        "            images.append(imd.imread(f))\n",
        "            labels.append(int(d))\n",
        "        \n",
        "    return images, labels"
      ],
      "execution_count": 10,
      "outputs": []
    },
    {
      "cell_type": "code",
      "metadata": {
        "id": "28-3Y5DbR4jZ"
      },
      "source": [
        "main_dir = \"/content/python-ml-course/datasets/belgian/\"\n",
        "train_data_dir = os.path.join(main_dir, \"Training\")\n",
        "test_data_dir = os.path.join(main_dir, \"Testing\")"
      ],
      "execution_count": 18,
      "outputs": []
    },
    {
      "cell_type": "code",
      "metadata": {
        "id": "WUhMH3IMSyNi"
      },
      "source": [
        "images, labels = load_ml_data(train_data_dir)"
      ],
      "execution_count": 19,
      "outputs": []
    },
    {
      "cell_type": "code",
      "metadata": {
        "id": "D3NtGB6yTjF4",
        "outputId": "565365bf-6489-4ca7-b9eb-0883a6affc29",
        "colab": {
          "base_uri": "https://localhost:8080/"
        }
      },
      "source": [
        "images = np.array(images)\n",
        "labels = np.array(labels)"
      ],
      "execution_count": 21,
      "outputs": [
        {
          "output_type": "stream",
          "text": [
            "/usr/local/lib/python3.7/dist-packages/ipykernel_launcher.py:1: VisibleDeprecationWarning: Creating an ndarray from ragged nested sequences (which is a list-or-tuple of lists-or-tuples-or ndarrays with different lengths or shapes) is deprecated. If you meant to do this, you must specify 'dtype=object' when creating the ndarray\n",
            "  \"\"\"Entry point for launching an IPython kernel.\n"
          ],
          "name": "stderr"
        }
      ]
    },
    {
      "cell_type": "code",
      "metadata": {
        "id": "Mfz9BckZTlUY",
        "outputId": "db046e0f-7ca4-4938-81bc-4583b13cf70b",
        "colab": {
          "base_uri": "https://localhost:8080/"
        }
      },
      "source": [
        "images.ndim"
      ],
      "execution_count": 22,
      "outputs": [
        {
          "output_type": "execute_result",
          "data": {
            "text/plain": [
              "1"
            ]
          },
          "metadata": {
            "tags": []
          },
          "execution_count": 22
        }
      ]
    },
    {
      "cell_type": "code",
      "metadata": {
        "id": "inXKPRsHTosw",
        "outputId": "ec8f556f-1ca1-4ab0-ee61-5ac94390304e",
        "colab": {
          "base_uri": "https://localhost:8080/"
        }
      },
      "source": [
        "images.size"
      ],
      "execution_count": 23,
      "outputs": [
        {
          "output_type": "execute_result",
          "data": {
            "text/plain": [
              "4575"
            ]
          },
          "metadata": {
            "tags": []
          },
          "execution_count": 23
        }
      ]
    },
    {
      "cell_type": "code",
      "metadata": {
        "id": "dPGPEPL3Tqng",
        "outputId": "6cad4baf-8260-4ade-fecb-7f19cb3fea14",
        "colab": {
          "base_uri": "https://localhost:8080/"
        }
      },
      "source": [
        "images[0]"
      ],
      "execution_count": 24,
      "outputs": [
        {
          "output_type": "execute_result",
          "data": {
            "text/plain": [
              "array([[[39, 42, 35],\n",
              "        [39, 42, 34],\n",
              "        [39, 40, 32],\n",
              "        ...,\n",
              "        [17, 15, 14],\n",
              "        [16, 14, 13],\n",
              "        [15, 14, 13]],\n",
              "\n",
              "       [[40, 42, 36],\n",
              "        [39, 41, 34],\n",
              "        [37, 38, 31],\n",
              "        ...,\n",
              "        [17, 15, 14],\n",
              "        [16, 15, 14],\n",
              "        [16, 15, 14]],\n",
              "\n",
              "       [[37, 40, 34],\n",
              "        [37, 39, 33],\n",
              "        [36, 37, 31],\n",
              "        ...,\n",
              "        [17, 15, 15],\n",
              "        [17, 15, 14],\n",
              "        [17, 15, 14]],\n",
              "\n",
              "       ...,\n",
              "\n",
              "       [[30, 30, 23],\n",
              "        [29, 29, 22],\n",
              "        [29, 29, 21],\n",
              "        ...,\n",
              "        [21, 21, 15],\n",
              "        [22, 23, 17],\n",
              "        [25, 26, 18]],\n",
              "\n",
              "       [[32, 32, 25],\n",
              "        [32, 33, 25],\n",
              "        [32, 33, 25],\n",
              "        ...,\n",
              "        [18, 19, 13],\n",
              "        [20, 21, 14],\n",
              "        [22, 23, 16]],\n",
              "\n",
              "       [[31, 31, 24],\n",
              "        [31, 31, 24],\n",
              "        [31, 32, 24],\n",
              "        ...,\n",
              "        [18, 19, 13],\n",
              "        [20, 21, 15],\n",
              "        [23, 24, 18]]], dtype=uint8)"
            ]
          },
          "metadata": {
            "tags": []
          },
          "execution_count": 24
        }
      ]
    },
    {
      "cell_type": "code",
      "metadata": {
        "id": "dfV9yB4qTuo0",
        "outputId": "9e82054b-59c8-46ee-e5e0-84c9df0f112d",
        "colab": {
          "base_uri": "https://localhost:8080/"
        }
      },
      "source": [
        "labels.ndim"
      ],
      "execution_count": 25,
      "outputs": [
        {
          "output_type": "execute_result",
          "data": {
            "text/plain": [
              "1"
            ]
          },
          "metadata": {
            "tags": []
          },
          "execution_count": 25
        }
      ]
    },
    {
      "cell_type": "code",
      "metadata": {
        "id": "D8dHU3dWUZh1",
        "outputId": "346689df-f301-4862-bc93-fd22250e102d",
        "colab": {
          "base_uri": "https://localhost:8080/"
        }
      },
      "source": [
        "labels.size"
      ],
      "execution_count": 26,
      "outputs": [
        {
          "output_type": "execute_result",
          "data": {
            "text/plain": [
              "4575"
            ]
          },
          "metadata": {
            "tags": []
          },
          "execution_count": 26
        }
      ]
    },
    {
      "cell_type": "code",
      "metadata": {
        "id": "swPYT16MUamu",
        "outputId": "72992f04-6572-4b43-84d0-ff52c5f0eeb0",
        "colab": {
          "base_uri": "https://localhost:8080/"
        }
      },
      "source": [
        "len(set(labels))"
      ],
      "execution_count": 27,
      "outputs": [
        {
          "output_type": "execute_result",
          "data": {
            "text/plain": [
              "62"
            ]
          },
          "metadata": {
            "tags": []
          },
          "execution_count": 27
        }
      ]
    },
    {
      "cell_type": "code",
      "metadata": {
        "id": "tlg_EYEuUbuQ",
        "outputId": "bccab012-3974-4cdc-9df6-c320899b0812",
        "colab": {
          "base_uri": "https://localhost:8080/"
        }
      },
      "source": [
        "images.flags"
      ],
      "execution_count": 28,
      "outputs": [
        {
          "output_type": "execute_result",
          "data": {
            "text/plain": [
              "  C_CONTIGUOUS : True\n",
              "  F_CONTIGUOUS : True\n",
              "  OWNDATA : True\n",
              "  WRITEABLE : True\n",
              "  ALIGNED : True\n",
              "  WRITEBACKIFCOPY : False\n",
              "  UPDATEIFCOPY : False"
            ]
          },
          "metadata": {
            "tags": []
          },
          "execution_count": 28
        }
      ]
    },
    {
      "cell_type": "code",
      "metadata": {
        "id": "MaD7ldjrUdcU",
        "outputId": "93efe0f4-8dfa-4f8d-b570-3a3db31f7765",
        "colab": {
          "base_uri": "https://localhost:8080/"
        }
      },
      "source": [
        "images.itemsize"
      ],
      "execution_count": 29,
      "outputs": [
        {
          "output_type": "execute_result",
          "data": {
            "text/plain": [
              "8"
            ]
          },
          "metadata": {
            "tags": []
          },
          "execution_count": 29
        }
      ]
    },
    {
      "cell_type": "code",
      "metadata": {
        "id": "XXqjYnCoUfQD",
        "outputId": "18ffd905-3a34-4b71-a7b9-62565d04b0c7",
        "colab": {
          "base_uri": "https://localhost:8080/"
        }
      },
      "source": [
        "images.nbytes"
      ],
      "execution_count": 30,
      "outputs": [
        {
          "output_type": "execute_result",
          "data": {
            "text/plain": [
              "36600"
            ]
          },
          "metadata": {
            "tags": []
          },
          "execution_count": 30
        }
      ]
    },
    {
      "cell_type": "code",
      "metadata": {
        "id": "o39As71NUgS6",
        "outputId": "16f6d3a1-7872-461c-e9ca-fa2fcc2e6fdc",
        "colab": {
          "base_uri": "https://localhost:8080/"
        }
      },
      "source": [
        "images.nbytes/images.itemsize"
      ],
      "execution_count": 31,
      "outputs": [
        {
          "output_type": "execute_result",
          "data": {
            "text/plain": [
              "4575.0"
            ]
          },
          "metadata": {
            "tags": []
          },
          "execution_count": 31
        }
      ]
    },
    {
      "cell_type": "code",
      "metadata": {
        "id": "tR3pmjeZUhaj"
      },
      "source": [
        "import matplotlib.pyplot as plt"
      ],
      "execution_count": 32,
      "outputs": []
    },
    {
      "cell_type": "code",
      "metadata": {
        "id": "tkXbpaP_Uib2",
        "outputId": "3559d4d8-f1d7-422a-d8fc-4ceebf34220b",
        "colab": {
          "base_uri": "https://localhost:8080/",
          "height": 265
        }
      },
      "source": [
        "plt.hist(labels, len(set(labels)))\n",
        "plt.show()"
      ],
      "execution_count": 33,
      "outputs": [
        {
          "output_type": "display_data",
          "data": {
            "image/png": "[encoded data removed]",
            "text/plain": [
              "<Figure size 432x288 with 1 Axes>"
            ]
          },
          "metadata": {
            "tags": [],
            "needs_background": "light"
          }
        }
      ]
    },
    {
      "cell_type": "code",
      "metadata": {
        "id": "daRcpIxBUjmu"
      },
      "source": [
        ""
      ],
      "execution_count": null,
      "outputs": []
    }
  ]
}