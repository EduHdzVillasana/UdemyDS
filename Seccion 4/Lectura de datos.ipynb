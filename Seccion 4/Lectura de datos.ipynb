{
 "cells": [
  {
   "cell_type": "markdown",
   "metadata": {},
   "source": [
    "# Carga de datos a través de la función open"
   ]
  },
  {
   "cell_type": "code",
   "execution_count": 1,
   "metadata": {},
   "outputs": [],
   "source": [
    "import pandas as ps\n",
    "import os"
   ]
  },
  {
   "cell_type": "code",
   "execution_count": 2,
   "metadata": {},
   "outputs": [],
   "source": [
    "filename = \"200614COVID19MEXICO.csv\"\n",
    "mainpath = \"E:/Curso de Python/COVID-19\""
   ]
  },
  {
   "cell_type": "code",
   "execution_count": 3,
   "metadata": {},
   "outputs": [],
   "source": [
    "dataFrame3 = open(os.path.join(mainpath, filename),\"r\") "
   ]
  },
  {
   "cell_type": "code",
   "execution_count": 23,
   "metadata": {},
   "outputs": [
    {
     "output_type": "execute_result",
     "data": {
      "text/plain": "['\"FECHA_ACTUALIZACION\"',\n '\"ID_REGISTRO\"',\n '\"ORIGEN\"',\n '\"SECTOR\"',\n '\"ENTIDAD_UM\"',\n '\"SEXO\"',\n '\"ENTIDAD_NAC\"',\n '\"ENTIDAD_RES\"',\n '\"MUNICIPIO_RES\"',\n '\"TIPO_PACIENTE\"',\n '\"FECHA_INGRESO\"',\n '\"FECHA_SINTOMAS\"',\n '\"FECHA_DEF\"',\n '\"INTUBADO\"',\n '\"NEUMONIA\"',\n '\"EDAD\"',\n '\"NACIONALIDAD\"',\n '\"EMBARAZO\"',\n '\"HABLA_LENGUA_INDIG\"',\n '\"DIABETES\"',\n '\"EPOC\"',\n '\"ASMA\"',\n '\"INMUSUPR\"',\n '\"HIPERTENSION\"',\n '\"OTRA_COM\"',\n '\"CARDIOVASCULAR\"',\n '\"OBESIDAD\"',\n '\"RENAL_CRONICA\"',\n '\"TABAQUISMO\"',\n '\"OTRO_CASO\"',\n '\"RESULTADO\"',\n '\"MIGRANTE\"',\n '\"PAIS_NACIONALIDAD\"',\n '\"PAIS_ORIGEN\"',\n '\"UCI\"']"
     },
     "metadata": {},
     "execution_count": 23
    }
   ],
   "source": [
    "cols = dataFrame3.readline().strip().split(\",\")\n",
    "cols"
   ]
  },
  {
   "cell_type": "code",
   "execution_count": 24,
   "metadata": {},
   "outputs": [],
   "source": [
    "counter = 0\n",
    "main_dict = {}\n",
    "for col in cols :\n",
    "    main_dict[col] = []"
   ]
  },
  {
   "cell_type": "code",
   "execution_count": 25,
   "metadata": {},
   "outputs": [
    {
     "output_type": "execute_result",
     "data": {
      "text/plain": "{'\"FECHA_ACTUALIZACION\"': [],\n '\"ID_REGISTRO\"': [],\n '\"ORIGEN\"': [],\n '\"SECTOR\"': [],\n '\"ENTIDAD_UM\"': [],\n '\"SEXO\"': [],\n '\"ENTIDAD_NAC\"': [],\n '\"ENTIDAD_RES\"': [],\n '\"MUNICIPIO_RES\"': [],\n '\"TIPO_PACIENTE\"': [],\n '\"FECHA_INGRESO\"': [],\n '\"FECHA_SINTOMAS\"': [],\n '\"FECHA_DEF\"': [],\n '\"INTUBADO\"': [],\n '\"NEUMONIA\"': [],\n '\"EDAD\"': [],\n '\"NACIONALIDAD\"': [],\n '\"EMBARAZO\"': [],\n '\"HABLA_LENGUA_INDIG\"': [],\n '\"DIABETES\"': [],\n '\"EPOC\"': [],\n '\"ASMA\"': [],\n '\"INMUSUPR\"': [],\n '\"HIPERTENSION\"': [],\n '\"OTRA_COM\"': [],\n '\"CARDIOVASCULAR\"': [],\n '\"OBESIDAD\"': [],\n '\"RENAL_CRONICA\"': [],\n '\"TABAQUISMO\"': [],\n '\"OTRO_CASO\"': [],\n '\"RESULTADO\"': [],\n '\"MIGRANTE\"': [],\n '\"PAIS_NACIONALIDAD\"': [],\n '\"PAIS_ORIGEN\"': [],\n '\"UCI\"': []}"
     },
     "metadata": {},
     "execution_count": 25
    }
   ],
   "source": [
    "main_dict"
   ]
  },
  {
   "cell_type": "code",
   "execution_count": 26,
   "metadata": {},
   "outputs": [
    {
     "output_type": "stream",
     "name": "stdout",
     "text": "El dataset tiene 406549 filas y 35 columnas\n"
    }
   ],
   "source": [
    "counter = 0\n",
    "for line in dataFrame3:\n",
    "    values = line.strip().split(\",\")\n",
    "    for i in range(len (values)):\n",
    "        main_dict[cols[i]].append(values[i])\n",
    "    counter += 1\n",
    "print (\"El dataset tiene %d filas y %d columnas\" %(counter, len(cols)))"
   ]
  },
  {
   "cell_type": "code",
   "execution_count": 27,
   "metadata": {},
   "outputs": [
    {
     "output_type": "execute_result",
     "data": {
      "text/plain": "  \"FECHA_ACTUALIZACION\" \"ID_REGISTRO\" \"ORIGEN\" \"SECTOR\" \"ENTIDAD_UM\" \"SEXO\"  \\\n0          \"2020-06-14\"      \"1bb015\"        2        3         \"25\"      2   \n1          \"2020-06-14\"      \"1162e9\"        2        4         \"09\"      2   \n2          \"2020-06-14\"      \"04141d\"        2        4         \"02\"      2   \n3          \"2020-06-14\"      \"1b3224\"        2        4         \"15\"      2   \n4          \"2020-06-14\"      \"1b8765\"        2        4         \"30\"      2   \n\n  \"ENTIDAD_NAC\" \"ENTIDAD_RES\" \"MUNICIPIO_RES\" \"TIPO_PACIENTE\"  ...  \\\n0          \"18\"          \"25\"           \"006\"               1  ...   \n1          \"20\"          \"09\"           \"002\"               1  ...   \n2          \"08\"          \"02\"           \"004\"               2  ...   \n3          \"15\"          \"15\"           \"060\"               1  ...   \n4          \"30\"          \"30\"           \"102\"               1  ...   \n\n  \"CARDIOVASCULAR\" \"OBESIDAD\" \"RENAL_CRONICA\" \"TABAQUISMO\" \"OTRO_CASO\"  \\\n0                2          2               2            2           1   \n1                2          2               2            2          99   \n2                2          2               2            2          99   \n3                2          2               1            2          99   \n4                2          2               2            1          99   \n\n  \"RESULTADO\" \"MIGRANTE\" \"PAIS_NACIONALIDAD\" \"PAIS_ORIGEN\" \"UCI\"  \n0           1         99           \"MÃ©xico\"          \"99\"    97  \n1           1         99           \"MÃ©xico\"          \"99\"    97  \n2           1         99           \"MÃ©xico\"          \"99\"     2  \n3           1         99           \"MÃ©xico\"          \"99\"    97  \n4           1         99           \"MÃ©xico\"          \"99\"    97  \n\n[5 rows x 35 columns]",
      "text/html": "<div>\n<style scoped>\n    .dataframe tbody tr th:only-of-type {\n        vertical-align: middle;\n    }\n\n    .dataframe tbody tr th {\n        vertical-align: top;\n    }\n\n    .dataframe thead th {\n        text-align: right;\n    }\n</style>\n<table border=\"1\" class=\"dataframe\">\n  <thead>\n    <tr style=\"text-align: right;\">\n      <th></th>\n      <th>\"FECHA_ACTUALIZACION\"</th>\n      <th>\"ID_REGISTRO\"</th>\n      <th>\"ORIGEN\"</th>\n      <th>\"SECTOR\"</th>\n      <th>\"ENTIDAD_UM\"</th>\n      <th>\"SEXO\"</th>\n      <th>\"ENTIDAD_NAC\"</th>\n      <th>\"ENTIDAD_RES\"</th>\n      <th>\"MUNICIPIO_RES\"</th>\n      <th>\"TIPO_PACIENTE\"</th>\n      <th>...</th>\n      <th>\"CARDIOVASCULAR\"</th>\n      <th>\"OBESIDAD\"</th>\n      <th>\"RENAL_CRONICA\"</th>\n      <th>\"TABAQUISMO\"</th>\n      <th>\"OTRO_CASO\"</th>\n      <th>\"RESULTADO\"</th>\n      <th>\"MIGRANTE\"</th>\n      <th>\"PAIS_NACIONALIDAD\"</th>\n      <th>\"PAIS_ORIGEN\"</th>\n      <th>\"UCI\"</th>\n    </tr>\n  </thead>\n  <tbody>\n    <tr>\n      <th>0</th>\n      <td>\"2020-06-14\"</td>\n      <td>\"1bb015\"</td>\n      <td>2</td>\n      <td>3</td>\n      <td>\"25\"</td>\n      <td>2</td>\n      <td>\"18\"</td>\n      <td>\"25\"</td>\n      <td>\"006\"</td>\n      <td>1</td>\n      <td>...</td>\n      <td>2</td>\n      <td>2</td>\n      <td>2</td>\n      <td>2</td>\n      <td>1</td>\n      <td>1</td>\n      <td>99</td>\n      <td>\"MÃ©xico\"</td>\n      <td>\"99\"</td>\n      <td>97</td>\n    </tr>\n    <tr>\n      <th>1</th>\n      <td>\"2020-06-14\"</td>\n      <td>\"1162e9\"</td>\n      <td>2</td>\n      <td>4</td>\n      <td>\"09\"</td>\n      <td>2</td>\n      <td>\"20\"</td>\n      <td>\"09\"</td>\n      <td>\"002\"</td>\n      <td>1</td>\n      <td>...</td>\n      <td>2</td>\n      <td>2</td>\n      <td>2</td>\n      <td>2</td>\n      <td>99</td>\n      <td>1</td>\n      <td>99</td>\n      <td>\"MÃ©xico\"</td>\n      <td>\"99\"</td>\n      <td>97</td>\n    </tr>\n    <tr>\n      <th>2</th>\n      <td>\"2020-06-14\"</td>\n      <td>\"04141d\"</td>\n      <td>2</td>\n      <td>4</td>\n      <td>\"02\"</td>\n      <td>2</td>\n      <td>\"08\"</td>\n      <td>\"02\"</td>\n      <td>\"004\"</td>\n      <td>2</td>\n      <td>...</td>\n      <td>2</td>\n      <td>2</td>\n      <td>2</td>\n      <td>2</td>\n      <td>99</td>\n      <td>1</td>\n      <td>99</td>\n      <td>\"MÃ©xico\"</td>\n      <td>\"99\"</td>\n      <td>2</td>\n    </tr>\n    <tr>\n      <th>3</th>\n      <td>\"2020-06-14\"</td>\n      <td>\"1b3224\"</td>\n      <td>2</td>\n      <td>4</td>\n      <td>\"15\"</td>\n      <td>2</td>\n      <td>\"15\"</td>\n      <td>\"15\"</td>\n      <td>\"060\"</td>\n      <td>1</td>\n      <td>...</td>\n      <td>2</td>\n      <td>2</td>\n      <td>1</td>\n      <td>2</td>\n      <td>99</td>\n      <td>1</td>\n      <td>99</td>\n      <td>\"MÃ©xico\"</td>\n      <td>\"99\"</td>\n      <td>97</td>\n    </tr>\n    <tr>\n      <th>4</th>\n      <td>\"2020-06-14\"</td>\n      <td>\"1b8765\"</td>\n      <td>2</td>\n      <td>4</td>\n      <td>\"30\"</td>\n      <td>2</td>\n      <td>\"30\"</td>\n      <td>\"30\"</td>\n      <td>\"102\"</td>\n      <td>1</td>\n      <td>...</td>\n      <td>2</td>\n      <td>2</td>\n      <td>2</td>\n      <td>1</td>\n      <td>99</td>\n      <td>1</td>\n      <td>99</td>\n      <td>\"MÃ©xico\"</td>\n      <td>\"99\"</td>\n      <td>97</td>\n    </tr>\n  </tbody>\n</table>\n<p>5 rows × 35 columns</p>\n</div>"
     },
     "metadata": {},
     "execution_count": 27
    }
   ],
   "source": [
    "df3 = ps.DataFrame(main_dict)\n",
    "df3.head()"
   ]
  },
  {
   "cell_type": "markdown",
   "metadata": {},
   "source": [
    "# Leer y escribir un fichero\n"
   ]
  },
  {
   "cell_type": "code",
   "execution_count": 15,
   "metadata": {
    "tags": [
     "outputPrepend",
     "outputPrepend"
    ]
   },
   "outputs": [],
   "source": [
    "infile = os.path.join(mainpath, filename)\n",
    "outfile = mainpath + \"/\" + \"customer-churn-model/Tab Customer Churn Model.txt\"\n",
    "with open (infile , \"r\") as infile1:\n",
    "    with open (outfile, \"w\") as outfile1:\n",
    "        for line in infile1:\n",
    "            fields = line.strip().split(\",\")\n",
    "            outfile1.write(\"\\t\".join(fields))\n",
    "            outfile1.write (\"\\n\")\n",
    "           "
   ]
  },
  {
   "cell_type": "markdown",
   "metadata": {},
   "source": [
    "# Leer datos desde una URL"
   ]
  },
  {
   "cell_type": "code",
   "execution_count": 4,
   "metadata": {},
   "outputs": [],
   "source": [
    "medals_url = \"http://winterolympicsmedals.com/medals.csv\""
   ]
  },
  {
   "cell_type": "code",
   "execution_count": 5,
   "metadata": {},
   "outputs": [
    {
     "output_type": "execute_result",
     "data": {
      "text/plain": "   Year      City       Sport      Discipline  NOC       Event Event gender  \\\n0  1924  Chamonix     Skating  Figure skating  AUT  individual            M   \n1  1924  Chamonix     Skating  Figure skating  AUT  individual            W   \n2  1924  Chamonix     Skating  Figure skating  AUT       pairs            X   \n3  1924  Chamonix   Bobsleigh       Bobsleigh  BEL    four-man            M   \n4  1924  Chamonix  Ice Hockey      Ice Hockey  CAN  ice hockey            M   \n\n    Medal  \n0  Silver  \n1    Gold  \n2    Gold  \n3  Bronze  \n4    Gold  ",
      "text/html": "<div>\n<style scoped>\n    .dataframe tbody tr th:only-of-type {\n        vertical-align: middle;\n    }\n\n    .dataframe tbody tr th {\n        vertical-align: top;\n    }\n\n    .dataframe thead th {\n        text-align: right;\n    }\n</style>\n<table border=\"1\" class=\"dataframe\">\n  <thead>\n    <tr style=\"text-align: right;\">\n      <th></th>\n      <th>Year</th>\n      <th>City</th>\n      <th>Sport</th>\n      <th>Discipline</th>\n      <th>NOC</th>\n      <th>Event</th>\n      <th>Event gender</th>\n      <th>Medal</th>\n    </tr>\n  </thead>\n  <tbody>\n    <tr>\n      <th>0</th>\n      <td>1924</td>\n      <td>Chamonix</td>\n      <td>Skating</td>\n      <td>Figure skating</td>\n      <td>AUT</td>\n      <td>individual</td>\n      <td>M</td>\n      <td>Silver</td>\n    </tr>\n    <tr>\n      <th>1</th>\n      <td>1924</td>\n      <td>Chamonix</td>\n      <td>Skating</td>\n      <td>Figure skating</td>\n      <td>AUT</td>\n      <td>individual</td>\n      <td>W</td>\n      <td>Gold</td>\n    </tr>\n    <tr>\n      <th>2</th>\n      <td>1924</td>\n      <td>Chamonix</td>\n      <td>Skating</td>\n      <td>Figure skating</td>\n      <td>AUT</td>\n      <td>pairs</td>\n      <td>X</td>\n      <td>Gold</td>\n    </tr>\n    <tr>\n      <th>3</th>\n      <td>1924</td>\n      <td>Chamonix</td>\n      <td>Bobsleigh</td>\n      <td>Bobsleigh</td>\n      <td>BEL</td>\n      <td>four-man</td>\n      <td>M</td>\n      <td>Bronze</td>\n    </tr>\n    <tr>\n      <th>4</th>\n      <td>1924</td>\n      <td>Chamonix</td>\n      <td>Ice Hockey</td>\n      <td>Ice Hockey</td>\n      <td>CAN</td>\n      <td>ice hockey</td>\n      <td>M</td>\n      <td>Gold</td>\n    </tr>\n  </tbody>\n</table>\n</div>"
     },
     "metadata": {},
     "execution_count": 5
    }
   ],
   "source": [
    "medals_data = ps.read_csv(medals_url)\n",
    "medals_data.head()"
   ]
  },
  {
   "cell_type": "code",
   "execution_count": 13,
   "metadata": {},
   "outputs": [],
   "source": [
    "import urllib3 as url3\n",
    "http = url3.PoolManager()\n",
    "r = http.request('GET', medals_url)\n",
    "response = r.data \n",
    "# Aqui estas solo guardando en un string la informacion, la puedes guardar en un data frame usando el metodo de los dos for anidados"
   ]
  },
  {
   "cell_type": "code",
   "execution_count": 28,
   "metadata": {},
   "outputs": [
    {
     "output_type": "stream",
     "name": "stdout",
     "text": "El data set tiene 2312 filas y 8 columnas\n"
    },
    {
     "output_type": "execute_result",
     "data": {
      "text/plain": "   Year      City       Sport      Discipline  NOC       Event Event gender  \\\n0  1924  Chamonix     Skating  Figure skating  AUT  individual            M   \n1  1924  Chamonix     Skating  Figure skating  AUT  individual            W   \n2  1924  Chamonix     Skating  Figure skating  AUT       pairs            X   \n3  1924  Chamonix   Bobsleigh       Bobsleigh  BEL    four-man            M   \n4  1924  Chamonix  Ice Hockey      Ice Hockey  CAN  ice hockey            M   \n\n    Medal  \n0  Silver  \n1    Gold  \n2    Gold  \n3  Bronze  \n4    Gold  ",
      "text/html": "<div>\n<style scoped>\n    .dataframe tbody tr th:only-of-type {\n        vertical-align: middle;\n    }\n\n    .dataframe tbody tr th {\n        vertical-align: top;\n    }\n\n    .dataframe thead th {\n        text-align: right;\n    }\n</style>\n<table border=\"1\" class=\"dataframe\">\n  <thead>\n    <tr style=\"text-align: right;\">\n      <th></th>\n      <th>Year</th>\n      <th>City</th>\n      <th>Sport</th>\n      <th>Discipline</th>\n      <th>NOC</th>\n      <th>Event</th>\n      <th>Event gender</th>\n      <th>Medal</th>\n    </tr>\n  </thead>\n  <tbody>\n    <tr>\n      <th>0</th>\n      <td>1924</td>\n      <td>Chamonix</td>\n      <td>Skating</td>\n      <td>Figure skating</td>\n      <td>AUT</td>\n      <td>individual</td>\n      <td>M</td>\n      <td>Silver</td>\n    </tr>\n    <tr>\n      <th>1</th>\n      <td>1924</td>\n      <td>Chamonix</td>\n      <td>Skating</td>\n      <td>Figure skating</td>\n      <td>AUT</td>\n      <td>individual</td>\n      <td>W</td>\n      <td>Gold</td>\n    </tr>\n    <tr>\n      <th>2</th>\n      <td>1924</td>\n      <td>Chamonix</td>\n      <td>Skating</td>\n      <td>Figure skating</td>\n      <td>AUT</td>\n      <td>pairs</td>\n      <td>X</td>\n      <td>Gold</td>\n    </tr>\n    <tr>\n      <th>3</th>\n      <td>1924</td>\n      <td>Chamonix</td>\n      <td>Bobsleigh</td>\n      <td>Bobsleigh</td>\n      <td>BEL</td>\n      <td>four-man</td>\n      <td>M</td>\n      <td>Bronze</td>\n    </tr>\n    <tr>\n      <th>4</th>\n      <td>1924</td>\n      <td>Chamonix</td>\n      <td>Ice Hockey</td>\n      <td>Ice Hockey</td>\n      <td>CAN</td>\n      <td>ice hockey</td>\n      <td>M</td>\n      <td>Gold</td>\n    </tr>\n  </tbody>\n</table>\n</div>"
     },
     "metadata": {},
     "execution_count": 28
    }
   ],
   "source": [
    "# El objeto obtenido de r.data es un string binario, se tiene que convertir a string \"normal\" decodificando en utf-8\n",
    "str_data = response.decode(\"utf-8\")\n",
    "\n",
    "#Dividimos el string decodificado en un array de filas, dividiendolo por los \\n\n",
    "lines = str_data.split(\"\\n\")\n",
    "\n",
    "#Ahora sacamos el nombre de las columnas\n",
    "col_names = lines[0].split(\",\")\n",
    "numero_cols = len(col_names)\n",
    "\n",
    "#Ahora seguimos el procedimiento que ya se habia hecho con los dos for\n",
    "# Aqui creamos un diccionario y le ponemos el nombre de las columnas e indicamos que guardaran un array\n",
    "counter_url = 0\n",
    "main_dict_url = {}\n",
    "for col in col_names:\n",
    "    main_dict_url[col] = []\n",
    "\n",
    "# Leemos linea por linea, separando los valores por comas y añadiendolas a un array\n",
    "for line in lines:\n",
    "    if (counter_url > 0): #Se saltan los encabezados de las columnas\n",
    "        values = line.strip().split(\",\")\n",
    "        for i in range(numero_cols):\n",
    "            main_dict_url[col_names[i]].append(values[i]) # append es insertar al final de una lista\n",
    "    counter_url +=1\n",
    "\n",
    "print(\"El data set tiene %d filas y %d columnas\" %(counter_url, numero_cols))\n",
    "df_url = ps.DataFrame(main_dict_url)\n",
    "df_url.head()"
   ]
  },
  {
   "cell_type": "code",
   "execution_count": 35,
   "metadata": {},
   "outputs": [],
   "source": [
    "#Guardar los ficheros\n",
    "mainpath = \"C:/Users/alana/Documents/Curso de Python/Seccion 4/Datasets de url\"\n",
    "filename = \"Medallas\"\n",
    "fullpath = os.path.join(mainpath, filename)\n",
    "df_url.to_csv(fullpath + \".csv\")\n",
    "df_url.to_json(fullpath + \".json\")\n",
    "df_url.to_excel(fullpath+\".xls\")"
   ]
  },
  {
   "cell_type": "markdown",
   "metadata": {},
   "source": [
    "# Funcion para descargar un csv de internet\n"
   ]
  },
  {
   "cell_type": "code",
   "execution_count": 17,
   "metadata": {},
   "outputs": [],
   "source": [
    "def downloadFromURL (url, filename, sep = \",\", delim = \"\\n\",\n",
    "                    mainpath = \"E:/Curso de Python/Seccion 4/Datasets de url\"):\n",
    "    import urllib3 as url3\n",
    "    http = url3.PoolManager()\n",
    "    r = http.request('GET', url)\n",
    "    response = r.data\n",
    "\n",
    "    str_data = response.decode(\"utf-8\")\n",
    "    lines = str_data.split(delim)\n",
    "    col_names = lines[0].split(sep)\n",
    "    n_cols = len(col_names)\n",
    "\n",
    "    counter_url = 0\n",
    "    main_dict_url = {}\n",
    "    for col in col_names:\n",
    "        main_dict_url[col] = []\n",
    "    \n",
    "    for line in lines:\n",
    "        if (counter_url > 0):\n",
    "            values = line.strip().split(sep)\n",
    "            for i in range(n_cols):\n",
    "                main_dict_url[col_names[i]].append(values[i])\n",
    "        counter_url +=1\n",
    "    print(\"El data set tiene %d filas y %d columnas\"%(counter_url, n_cols))\n",
    "    df = ps.DataFrame(main_dict_url)\n",
    "    print(df.head())\n",
    "    #Elegimos donde guardarlo (en la carpeta athletes es donde tiene más sentido por el contexto del análisis)\n",
    "    fullpath = os.path.join(mainpath, filename)\n",
    "\n",
    "    #Lo guardamos en CSV, en JSON o en Excel según queramos\n",
    "    df.to_csv(fullpath+\".csv\")\n",
    "    df.to_json(fullpath+\".json\")\n",
    "    df.to_excel(fullpath+\".xls\")\n",
    "    print(\"Los ficheros se han guardado correctamente en: \"+fullpath)\n",
    "    \n",
    "    return df"
   ]
  },
  {
   "cell_type": "code",
   "execution_count": 19,
   "metadata": {},
   "outputs": [
    {
     "output_type": "stream",
     "name": "stdout",
     "text": "El data set tiene 2312 filas y 8 columnas\n   Year      City       Sport      Discipline  NOC       Event Event gender  \\\n0  1924  Chamonix     Skating  Figure skating  AUT  individual            M   \n1  1924  Chamonix     Skating  Figure skating  AUT  individual            W   \n2  1924  Chamonix     Skating  Figure skating  AUT       pairs            X   \n3  1924  Chamonix   Bobsleigh       Bobsleigh  BEL    four-man            M   \n4  1924  Chamonix  Ice Hockey      Ice Hockey  CAN  ice hockey            M   \n\n    Medal  \n0  Silver  \n1    Gold  \n2    Gold  \n3  Bronze  \n4    Gold  \nLos ficheros se han guardado correctamente en: E:/Curso de Python/Seccion 4/Datasets de url\\Medallas2\n"
    },
    {
     "output_type": "execute_result",
     "data": {
      "text/plain": "   Year      City       Sport      Discipline  NOC       Event Event gender  \\\n0  1924  Chamonix     Skating  Figure skating  AUT  individual            M   \n1  1924  Chamonix     Skating  Figure skating  AUT  individual            W   \n2  1924  Chamonix     Skating  Figure skating  AUT       pairs            X   \n3  1924  Chamonix   Bobsleigh       Bobsleigh  BEL    four-man            M   \n4  1924  Chamonix  Ice Hockey      Ice Hockey  CAN  ice hockey            M   \n\n    Medal  \n0  Silver  \n1    Gold  \n2    Gold  \n3  Bronze  \n4    Gold  ",
      "text/html": "<div>\n<style scoped>\n    .dataframe tbody tr th:only-of-type {\n        vertical-align: middle;\n    }\n\n    .dataframe tbody tr th {\n        vertical-align: top;\n    }\n\n    .dataframe thead th {\n        text-align: right;\n    }\n</style>\n<table border=\"1\" class=\"dataframe\">\n  <thead>\n    <tr style=\"text-align: right;\">\n      <th></th>\n      <th>Year</th>\n      <th>City</th>\n      <th>Sport</th>\n      <th>Discipline</th>\n      <th>NOC</th>\n      <th>Event</th>\n      <th>Event gender</th>\n      <th>Medal</th>\n    </tr>\n  </thead>\n  <tbody>\n    <tr>\n      <th>0</th>\n      <td>1924</td>\n      <td>Chamonix</td>\n      <td>Skating</td>\n      <td>Figure skating</td>\n      <td>AUT</td>\n      <td>individual</td>\n      <td>M</td>\n      <td>Silver</td>\n    </tr>\n    <tr>\n      <th>1</th>\n      <td>1924</td>\n      <td>Chamonix</td>\n      <td>Skating</td>\n      <td>Figure skating</td>\n      <td>AUT</td>\n      <td>individual</td>\n      <td>W</td>\n      <td>Gold</td>\n    </tr>\n    <tr>\n      <th>2</th>\n      <td>1924</td>\n      <td>Chamonix</td>\n      <td>Skating</td>\n      <td>Figure skating</td>\n      <td>AUT</td>\n      <td>pairs</td>\n      <td>X</td>\n      <td>Gold</td>\n    </tr>\n    <tr>\n      <th>3</th>\n      <td>1924</td>\n      <td>Chamonix</td>\n      <td>Bobsleigh</td>\n      <td>Bobsleigh</td>\n      <td>BEL</td>\n      <td>four-man</td>\n      <td>M</td>\n      <td>Bronze</td>\n    </tr>\n    <tr>\n      <th>4</th>\n      <td>1924</td>\n      <td>Chamonix</td>\n      <td>Ice Hockey</td>\n      <td>Ice Hockey</td>\n      <td>CAN</td>\n      <td>ice hockey</td>\n      <td>M</td>\n      <td>Gold</td>\n    </tr>\n  </tbody>\n</table>\n</div>"
     },
     "metadata": {},
     "execution_count": 19
    }
   ],
   "source": [
    "medals_df = downloadFromURL(medals_url, \"Medallas2\")\n",
    "medals_df.head()"
   ]
  },
  {
   "cell_type": "markdown",
   "metadata": {},
   "source": [
    "# Ficheros XLS y XLSX"
   ]
  },
  {
   "cell_type": "code",
   "execution_count": 36,
   "metadata": {},
   "outputs": [],
   "source": [
    "mainpath = \"C:/Users/alana/Documents/Curso de Python/Repositorio/python-ml-course/datasets\"\n",
    "filename = \"titanic/titanic3.xls\""
   ]
  },
  {
   "cell_type": "code",
   "execution_count": 40,
   "metadata": {},
   "outputs": [
    {
     "output_type": "execute_result",
     "data": {
      "text/plain": "   pclass  survived                                             name     sex  \\\n0       1         1                    Allen, Miss. Elisabeth Walton  female   \n1       1         1                   Allison, Master. Hudson Trevor    male   \n2       1         0                     Allison, Miss. Helen Loraine  female   \n3       1         0             Allison, Mr. Hudson Joshua Creighton    male   \n4       1         0  Allison, Mrs. Hudson J C (Bessie Waldo Daniels)  female   \n\n       age  sibsp  parch  ticket      fare    cabin embarked boat   body  \\\n0  29.0000      0      0   24160  211.3375       B5        S    2    NaN   \n1   0.9167      1      2  113781  151.5500  C22 C26        S   11    NaN   \n2   2.0000      1      2  113781  151.5500  C22 C26        S  NaN    NaN   \n3  30.0000      1      2  113781  151.5500  C22 C26        S  NaN  135.0   \n4  25.0000      1      2  113781  151.5500  C22 C26        S  NaN    NaN   \n\n                         home.dest  \n0                     St Louis, MO  \n1  Montreal, PQ / Chesterville, ON  \n2  Montreal, PQ / Chesterville, ON  \n3  Montreal, PQ / Chesterville, ON  \n4  Montreal, PQ / Chesterville, ON  ",
      "text/html": "<div>\n<style scoped>\n    .dataframe tbody tr th:only-of-type {\n        vertical-align: middle;\n    }\n\n    .dataframe tbody tr th {\n        vertical-align: top;\n    }\n\n    .dataframe thead th {\n        text-align: right;\n    }\n</style>\n<table border=\"1\" class=\"dataframe\">\n  <thead>\n    <tr style=\"text-align: right;\">\n      <th></th>\n      <th>pclass</th>\n      <th>survived</th>\n      <th>name</th>\n      <th>sex</th>\n      <th>age</th>\n      <th>sibsp</th>\n      <th>parch</th>\n      <th>ticket</th>\n      <th>fare</th>\n      <th>cabin</th>\n      <th>embarked</th>\n      <th>boat</th>\n      <th>body</th>\n      <th>home.dest</th>\n    </tr>\n  </thead>\n  <tbody>\n    <tr>\n      <th>0</th>\n      <td>1</td>\n      <td>1</td>\n      <td>Allen, Miss. Elisabeth Walton</td>\n      <td>female</td>\n      <td>29.0000</td>\n      <td>0</td>\n      <td>0</td>\n      <td>24160</td>\n      <td>211.3375</td>\n      <td>B5</td>\n      <td>S</td>\n      <td>2</td>\n      <td>NaN</td>\n      <td>St Louis, MO</td>\n    </tr>\n    <tr>\n      <th>1</th>\n      <td>1</td>\n      <td>1</td>\n      <td>Allison, Master. Hudson Trevor</td>\n      <td>male</td>\n      <td>0.9167</td>\n      <td>1</td>\n      <td>2</td>\n      <td>113781</td>\n      <td>151.5500</td>\n      <td>C22 C26</td>\n      <td>S</td>\n      <td>11</td>\n      <td>NaN</td>\n      <td>Montreal, PQ / Chesterville, ON</td>\n    </tr>\n    <tr>\n      <th>2</th>\n      <td>1</td>\n      <td>0</td>\n      <td>Allison, Miss. Helen Loraine</td>\n      <td>female</td>\n      <td>2.0000</td>\n      <td>1</td>\n      <td>2</td>\n      <td>113781</td>\n      <td>151.5500</td>\n      <td>C22 C26</td>\n      <td>S</td>\n      <td>NaN</td>\n      <td>NaN</td>\n      <td>Montreal, PQ / Chesterville, ON</td>\n    </tr>\n    <tr>\n      <th>3</th>\n      <td>1</td>\n      <td>0</td>\n      <td>Allison, Mr. Hudson Joshua Creighton</td>\n      <td>male</td>\n      <td>30.0000</td>\n      <td>1</td>\n      <td>2</td>\n      <td>113781</td>\n      <td>151.5500</td>\n      <td>C22 C26</td>\n      <td>S</td>\n      <td>NaN</td>\n      <td>135.0</td>\n      <td>Montreal, PQ / Chesterville, ON</td>\n    </tr>\n    <tr>\n      <th>4</th>\n      <td>1</td>\n      <td>0</td>\n      <td>Allison, Mrs. Hudson J C (Bessie Waldo Daniels)</td>\n      <td>female</td>\n      <td>25.0000</td>\n      <td>1</td>\n      <td>2</td>\n      <td>113781</td>\n      <td>151.5500</td>\n      <td>C22 C26</td>\n      <td>S</td>\n      <td>NaN</td>\n      <td>NaN</td>\n      <td>Montreal, PQ / Chesterville, ON</td>\n    </tr>\n  </tbody>\n</table>\n</div>"
     },
     "metadata": {},
     "execution_count": 40
    }
   ],
   "source": [
    "titanic2 = ps.read_excel(os.path.join(mainpath , filename), \"titanic3\") # El ultimo parametro es para indicar que pestaña de excel se requiere\n",
    "titanic2.head()"
   ]
  },
  {
   "cell_type": "code",
   "execution_count": null,
   "metadata": {},
   "outputs": [],
   "source": []
  }
 ],
 "metadata": {
  "language_info": {
   "name": "python",
   "codemirror_mode": {
    "name": "ipython",
    "version": 3
   },
   "version": "3.8.0-final"
  },
  "orig_nbformat": 2,
  "file_extension": ".py",
  "mimetype": "text/x-python",
  "name": "python",
  "npconvert_exporter": "python",
  "pygments_lexer": "ipython3",
  "version": 3,
  "kernelspec": {
   "name": "python38064bitf87af738e7824916a5e75f0deb7f4983",
   "display_name": "Python 3.8.0 64-bit"
  }
 },
 "nbformat": 4,
 "nbformat_minor": 2
}