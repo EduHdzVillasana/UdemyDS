{
 "cells": [
  {
   "cell_type": "markdown",
   "metadata": {},
   "source": [
    "# Agrupación de Datos por Categoría\n"
   ]
  },
  {
   "cell_type": "code",
   "execution_count": 48,
   "metadata": {},
   "outputs": [],
   "source": [
    "import numpy as np \n",
    "import pandas as pd\n",
    "import matplotlib.pyplot as plt"
   ]
  },
  {
   "cell_type": "code",
   "execution_count": 2,
   "metadata": {},
   "outputs": [],
   "source": [
    "gender = [\"Male\", \"Female\"]\n",
    "income = [\"Lower Class\", \"Middle Class\", \"Uper Class\"]"
   ]
  },
  {
   "cell_type": "code",
   "execution_count": 3,
   "metadata": {},
   "outputs": [
    {
     "output_type": "execute_result",
     "data": {
      "text/plain": "['Female',\n 'Male',\n 'Female',\n 'Female',\n 'Female',\n 'Male',\n 'Male',\n 'Male',\n 'Male',\n 'Female']"
     },
     "metadata": {},
     "execution_count": 3
    }
   ],
   "source": [
    "n = 500\n",
    "gender_data = []\n",
    "income_data = []\n",
    "for i in range(n):\n",
    "    gender_data.append(np.random.choice(gender))\n",
    "    income_data.append(np.random.choice(income))\n",
    "gender_data[:10]"
   ]
  },
  {
   "cell_type": "code",
   "execution_count": 4,
   "metadata": {},
   "outputs": [
    {
     "output_type": "execute_result",
     "data": {
      "text/plain": "['Uper Class',\n 'Uper Class',\n 'Uper Class',\n 'Uper Class',\n 'Middle Class',\n 'Middle Class',\n 'Lower Class',\n 'Uper Class',\n 'Uper Class',\n 'Middle Class',\n 'Middle Class',\n 'Uper Class',\n 'Uper Class',\n 'Uper Class',\n 'Lower Class',\n 'Lower Class',\n 'Lower Class',\n 'Middle Class',\n 'Middle Class',\n 'Middle Class']"
     },
     "metadata": {},
     "execution_count": 4
    }
   ],
   "source": [
    "income_data[:20]"
   ]
  },
  {
   "cell_type": "code",
   "execution_count": 5,
   "metadata": {},
   "outputs": [],
   "source": [
    "height = np.random.normal(160, 30, n)\n",
    "wheight = np.random.normal(65, 25, n)\n",
    "age = np.random.normal(30, 12, n)\n",
    "income = np.random.normal (18000, 3500, n)"
   ]
  },
  {
   "cell_type": "code",
   "execution_count": 6,
   "metadata": {},
   "outputs": [
    {
     "output_type": "execute_result",
     "data": {
      "text/plain": "   Gender Economic Class       Hight     Weight        Age        Income\n0  Female     Uper Class  189.646717  66.678957  23.236044  19298.071098\n1    Male     Uper Class  194.246850  63.378353  32.746819  18110.990379\n2  Female     Uper Class  130.574942  42.253401  38.430678  19046.475061\n3  Female     Uper Class  135.816784  96.520404  51.933698  17130.071130\n4  Female   Middle Class  100.131235  37.021604  51.472360  23564.991638",
      "text/html": "<div>\n<style scoped>\n    .dataframe tbody tr th:only-of-type {\n        vertical-align: middle;\n    }\n\n    .dataframe tbody tr th {\n        vertical-align: top;\n    }\n\n    .dataframe thead th {\n        text-align: right;\n    }\n</style>\n<table border=\"1\" class=\"dataframe\">\n  <thead>\n    <tr style=\"text-align: right;\">\n      <th></th>\n      <th>Gender</th>\n      <th>Economic Class</th>\n      <th>Hight</th>\n      <th>Weight</th>\n      <th>Age</th>\n      <th>Income</th>\n    </tr>\n  </thead>\n  <tbody>\n    <tr>\n      <th>0</th>\n      <td>Female</td>\n      <td>Uper Class</td>\n      <td>189.646717</td>\n      <td>66.678957</td>\n      <td>23.236044</td>\n      <td>19298.071098</td>\n    </tr>\n    <tr>\n      <th>1</th>\n      <td>Male</td>\n      <td>Uper Class</td>\n      <td>194.246850</td>\n      <td>63.378353</td>\n      <td>32.746819</td>\n      <td>18110.990379</td>\n    </tr>\n    <tr>\n      <th>2</th>\n      <td>Female</td>\n      <td>Uper Class</td>\n      <td>130.574942</td>\n      <td>42.253401</td>\n      <td>38.430678</td>\n      <td>19046.475061</td>\n    </tr>\n    <tr>\n      <th>3</th>\n      <td>Female</td>\n      <td>Uper Class</td>\n      <td>135.816784</td>\n      <td>96.520404</td>\n      <td>51.933698</td>\n      <td>17130.071130</td>\n    </tr>\n    <tr>\n      <th>4</th>\n      <td>Female</td>\n      <td>Middle Class</td>\n      <td>100.131235</td>\n      <td>37.021604</td>\n      <td>51.472360</td>\n      <td>23564.991638</td>\n    </tr>\n  </tbody>\n</table>\n</div>"
     },
     "metadata": {},
     "execution_count": 6
    }
   ],
   "source": [
    "data = pd.DataFrame(\n",
    "    {\n",
    "        \"Gender\" : gender_data,\n",
    "        \"Economic Class\" : income_data,\n",
    "        \"Hight\" : height,\n",
    "        \"Weight\" : wheight,\n",
    "        \"Age\" : age,\n",
    "        \"Income\" : income\n",
    "    }\n",
    ")\n",
    "data.head()"
   ]
  },
  {
   "cell_type": "markdown",
   "metadata": {},
   "source": [
    "# Agrupación de datos"
   ]
  },
  {
   "cell_type": "code",
   "execution_count": 7,
   "metadata": {},
   "outputs": [
    {
     "output_type": "execute_result",
     "data": {
      "text/plain": "   Gender Economic Class       Hight     Weight        Age        Income\n0  Female     Uper Class  189.646717  66.678957  23.236044  19298.071098\n1    Male     Uper Class  194.246850  63.378353  32.746819  18110.990379\n2  Female     Uper Class  130.574942  42.253401  38.430678  19046.475061\n3  Female     Uper Class  135.816784  96.520404  51.933698  17130.071130\n4  Female   Middle Class  100.131235  37.021604  51.472360  23564.991638\n5    Male   Middle Class  117.612386  62.485141  17.912821  16436.866408\n6    Male    Lower Class  176.236789  81.590205   3.123652  14846.986227\n7    Male     Uper Class  160.152808  82.414764  28.849100  13648.957694\n8    Male     Uper Class  174.845316  80.266801  35.915099  18338.943349\n9  Female   Middle Class  112.624985  79.122329  33.646051  18766.744181",
      "text/html": "<div>\n<style scoped>\n    .dataframe tbody tr th:only-of-type {\n        vertical-align: middle;\n    }\n\n    .dataframe tbody tr th {\n        vertical-align: top;\n    }\n\n    .dataframe thead th {\n        text-align: right;\n    }\n</style>\n<table border=\"1\" class=\"dataframe\">\n  <thead>\n    <tr style=\"text-align: right;\">\n      <th></th>\n      <th>Gender</th>\n      <th>Economic Class</th>\n      <th>Hight</th>\n      <th>Weight</th>\n      <th>Age</th>\n      <th>Income</th>\n    </tr>\n  </thead>\n  <tbody>\n    <tr>\n      <th>0</th>\n      <td>Female</td>\n      <td>Uper Class</td>\n      <td>189.646717</td>\n      <td>66.678957</td>\n      <td>23.236044</td>\n      <td>19298.071098</td>\n    </tr>\n    <tr>\n      <th>1</th>\n      <td>Male</td>\n      <td>Uper Class</td>\n      <td>194.246850</td>\n      <td>63.378353</td>\n      <td>32.746819</td>\n      <td>18110.990379</td>\n    </tr>\n    <tr>\n      <th>2</th>\n      <td>Female</td>\n      <td>Uper Class</td>\n      <td>130.574942</td>\n      <td>42.253401</td>\n      <td>38.430678</td>\n      <td>19046.475061</td>\n    </tr>\n    <tr>\n      <th>3</th>\n      <td>Female</td>\n      <td>Uper Class</td>\n      <td>135.816784</td>\n      <td>96.520404</td>\n      <td>51.933698</td>\n      <td>17130.071130</td>\n    </tr>\n    <tr>\n      <th>4</th>\n      <td>Female</td>\n      <td>Middle Class</td>\n      <td>100.131235</td>\n      <td>37.021604</td>\n      <td>51.472360</td>\n      <td>23564.991638</td>\n    </tr>\n    <tr>\n      <th>5</th>\n      <td>Male</td>\n      <td>Middle Class</td>\n      <td>117.612386</td>\n      <td>62.485141</td>\n      <td>17.912821</td>\n      <td>16436.866408</td>\n    </tr>\n    <tr>\n      <th>6</th>\n      <td>Male</td>\n      <td>Lower Class</td>\n      <td>176.236789</td>\n      <td>81.590205</td>\n      <td>3.123652</td>\n      <td>14846.986227</td>\n    </tr>\n    <tr>\n      <th>7</th>\n      <td>Male</td>\n      <td>Uper Class</td>\n      <td>160.152808</td>\n      <td>82.414764</td>\n      <td>28.849100</td>\n      <td>13648.957694</td>\n    </tr>\n    <tr>\n      <th>8</th>\n      <td>Male</td>\n      <td>Uper Class</td>\n      <td>174.845316</td>\n      <td>80.266801</td>\n      <td>35.915099</td>\n      <td>18338.943349</td>\n    </tr>\n    <tr>\n      <th>9</th>\n      <td>Female</td>\n      <td>Middle Class</td>\n      <td>112.624985</td>\n      <td>79.122329</td>\n      <td>33.646051</td>\n      <td>18766.744181</td>\n    </tr>\n  </tbody>\n</table>\n</div>"
     },
     "metadata": {},
     "execution_count": 7
    }
   ],
   "source": [
    "data.groupby(\"Gender\").head()"
   ]
  },
  {
   "cell_type": "code",
   "execution_count": 8,
   "metadata": {},
   "outputs": [],
   "source": [
    "gruped_gender = data.groupby(\"Gender\")"
   ]
  },
  {
   "cell_type": "code",
   "execution_count": 9,
   "metadata": {},
   "outputs": [
    {
     "output_type": "execute_result",
     "data": {
      "text/plain": "{'Female': Int64Index([  0,   2,   3,   4,   9,  10,  12,  15,  18,  20,\n             ...\n             485, 486, 487, 489, 490, 491, 492, 493, 495, 497],\n            dtype='int64', length=258),\n 'Male': Int64Index([  1,   5,   6,   7,   8,  11,  13,  14,  16,  17,\n             ...\n             474, 475, 476, 477, 484, 488, 494, 496, 498, 499],\n            dtype='int64', length=242)}"
     },
     "metadata": {},
     "execution_count": 9
    }
   ],
   "source": [
    "gruped_gender.groups"
   ]
  },
  {
   "cell_type": "code",
   "execution_count": 10,
   "metadata": {},
   "outputs": [
    {
     "output_type": "execute_result",
     "data": {
      "text/plain": "Int64Index([  0,   2,   3,   4,   9,  10,  12,  15,  18,  20,\n            ...\n            485, 486, 487, 489, 490, 491, 492, 493, 495, 497],\n           dtype='int64', length=258)"
     },
     "metadata": {},
     "execution_count": 10
    }
   ],
   "source": [
    "gruped_gender.groups[\"Female\"]"
   ]
  },
  {
   "cell_type": "code",
   "execution_count": 11,
   "metadata": {
    "tags": []
   },
   "outputs": [
    {
     "output_type": "stream",
     "name": "stdout",
     "text": "Female\n     Gender Economic Class       Hight     Weight        Age        Income\n0    Female     Uper Class  189.646717  66.678957  23.236044  19298.071098\n2    Female     Uper Class  130.574942  42.253401  38.430678  19046.475061\n3    Female     Uper Class  135.816784  96.520404  51.933698  17130.071130\n4    Female   Middle Class  100.131235  37.021604  51.472360  23564.991638\n9    Female   Middle Class  112.624985  79.122329  33.646051  18766.744181\n..      ...            ...         ...        ...        ...           ...\n491  Female    Lower Class  133.622667  22.981667  29.528963  14060.787014\n492  Female    Lower Class  139.680327  55.748141  19.452968  27460.565953\n493  Female   Middle Class  163.744655  88.291518  48.545850  20069.867685\n495  Female     Uper Class  202.509341  51.393721   0.652988  23684.558541\n497  Female    Lower Class  175.116978  40.308215  32.177076  17160.879729\n\n[258 rows x 6 columns]\nMale\n    Gender Economic Class       Hight      Weight        Age        Income\n1     Male     Uper Class  194.246850   63.378353  32.746819  18110.990379\n5     Male   Middle Class  117.612386   62.485141  17.912821  16436.866408\n6     Male    Lower Class  176.236789   81.590205   3.123652  14846.986227\n7     Male     Uper Class  160.152808   82.414764  28.849100  13648.957694\n8     Male     Uper Class  174.845316   80.266801  35.915099  18338.943349\n..     ...            ...         ...         ...        ...           ...\n488   Male    Lower Class  122.537811   44.965863  41.588968  17938.913603\n494   Male    Lower Class  178.119314   83.330461  30.554456  18319.631883\n496   Male     Uper Class  175.559399  106.357518  26.320011  18397.303207\n498   Male    Lower Class  186.324835   44.510759  27.565326  17518.970770\n499   Male     Uper Class  184.440642   35.300916  43.144007  15574.356806\n\n[242 rows x 6 columns]\n"
    }
   ],
   "source": [
    "for names, gropus in gruped_gender:\n",
    "    print(names)\n",
    "    print(gropus)"
   ]
  },
  {
   "cell_type": "code",
   "execution_count": 12,
   "metadata": {},
   "outputs": [
    {
     "output_type": "execute_result",
     "data": {
      "text/plain": "    Gender Economic Class       Hight      Weight        Age        Income\n1     Male     Uper Class  194.246850   63.378353  32.746819  18110.990379\n5     Male   Middle Class  117.612386   62.485141  17.912821  16436.866408\n6     Male    Lower Class  176.236789   81.590205   3.123652  14846.986227\n7     Male     Uper Class  160.152808   82.414764  28.849100  13648.957694\n8     Male     Uper Class  174.845316   80.266801  35.915099  18338.943349\n..     ...            ...         ...         ...        ...           ...\n488   Male    Lower Class  122.537811   44.965863  41.588968  17938.913603\n494   Male    Lower Class  178.119314   83.330461  30.554456  18319.631883\n496   Male     Uper Class  175.559399  106.357518  26.320011  18397.303207\n498   Male    Lower Class  186.324835   44.510759  27.565326  17518.970770\n499   Male     Uper Class  184.440642   35.300916  43.144007  15574.356806\n\n[242 rows x 6 columns]",
      "text/html": "<div>\n<style scoped>\n    .dataframe tbody tr th:only-of-type {\n        vertical-align: middle;\n    }\n\n    .dataframe tbody tr th {\n        vertical-align: top;\n    }\n\n    .dataframe thead th {\n        text-align: right;\n    }\n</style>\n<table border=\"1\" class=\"dataframe\">\n  <thead>\n    <tr style=\"text-align: right;\">\n      <th></th>\n      <th>Gender</th>\n      <th>Economic Class</th>\n      <th>Hight</th>\n      <th>Weight</th>\n      <th>Age</th>\n      <th>Income</th>\n    </tr>\n  </thead>\n  <tbody>\n    <tr>\n      <th>1</th>\n      <td>Male</td>\n      <td>Uper Class</td>\n      <td>194.246850</td>\n      <td>63.378353</td>\n      <td>32.746819</td>\n      <td>18110.990379</td>\n    </tr>\n    <tr>\n      <th>5</th>\n      <td>Male</td>\n      <td>Middle Class</td>\n      <td>117.612386</td>\n      <td>62.485141</td>\n      <td>17.912821</td>\n      <td>16436.866408</td>\n    </tr>\n    <tr>\n      <th>6</th>\n      <td>Male</td>\n      <td>Lower Class</td>\n      <td>176.236789</td>\n      <td>81.590205</td>\n      <td>3.123652</td>\n      <td>14846.986227</td>\n    </tr>\n    <tr>\n      <th>7</th>\n      <td>Male</td>\n      <td>Uper Class</td>\n      <td>160.152808</td>\n      <td>82.414764</td>\n      <td>28.849100</td>\n      <td>13648.957694</td>\n    </tr>\n    <tr>\n      <th>8</th>\n      <td>Male</td>\n      <td>Uper Class</td>\n      <td>174.845316</td>\n      <td>80.266801</td>\n      <td>35.915099</td>\n      <td>18338.943349</td>\n    </tr>\n    <tr>\n      <th>...</th>\n      <td>...</td>\n      <td>...</td>\n      <td>...</td>\n      <td>...</td>\n      <td>...</td>\n      <td>...</td>\n    </tr>\n    <tr>\n      <th>488</th>\n      <td>Male</td>\n      <td>Lower Class</td>\n      <td>122.537811</td>\n      <td>44.965863</td>\n      <td>41.588968</td>\n      <td>17938.913603</td>\n    </tr>\n    <tr>\n      <th>494</th>\n      <td>Male</td>\n      <td>Lower Class</td>\n      <td>178.119314</td>\n      <td>83.330461</td>\n      <td>30.554456</td>\n      <td>18319.631883</td>\n    </tr>\n    <tr>\n      <th>496</th>\n      <td>Male</td>\n      <td>Uper Class</td>\n      <td>175.559399</td>\n      <td>106.357518</td>\n      <td>26.320011</td>\n      <td>18397.303207</td>\n    </tr>\n    <tr>\n      <th>498</th>\n      <td>Male</td>\n      <td>Lower Class</td>\n      <td>186.324835</td>\n      <td>44.510759</td>\n      <td>27.565326</td>\n      <td>17518.970770</td>\n    </tr>\n    <tr>\n      <th>499</th>\n      <td>Male</td>\n      <td>Uper Class</td>\n      <td>184.440642</td>\n      <td>35.300916</td>\n      <td>43.144007</td>\n      <td>15574.356806</td>\n    </tr>\n  </tbody>\n</table>\n<p>242 rows × 6 columns</p>\n</div>"
     },
     "metadata": {},
     "execution_count": 12
    }
   ],
   "source": [
    "gruped_gender.get_group(\"Male\")"
   ]
  },
  {
   "cell_type": "code",
   "execution_count": 13,
   "metadata": {},
   "outputs": [],
   "source": [
    "double_group = data.groupby([\"Gender\", \"Economic Class\"])"
   ]
  },
  {
   "cell_type": "code",
   "execution_count": 14,
   "metadata": {},
   "outputs": [
    {
     "output_type": "execute_result",
     "data": {
      "text/plain": "6"
     },
     "metadata": {},
     "execution_count": 14
    }
   ],
   "source": [
    "len(double_group)"
   ]
  },
  {
   "cell_type": "code",
   "execution_count": 15,
   "metadata": {},
   "outputs": [
    {
     "output_type": "execute_result",
     "data": {
      "text/plain": "{('Female',\n  'Lower Class'): Int64Index([ 15,  22,  42,  53,  54,  78,  88, 103, 107, 112, 116, 117, 121,\n             124, 130, 131, 145, 148, 157, 159, 164, 169, 171, 185, 192, 195,\n             198, 201, 202, 209, 215, 216, 221, 237, 240, 250, 253, 276, 280,\n             286, 295, 309, 317, 334, 346, 349, 351, 361, 375, 378, 380, 391,\n             396, 401, 404, 408, 411, 419, 435, 437, 446, 447, 448, 453, 460,\n             465, 470, 478, 479, 482, 490, 491, 492, 497],\n            dtype='int64'),\n ('Female',\n  'Middle Class'): Int64Index([  4,   9,  10,  18,  23,  26,  28,  30,  32,  33,  38,  40,  41,\n              46,  47,  51,  56,  57,  58,  80,  81,  84,  86,  90, 101, 105,\n             123, 127, 135, 140, 150, 155, 163, 172, 187, 189, 194, 200, 211,\n             218, 233, 239, 248, 249, 251, 259, 262, 268, 282, 293, 298, 304,\n             305, 308, 311, 322, 326, 327, 333, 343, 350, 356, 358, 364, 367,\n             371, 372, 376, 385, 388, 389, 392, 393, 418, 430, 431, 432, 436,\n             442, 464, 466, 480, 483, 486, 487, 489, 493],\n            dtype='int64'),\n ('Female',\n  'Uper Class'): Int64Index([  0,   2,   3,  12,  20,  21,  24,  25,  36,  49,  52,  59,  61,\n              64,  66,  67,  70,  75,  82,  91,  92,  95,  96,  97,  98,  99,\n             111, 113, 120, 133, 136, 149, 153, 154, 158, 160, 170, 174, 177,\n             181, 182, 190, 191, 199, 212, 213, 214, 224, 225, 230, 234, 258,\n             264, 265, 269, 270, 272, 275, 277, 287, 291, 302, 303, 307, 314,\n             315, 316, 328, 335, 339, 342, 352, 353, 357, 359, 369, 374, 390,\n             399, 402, 407, 412, 414, 416, 421, 423, 424, 427, 433, 444, 457,\n             459, 469, 471, 481, 485, 495],\n            dtype='int64'),\n ('Male',\n  'Lower Class'): Int64Index([  6,  14,  16,  29,  34,  43,  48,  55,  60,  62,  63,  68,  69,\n              72,  73,  74,  77,  79,  85,  89,  93,  94, 109, 114, 125, 128,\n             134, 138, 141, 147, 151, 162, 166, 175, 178, 180, 197, 207, 210,\n             236, 244, 254, 255, 256, 257, 261, 266, 274, 278, 281, 292, 294,\n             300, 310, 312, 318, 319, 323, 324, 330, 332, 336, 337, 338, 341,\n             355, 362, 365, 368, 373, 384, 387, 398, 410, 415, 422, 426, 428,\n             429, 434, 441, 458, 462, 473, 474, 488, 494, 498],\n            dtype='int64'),\n ('Male',\n  'Middle Class'): Int64Index([  5,  17,  19,  27,  39,  44,  50,  76,  83,  87, 104, 115, 118,\n             122, 126, 132, 139, 146, 156, 161, 167, 168, 184, 193, 196, 203,\n             204, 205, 217, 219, 222, 223, 227, 229, 231, 232, 235, 241, 245,\n             246, 267, 271, 283, 284, 289, 290, 297, 299, 306, 321, 325, 331,\n             345, 347, 348, 363, 366, 379, 381, 382, 386, 394, 397, 403, 406,\n             409, 413, 425, 439, 440, 443, 449, 450, 451, 454, 455, 463, 467,\n             468, 475, 476, 477],\n            dtype='int64'),\n ('Male',\n  'Uper Class'): Int64Index([  1,   7,   8,  11,  13,  31,  35,  37,  45,  65,  71, 100, 102,\n             106, 108, 110, 119, 129, 137, 142, 143, 144, 152, 165, 173, 176,\n             179, 183, 186, 188, 206, 208, 220, 226, 228, 238, 242, 243, 247,\n             252, 260, 263, 273, 279, 285, 288, 296, 301, 313, 320, 329, 340,\n             344, 354, 360, 370, 377, 383, 395, 400, 405, 417, 420, 438, 445,\n             452, 456, 461, 472, 484, 496, 499],\n            dtype='int64')}"
     },
     "metadata": {},
     "execution_count": 15
    }
   ],
   "source": [
    "double_group.groups"
   ]
  },
  {
   "cell_type": "code",
   "execution_count": 16,
   "metadata": {
    "tags": []
   },
   "outputs": [
    {
     "output_type": "stream",
     "name": "stdout",
     "text": "('Female', 'Lower Class')\n     Gender Economic Class       Hight      Weight        Age        Income\n15   Female    Lower Class  192.082304   75.128206  35.892774  19166.786866\n22   Female    Lower Class  178.277952   72.111504  40.125848  20029.885973\n42   Female    Lower Class  200.029892   83.108017  18.871917  17030.083191\n53   Female    Lower Class  175.809401   22.955983  30.918493  14375.223517\n54   Female    Lower Class  126.093290   84.949422  13.931967  20127.164705\n..      ...            ...         ...         ...        ...           ...\n482  Female    Lower Class  125.852827  106.336079  38.066293  17146.636271\n490  Female    Lower Class  126.944576   34.500620  49.783628  14106.447829\n491  Female    Lower Class  133.622667   22.981667  29.528963  14060.787014\n492  Female    Lower Class  139.680327   55.748141  19.452968  27460.565953\n497  Female    Lower Class  175.116978   40.308215  32.177076  17160.879729\n\n[74 rows x 6 columns]\n('Female', 'Middle Class')\n     Gender Economic Class       Hight     Weight        Age        Income\n4    Female   Middle Class  100.131235  37.021604  51.472360  23564.991638\n9    Female   Middle Class  112.624985  79.122329  33.646051  18766.744181\n10   Female   Middle Class  157.960593  77.890502  11.596467  19223.071833\n18   Female   Middle Class  171.077810  68.041126  31.314474  16235.855209\n23   Female   Middle Class  184.043609  87.462422  29.472475   9340.394623\n..      ...            ...         ...        ...        ...           ...\n483  Female   Middle Class  163.602894  60.858706  30.466528  20597.600760\n486  Female   Middle Class  104.322949  39.876604  34.663678  19572.166212\n487  Female   Middle Class  147.332717  47.403881  33.978585  13811.844812\n489  Female   Middle Class  218.618250  11.119474  20.623146  16599.251596\n493  Female   Middle Class  163.744655  88.291518  48.545850  20069.867685\n\n[87 rows x 6 columns]\n('Female', 'Uper Class')\n     Gender Economic Class       Hight     Weight        Age        Income\n0    Female     Uper Class  189.646717  66.678957  23.236044  19298.071098\n2    Female     Uper Class  130.574942  42.253401  38.430678  19046.475061\n3    Female     Uper Class  135.816784  96.520404  51.933698  17130.071130\n12   Female     Uper Class  140.328305  48.508132  29.696657  13809.243326\n20   Female     Uper Class  165.906698  69.022204   7.286636  19974.928699\n..      ...            ...         ...        ...        ...           ...\n469  Female     Uper Class  142.970629  90.539969  25.503771  21356.955956\n471  Female     Uper Class  168.259913  85.798144  27.932836  21450.262113\n481  Female     Uper Class  167.837860  80.333601  22.546550  18472.579789\n485  Female     Uper Class  160.812684  86.511154  33.428194  17134.511169\n495  Female     Uper Class  202.509341  51.393721   0.652988  23684.558541\n\n[97 rows x 6 columns]\n('Male', 'Lower Class')\n    Gender Economic Class       Hight      Weight        Age        Income\n6     Male    Lower Class  176.236789   81.590205   3.123652  14846.986227\n14    Male    Lower Class  101.361137   54.542226  33.414565  24569.872944\n16    Male    Lower Class  175.013998   50.983414  39.287333  10316.349469\n29    Male    Lower Class  175.772313   85.914433  10.873717  18649.028783\n34    Male    Lower Class  145.600181   10.651976  33.921911  19491.782552\n..     ...            ...         ...         ...        ...           ...\n473   Male    Lower Class  132.360126  124.290651  34.397844  15110.185459\n474   Male    Lower Class  109.057233   81.715613  17.316758  17610.627324\n488   Male    Lower Class  122.537811   44.965863  41.588968  17938.913603\n494   Male    Lower Class  178.119314   83.330461  30.554456  18319.631883\n498   Male    Lower Class  186.324835   44.510759  27.565326  17518.970770\n\n[88 rows x 6 columns]\n('Male', 'Middle Class')\n    Gender Economic Class       Hight     Weight        Age        Income\n5     Male   Middle Class  117.612386  62.485141  17.912821  16436.866408\n17    Male   Middle Class  142.015768  83.199766  17.469077  15799.013045\n19    Male   Middle Class  161.233162  97.021843  12.446917  19361.874900\n27    Male   Middle Class  145.417444  15.392880  12.705936  17356.993162\n39    Male   Middle Class  206.245951  48.482768  -2.704037  22578.716167\n..     ...            ...         ...        ...        ...           ...\n467   Male   Middle Class  160.752921  86.752519  32.426731  16746.563418\n468   Male   Middle Class  206.409684  72.552599  43.626739  19216.610758\n475   Male   Middle Class  140.063179  33.958663  20.074220  19731.495339\n476   Male   Middle Class   80.494848   9.977778  28.946854  15557.438167\n477   Male   Middle Class  181.721765  59.625053  27.005643  22070.816038\n\n[82 rows x 6 columns]\n('Male', 'Uper Class')\n    Gender Economic Class       Hight      Weight        Age        Income\n1     Male     Uper Class  194.246850   63.378353  32.746819  18110.990379\n7     Male     Uper Class  160.152808   82.414764  28.849100  13648.957694\n8     Male     Uper Class  174.845316   80.266801  35.915099  18338.943349\n11    Male     Uper Class  151.857401   57.194093  14.293272  21891.911860\n13    Male     Uper Class  172.941751   47.282617  30.893986  16124.385243\n..     ...            ...         ...         ...        ...           ...\n461   Male     Uper Class  202.030946   13.793742  37.244228  18834.468965\n472   Male     Uper Class  174.319601   29.899428  29.854599  16532.771398\n484   Male     Uper Class  116.195006   70.462437  32.376514  23421.501326\n496   Male     Uper Class  175.559399  106.357518  26.320011  18397.303207\n499   Male     Uper Class  184.440642   35.300916  43.144007  15574.356806\n\n[72 rows x 6 columns]\n"
    }
   ],
   "source": [
    "for names_1, gropus_1 in double_group:\n",
    "    print (names_1)\n",
    "    print (gropus_1)"
   ]
  },
  {
   "cell_type": "markdown",
   "metadata": {},
   "source": [
    "# Operaciones sobre datos Agrupados"
   ]
  },
  {
   "cell_type": "code",
   "execution_count": 17,
   "metadata": {},
   "outputs": [
    {
     "output_type": "execute_result",
     "data": {
      "text/plain": "                              Hight       Weight          Age        Income\nGender Economic Class                                                      \nFemale Lower Class     12047.933056  4928.209666  2307.585791  1.303053e+06\n       Middle Class    13423.582052  5863.666538  2465.724602  1.545983e+06\n       Uper Class      15641.148340  6896.159396  2923.747271  1.751399e+06\nMale   Lower Class     14034.518810  5761.267145  2592.609697  1.591241e+06\n       Middle Class    12978.867080  5486.054948  2134.247381  1.497424e+06\n       Uper Class      11045.049780  4742.804031  2027.520868  1.314933e+06",
      "text/html": "<div>\n<style scoped>\n    .dataframe tbody tr th:only-of-type {\n        vertical-align: middle;\n    }\n\n    .dataframe tbody tr th {\n        vertical-align: top;\n    }\n\n    .dataframe thead th {\n        text-align: right;\n    }\n</style>\n<table border=\"1\" class=\"dataframe\">\n  <thead>\n    <tr style=\"text-align: right;\">\n      <th></th>\n      <th></th>\n      <th>Hight</th>\n      <th>Weight</th>\n      <th>Age</th>\n      <th>Income</th>\n    </tr>\n    <tr>\n      <th>Gender</th>\n      <th>Economic Class</th>\n      <th></th>\n      <th></th>\n      <th></th>\n      <th></th>\n    </tr>\n  </thead>\n  <tbody>\n    <tr>\n      <th rowspan=\"3\" valign=\"top\">Female</th>\n      <th>Lower Class</th>\n      <td>12047.933056</td>\n      <td>4928.209666</td>\n      <td>2307.585791</td>\n      <td>1.303053e+06</td>\n    </tr>\n    <tr>\n      <th>Middle Class</th>\n      <td>13423.582052</td>\n      <td>5863.666538</td>\n      <td>2465.724602</td>\n      <td>1.545983e+06</td>\n    </tr>\n    <tr>\n      <th>Uper Class</th>\n      <td>15641.148340</td>\n      <td>6896.159396</td>\n      <td>2923.747271</td>\n      <td>1.751399e+06</td>\n    </tr>\n    <tr>\n      <th rowspan=\"3\" valign=\"top\">Male</th>\n      <th>Lower Class</th>\n      <td>14034.518810</td>\n      <td>5761.267145</td>\n      <td>2592.609697</td>\n      <td>1.591241e+06</td>\n    </tr>\n    <tr>\n      <th>Middle Class</th>\n      <td>12978.867080</td>\n      <td>5486.054948</td>\n      <td>2134.247381</td>\n      <td>1.497424e+06</td>\n    </tr>\n    <tr>\n      <th>Uper Class</th>\n      <td>11045.049780</td>\n      <td>4742.804031</td>\n      <td>2027.520868</td>\n      <td>1.314933e+06</td>\n    </tr>\n  </tbody>\n</table>\n</div>"
     },
     "metadata": {},
     "execution_count": 17
    }
   ],
   "source": [
    "double_group.sum()"
   ]
  },
  {
   "cell_type": "code",
   "execution_count": 18,
   "metadata": {},
   "outputs": [
    {
     "output_type": "execute_result",
     "data": {
      "text/plain": "                            Hight     Weight        Age        Income\nGender Economic Class                                                \nFemale Lower Class     162.809906  66.597428  31.183592  17608.829646\n       Middle Class    154.294047  67.398466  28.341662  17769.919500\n       Uper Class      161.248952  71.094427  30.141724  18055.659406\nMale   Lower Class     159.483168  65.468945  29.461474  18082.286180\n       Middle Class    158.278867  66.903109  26.027407  18261.268059\n       Uper Class      153.403469  65.872278  28.160012  18262.954874",
      "text/html": "<div>\n<style scoped>\n    .dataframe tbody tr th:only-of-type {\n        vertical-align: middle;\n    }\n\n    .dataframe tbody tr th {\n        vertical-align: top;\n    }\n\n    .dataframe thead th {\n        text-align: right;\n    }\n</style>\n<table border=\"1\" class=\"dataframe\">\n  <thead>\n    <tr style=\"text-align: right;\">\n      <th></th>\n      <th></th>\n      <th>Hight</th>\n      <th>Weight</th>\n      <th>Age</th>\n      <th>Income</th>\n    </tr>\n    <tr>\n      <th>Gender</th>\n      <th>Economic Class</th>\n      <th></th>\n      <th></th>\n      <th></th>\n      <th></th>\n    </tr>\n  </thead>\n  <tbody>\n    <tr>\n      <th rowspan=\"3\" valign=\"top\">Female</th>\n      <th>Lower Class</th>\n      <td>162.809906</td>\n      <td>66.597428</td>\n      <td>31.183592</td>\n      <td>17608.829646</td>\n    </tr>\n    <tr>\n      <th>Middle Class</th>\n      <td>154.294047</td>\n      <td>67.398466</td>\n      <td>28.341662</td>\n      <td>17769.919500</td>\n    </tr>\n    <tr>\n      <th>Uper Class</th>\n      <td>161.248952</td>\n      <td>71.094427</td>\n      <td>30.141724</td>\n      <td>18055.659406</td>\n    </tr>\n    <tr>\n      <th rowspan=\"3\" valign=\"top\">Male</th>\n      <th>Lower Class</th>\n      <td>159.483168</td>\n      <td>65.468945</td>\n      <td>29.461474</td>\n      <td>18082.286180</td>\n    </tr>\n    <tr>\n      <th>Middle Class</th>\n      <td>158.278867</td>\n      <td>66.903109</td>\n      <td>26.027407</td>\n      <td>18261.268059</td>\n    </tr>\n    <tr>\n      <th>Uper Class</th>\n      <td>153.403469</td>\n      <td>65.872278</td>\n      <td>28.160012</td>\n      <td>18262.954874</td>\n    </tr>\n  </tbody>\n</table>\n</div>"
     },
     "metadata": {},
     "execution_count": 18
    }
   ],
   "source": [
    "double_group.mean()"
   ]
  },
  {
   "cell_type": "code",
   "execution_count": 19,
   "metadata": {},
   "outputs": [
    {
     "output_type": "execute_result",
     "data": {
      "text/plain": "Gender  Economic Class\nFemale  Lower Class       74\n        Middle Class      87\n        Uper Class        97\nMale    Lower Class       88\n        Middle Class      82\n        Uper Class        72\ndtype: int64"
     },
     "metadata": {},
     "execution_count": 19
    }
   ],
   "source": [
    "double_group.size()"
   ]
  },
  {
   "cell_type": "code",
   "execution_count": 20,
   "metadata": {},
   "outputs": [
    {
     "output_type": "execute_result",
     "data": {
      "text/plain": "74"
     },
     "metadata": {},
     "execution_count": 20
    }
   ],
   "source": [
    "double_group.size()[\"Female\"][\"Lower Class\"]"
   ]
  },
  {
   "cell_type": "code",
   "execution_count": 21,
   "metadata": {},
   "outputs": [
    {
     "output_type": "execute_result",
     "data": {
      "text/plain": "                      Hight                                                 \\\n                      count        mean        std         min         25%   \nGender Economic Class                                                        \nFemale Lower Class     74.0  162.809906  30.153769  100.311372  135.660269   \n       Middle Class    87.0  154.294047  35.167841   73.942746  127.603268   \n       Uper Class      97.0  161.248952  28.581315   79.968488  143.152950   \nMale   Lower Class     88.0  159.483168  26.803499  101.361137  141.603079   \n       Middle Class    82.0  158.278867  31.152576   64.966628  135.638161   \n       Uper Class      72.0  153.403469  26.007972  103.126269  133.758972   \n\n                                                          Weight             \\\n                              50%         75%         max  count       mean   \nGender Economic Class                                                         \nFemale Lower Class     166.912379  181.161552  228.781049   74.0  66.597428   \n       Middle Class    153.882418  175.671949  226.293751   87.0  67.398466   \n       Uper Class      160.197775  181.825560  251.242699   97.0  71.094427   \nMale   Lower Class     162.771673  176.282846  226.417931   88.0  65.468945   \n       Middle Class    157.612989  179.992859  237.428083   82.0  66.903109   \n       Uper Class      153.778220  173.220057  214.904860   72.0  65.872278   \n\n                       ...        Age            Income                \\\n                       ...        75%        max  count          mean   \nGender Economic Class  ...                                              \nFemale Lower Class     ...  40.433943  56.565337   74.0  17608.829646   \n       Middle Class    ...  36.273270  67.041872   87.0  17769.919500   \n       Uper Class      ...  39.231519  55.058155   97.0  18055.659406   \nMale   Lower Class     ...  39.107682  56.528609   88.0  18082.286180   \n       Middle Class    ...  33.199848  57.974786   82.0  18261.268059   \n       Uper Class      ...  35.828917  48.775869   72.0  18262.954874   \n\n                                                                              \\\n                               std           min           25%           50%   \nGender Economic Class                                                          \nFemale Lower Class     3060.047160  10065.268685  15193.208963  17689.255628   \n       Middle Class    3689.257259   7404.322587  15506.580409  17767.546466   \n       Uper Class      3096.380984  10401.719297  15983.988690  17545.844305   \nMale   Lower Class     3362.896832   8084.003767  16652.948773  18284.272936   \n       Middle Class    3375.247223   9361.749660  16019.951566  18523.890374   \n       Uper Class      3821.773787   9018.899452  15606.623421  18435.914174   \n\n                                                   \n                                75%           max  \nGender Economic Class                              \nFemale Lower Class     19615.786570  27460.565953  \n       Middle Class    19740.376091  28456.797417  \n       Uper Class      19782.048519  25368.300693  \nMale   Lower Class     20160.889811  25300.871304  \n       Middle Class    20385.859275  26514.741703  \n       Uper Class      21144.444194  26528.014355  \n\n[6 rows x 32 columns]",
      "text/html": "<div>\n<style scoped>\n    .dataframe tbody tr th:only-of-type {\n        vertical-align: middle;\n    }\n\n    .dataframe tbody tr th {\n        vertical-align: top;\n    }\n\n    .dataframe thead tr th {\n        text-align: left;\n    }\n\n    .dataframe thead tr:last-of-type th {\n        text-align: right;\n    }\n</style>\n<table border=\"1\" class=\"dataframe\">\n  <thead>\n    <tr>\n      <th></th>\n      <th></th>\n      <th colspan=\"8\" halign=\"left\">Hight</th>\n      <th colspan=\"2\" halign=\"left\">Weight</th>\n      <th>...</th>\n      <th colspan=\"2\" halign=\"left\">Age</th>\n      <th colspan=\"8\" halign=\"left\">Income</th>\n    </tr>\n    <tr>\n      <th></th>\n      <th></th>\n      <th>count</th>\n      <th>mean</th>\n      <th>std</th>\n      <th>min</th>\n      <th>25%</th>\n      <th>50%</th>\n      <th>75%</th>\n      <th>max</th>\n      <th>count</th>\n      <th>mean</th>\n      <th>...</th>\n      <th>75%</th>\n      <th>max</th>\n      <th>count</th>\n      <th>mean</th>\n      <th>std</th>\n      <th>min</th>\n      <th>25%</th>\n      <th>50%</th>\n      <th>75%</th>\n      <th>max</th>\n    </tr>\n    <tr>\n      <th>Gender</th>\n      <th>Economic Class</th>\n      <th></th>\n      <th></th>\n      <th></th>\n      <th></th>\n      <th></th>\n      <th></th>\n      <th></th>\n      <th></th>\n      <th></th>\n      <th></th>\n      <th></th>\n      <th></th>\n      <th></th>\n      <th></th>\n      <th></th>\n      <th></th>\n      <th></th>\n      <th></th>\n      <th></th>\n      <th></th>\n      <th></th>\n    </tr>\n  </thead>\n  <tbody>\n    <tr>\n      <th rowspan=\"3\" valign=\"top\">Female</th>\n      <th>Lower Class</th>\n      <td>74.0</td>\n      <td>162.809906</td>\n      <td>30.153769</td>\n      <td>100.311372</td>\n      <td>135.660269</td>\n      <td>166.912379</td>\n      <td>181.161552</td>\n      <td>228.781049</td>\n      <td>74.0</td>\n      <td>66.597428</td>\n      <td>...</td>\n      <td>40.433943</td>\n      <td>56.565337</td>\n      <td>74.0</td>\n      <td>17608.829646</td>\n      <td>3060.047160</td>\n      <td>10065.268685</td>\n      <td>15193.208963</td>\n      <td>17689.255628</td>\n      <td>19615.786570</td>\n      <td>27460.565953</td>\n    </tr>\n    <tr>\n      <th>Middle Class</th>\n      <td>87.0</td>\n      <td>154.294047</td>\n      <td>35.167841</td>\n      <td>73.942746</td>\n      <td>127.603268</td>\n      <td>153.882418</td>\n      <td>175.671949</td>\n      <td>226.293751</td>\n      <td>87.0</td>\n      <td>67.398466</td>\n      <td>...</td>\n      <td>36.273270</td>\n      <td>67.041872</td>\n      <td>87.0</td>\n      <td>17769.919500</td>\n      <td>3689.257259</td>\n      <td>7404.322587</td>\n      <td>15506.580409</td>\n      <td>17767.546466</td>\n      <td>19740.376091</td>\n      <td>28456.797417</td>\n    </tr>\n    <tr>\n      <th>Uper Class</th>\n      <td>97.0</td>\n      <td>161.248952</td>\n      <td>28.581315</td>\n      <td>79.968488</td>\n      <td>143.152950</td>\n      <td>160.197775</td>\n      <td>181.825560</td>\n      <td>251.242699</td>\n      <td>97.0</td>\n      <td>71.094427</td>\n      <td>...</td>\n      <td>39.231519</td>\n      <td>55.058155</td>\n      <td>97.0</td>\n      <td>18055.659406</td>\n      <td>3096.380984</td>\n      <td>10401.719297</td>\n      <td>15983.988690</td>\n      <td>17545.844305</td>\n      <td>19782.048519</td>\n      <td>25368.300693</td>\n    </tr>\n    <tr>\n      <th rowspan=\"3\" valign=\"top\">Male</th>\n      <th>Lower Class</th>\n      <td>88.0</td>\n      <td>159.483168</td>\n      <td>26.803499</td>\n      <td>101.361137</td>\n      <td>141.603079</td>\n      <td>162.771673</td>\n      <td>176.282846</td>\n      <td>226.417931</td>\n      <td>88.0</td>\n      <td>65.468945</td>\n      <td>...</td>\n      <td>39.107682</td>\n      <td>56.528609</td>\n      <td>88.0</td>\n      <td>18082.286180</td>\n      <td>3362.896832</td>\n      <td>8084.003767</td>\n      <td>16652.948773</td>\n      <td>18284.272936</td>\n      <td>20160.889811</td>\n      <td>25300.871304</td>\n    </tr>\n    <tr>\n      <th>Middle Class</th>\n      <td>82.0</td>\n      <td>158.278867</td>\n      <td>31.152576</td>\n      <td>64.966628</td>\n      <td>135.638161</td>\n      <td>157.612989</td>\n      <td>179.992859</td>\n      <td>237.428083</td>\n      <td>82.0</td>\n      <td>66.903109</td>\n      <td>...</td>\n      <td>33.199848</td>\n      <td>57.974786</td>\n      <td>82.0</td>\n      <td>18261.268059</td>\n      <td>3375.247223</td>\n      <td>9361.749660</td>\n      <td>16019.951566</td>\n      <td>18523.890374</td>\n      <td>20385.859275</td>\n      <td>26514.741703</td>\n    </tr>\n    <tr>\n      <th>Uper Class</th>\n      <td>72.0</td>\n      <td>153.403469</td>\n      <td>26.007972</td>\n      <td>103.126269</td>\n      <td>133.758972</td>\n      <td>153.778220</td>\n      <td>173.220057</td>\n      <td>214.904860</td>\n      <td>72.0</td>\n      <td>65.872278</td>\n      <td>...</td>\n      <td>35.828917</td>\n      <td>48.775869</td>\n      <td>72.0</td>\n      <td>18262.954874</td>\n      <td>3821.773787</td>\n      <td>9018.899452</td>\n      <td>15606.623421</td>\n      <td>18435.914174</td>\n      <td>21144.444194</td>\n      <td>26528.014355</td>\n    </tr>\n  </tbody>\n</table>\n<p>6 rows × 32 columns</p>\n</div>"
     },
     "metadata": {},
     "execution_count": 21
    }
   ],
   "source": [
    "double_group.describe()"
   ]
  },
  {
   "cell_type": "code",
   "execution_count": 22,
   "metadata": {},
   "outputs": [
    {
     "output_type": "execute_result",
     "data": {
      "text/plain": "                       count          mean          std           min  \\\nGender Economic Class                                                   \nFemale Lower Class      74.0  17608.829646  3060.047160  10065.268685   \n       Middle Class     87.0  17769.919500  3689.257259   7404.322587   \n       Uper Class       97.0  18055.659406  3096.380984  10401.719297   \nMale   Lower Class      88.0  18082.286180  3362.896832   8084.003767   \n       Middle Class     82.0  18261.268059  3375.247223   9361.749660   \n       Uper Class       72.0  18262.954874  3821.773787   9018.899452   \n\n                                25%           50%           75%           max  \nGender Economic Class                                                          \nFemale Lower Class     15193.208963  17689.255628  19615.786570  27460.565953  \n       Middle Class    15506.580409  17767.546466  19740.376091  28456.797417  \n       Uper Class      15983.988690  17545.844305  19782.048519  25368.300693  \nMale   Lower Class     16652.948773  18284.272936  20160.889811  25300.871304  \n       Middle Class    16019.951566  18523.890374  20385.859275  26514.741703  \n       Uper Class      15606.623421  18435.914174  21144.444194  26528.014355  ",
      "text/html": "<div>\n<style scoped>\n    .dataframe tbody tr th:only-of-type {\n        vertical-align: middle;\n    }\n\n    .dataframe tbody tr th {\n        vertical-align: top;\n    }\n\n    .dataframe thead th {\n        text-align: right;\n    }\n</style>\n<table border=\"1\" class=\"dataframe\">\n  <thead>\n    <tr style=\"text-align: right;\">\n      <th></th>\n      <th></th>\n      <th>count</th>\n      <th>mean</th>\n      <th>std</th>\n      <th>min</th>\n      <th>25%</th>\n      <th>50%</th>\n      <th>75%</th>\n      <th>max</th>\n    </tr>\n    <tr>\n      <th>Gender</th>\n      <th>Economic Class</th>\n      <th></th>\n      <th></th>\n      <th></th>\n      <th></th>\n      <th></th>\n      <th></th>\n      <th></th>\n      <th></th>\n    </tr>\n  </thead>\n  <tbody>\n    <tr>\n      <th rowspan=\"3\" valign=\"top\">Female</th>\n      <th>Lower Class</th>\n      <td>74.0</td>\n      <td>17608.829646</td>\n      <td>3060.047160</td>\n      <td>10065.268685</td>\n      <td>15193.208963</td>\n      <td>17689.255628</td>\n      <td>19615.786570</td>\n      <td>27460.565953</td>\n    </tr>\n    <tr>\n      <th>Middle Class</th>\n      <td>87.0</td>\n      <td>17769.919500</td>\n      <td>3689.257259</td>\n      <td>7404.322587</td>\n      <td>15506.580409</td>\n      <td>17767.546466</td>\n      <td>19740.376091</td>\n      <td>28456.797417</td>\n    </tr>\n    <tr>\n      <th>Uper Class</th>\n      <td>97.0</td>\n      <td>18055.659406</td>\n      <td>3096.380984</td>\n      <td>10401.719297</td>\n      <td>15983.988690</td>\n      <td>17545.844305</td>\n      <td>19782.048519</td>\n      <td>25368.300693</td>\n    </tr>\n    <tr>\n      <th rowspan=\"3\" valign=\"top\">Male</th>\n      <th>Lower Class</th>\n      <td>88.0</td>\n      <td>18082.286180</td>\n      <td>3362.896832</td>\n      <td>8084.003767</td>\n      <td>16652.948773</td>\n      <td>18284.272936</td>\n      <td>20160.889811</td>\n      <td>25300.871304</td>\n    </tr>\n    <tr>\n      <th>Middle Class</th>\n      <td>82.0</td>\n      <td>18261.268059</td>\n      <td>3375.247223</td>\n      <td>9361.749660</td>\n      <td>16019.951566</td>\n      <td>18523.890374</td>\n      <td>20385.859275</td>\n      <td>26514.741703</td>\n    </tr>\n    <tr>\n      <th>Uper Class</th>\n      <td>72.0</td>\n      <td>18262.954874</td>\n      <td>3821.773787</td>\n      <td>9018.899452</td>\n      <td>15606.623421</td>\n      <td>18435.914174</td>\n      <td>21144.444194</td>\n      <td>26528.014355</td>\n    </tr>\n  </tbody>\n</table>\n</div>"
     },
     "metadata": {},
     "execution_count": 22
    }
   ],
   "source": [
    "double_group[\"Income\"].describe()"
   ]
  },
  {
   "cell_type": "code",
   "execution_count": 23,
   "metadata": {},
   "outputs": [
    {
     "output_type": "execute_result",
     "data": {
      "text/plain": "                             Income        Age      Hight\nGender Economic Class                                    \nFemale Lower Class     1.303053e+06  31.183592  30.153769\n       Middle Class    1.545983e+06  28.341662  35.167841\n       Uper Class      1.751399e+06  30.141724  28.581315\nMale   Lower Class     1.591241e+06  29.461474  26.803499\n       Middle Class    1.497424e+06  26.027407  31.152576\n       Uper Class      1.314933e+06  28.160012  26.007972",
      "text/html": "<div>\n<style scoped>\n    .dataframe tbody tr th:only-of-type {\n        vertical-align: middle;\n    }\n\n    .dataframe tbody tr th {\n        vertical-align: top;\n    }\n\n    .dataframe thead th {\n        text-align: right;\n    }\n</style>\n<table border=\"1\" class=\"dataframe\">\n  <thead>\n    <tr style=\"text-align: right;\">\n      <th></th>\n      <th></th>\n      <th>Income</th>\n      <th>Age</th>\n      <th>Hight</th>\n    </tr>\n    <tr>\n      <th>Gender</th>\n      <th>Economic Class</th>\n      <th></th>\n      <th></th>\n      <th></th>\n    </tr>\n  </thead>\n  <tbody>\n    <tr>\n      <th rowspan=\"3\" valign=\"top\">Female</th>\n      <th>Lower Class</th>\n      <td>1.303053e+06</td>\n      <td>31.183592</td>\n      <td>30.153769</td>\n    </tr>\n    <tr>\n      <th>Middle Class</th>\n      <td>1.545983e+06</td>\n      <td>28.341662</td>\n      <td>35.167841</td>\n    </tr>\n    <tr>\n      <th>Uper Class</th>\n      <td>1.751399e+06</td>\n      <td>30.141724</td>\n      <td>28.581315</td>\n    </tr>\n    <tr>\n      <th rowspan=\"3\" valign=\"top\">Male</th>\n      <th>Lower Class</th>\n      <td>1.591241e+06</td>\n      <td>29.461474</td>\n      <td>26.803499</td>\n    </tr>\n    <tr>\n      <th>Middle Class</th>\n      <td>1.497424e+06</td>\n      <td>26.027407</td>\n      <td>31.152576</td>\n    </tr>\n    <tr>\n      <th>Uper Class</th>\n      <td>1.314933e+06</td>\n      <td>28.160012</td>\n      <td>26.007972</td>\n    </tr>\n  </tbody>\n</table>\n</div>"
     },
     "metadata": {},
     "execution_count": 23
    }
   ],
   "source": [
    "double_group.aggregate(\n",
    "    {\n",
    "        \"Income\" : np.sum,\n",
    "        \"Age\" : np.mean,\n",
    "        \"Hight\" : np.std # Es Height\n",
    "    }\n",
    ")"
   ]
  },
  {
   "cell_type": "code",
   "execution_count": 24,
   "metadata": {},
   "outputs": [],
   "source": [
    "def estandarizacion (mean, std, value):\n",
    "    return (value - mean)/std"
   ]
  },
  {
   "cell_type": "code",
   "execution_count": 25,
   "metadata": {},
   "outputs": [
    {
     "output_type": "execute_result",
     "data": {
      "text/plain": "                             Age     Hight\nGender Economic Class                     \nFemale Lower Class     31.183592  5.436178\n       Middle Class    28.341662  4.412796\n       Uper Class      30.141724  5.671069\nMale   Lower Class     29.461474  5.984186\n       Middle Class    26.027407  5.112030\n       Uper Class      28.160012  5.939717",
      "text/html": "<div>\n<style scoped>\n    .dataframe tbody tr th:only-of-type {\n        vertical-align: middle;\n    }\n\n    .dataframe tbody tr th {\n        vertical-align: top;\n    }\n\n    .dataframe thead th {\n        text-align: right;\n    }\n</style>\n<table border=\"1\" class=\"dataframe\">\n  <thead>\n    <tr style=\"text-align: right;\">\n      <th></th>\n      <th></th>\n      <th>Age</th>\n      <th>Hight</th>\n    </tr>\n    <tr>\n      <th>Gender</th>\n      <th>Economic Class</th>\n      <th></th>\n      <th></th>\n    </tr>\n  </thead>\n  <tbody>\n    <tr>\n      <th rowspan=\"3\" valign=\"top\">Female</th>\n      <th>Lower Class</th>\n      <td>31.183592</td>\n      <td>5.436178</td>\n    </tr>\n    <tr>\n      <th>Middle Class</th>\n      <td>28.341662</td>\n      <td>4.412796</td>\n    </tr>\n    <tr>\n      <th>Uper Class</th>\n      <td>30.141724</td>\n      <td>5.671069</td>\n    </tr>\n    <tr>\n      <th rowspan=\"3\" valign=\"top\">Male</th>\n      <th>Lower Class</th>\n      <td>29.461474</td>\n      <td>5.984186</td>\n    </tr>\n    <tr>\n      <th>Middle Class</th>\n      <td>26.027407</td>\n      <td>5.112030</td>\n    </tr>\n    <tr>\n      <th>Uper Class</th>\n      <td>28.160012</td>\n      <td>5.939717</td>\n    </tr>\n  </tbody>\n</table>\n</div>"
     },
     "metadata": {},
     "execution_count": 25
    }
   ],
   "source": [
    "double_group.aggregate( # Operaciones con conjuntos\n",
    "    {\n",
    "        \"Age\" : np.mean,\n",
    "        \"Hight\" : lambda h :(np.mean(h))/np.std(h)\n",
    "    }\n",
    ")"
   ]
  },
  {
   "cell_type": "code",
   "execution_count": 26,
   "metadata": {},
   "outputs": [
    {
     "output_type": "execute_result",
     "data": {
      "text/plain": "                              Hight                              Weight  \\\n                                sum        mean        std          sum   \nGender Economic Class                                                     \nFemale Lower Class     12047.933056  162.809906  30.153769  4928.209666   \n       Middle Class    13423.582052  154.294047  35.167841  5863.666538   \n       Uper Class      15641.148340  161.248952  28.581315  6896.159396   \nMale   Lower Class     14034.518810  159.483168  26.803499  5761.267145   \n       Middle Class    12978.867080  158.278867  31.152576  5486.054948   \n       Uper Class      11045.049780  153.403469  26.007972  4742.804031   \n\n                                                     Age             \\\n                            mean        std          sum       mean   \nGender Economic Class                                                 \nFemale Lower Class     66.597428  26.789555  2307.585791  31.183592   \n       Middle Class    67.398466  26.058058  2465.724602  28.341662   \n       Uper Class      71.094427  23.384209  2923.747271  30.141724   \nMale   Lower Class     65.468945  24.855187  2592.609697  29.461474   \n       Middle Class    66.903109  26.376931  2134.247381  26.027407   \n       Uper Class      65.872278  25.618875  2027.520868  28.160012   \n\n                                        Income                             \n                             std           sum          mean          std  \nGender Economic Class                                                      \nFemale Lower Class     11.129739  1.303053e+06  17608.829646  3060.047160  \n       Middle Class    13.797949  1.545983e+06  17769.919500  3689.257259  \n       Uper Class      12.630425  1.751399e+06  18055.659406  3096.380984  \nMale   Lower Class     11.778938  1.591241e+06  18082.286180  3362.896832  \n       Middle Class    12.027823  1.497424e+06  18261.268059  3375.247223  \n       Uper Class      10.520035  1.314933e+06  18262.954874  3821.773787  ",
      "text/html": "<div>\n<style scoped>\n    .dataframe tbody tr th:only-of-type {\n        vertical-align: middle;\n    }\n\n    .dataframe tbody tr th {\n        vertical-align: top;\n    }\n\n    .dataframe thead tr th {\n        text-align: left;\n    }\n\n    .dataframe thead tr:last-of-type th {\n        text-align: right;\n    }\n</style>\n<table border=\"1\" class=\"dataframe\">\n  <thead>\n    <tr>\n      <th></th>\n      <th></th>\n      <th colspan=\"3\" halign=\"left\">Hight</th>\n      <th colspan=\"3\" halign=\"left\">Weight</th>\n      <th colspan=\"3\" halign=\"left\">Age</th>\n      <th colspan=\"3\" halign=\"left\">Income</th>\n    </tr>\n    <tr>\n      <th></th>\n      <th></th>\n      <th>sum</th>\n      <th>mean</th>\n      <th>std</th>\n      <th>sum</th>\n      <th>mean</th>\n      <th>std</th>\n      <th>sum</th>\n      <th>mean</th>\n      <th>std</th>\n      <th>sum</th>\n      <th>mean</th>\n      <th>std</th>\n    </tr>\n    <tr>\n      <th>Gender</th>\n      <th>Economic Class</th>\n      <th></th>\n      <th></th>\n      <th></th>\n      <th></th>\n      <th></th>\n      <th></th>\n      <th></th>\n      <th></th>\n      <th></th>\n      <th></th>\n      <th></th>\n      <th></th>\n    </tr>\n  </thead>\n  <tbody>\n    <tr>\n      <th rowspan=\"3\" valign=\"top\">Female</th>\n      <th>Lower Class</th>\n      <td>12047.933056</td>\n      <td>162.809906</td>\n      <td>30.153769</td>\n      <td>4928.209666</td>\n      <td>66.597428</td>\n      <td>26.789555</td>\n      <td>2307.585791</td>\n      <td>31.183592</td>\n      <td>11.129739</td>\n      <td>1.303053e+06</td>\n      <td>17608.829646</td>\n      <td>3060.047160</td>\n    </tr>\n    <tr>\n      <th>Middle Class</th>\n      <td>13423.582052</td>\n      <td>154.294047</td>\n      <td>35.167841</td>\n      <td>5863.666538</td>\n      <td>67.398466</td>\n      <td>26.058058</td>\n      <td>2465.724602</td>\n      <td>28.341662</td>\n      <td>13.797949</td>\n      <td>1.545983e+06</td>\n      <td>17769.919500</td>\n      <td>3689.257259</td>\n    </tr>\n    <tr>\n      <th>Uper Class</th>\n      <td>15641.148340</td>\n      <td>161.248952</td>\n      <td>28.581315</td>\n      <td>6896.159396</td>\n      <td>71.094427</td>\n      <td>23.384209</td>\n      <td>2923.747271</td>\n      <td>30.141724</td>\n      <td>12.630425</td>\n      <td>1.751399e+06</td>\n      <td>18055.659406</td>\n      <td>3096.380984</td>\n    </tr>\n    <tr>\n      <th rowspan=\"3\" valign=\"top\">Male</th>\n      <th>Lower Class</th>\n      <td>14034.518810</td>\n      <td>159.483168</td>\n      <td>26.803499</td>\n      <td>5761.267145</td>\n      <td>65.468945</td>\n      <td>24.855187</td>\n      <td>2592.609697</td>\n      <td>29.461474</td>\n      <td>11.778938</td>\n      <td>1.591241e+06</td>\n      <td>18082.286180</td>\n      <td>3362.896832</td>\n    </tr>\n    <tr>\n      <th>Middle Class</th>\n      <td>12978.867080</td>\n      <td>158.278867</td>\n      <td>31.152576</td>\n      <td>5486.054948</td>\n      <td>66.903109</td>\n      <td>26.376931</td>\n      <td>2134.247381</td>\n      <td>26.027407</td>\n      <td>12.027823</td>\n      <td>1.497424e+06</td>\n      <td>18261.268059</td>\n      <td>3375.247223</td>\n    </tr>\n    <tr>\n      <th>Uper Class</th>\n      <td>11045.049780</td>\n      <td>153.403469</td>\n      <td>26.007972</td>\n      <td>4742.804031</td>\n      <td>65.872278</td>\n      <td>25.618875</td>\n      <td>2027.520868</td>\n      <td>28.160012</td>\n      <td>10.520035</td>\n      <td>1.314933e+06</td>\n      <td>18262.954874</td>\n      <td>3821.773787</td>\n    </tr>\n  </tbody>\n</table>\n</div>"
     },
     "metadata": {},
     "execution_count": 26
    }
   ],
   "source": [
    "double_group.aggregate([np.sum, np.mean, np.std])"
   ]
  },
  {
   "cell_type": "code",
   "execution_count": 27,
   "metadata": {},
   "outputs": [
    {
     "output_type": "execute_result",
     "data": {
      "text/plain": "                          Hight    Weight       Age    Income\n                       <lambda>  <lambda>  <lambda>  <lambda>\nGender Economic Class                                        \nFemale Lower Class     5.436178  2.502917  2.820951  5.793711\n       Middle Class    4.412796  2.601467  2.065957  4.844589\n       Uper Class      5.671069  3.056069  2.398835  5.861506\nMale   Lower Class     5.984186  2.649110  2.515533  5.407811\n       Middle Class    5.112030  2.552034  2.177250  5.443645\n       Uper Class      5.939717  2.589284  2.695583  4.812194",
      "text/html": "<div>\n<style scoped>\n    .dataframe tbody tr th:only-of-type {\n        vertical-align: middle;\n    }\n\n    .dataframe tbody tr th {\n        vertical-align: top;\n    }\n\n    .dataframe thead tr th {\n        text-align: left;\n    }\n\n    .dataframe thead tr:last-of-type th {\n        text-align: right;\n    }\n</style>\n<table border=\"1\" class=\"dataframe\">\n  <thead>\n    <tr>\n      <th></th>\n      <th></th>\n      <th>Hight</th>\n      <th>Weight</th>\n      <th>Age</th>\n      <th>Income</th>\n    </tr>\n    <tr>\n      <th></th>\n      <th></th>\n      <th>&lt;lambda&gt;</th>\n      <th>&lt;lambda&gt;</th>\n      <th>&lt;lambda&gt;</th>\n      <th>&lt;lambda&gt;</th>\n    </tr>\n    <tr>\n      <th>Gender</th>\n      <th>Economic Class</th>\n      <th></th>\n      <th></th>\n      <th></th>\n      <th></th>\n    </tr>\n  </thead>\n  <tbody>\n    <tr>\n      <th rowspan=\"3\" valign=\"top\">Female</th>\n      <th>Lower Class</th>\n      <td>5.436178</td>\n      <td>2.502917</td>\n      <td>2.820951</td>\n      <td>5.793711</td>\n    </tr>\n    <tr>\n      <th>Middle Class</th>\n      <td>4.412796</td>\n      <td>2.601467</td>\n      <td>2.065957</td>\n      <td>4.844589</td>\n    </tr>\n    <tr>\n      <th>Uper Class</th>\n      <td>5.671069</td>\n      <td>3.056069</td>\n      <td>2.398835</td>\n      <td>5.861506</td>\n    </tr>\n    <tr>\n      <th rowspan=\"3\" valign=\"top\">Male</th>\n      <th>Lower Class</th>\n      <td>5.984186</td>\n      <td>2.649110</td>\n      <td>2.515533</td>\n      <td>5.407811</td>\n    </tr>\n    <tr>\n      <th>Middle Class</th>\n      <td>5.112030</td>\n      <td>2.552034</td>\n      <td>2.177250</td>\n      <td>5.443645</td>\n    </tr>\n    <tr>\n      <th>Uper Class</th>\n      <td>5.939717</td>\n      <td>2.589284</td>\n      <td>2.695583</td>\n      <td>4.812194</td>\n    </tr>\n  </tbody>\n</table>\n</div>"
     },
     "metadata": {},
     "execution_count": 27
    }
   ],
   "source": [
    "double_group.aggregate([lambda x: np.mean(x)/np.std(x)])"
   ]
  },
  {
   "cell_type": "markdown",
   "metadata": {},
   "source": [
    "# Filtrado de Datos"
   ]
  },
  {
   "cell_type": "code",
   "execution_count": 30,
   "metadata": {},
   "outputs": [
    {
     "output_type": "execute_result",
     "data": {
      "text/plain": "                              Hight       Weight          Age        Income\nGender Economic Class                                                      \nFemale Lower Class     12047.933056  4928.209666  2307.585791  1.303053e+06\n       Middle Class    13423.582052  5863.666538  2465.724602  1.545983e+06\n       Uper Class      15641.148340  6896.159396  2923.747271  1.751399e+06\nMale   Lower Class     14034.518810  5761.267145  2592.609697  1.591241e+06\n       Middle Class    12978.867080  5486.054948  2134.247381  1.497424e+06\n       Uper Class      11045.049780  4742.804031  2027.520868  1.314933e+06",
      "text/html": "<div>\n<style scoped>\n    .dataframe tbody tr th:only-of-type {\n        vertical-align: middle;\n    }\n\n    .dataframe tbody tr th {\n        vertical-align: top;\n    }\n\n    .dataframe thead th {\n        text-align: right;\n    }\n</style>\n<table border=\"1\" class=\"dataframe\">\n  <thead>\n    <tr style=\"text-align: right;\">\n      <th></th>\n      <th></th>\n      <th>Hight</th>\n      <th>Weight</th>\n      <th>Age</th>\n      <th>Income</th>\n    </tr>\n    <tr>\n      <th>Gender</th>\n      <th>Economic Class</th>\n      <th></th>\n      <th></th>\n      <th></th>\n      <th></th>\n    </tr>\n  </thead>\n  <tbody>\n    <tr>\n      <th rowspan=\"3\" valign=\"top\">Female</th>\n      <th>Lower Class</th>\n      <td>12047.933056</td>\n      <td>4928.209666</td>\n      <td>2307.585791</td>\n      <td>1.303053e+06</td>\n    </tr>\n    <tr>\n      <th>Middle Class</th>\n      <td>13423.582052</td>\n      <td>5863.666538</td>\n      <td>2465.724602</td>\n      <td>1.545983e+06</td>\n    </tr>\n    <tr>\n      <th>Uper Class</th>\n      <td>15641.148340</td>\n      <td>6896.159396</td>\n      <td>2923.747271</td>\n      <td>1.751399e+06</td>\n    </tr>\n    <tr>\n      <th rowspan=\"3\" valign=\"top\">Male</th>\n      <th>Lower Class</th>\n      <td>14034.518810</td>\n      <td>5761.267145</td>\n      <td>2592.609697</td>\n      <td>1.591241e+06</td>\n    </tr>\n    <tr>\n      <th>Middle Class</th>\n      <td>12978.867080</td>\n      <td>5486.054948</td>\n      <td>2134.247381</td>\n      <td>1.497424e+06</td>\n    </tr>\n    <tr>\n      <th>Uper Class</th>\n      <td>11045.049780</td>\n      <td>4742.804031</td>\n      <td>2027.520868</td>\n      <td>1.314933e+06</td>\n    </tr>\n  </tbody>\n</table>\n</div>"
     },
     "metadata": {},
     "execution_count": 30
    }
   ],
   "source": [
    "double_group.sum()"
   ]
  },
  {
   "cell_type": "code",
   "execution_count": 43,
   "metadata": {},
   "outputs": [
    {
     "output_type": "execute_result",
     "data": {
      "text/plain": "0      23.236044\n2      38.430678\n3      51.933698\n4      51.472360\n6       3.123652\n         ...    \n489    20.623146\n493    48.545850\n494    30.554456\n495     0.652988\n498    27.565326\nName: Age, Length: 272, dtype: float64"
     },
     "metadata": {},
     "execution_count": 43
    }
   ],
   "source": [
    "double_group[\"Age\"].filter(lambda x: x.sum() > 2400) # Filtrar para que la suma supere los 2400"
   ]
  },
  {
   "cell_type": "code",
   "execution_count": 44,
   "metadata": {},
   "outputs": [
    {
     "output_type": "execute_result",
     "data": {
      "text/plain": "Gender  Economic Class\nFemale  Lower Class       74\n        Middle Class      87\n        Uper Class        97\nMale    Lower Class       88\n        Middle Class      82\n        Uper Class        72\nName: Age, dtype: int64"
     },
     "metadata": {},
     "execution_count": 44
    }
   ],
   "source": [
    "double_group[\"Age\"].size()"
   ]
  },
  {
   "cell_type": "markdown",
   "metadata": {},
   "source": [
    "# Transformación de Variables"
   ]
  },
  {
   "cell_type": "code",
   "execution_count": 45,
   "metadata": {},
   "outputs": [],
   "source": [
    "zscore = lambda x : (x - x.mean()) / x.std() # X simboliza una columna"
   ]
  },
  {
   "cell_type": "code",
   "execution_count": 49,
   "metadata": {},
   "outputs": [],
   "source": [
    "zgroup = double_group.transform(zscore)"
   ]
  },
  {
   "cell_type": "code",
   "execution_count": 50,
   "metadata": {},
   "outputs": [
    {
     "output_type": "execute_result",
     "data": {
      "text/plain": "(array([  2.,  18.,  39.,  72., 110., 109.,  75.,  51.,  19.,   5.]),\n array([-2.91329204, -2.34148485, -1.76967766, -1.19787047, -0.62606329,\n        -0.0542561 ,  0.51755109,  1.08935828,  1.66116547,  2.23297266,\n         2.80477985]),\n <a list of 10 Patch objects>)"
     },
     "metadata": {},
     "execution_count": 50
    },
    {
     "output_type": "display_data",
     "data": {
      "text/plain": "<Figure size 432x288 with 1 Axes>",
      "image/svg+xml": "<?xml version=\"1.0\" encoding=\"utf-8\" standalone=\"no\"?>\r\n<!DOCTYPE svg PUBLIC \"-//W3C//DTD SVG 1.1//EN\"\r\n  \"http://www.w3.org/Graphics/SVG/1.1/DTD/svg11.dtd\">\r\n<!-- Created with matplotlib (https://matplotlib.org/) -->\r\n<svg height=\"248.518125pt\" version=\"1.1\" viewBox=\"0 0 375.2875 248.518125\" width=\"375.2875pt\" xmlns=\"http://www.w3.org/2000/svg\" xmlns:xlink=\"http://www.w3.org/1999/xlink\">\r\n <defs>\r\n  <style type=\"text/css\">\r\n*{stroke-linecap:butt;stroke-linejoin:round;}\r\n  </style>\r\n </defs>\r\n <g id=\"figure_1\">\r\n  <g id=\"patch_1\">\r\n   <path d=\"M 0 248.518125 \r\nL 375.2875 248.518125 \r\nL 375.2875 0 \r\nL 0 0 \r\nz\r\n\" style=\"fill:none;\"/>\r\n  </g>\r\n  <g id=\"axes_1\">\r\n   <g id=\"patch_2\">\r\n    <path d=\"M 33.2875 224.64 \r\nL 368.0875 224.64 \r\nL 368.0875 7.2 \r\nL 33.2875 7.2 \r\nz\r\n\" style=\"fill:#ffffff;\"/>\r\n   </g>\r\n   <g id=\"patch_3\">\r\n    <path clip-path=\"url(#p761def11db)\" d=\"M 48.505682 224.64 \r\nL 78.942045 224.64 \r\nL 78.942045 220.874805 \r\nL 48.505682 220.874805 \r\nz\r\n\" style=\"fill:#1f77b4;\"/>\r\n   </g>\r\n   <g id=\"patch_4\">\r\n    <path clip-path=\"url(#p761def11db)\" d=\"M 78.942045 224.64 \r\nL 109.378409 224.64 \r\nL 109.378409 190.753247 \r\nL 78.942045 190.753247 \r\nz\r\n\" style=\"fill:#1f77b4;\"/>\r\n   </g>\r\n   <g id=\"patch_5\">\r\n    <path clip-path=\"url(#p761def11db)\" d=\"M 109.378409 224.64 \r\nL 139.814773 224.64 \r\nL 139.814773 151.218701 \r\nL 109.378409 151.218701 \r\nz\r\n\" style=\"fill:#1f77b4;\"/>\r\n   </g>\r\n   <g id=\"patch_6\">\r\n    <path clip-path=\"url(#p761def11db)\" d=\"M 139.814773 224.64 \r\nL 170.251136 224.64 \r\nL 170.251136 89.092987 \r\nL 139.814773 89.092987 \r\nz\r\n\" style=\"fill:#1f77b4;\"/>\r\n   </g>\r\n   <g id=\"patch_7\">\r\n    <path clip-path=\"url(#p761def11db)\" d=\"M 170.251136 224.64 \r\nL 200.6875 224.64 \r\nL 200.6875 17.554286 \r\nL 170.251136 17.554286 \r\nz\r\n\" style=\"fill:#1f77b4;\"/>\r\n   </g>\r\n   <g id=\"patch_8\">\r\n    <path clip-path=\"url(#p761def11db)\" d=\"M 200.6875 224.64 \r\nL 231.123864 224.64 \r\nL 231.123864 19.436883 \r\nL 200.6875 19.436883 \r\nz\r\n\" style=\"fill:#1f77b4;\"/>\r\n   </g>\r\n   <g id=\"patch_9\">\r\n    <path clip-path=\"url(#p761def11db)\" d=\"M 231.123864 224.64 \r\nL 261.560227 224.64 \r\nL 261.560227 83.445195 \r\nL 231.123864 83.445195 \r\nz\r\n\" style=\"fill:#1f77b4;\"/>\r\n   </g>\r\n   <g id=\"patch_10\">\r\n    <path clip-path=\"url(#p761def11db)\" d=\"M 261.560227 224.64 \r\nL 291.996591 224.64 \r\nL 291.996591 128.627532 \r\nL 261.560227 128.627532 \r\nz\r\n\" style=\"fill:#1f77b4;\"/>\r\n   </g>\r\n   <g id=\"patch_11\">\r\n    <path clip-path=\"url(#p761def11db)\" d=\"M 291.996591 224.64 \r\nL 322.432955 224.64 \r\nL 322.432955 188.870649 \r\nL 291.996591 188.870649 \r\nz\r\n\" style=\"fill:#1f77b4;\"/>\r\n   </g>\r\n   <g id=\"patch_12\">\r\n    <path clip-path=\"url(#p761def11db)\" d=\"M 322.432955 224.64 \r\nL 352.869318 224.64 \r\nL 352.869318 215.227013 \r\nL 322.432955 215.227013 \r\nz\r\n\" style=\"fill:#1f77b4;\"/>\r\n   </g>\r\n   <g id=\"matplotlib.axis_1\">\r\n    <g id=\"xtick_1\">\r\n     <g id=\"line2d_1\">\r\n      <defs>\r\n       <path d=\"M 0 0 \r\nL 0 3.5 \r\n\" id=\"mcf0d5b3280\" style=\"stroke:#000000;stroke-width:0.8;\"/>\r\n      </defs>\r\n      <g>\r\n       <use style=\"stroke:#000000;stroke-width:0.8;\" x=\"43.890359\" xlink:href=\"#mcf0d5b3280\" y=\"224.64\"/>\r\n      </g>\r\n     </g>\r\n     <g id=\"text_1\">\r\n      <!-- −3 -->\r\n      <defs>\r\n       <path d=\"M 10.59375 35.5 \r\nL 73.1875 35.5 \r\nL 73.1875 27.203125 \r\nL 10.59375 27.203125 \r\nz\r\n\" id=\"DejaVuSans-8722\"/>\r\n       <path d=\"M 40.578125 39.3125 \r\nQ 47.65625 37.796875 51.625 33 \r\nQ 55.609375 28.21875 55.609375 21.1875 \r\nQ 55.609375 10.40625 48.1875 4.484375 \r\nQ 40.765625 -1.421875 27.09375 -1.421875 \r\nQ 22.515625 -1.421875 17.65625 -0.515625 \r\nQ 12.796875 0.390625 7.625 2.203125 \r\nL 7.625 11.71875 \r\nQ 11.71875 9.328125 16.59375 8.109375 \r\nQ 21.484375 6.890625 26.8125 6.890625 \r\nQ 36.078125 6.890625 40.9375 10.546875 \r\nQ 45.796875 14.203125 45.796875 21.1875 \r\nQ 45.796875 27.640625 41.28125 31.265625 \r\nQ 36.765625 34.90625 28.71875 34.90625 \r\nL 20.21875 34.90625 \r\nL 20.21875 43.015625 \r\nL 29.109375 43.015625 \r\nQ 36.375 43.015625 40.234375 45.921875 \r\nQ 44.09375 48.828125 44.09375 54.296875 \r\nQ 44.09375 59.90625 40.109375 62.90625 \r\nQ 36.140625 65.921875 28.71875 65.921875 \r\nQ 24.65625 65.921875 20.015625 65.03125 \r\nQ 15.375 64.15625 9.8125 62.3125 \r\nL 9.8125 71.09375 \r\nQ 15.4375 72.65625 20.34375 73.4375 \r\nQ 25.25 74.21875 29.59375 74.21875 \r\nQ 40.828125 74.21875 47.359375 69.109375 \r\nQ 53.90625 64.015625 53.90625 55.328125 \r\nQ 53.90625 49.265625 50.4375 45.09375 \r\nQ 46.96875 40.921875 40.578125 39.3125 \r\nz\r\n\" id=\"DejaVuSans-51\"/>\r\n      </defs>\r\n      <g transform=\"translate(36.519265 239.238437)scale(0.1 -0.1)\">\r\n       <use xlink:href=\"#DejaVuSans-8722\"/>\r\n       <use x=\"83.789062\" xlink:href=\"#DejaVuSans-51\"/>\r\n      </g>\r\n     </g>\r\n    </g>\r\n    <g id=\"xtick_2\">\r\n     <g id=\"line2d_2\">\r\n      <g>\r\n       <use style=\"stroke:#000000;stroke-width:0.8;\" x=\"97.118727\" xlink:href=\"#mcf0d5b3280\" y=\"224.64\"/>\r\n      </g>\r\n     </g>\r\n     <g id=\"text_2\">\r\n      <!-- −2 -->\r\n      <defs>\r\n       <path d=\"M 19.1875 8.296875 \r\nL 53.609375 8.296875 \r\nL 53.609375 0 \r\nL 7.328125 0 \r\nL 7.328125 8.296875 \r\nQ 12.9375 14.109375 22.625 23.890625 \r\nQ 32.328125 33.6875 34.8125 36.53125 \r\nQ 39.546875 41.84375 41.421875 45.53125 \r\nQ 43.3125 49.21875 43.3125 52.78125 \r\nQ 43.3125 58.59375 39.234375 62.25 \r\nQ 35.15625 65.921875 28.609375 65.921875 \r\nQ 23.96875 65.921875 18.8125 64.3125 \r\nQ 13.671875 62.703125 7.8125 59.421875 \r\nL 7.8125 69.390625 \r\nQ 13.765625 71.78125 18.9375 73 \r\nQ 24.125 74.21875 28.421875 74.21875 \r\nQ 39.75 74.21875 46.484375 68.546875 \r\nQ 53.21875 62.890625 53.21875 53.421875 \r\nQ 53.21875 48.921875 51.53125 44.890625 \r\nQ 49.859375 40.875 45.40625 35.40625 \r\nQ 44.1875 33.984375 37.640625 27.21875 \r\nQ 31.109375 20.453125 19.1875 8.296875 \r\nz\r\n\" id=\"DejaVuSans-50\"/>\r\n      </defs>\r\n      <g transform=\"translate(89.747633 239.238437)scale(0.1 -0.1)\">\r\n       <use xlink:href=\"#DejaVuSans-8722\"/>\r\n       <use x=\"83.789062\" xlink:href=\"#DejaVuSans-50\"/>\r\n      </g>\r\n     </g>\r\n    </g>\r\n    <g id=\"xtick_3\">\r\n     <g id=\"line2d_3\">\r\n      <g>\r\n       <use style=\"stroke:#000000;stroke-width:0.8;\" x=\"150.347095\" xlink:href=\"#mcf0d5b3280\" y=\"224.64\"/>\r\n      </g>\r\n     </g>\r\n     <g id=\"text_3\">\r\n      <!-- −1 -->\r\n      <defs>\r\n       <path d=\"M 12.40625 8.296875 \r\nL 28.515625 8.296875 \r\nL 28.515625 63.921875 \r\nL 10.984375 60.40625 \r\nL 10.984375 69.390625 \r\nL 28.421875 72.90625 \r\nL 38.28125 72.90625 \r\nL 38.28125 8.296875 \r\nL 54.390625 8.296875 \r\nL 54.390625 0 \r\nL 12.40625 0 \r\nz\r\n\" id=\"DejaVuSans-49\"/>\r\n      </defs>\r\n      <g transform=\"translate(142.976001 239.238437)scale(0.1 -0.1)\">\r\n       <use xlink:href=\"#DejaVuSans-8722\"/>\r\n       <use x=\"83.789062\" xlink:href=\"#DejaVuSans-49\"/>\r\n      </g>\r\n     </g>\r\n    </g>\r\n    <g id=\"xtick_4\">\r\n     <g id=\"line2d_4\">\r\n      <g>\r\n       <use style=\"stroke:#000000;stroke-width:0.8;\" x=\"203.575464\" xlink:href=\"#mcf0d5b3280\" y=\"224.64\"/>\r\n      </g>\r\n     </g>\r\n     <g id=\"text_4\">\r\n      <!-- 0 -->\r\n      <defs>\r\n       <path d=\"M 31.78125 66.40625 \r\nQ 24.171875 66.40625 20.328125 58.90625 \r\nQ 16.5 51.421875 16.5 36.375 \r\nQ 16.5 21.390625 20.328125 13.890625 \r\nQ 24.171875 6.390625 31.78125 6.390625 \r\nQ 39.453125 6.390625 43.28125 13.890625 \r\nQ 47.125 21.390625 47.125 36.375 \r\nQ 47.125 51.421875 43.28125 58.90625 \r\nQ 39.453125 66.40625 31.78125 66.40625 \r\nz\r\nM 31.78125 74.21875 \r\nQ 44.046875 74.21875 50.515625 64.515625 \r\nQ 56.984375 54.828125 56.984375 36.375 \r\nQ 56.984375 17.96875 50.515625 8.265625 \r\nQ 44.046875 -1.421875 31.78125 -1.421875 \r\nQ 19.53125 -1.421875 13.0625 8.265625 \r\nQ 6.59375 17.96875 6.59375 36.375 \r\nQ 6.59375 54.828125 13.0625 64.515625 \r\nQ 19.53125 74.21875 31.78125 74.21875 \r\nz\r\n\" id=\"DejaVuSans-48\"/>\r\n      </defs>\r\n      <g transform=\"translate(200.394214 239.238437)scale(0.1 -0.1)\">\r\n       <use xlink:href=\"#DejaVuSans-48\"/>\r\n      </g>\r\n     </g>\r\n    </g>\r\n    <g id=\"xtick_5\">\r\n     <g id=\"line2d_5\">\r\n      <g>\r\n       <use style=\"stroke:#000000;stroke-width:0.8;\" x=\"256.803832\" xlink:href=\"#mcf0d5b3280\" y=\"224.64\"/>\r\n      </g>\r\n     </g>\r\n     <g id=\"text_5\">\r\n      <!-- 1 -->\r\n      <g transform=\"translate(253.622582 239.238437)scale(0.1 -0.1)\">\r\n       <use xlink:href=\"#DejaVuSans-49\"/>\r\n      </g>\r\n     </g>\r\n    </g>\r\n    <g id=\"xtick_6\">\r\n     <g id=\"line2d_6\">\r\n      <g>\r\n       <use style=\"stroke:#000000;stroke-width:0.8;\" x=\"310.0322\" xlink:href=\"#mcf0d5b3280\" y=\"224.64\"/>\r\n      </g>\r\n     </g>\r\n     <g id=\"text_6\">\r\n      <!-- 2 -->\r\n      <g transform=\"translate(306.85095 239.238437)scale(0.1 -0.1)\">\r\n       <use xlink:href=\"#DejaVuSans-50\"/>\r\n      </g>\r\n     </g>\r\n    </g>\r\n    <g id=\"xtick_7\">\r\n     <g id=\"line2d_7\">\r\n      <g>\r\n       <use style=\"stroke:#000000;stroke-width:0.8;\" x=\"363.260568\" xlink:href=\"#mcf0d5b3280\" y=\"224.64\"/>\r\n      </g>\r\n     </g>\r\n     <g id=\"text_7\">\r\n      <!-- 3 -->\r\n      <g transform=\"translate(360.079318 239.238437)scale(0.1 -0.1)\">\r\n       <use xlink:href=\"#DejaVuSans-51\"/>\r\n      </g>\r\n     </g>\r\n    </g>\r\n   </g>\r\n   <g id=\"matplotlib.axis_2\">\r\n    <g id=\"ytick_1\">\r\n     <g id=\"line2d_8\">\r\n      <defs>\r\n       <path d=\"M 0 0 \r\nL -3.5 0 \r\n\" id=\"maeee0e5e5d\" style=\"stroke:#000000;stroke-width:0.8;\"/>\r\n      </defs>\r\n      <g>\r\n       <use style=\"stroke:#000000;stroke-width:0.8;\" x=\"33.2875\" xlink:href=\"#maeee0e5e5d\" y=\"224.64\"/>\r\n      </g>\r\n     </g>\r\n     <g id=\"text_8\">\r\n      <!-- 0 -->\r\n      <g transform=\"translate(19.925 228.439219)scale(0.1 -0.1)\">\r\n       <use xlink:href=\"#DejaVuSans-48\"/>\r\n      </g>\r\n     </g>\r\n    </g>\r\n    <g id=\"ytick_2\">\r\n     <g id=\"line2d_9\">\r\n      <g>\r\n       <use style=\"stroke:#000000;stroke-width:0.8;\" x=\"33.2875\" xlink:href=\"#maeee0e5e5d\" y=\"186.988052\"/>\r\n      </g>\r\n     </g>\r\n     <g id=\"text_9\">\r\n      <!-- 20 -->\r\n      <g transform=\"translate(13.5625 190.787271)scale(0.1 -0.1)\">\r\n       <use xlink:href=\"#DejaVuSans-50\"/>\r\n       <use x=\"63.623047\" xlink:href=\"#DejaVuSans-48\"/>\r\n      </g>\r\n     </g>\r\n    </g>\r\n    <g id=\"ytick_3\">\r\n     <g id=\"line2d_10\">\r\n      <g>\r\n       <use style=\"stroke:#000000;stroke-width:0.8;\" x=\"33.2875\" xlink:href=\"#maeee0e5e5d\" y=\"149.336104\"/>\r\n      </g>\r\n     </g>\r\n     <g id=\"text_10\">\r\n      <!-- 40 -->\r\n      <defs>\r\n       <path d=\"M 37.796875 64.3125 \r\nL 12.890625 25.390625 \r\nL 37.796875 25.390625 \r\nz\r\nM 35.203125 72.90625 \r\nL 47.609375 72.90625 \r\nL 47.609375 25.390625 \r\nL 58.015625 25.390625 \r\nL 58.015625 17.1875 \r\nL 47.609375 17.1875 \r\nL 47.609375 0 \r\nL 37.796875 0 \r\nL 37.796875 17.1875 \r\nL 4.890625 17.1875 \r\nL 4.890625 26.703125 \r\nz\r\n\" id=\"DejaVuSans-52\"/>\r\n      </defs>\r\n      <g transform=\"translate(13.5625 153.135323)scale(0.1 -0.1)\">\r\n       <use xlink:href=\"#DejaVuSans-52\"/>\r\n       <use x=\"63.623047\" xlink:href=\"#DejaVuSans-48\"/>\r\n      </g>\r\n     </g>\r\n    </g>\r\n    <g id=\"ytick_4\">\r\n     <g id=\"line2d_11\">\r\n      <g>\r\n       <use style=\"stroke:#000000;stroke-width:0.8;\" x=\"33.2875\" xlink:href=\"#maeee0e5e5d\" y=\"111.684156\"/>\r\n      </g>\r\n     </g>\r\n     <g id=\"text_11\">\r\n      <!-- 60 -->\r\n      <defs>\r\n       <path d=\"M 33.015625 40.375 \r\nQ 26.375 40.375 22.484375 35.828125 \r\nQ 18.609375 31.296875 18.609375 23.390625 \r\nQ 18.609375 15.53125 22.484375 10.953125 \r\nQ 26.375 6.390625 33.015625 6.390625 \r\nQ 39.65625 6.390625 43.53125 10.953125 \r\nQ 47.40625 15.53125 47.40625 23.390625 \r\nQ 47.40625 31.296875 43.53125 35.828125 \r\nQ 39.65625 40.375 33.015625 40.375 \r\nz\r\nM 52.59375 71.296875 \r\nL 52.59375 62.3125 \r\nQ 48.875 64.0625 45.09375 64.984375 \r\nQ 41.3125 65.921875 37.59375 65.921875 \r\nQ 27.828125 65.921875 22.671875 59.328125 \r\nQ 17.53125 52.734375 16.796875 39.40625 \r\nQ 19.671875 43.65625 24.015625 45.921875 \r\nQ 28.375 48.1875 33.59375 48.1875 \r\nQ 44.578125 48.1875 50.953125 41.515625 \r\nQ 57.328125 34.859375 57.328125 23.390625 \r\nQ 57.328125 12.15625 50.6875 5.359375 \r\nQ 44.046875 -1.421875 33.015625 -1.421875 \r\nQ 20.359375 -1.421875 13.671875 8.265625 \r\nQ 6.984375 17.96875 6.984375 36.375 \r\nQ 6.984375 53.65625 15.1875 63.9375 \r\nQ 23.390625 74.21875 37.203125 74.21875 \r\nQ 40.921875 74.21875 44.703125 73.484375 \r\nQ 48.484375 72.75 52.59375 71.296875 \r\nz\r\n\" id=\"DejaVuSans-54\"/>\r\n      </defs>\r\n      <g transform=\"translate(13.5625 115.483375)scale(0.1 -0.1)\">\r\n       <use xlink:href=\"#DejaVuSans-54\"/>\r\n       <use x=\"63.623047\" xlink:href=\"#DejaVuSans-48\"/>\r\n      </g>\r\n     </g>\r\n    </g>\r\n    <g id=\"ytick_5\">\r\n     <g id=\"line2d_12\">\r\n      <g>\r\n       <use style=\"stroke:#000000;stroke-width:0.8;\" x=\"33.2875\" xlink:href=\"#maeee0e5e5d\" y=\"74.032208\"/>\r\n      </g>\r\n     </g>\r\n     <g id=\"text_12\">\r\n      <!-- 80 -->\r\n      <defs>\r\n       <path d=\"M 31.78125 34.625 \r\nQ 24.75 34.625 20.71875 30.859375 \r\nQ 16.703125 27.09375 16.703125 20.515625 \r\nQ 16.703125 13.921875 20.71875 10.15625 \r\nQ 24.75 6.390625 31.78125 6.390625 \r\nQ 38.8125 6.390625 42.859375 10.171875 \r\nQ 46.921875 13.96875 46.921875 20.515625 \r\nQ 46.921875 27.09375 42.890625 30.859375 \r\nQ 38.875 34.625 31.78125 34.625 \r\nz\r\nM 21.921875 38.8125 \r\nQ 15.578125 40.375 12.03125 44.71875 \r\nQ 8.5 49.078125 8.5 55.328125 \r\nQ 8.5 64.0625 14.71875 69.140625 \r\nQ 20.953125 74.21875 31.78125 74.21875 \r\nQ 42.671875 74.21875 48.875 69.140625 \r\nQ 55.078125 64.0625 55.078125 55.328125 \r\nQ 55.078125 49.078125 51.53125 44.71875 \r\nQ 48 40.375 41.703125 38.8125 \r\nQ 48.828125 37.15625 52.796875 32.3125 \r\nQ 56.78125 27.484375 56.78125 20.515625 \r\nQ 56.78125 9.90625 50.3125 4.234375 \r\nQ 43.84375 -1.421875 31.78125 -1.421875 \r\nQ 19.734375 -1.421875 13.25 4.234375 \r\nQ 6.78125 9.90625 6.78125 20.515625 \r\nQ 6.78125 27.484375 10.78125 32.3125 \r\nQ 14.796875 37.15625 21.921875 38.8125 \r\nz\r\nM 18.3125 54.390625 \r\nQ 18.3125 48.734375 21.84375 45.5625 \r\nQ 25.390625 42.390625 31.78125 42.390625 \r\nQ 38.140625 42.390625 41.71875 45.5625 \r\nQ 45.3125 48.734375 45.3125 54.390625 \r\nQ 45.3125 60.0625 41.71875 63.234375 \r\nQ 38.140625 66.40625 31.78125 66.40625 \r\nQ 25.390625 66.40625 21.84375 63.234375 \r\nQ 18.3125 60.0625 18.3125 54.390625 \r\nz\r\n\" id=\"DejaVuSans-56\"/>\r\n      </defs>\r\n      <g transform=\"translate(13.5625 77.831427)scale(0.1 -0.1)\">\r\n       <use xlink:href=\"#DejaVuSans-56\"/>\r\n       <use x=\"63.623047\" xlink:href=\"#DejaVuSans-48\"/>\r\n      </g>\r\n     </g>\r\n    </g>\r\n    <g id=\"ytick_6\">\r\n     <g id=\"line2d_13\">\r\n      <g>\r\n       <use style=\"stroke:#000000;stroke-width:0.8;\" x=\"33.2875\" xlink:href=\"#maeee0e5e5d\" y=\"36.38026\"/>\r\n      </g>\r\n     </g>\r\n     <g id=\"text_13\">\r\n      <!-- 100 -->\r\n      <g transform=\"translate(7.2 40.179478)scale(0.1 -0.1)\">\r\n       <use xlink:href=\"#DejaVuSans-49\"/>\r\n       <use x=\"63.623047\" xlink:href=\"#DejaVuSans-48\"/>\r\n       <use x=\"127.246094\" xlink:href=\"#DejaVuSans-48\"/>\r\n      </g>\r\n     </g>\r\n    </g>\r\n   </g>\r\n   <g id=\"patch_13\">\r\n    <path d=\"M 33.2875 224.64 \r\nL 33.2875 7.2 \r\n\" style=\"fill:none;stroke:#000000;stroke-linecap:square;stroke-linejoin:miter;stroke-width:0.8;\"/>\r\n   </g>\r\n   <g id=\"patch_14\">\r\n    <path d=\"M 368.0875 224.64 \r\nL 368.0875 7.2 \r\n\" style=\"fill:none;stroke:#000000;stroke-linecap:square;stroke-linejoin:miter;stroke-width:0.8;\"/>\r\n   </g>\r\n   <g id=\"patch_15\">\r\n    <path d=\"M 33.2875 224.64 \r\nL 368.0875 224.64 \r\n\" style=\"fill:none;stroke:#000000;stroke-linecap:square;stroke-linejoin:miter;stroke-width:0.8;\"/>\r\n   </g>\r\n   <g id=\"patch_16\">\r\n    <path d=\"M 33.2875 7.2 \r\nL 368.0875 7.2 \r\n\" style=\"fill:none;stroke:#000000;stroke-linecap:square;stroke-linejoin:miter;stroke-width:0.8;\"/>\r\n   </g>\r\n  </g>\r\n </g>\r\n <defs>\r\n  <clipPath id=\"p761def11db\">\r\n   <rect height=\"217.44\" width=\"334.8\" x=\"33.2875\" y=\"7.2\"/>\r\n  </clipPath>\r\n </defs>\r\n</svg>\r\n",
      "image/png": "[encoded data removed]"
     },
     "metadata": {
      "needs_background": "light"
     }
    }
   ],
   "source": [
    "plt.hist(zgroup[\"Age\"])"
   ]
  },
  {
   "cell_type": "code",
   "execution_count": 51,
   "metadata": {},
   "outputs": [],
   "source": [
    "# Funcion para substituir NA con el promedio\n",
    "fill_na_mean = lambda x : x.fillna(x.mean())"
   ]
  },
  {
   "cell_type": "markdown",
   "metadata": {},
   "source": [
    "# Operaciones diversas muy útiles"
   ]
  },
  {
   "cell_type": "code",
   "execution_count": 54,
   "metadata": {},
   "outputs": [
    {
     "output_type": "execute_result",
     "data": {
      "text/plain": "    Gender Economic Class       Hight     Weight        Age        Income\n0   Female     Uper Class  189.646717  66.678957  23.236044  19298.071098\n1     Male     Uper Class  194.246850  63.378353  32.746819  18110.990379\n4   Female   Middle Class  100.131235  37.021604  51.472360  23564.991638\n5     Male   Middle Class  117.612386  62.485141  17.912821  16436.866408\n6     Male    Lower Class  176.236789  81.590205   3.123652  14846.986227\n15  Female    Lower Class  192.082304  75.128206  35.892774  19166.786866",
      "text/html": "<div>\n<style scoped>\n    .dataframe tbody tr th:only-of-type {\n        vertical-align: middle;\n    }\n\n    .dataframe tbody tr th {\n        vertical-align: top;\n    }\n\n    .dataframe thead th {\n        text-align: right;\n    }\n</style>\n<table border=\"1\" class=\"dataframe\">\n  <thead>\n    <tr style=\"text-align: right;\">\n      <th></th>\n      <th>Gender</th>\n      <th>Economic Class</th>\n      <th>Hight</th>\n      <th>Weight</th>\n      <th>Age</th>\n      <th>Income</th>\n    </tr>\n  </thead>\n  <tbody>\n    <tr>\n      <th>0</th>\n      <td>Female</td>\n      <td>Uper Class</td>\n      <td>189.646717</td>\n      <td>66.678957</td>\n      <td>23.236044</td>\n      <td>19298.071098</td>\n    </tr>\n    <tr>\n      <th>1</th>\n      <td>Male</td>\n      <td>Uper Class</td>\n      <td>194.246850</td>\n      <td>63.378353</td>\n      <td>32.746819</td>\n      <td>18110.990379</td>\n    </tr>\n    <tr>\n      <th>4</th>\n      <td>Female</td>\n      <td>Middle Class</td>\n      <td>100.131235</td>\n      <td>37.021604</td>\n      <td>51.472360</td>\n      <td>23564.991638</td>\n    </tr>\n    <tr>\n      <th>5</th>\n      <td>Male</td>\n      <td>Middle Class</td>\n      <td>117.612386</td>\n      <td>62.485141</td>\n      <td>17.912821</td>\n      <td>16436.866408</td>\n    </tr>\n    <tr>\n      <th>6</th>\n      <td>Male</td>\n      <td>Lower Class</td>\n      <td>176.236789</td>\n      <td>81.590205</td>\n      <td>3.123652</td>\n      <td>14846.986227</td>\n    </tr>\n    <tr>\n      <th>15</th>\n      <td>Female</td>\n      <td>Lower Class</td>\n      <td>192.082304</td>\n      <td>75.128206</td>\n      <td>35.892774</td>\n      <td>19166.786866</td>\n    </tr>\n  </tbody>\n</table>\n</div>"
     },
     "metadata": {},
     "execution_count": 54
    }
   ],
   "source": [
    "double_group.head(1)"
   ]
  },
  {
   "cell_type": "code",
   "execution_count": 55,
   "metadata": {},
   "outputs": [
    {
     "output_type": "execute_result",
     "data": {
      "text/plain": "     Gender Economic Class       Hight     Weight        Age        Income\n477    Male   Middle Class  181.721765  59.625053  27.005643  22070.816038\n493  Female   Middle Class  163.744655  88.291518  48.545850  20069.867685\n495  Female     Uper Class  202.509341  51.393721   0.652988  23684.558541\n497  Female    Lower Class  175.116978  40.308215  32.177076  17160.879729\n498    Male    Lower Class  186.324835  44.510759  27.565326  17518.970770\n499    Male     Uper Class  184.440642  35.300916  43.144007  15574.356806",
      "text/html": "<div>\n<style scoped>\n    .dataframe tbody tr th:only-of-type {\n        vertical-align: middle;\n    }\n\n    .dataframe tbody tr th {\n        vertical-align: top;\n    }\n\n    .dataframe thead th {\n        text-align: right;\n    }\n</style>\n<table border=\"1\" class=\"dataframe\">\n  <thead>\n    <tr style=\"text-align: right;\">\n      <th></th>\n      <th>Gender</th>\n      <th>Economic Class</th>\n      <th>Hight</th>\n      <th>Weight</th>\n      <th>Age</th>\n      <th>Income</th>\n    </tr>\n  </thead>\n  <tbody>\n    <tr>\n      <th>477</th>\n      <td>Male</td>\n      <td>Middle Class</td>\n      <td>181.721765</td>\n      <td>59.625053</td>\n      <td>27.005643</td>\n      <td>22070.816038</td>\n    </tr>\n    <tr>\n      <th>493</th>\n      <td>Female</td>\n      <td>Middle Class</td>\n      <td>163.744655</td>\n      <td>88.291518</td>\n      <td>48.545850</td>\n      <td>20069.867685</td>\n    </tr>\n    <tr>\n      <th>495</th>\n      <td>Female</td>\n      <td>Uper Class</td>\n      <td>202.509341</td>\n      <td>51.393721</td>\n      <td>0.652988</td>\n      <td>23684.558541</td>\n    </tr>\n    <tr>\n      <th>497</th>\n      <td>Female</td>\n      <td>Lower Class</td>\n      <td>175.116978</td>\n      <td>40.308215</td>\n      <td>32.177076</td>\n      <td>17160.879729</td>\n    </tr>\n    <tr>\n      <th>498</th>\n      <td>Male</td>\n      <td>Lower Class</td>\n      <td>186.324835</td>\n      <td>44.510759</td>\n      <td>27.565326</td>\n      <td>17518.970770</td>\n    </tr>\n    <tr>\n      <th>499</th>\n      <td>Male</td>\n      <td>Uper Class</td>\n      <td>184.440642</td>\n      <td>35.300916</td>\n      <td>43.144007</td>\n      <td>15574.356806</td>\n    </tr>\n  </tbody>\n</table>\n</div>"
     },
     "metadata": {},
     "execution_count": 55
    }
   ],
   "source": [
    "double_group.tail(1)"
   ]
  },
  {
   "cell_type": "code",
   "execution_count": 62,
   "metadata": {},
   "outputs": [
    {
     "output_type": "execute_result",
     "data": {
      "text/plain": "                            Hight      Weight        Age        Income\nGender Economic Class                                                 \nFemale Lower Class     142.121928  100.928510  35.611222  19145.591812\n       Middle Class    185.058200   86.884382  27.231168  15838.263220\n       Uper Class      190.697573   61.767866   9.732926  13888.054666\nMale   Lower Class     185.301392   80.696333  22.983871  20155.785300\n       Middle Class    178.612953   65.709764  32.612464  20966.197840\n       Uper Class      136.607458   81.612819  20.218929  11885.775794",
      "text/html": "<div>\n<style scoped>\n    .dataframe tbody tr th:only-of-type {\n        vertical-align: middle;\n    }\n\n    .dataframe tbody tr th {\n        vertical-align: top;\n    }\n\n    .dataframe thead th {\n        text-align: right;\n    }\n</style>\n<table border=\"1\" class=\"dataframe\">\n  <thead>\n    <tr style=\"text-align: right;\">\n      <th></th>\n      <th></th>\n      <th>Hight</th>\n      <th>Weight</th>\n      <th>Age</th>\n      <th>Income</th>\n    </tr>\n    <tr>\n      <th>Gender</th>\n      <th>Economic Class</th>\n      <th></th>\n      <th></th>\n      <th></th>\n      <th></th>\n    </tr>\n  </thead>\n  <tbody>\n    <tr>\n      <th rowspan=\"3\" valign=\"top\">Female</th>\n      <th>Lower Class</th>\n      <td>142.121928</td>\n      <td>100.928510</td>\n      <td>35.611222</td>\n      <td>19145.591812</td>\n    </tr>\n    <tr>\n      <th>Middle Class</th>\n      <td>185.058200</td>\n      <td>86.884382</td>\n      <td>27.231168</td>\n      <td>15838.263220</td>\n    </tr>\n    <tr>\n      <th>Uper Class</th>\n      <td>190.697573</td>\n      <td>61.767866</td>\n      <td>9.732926</td>\n      <td>13888.054666</td>\n    </tr>\n    <tr>\n      <th rowspan=\"3\" valign=\"top\">Male</th>\n      <th>Lower Class</th>\n      <td>185.301392</td>\n      <td>80.696333</td>\n      <td>22.983871</td>\n      <td>20155.785300</td>\n    </tr>\n    <tr>\n      <th>Middle Class</th>\n      <td>178.612953</td>\n      <td>65.709764</td>\n      <td>32.612464</td>\n      <td>20966.197840</td>\n    </tr>\n    <tr>\n      <th>Uper Class</th>\n      <td>136.607458</td>\n      <td>81.612819</td>\n      <td>20.218929</td>\n      <td>11885.775794</td>\n    </tr>\n  </tbody>\n</table>\n</div>"
     },
     "metadata": {},
     "execution_count": 62
    }
   ],
   "source": [
    "double_group.nth(32)"
   ]
  },
  {
   "cell_type": "code",
   "execution_count": 63,
   "metadata": {},
   "outputs": [],
   "source": [
    "data_sorted = data.sort_values([\"Age\", \"Income\"])"
   ]
  },
  {
   "cell_type": "code",
   "execution_count": 64,
   "metadata": {},
   "outputs": [
    {
     "output_type": "execute_result",
     "data": {
      "text/plain": "     Gender Economic Class       Hight     Weight       Age        Income\n287  Female     Uper Class  151.415156  87.323215 -6.654393  22650.901706\n218  Female   Middle Class   92.310477  51.004304 -3.482233  14122.002202\n39     Male   Middle Class  206.245951  48.482768 -2.704037  22578.716167\n51   Female   Middle Class  140.395877  76.430232 -2.611618  25542.575709\n364  Female   Middle Class  151.486555  60.222305 -2.578891  13804.636667\n80   Female   Middle Class  116.952523  89.515354 -2.475117  13986.340602\n495  Female     Uper Class  202.509341  51.393721  0.652988  23684.558541\n6      Male    Lower Class  176.236789  81.590205  3.123652  14846.986227\n343  Female   Middle Class  192.858219  44.272429  3.447833  16537.352735\n241    Male   Middle Class  197.301095  76.550410  3.547840  21814.778122",
      "text/html": "<div>\n<style scoped>\n    .dataframe tbody tr th:only-of-type {\n        vertical-align: middle;\n    }\n\n    .dataframe tbody tr th {\n        vertical-align: top;\n    }\n\n    .dataframe thead th {\n        text-align: right;\n    }\n</style>\n<table border=\"1\" class=\"dataframe\">\n  <thead>\n    <tr style=\"text-align: right;\">\n      <th></th>\n      <th>Gender</th>\n      <th>Economic Class</th>\n      <th>Hight</th>\n      <th>Weight</th>\n      <th>Age</th>\n      <th>Income</th>\n    </tr>\n  </thead>\n  <tbody>\n    <tr>\n      <th>287</th>\n      <td>Female</td>\n      <td>Uper Class</td>\n      <td>151.415156</td>\n      <td>87.323215</td>\n      <td>-6.654393</td>\n      <td>22650.901706</td>\n    </tr>\n    <tr>\n      <th>218</th>\n      <td>Female</td>\n      <td>Middle Class</td>\n      <td>92.310477</td>\n      <td>51.004304</td>\n      <td>-3.482233</td>\n      <td>14122.002202</td>\n    </tr>\n    <tr>\n      <th>39</th>\n      <td>Male</td>\n      <td>Middle Class</td>\n      <td>206.245951</td>\n      <td>48.482768</td>\n      <td>-2.704037</td>\n      <td>22578.716167</td>\n    </tr>\n    <tr>\n      <th>51</th>\n      <td>Female</td>\n      <td>Middle Class</td>\n      <td>140.395877</td>\n      <td>76.430232</td>\n      <td>-2.611618</td>\n      <td>25542.575709</td>\n    </tr>\n    <tr>\n      <th>364</th>\n      <td>Female</td>\n      <td>Middle Class</td>\n      <td>151.486555</td>\n      <td>60.222305</td>\n      <td>-2.578891</td>\n      <td>13804.636667</td>\n    </tr>\n    <tr>\n      <th>80</th>\n      <td>Female</td>\n      <td>Middle Class</td>\n      <td>116.952523</td>\n      <td>89.515354</td>\n      <td>-2.475117</td>\n      <td>13986.340602</td>\n    </tr>\n    <tr>\n      <th>495</th>\n      <td>Female</td>\n      <td>Uper Class</td>\n      <td>202.509341</td>\n      <td>51.393721</td>\n      <td>0.652988</td>\n      <td>23684.558541</td>\n    </tr>\n    <tr>\n      <th>6</th>\n      <td>Male</td>\n      <td>Lower Class</td>\n      <td>176.236789</td>\n      <td>81.590205</td>\n      <td>3.123652</td>\n      <td>14846.986227</td>\n    </tr>\n    <tr>\n      <th>343</th>\n      <td>Female</td>\n      <td>Middle Class</td>\n      <td>192.858219</td>\n      <td>44.272429</td>\n      <td>3.447833</td>\n      <td>16537.352735</td>\n    </tr>\n    <tr>\n      <th>241</th>\n      <td>Male</td>\n      <td>Middle Class</td>\n      <td>197.301095</td>\n      <td>76.550410</td>\n      <td>3.547840</td>\n      <td>21814.778122</td>\n    </tr>\n  </tbody>\n</table>\n</div>"
     },
     "metadata": {},
     "execution_count": 64
    }
   ],
   "source": [
    "data_sorted.head(10)"
   ]
  },
  {
   "cell_type": "code",
   "execution_count": 66,
   "metadata": {},
   "outputs": [],
   "source": [
    "age_grouped = data_sorted.groupby(\"Gender\")"
   ]
  },
  {
   "cell_type": "code",
   "execution_count": 70,
   "metadata": {},
   "outputs": [
    {
     "output_type": "execute_result",
     "data": {
      "text/plain": "     Gender Economic Class       Hight     Weight       Age        Income\n287  Female     Uper Class  151.415156  87.323215 -6.654393  22650.901706\n39     Male   Middle Class  206.245951  48.482768 -2.704037  22578.716167",
      "text/html": "<div>\n<style scoped>\n    .dataframe tbody tr th:only-of-type {\n        vertical-align: middle;\n    }\n\n    .dataframe tbody tr th {\n        vertical-align: top;\n    }\n\n    .dataframe thead th {\n        text-align: right;\n    }\n</style>\n<table border=\"1\" class=\"dataframe\">\n  <thead>\n    <tr style=\"text-align: right;\">\n      <th></th>\n      <th>Gender</th>\n      <th>Economic Class</th>\n      <th>Hight</th>\n      <th>Weight</th>\n      <th>Age</th>\n      <th>Income</th>\n    </tr>\n  </thead>\n  <tbody>\n    <tr>\n      <th>287</th>\n      <td>Female</td>\n      <td>Uper Class</td>\n      <td>151.415156</td>\n      <td>87.323215</td>\n      <td>-6.654393</td>\n      <td>22650.901706</td>\n    </tr>\n    <tr>\n      <th>39</th>\n      <td>Male</td>\n      <td>Middle Class</td>\n      <td>206.245951</td>\n      <td>48.482768</td>\n      <td>-2.704037</td>\n      <td>22578.716167</td>\n    </tr>\n  </tbody>\n</table>\n</div>"
     },
     "metadata": {},
     "execution_count": 70
    }
   ],
   "source": [
    "age_grouped.head(1)"
   ]
  },
  {
   "cell_type": "code",
   "execution_count": 69,
   "metadata": {},
   "outputs": [
    {
     "output_type": "execute_result",
     "data": {
      "text/plain": "     Gender Economic Class       Hight     Weight        Age        Income\n271    Male   Middle Class  144.547421  76.138483  57.974786  19207.901277\n155  Female   Middle Class  125.691334  82.676366  67.041872  20229.620621",
      "text/html": "<div>\n<style scoped>\n    .dataframe tbody tr th:only-of-type {\n        vertical-align: middle;\n    }\n\n    .dataframe tbody tr th {\n        vertical-align: top;\n    }\n\n    .dataframe thead th {\n        text-align: right;\n    }\n</style>\n<table border=\"1\" class=\"dataframe\">\n  <thead>\n    <tr style=\"text-align: right;\">\n      <th></th>\n      <th>Gender</th>\n      <th>Economic Class</th>\n      <th>Hight</th>\n      <th>Weight</th>\n      <th>Age</th>\n      <th>Income</th>\n    </tr>\n  </thead>\n  <tbody>\n    <tr>\n      <th>271</th>\n      <td>Male</td>\n      <td>Middle Class</td>\n      <td>144.547421</td>\n      <td>76.138483</td>\n      <td>57.974786</td>\n      <td>19207.901277</td>\n    </tr>\n    <tr>\n      <th>155</th>\n      <td>Female</td>\n      <td>Middle Class</td>\n      <td>125.691334</td>\n      <td>82.676366</td>\n      <td>67.041872</td>\n      <td>20229.620621</td>\n    </tr>\n  </tbody>\n</table>\n</div>"
     },
     "metadata": {},
     "execution_count": 69
    }
   ],
   "source": [
    "age_grouped.tail(1)"
   ]
  },
  {
   "cell_type": "markdown",
   "metadata": {},
   "source": [
    "# Conjunto de Entrenamiento y Conjuntode Testing"
   ]
  },
  {
   "cell_type": "code",
   "execution_count": 71,
   "metadata": {},
   "outputs": [],
   "source": [
    "mainpath = \"E:/Curso de Python/Repositorio/python-ml-course/datasets/\"\n",
    "filepath = \"customer-churn-model/Customer Churn Model.txt\"\n",
    "data = pd.read_csv(os.path.join(mainpath,filepath))"
   ]
  },
  {
   "cell_type": "code",
   "execution_count": 73,
   "metadata": {},
   "outputs": [
    {
     "output_type": "execute_result",
     "data": {
      "text/plain": "  State  Account Length  Area Code     Phone Int'l Plan VMail Plan  \\\n0    KS             128        415  382-4657         no        yes   \n1    OH             107        415  371-7191         no        yes   \n2    NJ             137        415  358-1921         no         no   \n3    OH              84        408  375-9999        yes         no   \n4    OK              75        415  330-6626        yes         no   \n\n   VMail Message  Day Mins  Day Calls  Day Charge  ...  Eve Calls  Eve Charge  \\\n0             25     265.1        110       45.07  ...         99       16.78   \n1             26     161.6        123       27.47  ...        103       16.62   \n2              0     243.4        114       41.38  ...        110       10.30   \n3              0     299.4         71       50.90  ...         88        5.26   \n4              0     166.7        113       28.34  ...        122       12.61   \n\n   Night Mins  Night Calls  Night Charge  Intl Mins  Intl Calls  Intl Charge  \\\n0       244.7           91         11.01       10.0           3         2.70   \n1       254.4          103         11.45       13.7           3         3.70   \n2       162.6          104          7.32       12.2           5         3.29   \n3       196.9           89          8.86        6.6           7         1.78   \n4       186.9          121          8.41       10.1           3         2.73   \n\n   CustServ Calls  Churn?  \n0               1  False.  \n1               1  False.  \n2               0  False.  \n3               2  False.  \n4               3  False.  \n\n[5 rows x 21 columns]",
      "text/html": "<div>\n<style scoped>\n    .dataframe tbody tr th:only-of-type {\n        vertical-align: middle;\n    }\n\n    .dataframe tbody tr th {\n        vertical-align: top;\n    }\n\n    .dataframe thead th {\n        text-align: right;\n    }\n</style>\n<table border=\"1\" class=\"dataframe\">\n  <thead>\n    <tr style=\"text-align: right;\">\n      <th></th>\n      <th>State</th>\n      <th>Account Length</th>\n      <th>Area Code</th>\n      <th>Phone</th>\n      <th>Int'l Plan</th>\n      <th>VMail Plan</th>\n      <th>VMail Message</th>\n      <th>Day Mins</th>\n      <th>Day Calls</th>\n      <th>Day Charge</th>\n      <th>...</th>\n      <th>Eve Calls</th>\n      <th>Eve Charge</th>\n      <th>Night Mins</th>\n      <th>Night Calls</th>\n      <th>Night Charge</th>\n      <th>Intl Mins</th>\n      <th>Intl Calls</th>\n      <th>Intl Charge</th>\n      <th>CustServ Calls</th>\n      <th>Churn?</th>\n    </tr>\n  </thead>\n  <tbody>\n    <tr>\n      <th>0</th>\n      <td>KS</td>\n      <td>128</td>\n      <td>415</td>\n      <td>382-4657</td>\n      <td>no</td>\n      <td>yes</td>\n      <td>25</td>\n      <td>265.1</td>\n      <td>110</td>\n      <td>45.07</td>\n      <td>...</td>\n      <td>99</td>\n      <td>16.78</td>\n      <td>244.7</td>\n      <td>91</td>\n      <td>11.01</td>\n      <td>10.0</td>\n      <td>3</td>\n      <td>2.70</td>\n      <td>1</td>\n      <td>False.</td>\n    </tr>\n    <tr>\n      <th>1</th>\n      <td>OH</td>\n      <td>107</td>\n      <td>415</td>\n      <td>371-7191</td>\n      <td>no</td>\n      <td>yes</td>\n      <td>26</td>\n      <td>161.6</td>\n      <td>123</td>\n      <td>27.47</td>\n      <td>...</td>\n      <td>103</td>\n      <td>16.62</td>\n      <td>254.4</td>\n      <td>103</td>\n      <td>11.45</td>\n      <td>13.7</td>\n      <td>3</td>\n      <td>3.70</td>\n      <td>1</td>\n      <td>False.</td>\n    </tr>\n    <tr>\n      <th>2</th>\n      <td>NJ</td>\n      <td>137</td>\n      <td>415</td>\n      <td>358-1921</td>\n      <td>no</td>\n      <td>no</td>\n      <td>0</td>\n      <td>243.4</td>\n      <td>114</td>\n      <td>41.38</td>\n      <td>...</td>\n      <td>110</td>\n      <td>10.30</td>\n      <td>162.6</td>\n      <td>104</td>\n      <td>7.32</td>\n      <td>12.2</td>\n      <td>5</td>\n      <td>3.29</td>\n      <td>0</td>\n      <td>False.</td>\n    </tr>\n    <tr>\n      <th>3</th>\n      <td>OH</td>\n      <td>84</td>\n      <td>408</td>\n      <td>375-9999</td>\n      <td>yes</td>\n      <td>no</td>\n      <td>0</td>\n      <td>299.4</td>\n      <td>71</td>\n      <td>50.90</td>\n      <td>...</td>\n      <td>88</td>\n      <td>5.26</td>\n      <td>196.9</td>\n      <td>89</td>\n      <td>8.86</td>\n      <td>6.6</td>\n      <td>7</td>\n      <td>1.78</td>\n      <td>2</td>\n      <td>False.</td>\n    </tr>\n    <tr>\n      <th>4</th>\n      <td>OK</td>\n      <td>75</td>\n      <td>415</td>\n      <td>330-6626</td>\n      <td>yes</td>\n      <td>no</td>\n      <td>0</td>\n      <td>166.7</td>\n      <td>113</td>\n      <td>28.34</td>\n      <td>...</td>\n      <td>122</td>\n      <td>12.61</td>\n      <td>186.9</td>\n      <td>121</td>\n      <td>8.41</td>\n      <td>10.1</td>\n      <td>3</td>\n      <td>2.73</td>\n      <td>3</td>\n      <td>False.</td>\n    </tr>\n  </tbody>\n</table>\n<p>5 rows × 21 columns</p>\n</div>"
     },
     "metadata": {},
     "execution_count": 73
    }
   ],
   "source": [
    "data.head()"
   ]
  },
  {
   "cell_type": "markdown",
   "metadata": {},
   "source": [
    "## Dividir utilizando la distribución normal"
   ]
  },
  {
   "cell_type": "code",
   "execution_count": 74,
   "metadata": {},
   "outputs": [],
   "source": [
    "a = np.random.randn(len(data))"
   ]
  },
  {
   "cell_type": "code",
   "execution_count": 75,
   "metadata": {},
   "outputs": [
    {
     "output_type": "execute_result",
     "data": {
      "text/plain": "(array([  3.,  31., 148., 464., 821., 874., 686., 226.,  68.,  12.]),\n array([-3.76216573, -3.04003584, -2.31790596, -1.59577608, -0.8736462 ,\n        -0.15151631,  0.57061357,  1.29274345,  2.01487333,  2.73700322,\n         3.4591331 ]),\n <a list of 10 Patch objects>)"
     },
     "metadata": {},
     "execution_count": 75
    },
    {
     "output_type": "display_data",
     "data": {
      "text/plain": "<Figure size 432x288 with 1 Axes>",
      "image/svg+xml": "<?xml version=\"1.0\" encoding=\"utf-8\" standalone=\"no\"?>\r\n<!DOCTYPE svg PUBLIC \"-//W3C//DTD SVG 1.1//EN\"\r\n  \"http://www.w3.org/Graphics/SVG/1.1/DTD/svg11.dtd\">\r\n<!-- Created with matplotlib (https://matplotlib.org/) -->\r\n<svg height=\"248.518125pt\" version=\"1.1\" viewBox=\"0 0 375.2875 248.518125\" width=\"375.2875pt\" xmlns=\"http://www.w3.org/2000/svg\" xmlns:xlink=\"http://www.w3.org/1999/xlink\">\r\n <defs>\r\n  <style type=\"text/css\">\r\n*{stroke-linecap:butt;stroke-linejoin:round;}\r\n  </style>\r\n </defs>\r\n <g id=\"figure_1\">\r\n  <g id=\"patch_1\">\r\n   <path d=\"M 0 248.518125 \r\nL 375.2875 248.518125 \r\nL 375.2875 0 \r\nL 0 0 \r\nz\r\n\" style=\"fill:none;\"/>\r\n  </g>\r\n  <g id=\"axes_1\">\r\n   <g id=\"patch_2\">\r\n    <path d=\"M 33.2875 224.64 \r\nL 368.0875 224.64 \r\nL 368.0875 7.2 \r\nL 33.2875 7.2 \r\nz\r\n\" style=\"fill:#ffffff;\"/>\r\n   </g>\r\n   <g id=\"patch_3\">\r\n    <path clip-path=\"url(#paeebd47c15)\" d=\"M 48.505682 224.64 \r\nL 78.942045 224.64 \r\nL 78.942045 223.929179 \r\nL 48.505682 223.929179 \r\nz\r\n\" style=\"fill:#1f77b4;\"/>\r\n   </g>\r\n   <g id=\"patch_4\">\r\n    <path clip-path=\"url(#paeebd47c15)\" d=\"M 78.942045 224.64 \r\nL 109.378409 224.64 \r\nL 109.378409 217.294855 \r\nL 78.942045 217.294855 \r\nz\r\n\" style=\"fill:#1f77b4;\"/>\r\n   </g>\r\n   <g id=\"patch_5\">\r\n    <path clip-path=\"url(#paeebd47c15)\" d=\"M 109.378409 224.64 \r\nL 139.814773 224.64 \r\nL 139.814773 189.572854 \r\nL 109.378409 189.572854 \r\nz\r\n\" style=\"fill:#1f77b4;\"/>\r\n   </g>\r\n   <g id=\"patch_6\">\r\n    <path clip-path=\"url(#paeebd47c15)\" d=\"M 139.814773 224.64 \r\nL 170.251136 224.64 \r\nL 170.251136 114.699758 \r\nL 139.814773 114.699758 \r\nz\r\n\" style=\"fill:#1f77b4;\"/>\r\n   </g>\r\n   <g id=\"patch_7\">\r\n    <path clip-path=\"url(#paeebd47c15)\" d=\"M 170.251136 224.64 \r\nL 200.6875 224.64 \r\nL 200.6875 30.112115 \r\nL 170.251136 30.112115 \r\nz\r\n\" style=\"fill:#1f77b4;\"/>\r\n   </g>\r\n   <g id=\"patch_8\">\r\n    <path clip-path=\"url(#paeebd47c15)\" d=\"M 200.6875 224.64 \r\nL 231.123864 224.64 \r\nL 231.123864 17.554286 \r\nL 200.6875 17.554286 \r\nz\r\n\" style=\"fill:#1f77b4;\"/>\r\n   </g>\r\n   <g id=\"patch_9\">\r\n    <path clip-path=\"url(#paeebd47c15)\" d=\"M 231.123864 224.64 \r\nL 261.560227 224.64 \r\nL 261.560227 62.099039 \r\nL 231.123864 62.099039 \r\nz\r\n\" style=\"fill:#1f77b4;\"/>\r\n   </g>\r\n   <g id=\"patch_10\">\r\n    <path clip-path=\"url(#paeebd47c15)\" d=\"M 261.560227 224.64 \r\nL 291.996591 224.64 \r\nL 291.996591 171.09152 \r\nL 261.560227 171.09152 \r\nz\r\n\" style=\"fill:#1f77b4;\"/>\r\n   </g>\r\n   <g id=\"patch_11\">\r\n    <path clip-path=\"url(#paeebd47c15)\" d=\"M 291.996591 224.64 \r\nL 322.432955 224.64 \r\nL 322.432955 208.528068 \r\nL 291.996591 208.528068 \r\nz\r\n\" style=\"fill:#1f77b4;\"/>\r\n   </g>\r\n   <g id=\"patch_12\">\r\n    <path clip-path=\"url(#paeebd47c15)\" d=\"M 322.432955 224.64 \r\nL 352.869318 224.64 \r\nL 352.869318 221.796718 \r\nL 322.432955 221.796718 \r\nz\r\n\" style=\"fill:#1f77b4;\"/>\r\n   </g>\r\n   <g id=\"matplotlib.axis_1\">\r\n    <g id=\"xtick_1\">\r\n     <g id=\"line2d_1\">\r\n      <defs>\r\n       <path d=\"M 0 0 \r\nL 0 3.5 \r\n\" id=\"m3294495e37\" style=\"stroke:#000000;stroke-width:0.8;\"/>\r\n      </defs>\r\n      <g>\r\n       <use style=\"stroke:#000000;stroke-width:0.8;\" x=\"38.481432\" xlink:href=\"#m3294495e37\" y=\"224.64\"/>\r\n      </g>\r\n     </g>\r\n     <g id=\"text_1\">\r\n      <!-- −4 -->\r\n      <defs>\r\n       <path d=\"M 10.59375 35.5 \r\nL 73.1875 35.5 \r\nL 73.1875 27.203125 \r\nL 10.59375 27.203125 \r\nz\r\n\" id=\"DejaVuSans-8722\"/>\r\n       <path d=\"M 37.796875 64.3125 \r\nL 12.890625 25.390625 \r\nL 37.796875 25.390625 \r\nz\r\nM 35.203125 72.90625 \r\nL 47.609375 72.90625 \r\nL 47.609375 25.390625 \r\nL 58.015625 25.390625 \r\nL 58.015625 17.1875 \r\nL 47.609375 17.1875 \r\nL 47.609375 0 \r\nL 37.796875 0 \r\nL 37.796875 17.1875 \r\nL 4.890625 17.1875 \r\nL 4.890625 26.703125 \r\nz\r\n\" id=\"DejaVuSans-52\"/>\r\n      </defs>\r\n      <g transform=\"translate(31.110338 239.238437)scale(0.1 -0.1)\">\r\n       <use xlink:href=\"#DejaVuSans-8722\"/>\r\n       <use x=\"83.789062\" xlink:href=\"#DejaVuSans-52\"/>\r\n      </g>\r\n     </g>\r\n    </g>\r\n    <g id=\"xtick_2\">\r\n     <g id=\"line2d_2\">\r\n      <g>\r\n       <use style=\"stroke:#000000;stroke-width:0.8;\" x=\"80.629478\" xlink:href=\"#m3294495e37\" y=\"224.64\"/>\r\n      </g>\r\n     </g>\r\n     <g id=\"text_2\">\r\n      <!-- −3 -->\r\n      <defs>\r\n       <path d=\"M 40.578125 39.3125 \r\nQ 47.65625 37.796875 51.625 33 \r\nQ 55.609375 28.21875 55.609375 21.1875 \r\nQ 55.609375 10.40625 48.1875 4.484375 \r\nQ 40.765625 -1.421875 27.09375 -1.421875 \r\nQ 22.515625 -1.421875 17.65625 -0.515625 \r\nQ 12.796875 0.390625 7.625 2.203125 \r\nL 7.625 11.71875 \r\nQ 11.71875 9.328125 16.59375 8.109375 \r\nQ 21.484375 6.890625 26.8125 6.890625 \r\nQ 36.078125 6.890625 40.9375 10.546875 \r\nQ 45.796875 14.203125 45.796875 21.1875 \r\nQ 45.796875 27.640625 41.28125 31.265625 \r\nQ 36.765625 34.90625 28.71875 34.90625 \r\nL 20.21875 34.90625 \r\nL 20.21875 43.015625 \r\nL 29.109375 43.015625 \r\nQ 36.375 43.015625 40.234375 45.921875 \r\nQ 44.09375 48.828125 44.09375 54.296875 \r\nQ 44.09375 59.90625 40.109375 62.90625 \r\nQ 36.140625 65.921875 28.71875 65.921875 \r\nQ 24.65625 65.921875 20.015625 65.03125 \r\nQ 15.375 64.15625 9.8125 62.3125 \r\nL 9.8125 71.09375 \r\nQ 15.4375 72.65625 20.34375 73.4375 \r\nQ 25.25 74.21875 29.59375 74.21875 \r\nQ 40.828125 74.21875 47.359375 69.109375 \r\nQ 53.90625 64.015625 53.90625 55.328125 \r\nQ 53.90625 49.265625 50.4375 45.09375 \r\nQ 46.96875 40.921875 40.578125 39.3125 \r\nz\r\n\" id=\"DejaVuSans-51\"/>\r\n      </defs>\r\n      <g transform=\"translate(73.258384 239.238437)scale(0.1 -0.1)\">\r\n       <use xlink:href=\"#DejaVuSans-8722\"/>\r\n       <use x=\"83.789062\" xlink:href=\"#DejaVuSans-51\"/>\r\n      </g>\r\n     </g>\r\n    </g>\r\n    <g id=\"xtick_3\">\r\n     <g id=\"line2d_3\">\r\n      <g>\r\n       <use style=\"stroke:#000000;stroke-width:0.8;\" x=\"122.777524\" xlink:href=\"#m3294495e37\" y=\"224.64\"/>\r\n      </g>\r\n     </g>\r\n     <g id=\"text_3\">\r\n      <!-- −2 -->\r\n      <defs>\r\n       <path d=\"M 19.1875 8.296875 \r\nL 53.609375 8.296875 \r\nL 53.609375 0 \r\nL 7.328125 0 \r\nL 7.328125 8.296875 \r\nQ 12.9375 14.109375 22.625 23.890625 \r\nQ 32.328125 33.6875 34.8125 36.53125 \r\nQ 39.546875 41.84375 41.421875 45.53125 \r\nQ 43.3125 49.21875 43.3125 52.78125 \r\nQ 43.3125 58.59375 39.234375 62.25 \r\nQ 35.15625 65.921875 28.609375 65.921875 \r\nQ 23.96875 65.921875 18.8125 64.3125 \r\nQ 13.671875 62.703125 7.8125 59.421875 \r\nL 7.8125 69.390625 \r\nQ 13.765625 71.78125 18.9375 73 \r\nQ 24.125 74.21875 28.421875 74.21875 \r\nQ 39.75 74.21875 46.484375 68.546875 \r\nQ 53.21875 62.890625 53.21875 53.421875 \r\nQ 53.21875 48.921875 51.53125 44.890625 \r\nQ 49.859375 40.875 45.40625 35.40625 \r\nQ 44.1875 33.984375 37.640625 27.21875 \r\nQ 31.109375 20.453125 19.1875 8.296875 \r\nz\r\n\" id=\"DejaVuSans-50\"/>\r\n      </defs>\r\n      <g transform=\"translate(115.40643 239.238437)scale(0.1 -0.1)\">\r\n       <use xlink:href=\"#DejaVuSans-8722\"/>\r\n       <use x=\"83.789062\" xlink:href=\"#DejaVuSans-50\"/>\r\n      </g>\r\n     </g>\r\n    </g>\r\n    <g id=\"xtick_4\">\r\n     <g id=\"line2d_4\">\r\n      <g>\r\n       <use style=\"stroke:#000000;stroke-width:0.8;\" x=\"164.92557\" xlink:href=\"#m3294495e37\" y=\"224.64\"/>\r\n      </g>\r\n     </g>\r\n     <g id=\"text_4\">\r\n      <!-- −1 -->\r\n      <defs>\r\n       <path d=\"M 12.40625 8.296875 \r\nL 28.515625 8.296875 \r\nL 28.515625 63.921875 \r\nL 10.984375 60.40625 \r\nL 10.984375 69.390625 \r\nL 28.421875 72.90625 \r\nL 38.28125 72.90625 \r\nL 38.28125 8.296875 \r\nL 54.390625 8.296875 \r\nL 54.390625 0 \r\nL 12.40625 0 \r\nz\r\n\" id=\"DejaVuSans-49\"/>\r\n      </defs>\r\n      <g transform=\"translate(157.554477 239.238437)scale(0.1 -0.1)\">\r\n       <use xlink:href=\"#DejaVuSans-8722\"/>\r\n       <use x=\"83.789062\" xlink:href=\"#DejaVuSans-49\"/>\r\n      </g>\r\n     </g>\r\n    </g>\r\n    <g id=\"xtick_5\">\r\n     <g id=\"line2d_5\">\r\n      <g>\r\n       <use style=\"stroke:#000000;stroke-width:0.8;\" x=\"207.073617\" xlink:href=\"#m3294495e37\" y=\"224.64\"/>\r\n      </g>\r\n     </g>\r\n     <g id=\"text_5\">\r\n      <!-- 0 -->\r\n      <defs>\r\n       <path d=\"M 31.78125 66.40625 \r\nQ 24.171875 66.40625 20.328125 58.90625 \r\nQ 16.5 51.421875 16.5 36.375 \r\nQ 16.5 21.390625 20.328125 13.890625 \r\nQ 24.171875 6.390625 31.78125 6.390625 \r\nQ 39.453125 6.390625 43.28125 13.890625 \r\nQ 47.125 21.390625 47.125 36.375 \r\nQ 47.125 51.421875 43.28125 58.90625 \r\nQ 39.453125 66.40625 31.78125 66.40625 \r\nz\r\nM 31.78125 74.21875 \r\nQ 44.046875 74.21875 50.515625 64.515625 \r\nQ 56.984375 54.828125 56.984375 36.375 \r\nQ 56.984375 17.96875 50.515625 8.265625 \r\nQ 44.046875 -1.421875 31.78125 -1.421875 \r\nQ 19.53125 -1.421875 13.0625 8.265625 \r\nQ 6.59375 17.96875 6.59375 36.375 \r\nQ 6.59375 54.828125 13.0625 64.515625 \r\nQ 19.53125 74.21875 31.78125 74.21875 \r\nz\r\n\" id=\"DejaVuSans-48\"/>\r\n      </defs>\r\n      <g transform=\"translate(203.892367 239.238437)scale(0.1 -0.1)\">\r\n       <use xlink:href=\"#DejaVuSans-48\"/>\r\n      </g>\r\n     </g>\r\n    </g>\r\n    <g id=\"xtick_6\">\r\n     <g id=\"line2d_6\">\r\n      <g>\r\n       <use style=\"stroke:#000000;stroke-width:0.8;\" x=\"249.221663\" xlink:href=\"#m3294495e37\" y=\"224.64\"/>\r\n      </g>\r\n     </g>\r\n     <g id=\"text_6\">\r\n      <!-- 1 -->\r\n      <g transform=\"translate(246.040413 239.238437)scale(0.1 -0.1)\">\r\n       <use xlink:href=\"#DejaVuSans-49\"/>\r\n      </g>\r\n     </g>\r\n    </g>\r\n    <g id=\"xtick_7\">\r\n     <g id=\"line2d_7\">\r\n      <g>\r\n       <use style=\"stroke:#000000;stroke-width:0.8;\" x=\"291.369709\" xlink:href=\"#m3294495e37\" y=\"224.64\"/>\r\n      </g>\r\n     </g>\r\n     <g id=\"text_7\">\r\n      <!-- 2 -->\r\n      <g transform=\"translate(288.188459 239.238437)scale(0.1 -0.1)\">\r\n       <use xlink:href=\"#DejaVuSans-50\"/>\r\n      </g>\r\n     </g>\r\n    </g>\r\n    <g id=\"xtick_8\">\r\n     <g id=\"line2d_8\">\r\n      <g>\r\n       <use style=\"stroke:#000000;stroke-width:0.8;\" x=\"333.517755\" xlink:href=\"#m3294495e37\" y=\"224.64\"/>\r\n      </g>\r\n     </g>\r\n     <g id=\"text_8\">\r\n      <!-- 3 -->\r\n      <g transform=\"translate(330.336505 239.238437)scale(0.1 -0.1)\">\r\n       <use xlink:href=\"#DejaVuSans-51\"/>\r\n      </g>\r\n     </g>\r\n    </g>\r\n   </g>\r\n   <g id=\"matplotlib.axis_2\">\r\n    <g id=\"ytick_1\">\r\n     <g id=\"line2d_9\">\r\n      <defs>\r\n       <path d=\"M 0 0 \r\nL -3.5 0 \r\n\" id=\"mc5c2594564\" style=\"stroke:#000000;stroke-width:0.8;\"/>\r\n      </defs>\r\n      <g>\r\n       <use style=\"stroke:#000000;stroke-width:0.8;\" x=\"33.2875\" xlink:href=\"#mc5c2594564\" y=\"224.64\"/>\r\n      </g>\r\n     </g>\r\n     <g id=\"text_9\">\r\n      <!-- 0 -->\r\n      <g transform=\"translate(19.925 228.439219)scale(0.1 -0.1)\">\r\n       <use xlink:href=\"#DejaVuSans-48\"/>\r\n      </g>\r\n     </g>\r\n    </g>\r\n    <g id=\"ytick_2\">\r\n     <g id=\"line2d_10\">\r\n      <g>\r\n       <use style=\"stroke:#000000;stroke-width:0.8;\" x=\"33.2875\" xlink:href=\"#mc5c2594564\" y=\"177.251965\"/>\r\n      </g>\r\n     </g>\r\n     <g id=\"text_10\">\r\n      <!-- 200 -->\r\n      <g transform=\"translate(7.2 181.051183)scale(0.1 -0.1)\">\r\n       <use xlink:href=\"#DejaVuSans-50\"/>\r\n       <use x=\"63.623047\" xlink:href=\"#DejaVuSans-48\"/>\r\n       <use x=\"127.246094\" xlink:href=\"#DejaVuSans-48\"/>\r\n      </g>\r\n     </g>\r\n    </g>\r\n    <g id=\"ytick_3\">\r\n     <g id=\"line2d_11\">\r\n      <g>\r\n       <use style=\"stroke:#000000;stroke-width:0.8;\" x=\"33.2875\" xlink:href=\"#mc5c2594564\" y=\"129.863929\"/>\r\n      </g>\r\n     </g>\r\n     <g id=\"text_11\">\r\n      <!-- 400 -->\r\n      <g transform=\"translate(7.2 133.663148)scale(0.1 -0.1)\">\r\n       <use xlink:href=\"#DejaVuSans-52\"/>\r\n       <use x=\"63.623047\" xlink:href=\"#DejaVuSans-48\"/>\r\n       <use x=\"127.246094\" xlink:href=\"#DejaVuSans-48\"/>\r\n      </g>\r\n     </g>\r\n    </g>\r\n    <g id=\"ytick_4\">\r\n     <g id=\"line2d_12\">\r\n      <g>\r\n       <use style=\"stroke:#000000;stroke-width:0.8;\" x=\"33.2875\" xlink:href=\"#mc5c2594564\" y=\"82.475894\"/>\r\n      </g>\r\n     </g>\r\n     <g id=\"text_12\">\r\n      <!-- 600 -->\r\n      <defs>\r\n       <path d=\"M 33.015625 40.375 \r\nQ 26.375 40.375 22.484375 35.828125 \r\nQ 18.609375 31.296875 18.609375 23.390625 \r\nQ 18.609375 15.53125 22.484375 10.953125 \r\nQ 26.375 6.390625 33.015625 6.390625 \r\nQ 39.65625 6.390625 43.53125 10.953125 \r\nQ 47.40625 15.53125 47.40625 23.390625 \r\nQ 47.40625 31.296875 43.53125 35.828125 \r\nQ 39.65625 40.375 33.015625 40.375 \r\nz\r\nM 52.59375 71.296875 \r\nL 52.59375 62.3125 \r\nQ 48.875 64.0625 45.09375 64.984375 \r\nQ 41.3125 65.921875 37.59375 65.921875 \r\nQ 27.828125 65.921875 22.671875 59.328125 \r\nQ 17.53125 52.734375 16.796875 39.40625 \r\nQ 19.671875 43.65625 24.015625 45.921875 \r\nQ 28.375 48.1875 33.59375 48.1875 \r\nQ 44.578125 48.1875 50.953125 41.515625 \r\nQ 57.328125 34.859375 57.328125 23.390625 \r\nQ 57.328125 12.15625 50.6875 5.359375 \r\nQ 44.046875 -1.421875 33.015625 -1.421875 \r\nQ 20.359375 -1.421875 13.671875 8.265625 \r\nQ 6.984375 17.96875 6.984375 36.375 \r\nQ 6.984375 53.65625 15.1875 63.9375 \r\nQ 23.390625 74.21875 37.203125 74.21875 \r\nQ 40.921875 74.21875 44.703125 73.484375 \r\nQ 48.484375 72.75 52.59375 71.296875 \r\nz\r\n\" id=\"DejaVuSans-54\"/>\r\n      </defs>\r\n      <g transform=\"translate(7.2 86.275113)scale(0.1 -0.1)\">\r\n       <use xlink:href=\"#DejaVuSans-54\"/>\r\n       <use x=\"63.623047\" xlink:href=\"#DejaVuSans-48\"/>\r\n       <use x=\"127.246094\" xlink:href=\"#DejaVuSans-48\"/>\r\n      </g>\r\n     </g>\r\n    </g>\r\n    <g id=\"ytick_5\">\r\n     <g id=\"line2d_13\">\r\n      <g>\r\n       <use style=\"stroke:#000000;stroke-width:0.8;\" x=\"33.2875\" xlink:href=\"#mc5c2594564\" y=\"35.087859\"/>\r\n      </g>\r\n     </g>\r\n     <g id=\"text_13\">\r\n      <!-- 800 -->\r\n      <defs>\r\n       <path d=\"M 31.78125 34.625 \r\nQ 24.75 34.625 20.71875 30.859375 \r\nQ 16.703125 27.09375 16.703125 20.515625 \r\nQ 16.703125 13.921875 20.71875 10.15625 \r\nQ 24.75 6.390625 31.78125 6.390625 \r\nQ 38.8125 6.390625 42.859375 10.171875 \r\nQ 46.921875 13.96875 46.921875 20.515625 \r\nQ 46.921875 27.09375 42.890625 30.859375 \r\nQ 38.875 34.625 31.78125 34.625 \r\nz\r\nM 21.921875 38.8125 \r\nQ 15.578125 40.375 12.03125 44.71875 \r\nQ 8.5 49.078125 8.5 55.328125 \r\nQ 8.5 64.0625 14.71875 69.140625 \r\nQ 20.953125 74.21875 31.78125 74.21875 \r\nQ 42.671875 74.21875 48.875 69.140625 \r\nQ 55.078125 64.0625 55.078125 55.328125 \r\nQ 55.078125 49.078125 51.53125 44.71875 \r\nQ 48 40.375 41.703125 38.8125 \r\nQ 48.828125 37.15625 52.796875 32.3125 \r\nQ 56.78125 27.484375 56.78125 20.515625 \r\nQ 56.78125 9.90625 50.3125 4.234375 \r\nQ 43.84375 -1.421875 31.78125 -1.421875 \r\nQ 19.734375 -1.421875 13.25 4.234375 \r\nQ 6.78125 9.90625 6.78125 20.515625 \r\nQ 6.78125 27.484375 10.78125 32.3125 \r\nQ 14.796875 37.15625 21.921875 38.8125 \r\nz\r\nM 18.3125 54.390625 \r\nQ 18.3125 48.734375 21.84375 45.5625 \r\nQ 25.390625 42.390625 31.78125 42.390625 \r\nQ 38.140625 42.390625 41.71875 45.5625 \r\nQ 45.3125 48.734375 45.3125 54.390625 \r\nQ 45.3125 60.0625 41.71875 63.234375 \r\nQ 38.140625 66.40625 31.78125 66.40625 \r\nQ 25.390625 66.40625 21.84375 63.234375 \r\nQ 18.3125 60.0625 18.3125 54.390625 \r\nz\r\n\" id=\"DejaVuSans-56\"/>\r\n      </defs>\r\n      <g transform=\"translate(7.2 38.887078)scale(0.1 -0.1)\">\r\n       <use xlink:href=\"#DejaVuSans-56\"/>\r\n       <use x=\"63.623047\" xlink:href=\"#DejaVuSans-48\"/>\r\n       <use x=\"127.246094\" xlink:href=\"#DejaVuSans-48\"/>\r\n      </g>\r\n     </g>\r\n    </g>\r\n   </g>\r\n   <g id=\"patch_13\">\r\n    <path d=\"M 33.2875 224.64 \r\nL 33.2875 7.2 \r\n\" style=\"fill:none;stroke:#000000;stroke-linecap:square;stroke-linejoin:miter;stroke-width:0.8;\"/>\r\n   </g>\r\n   <g id=\"patch_14\">\r\n    <path d=\"M 368.0875 224.64 \r\nL 368.0875 7.2 \r\n\" style=\"fill:none;stroke:#000000;stroke-linecap:square;stroke-linejoin:miter;stroke-width:0.8;\"/>\r\n   </g>\r\n   <g id=\"patch_15\">\r\n    <path d=\"M 33.2875 224.64 \r\nL 368.0875 224.64 \r\n\" style=\"fill:none;stroke:#000000;stroke-linecap:square;stroke-linejoin:miter;stroke-width:0.8;\"/>\r\n   </g>\r\n   <g id=\"patch_16\">\r\n    <path d=\"M 33.2875 7.2 \r\nL 368.0875 7.2 \r\n\" style=\"fill:none;stroke:#000000;stroke-linecap:square;stroke-linejoin:miter;stroke-width:0.8;\"/>\r\n   </g>\r\n  </g>\r\n </g>\r\n <defs>\r\n  <clipPath id=\"paeebd47c15\">\r\n   <rect height=\"217.44\" width=\"334.8\" x=\"33.2875\" y=\"7.2\"/>\r\n  </clipPath>\r\n </defs>\r\n</svg>\r\n",
      "image/png": "[encoded data removed]"
     },
     "metadata": {
      "needs_background": "light"
     }
    }
   ],
   "source": [
    "plt.hist(a)"
   ]
  },
  {
   "cell_type": "code",
   "execution_count": 76,
   "metadata": {},
   "outputs": [],
   "source": [
    "check = (a < 0.8)"
   ]
  },
  {
   "cell_type": "code",
   "execution_count": 77,
   "metadata": {},
   "outputs": [
    {
     "output_type": "execute_result",
     "data": {
      "text/plain": "array([ True,  True,  True, ...,  True,  True, False])"
     },
     "metadata": {},
     "execution_count": 77
    }
   ],
   "source": [
    "check"
   ]
  },
  {
   "cell_type": "code",
   "execution_count": 79,
   "metadata": {},
   "outputs": [
    {
     "output_type": "execute_result",
     "data": {
      "text/plain": "(array([ 722.,    0.,    0.,    0.,    0.,    0.,    0.,    0.,    0.,\n        2611.]),\n array([0. , 0.1, 0.2, 0.3, 0.4, 0.5, 0.6, 0.7, 0.8, 0.9, 1. ]),\n <a list of 10 Patch objects>)"
     },
     "metadata": {},
     "execution_count": 79
    },
    {
     "output_type": "display_data",
     "data": {
      "text/plain": "<Figure size 432x288 with 1 Axes>",
      "image/svg+xml": "<?xml version=\"1.0\" encoding=\"utf-8\" standalone=\"no\"?>\r\n<!DOCTYPE svg PUBLIC \"-//W3C//DTD SVG 1.1//EN\"\r\n  \"http://www.w3.org/Graphics/SVG/1.1/DTD/svg11.dtd\">\r\n<!-- Created with matplotlib (https://matplotlib.org/) -->\r\n<svg height=\"248.518125pt\" version=\"1.1\" viewBox=\"0 0 381.65 248.518125\" width=\"381.65pt\" xmlns=\"http://www.w3.org/2000/svg\" xmlns:xlink=\"http://www.w3.org/1999/xlink\">\r\n <defs>\r\n  <style type=\"text/css\">\r\n*{stroke-linecap:butt;stroke-linejoin:round;}\r\n  </style>\r\n </defs>\r\n <g id=\"figure_1\">\r\n  <g id=\"patch_1\">\r\n   <path d=\"M -0 248.518125 \r\nL 381.65 248.518125 \r\nL 381.65 0 \r\nL -0 0 \r\nz\r\n\" style=\"fill:none;\"/>\r\n  </g>\r\n  <g id=\"axes_1\">\r\n   <g id=\"patch_2\">\r\n    <path d=\"M 39.65 224.64 \r\nL 374.45 224.64 \r\nL 374.45 7.2 \r\nL 39.65 7.2 \r\nz\r\n\" style=\"fill:#ffffff;\"/>\r\n   </g>\r\n   <g id=\"patch_3\">\r\n    <path clip-path=\"url(#p91575037c4)\" d=\"M 54.868182 224.64 \r\nL 85.304545 224.64 \r\nL 85.304545 167.37616 \r\nL 54.868182 167.37616 \r\nz\r\n\" style=\"fill:#1f77b4;\"/>\r\n   </g>\r\n   <g id=\"patch_4\">\r\n    <path clip-path=\"url(#p91575037c4)\" d=\"M 85.304545 224.64 \r\nL 115.740909 224.64 \r\nL 115.740909 224.64 \r\nL 85.304545 224.64 \r\nz\r\n\" style=\"fill:#1f77b4;\"/>\r\n   </g>\r\n   <g id=\"patch_5\">\r\n    <path clip-path=\"url(#p91575037c4)\" d=\"M 115.740909 224.64 \r\nL 146.177273 224.64 \r\nL 146.177273 224.64 \r\nL 115.740909 224.64 \r\nz\r\n\" style=\"fill:#1f77b4;\"/>\r\n   </g>\r\n   <g id=\"patch_6\">\r\n    <path clip-path=\"url(#p91575037c4)\" d=\"M 146.177273 224.64 \r\nL 176.613636 224.64 \r\nL 176.613636 224.64 \r\nL 146.177273 224.64 \r\nz\r\n\" style=\"fill:#1f77b4;\"/>\r\n   </g>\r\n   <g id=\"patch_7\">\r\n    <path clip-path=\"url(#p91575037c4)\" d=\"M 176.613636 224.64 \r\nL 207.05 224.64 \r\nL 207.05 224.64 \r\nL 176.613636 224.64 \r\nz\r\n\" style=\"fill:#1f77b4;\"/>\r\n   </g>\r\n   <g id=\"patch_8\">\r\n    <path clip-path=\"url(#p91575037c4)\" d=\"M 207.05 224.64 \r\nL 237.486364 224.64 \r\nL 237.486364 224.64 \r\nL 207.05 224.64 \r\nz\r\n\" style=\"fill:#1f77b4;\"/>\r\n   </g>\r\n   <g id=\"patch_9\">\r\n    <path clip-path=\"url(#p91575037c4)\" d=\"M 237.486364 224.64 \r\nL 267.922727 224.64 \r\nL 267.922727 224.64 \r\nL 237.486364 224.64 \r\nz\r\n\" style=\"fill:#1f77b4;\"/>\r\n   </g>\r\n   <g id=\"patch_10\">\r\n    <path clip-path=\"url(#p91575037c4)\" d=\"M 267.922727 224.64 \r\nL 298.359091 224.64 \r\nL 298.359091 224.64 \r\nL 267.922727 224.64 \r\nz\r\n\" style=\"fill:#1f77b4;\"/>\r\n   </g>\r\n   <g id=\"patch_11\">\r\n    <path clip-path=\"url(#p91575037c4)\" d=\"M 298.359091 224.64 \r\nL 328.795455 224.64 \r\nL 328.795455 224.64 \r\nL 298.359091 224.64 \r\nz\r\n\" style=\"fill:#1f77b4;\"/>\r\n   </g>\r\n   <g id=\"patch_12\">\r\n    <path clip-path=\"url(#p91575037c4)\" d=\"M 328.795455 224.64 \r\nL 359.231818 224.64 \r\nL 359.231818 17.554286 \r\nL 328.795455 17.554286 \r\nz\r\n\" style=\"fill:#1f77b4;\"/>\r\n   </g>\r\n   <g id=\"matplotlib.axis_1\">\r\n    <g id=\"xtick_1\">\r\n     <g id=\"line2d_1\">\r\n      <defs>\r\n       <path d=\"M 0 0 \r\nL 0 3.5 \r\n\" id=\"md551df1276\" style=\"stroke:#000000;stroke-width:0.8;\"/>\r\n      </defs>\r\n      <g>\r\n       <use style=\"stroke:#000000;stroke-width:0.8;\" x=\"54.868182\" xlink:href=\"#md551df1276\" y=\"224.64\"/>\r\n      </g>\r\n     </g>\r\n     <g id=\"text_1\">\r\n      <!-- 0.0 -->\r\n      <defs>\r\n       <path d=\"M 31.78125 66.40625 \r\nQ 24.171875 66.40625 20.328125 58.90625 \r\nQ 16.5 51.421875 16.5 36.375 \r\nQ 16.5 21.390625 20.328125 13.890625 \r\nQ 24.171875 6.390625 31.78125 6.390625 \r\nQ 39.453125 6.390625 43.28125 13.890625 \r\nQ 47.125 21.390625 47.125 36.375 \r\nQ 47.125 51.421875 43.28125 58.90625 \r\nQ 39.453125 66.40625 31.78125 66.40625 \r\nz\r\nM 31.78125 74.21875 \r\nQ 44.046875 74.21875 50.515625 64.515625 \r\nQ 56.984375 54.828125 56.984375 36.375 \r\nQ 56.984375 17.96875 50.515625 8.265625 \r\nQ 44.046875 -1.421875 31.78125 -1.421875 \r\nQ 19.53125 -1.421875 13.0625 8.265625 \r\nQ 6.59375 17.96875 6.59375 36.375 \r\nQ 6.59375 54.828125 13.0625 64.515625 \r\nQ 19.53125 74.21875 31.78125 74.21875 \r\nz\r\n\" id=\"DejaVuSans-48\"/>\r\n       <path d=\"M 10.6875 12.40625 \r\nL 21 12.40625 \r\nL 21 0 \r\nL 10.6875 0 \r\nz\r\n\" id=\"DejaVuSans-46\"/>\r\n      </defs>\r\n      <g transform=\"translate(46.916619 239.238437)scale(0.1 -0.1)\">\r\n       <use xlink:href=\"#DejaVuSans-48\"/>\r\n       <use x=\"63.623047\" xlink:href=\"#DejaVuSans-46\"/>\r\n       <use x=\"95.410156\" xlink:href=\"#DejaVuSans-48\"/>\r\n      </g>\r\n     </g>\r\n    </g>\r\n    <g id=\"xtick_2\">\r\n     <g id=\"line2d_2\">\r\n      <g>\r\n       <use style=\"stroke:#000000;stroke-width:0.8;\" x=\"115.740909\" xlink:href=\"#md551df1276\" y=\"224.64\"/>\r\n      </g>\r\n     </g>\r\n     <g id=\"text_2\">\r\n      <!-- 0.2 -->\r\n      <defs>\r\n       <path d=\"M 19.1875 8.296875 \r\nL 53.609375 8.296875 \r\nL 53.609375 0 \r\nL 7.328125 0 \r\nL 7.328125 8.296875 \r\nQ 12.9375 14.109375 22.625 23.890625 \r\nQ 32.328125 33.6875 34.8125 36.53125 \r\nQ 39.546875 41.84375 41.421875 45.53125 \r\nQ 43.3125 49.21875 43.3125 52.78125 \r\nQ 43.3125 58.59375 39.234375 62.25 \r\nQ 35.15625 65.921875 28.609375 65.921875 \r\nQ 23.96875 65.921875 18.8125 64.3125 \r\nQ 13.671875 62.703125 7.8125 59.421875 \r\nL 7.8125 69.390625 \r\nQ 13.765625 71.78125 18.9375 73 \r\nQ 24.125 74.21875 28.421875 74.21875 \r\nQ 39.75 74.21875 46.484375 68.546875 \r\nQ 53.21875 62.890625 53.21875 53.421875 \r\nQ 53.21875 48.921875 51.53125 44.890625 \r\nQ 49.859375 40.875 45.40625 35.40625 \r\nQ 44.1875 33.984375 37.640625 27.21875 \r\nQ 31.109375 20.453125 19.1875 8.296875 \r\nz\r\n\" id=\"DejaVuSans-50\"/>\r\n      </defs>\r\n      <g transform=\"translate(107.789347 239.238437)scale(0.1 -0.1)\">\r\n       <use xlink:href=\"#DejaVuSans-48\"/>\r\n       <use x=\"63.623047\" xlink:href=\"#DejaVuSans-46\"/>\r\n       <use x=\"95.410156\" xlink:href=\"#DejaVuSans-50\"/>\r\n      </g>\r\n     </g>\r\n    </g>\r\n    <g id=\"xtick_3\">\r\n     <g id=\"line2d_3\">\r\n      <g>\r\n       <use style=\"stroke:#000000;stroke-width:0.8;\" x=\"176.613636\" xlink:href=\"#md551df1276\" y=\"224.64\"/>\r\n      </g>\r\n     </g>\r\n     <g id=\"text_3\">\r\n      <!-- 0.4 -->\r\n      <defs>\r\n       <path d=\"M 37.796875 64.3125 \r\nL 12.890625 25.390625 \r\nL 37.796875 25.390625 \r\nz\r\nM 35.203125 72.90625 \r\nL 47.609375 72.90625 \r\nL 47.609375 25.390625 \r\nL 58.015625 25.390625 \r\nL 58.015625 17.1875 \r\nL 47.609375 17.1875 \r\nL 47.609375 0 \r\nL 37.796875 0 \r\nL 37.796875 17.1875 \r\nL 4.890625 17.1875 \r\nL 4.890625 26.703125 \r\nz\r\n\" id=\"DejaVuSans-52\"/>\r\n      </defs>\r\n      <g transform=\"translate(168.662074 239.238437)scale(0.1 -0.1)\">\r\n       <use xlink:href=\"#DejaVuSans-48\"/>\r\n       <use x=\"63.623047\" xlink:href=\"#DejaVuSans-46\"/>\r\n       <use x=\"95.410156\" xlink:href=\"#DejaVuSans-52\"/>\r\n      </g>\r\n     </g>\r\n    </g>\r\n    <g id=\"xtick_4\">\r\n     <g id=\"line2d_4\">\r\n      <g>\r\n       <use style=\"stroke:#000000;stroke-width:0.8;\" x=\"237.486364\" xlink:href=\"#md551df1276\" y=\"224.64\"/>\r\n      </g>\r\n     </g>\r\n     <g id=\"text_4\">\r\n      <!-- 0.6 -->\r\n      <defs>\r\n       <path d=\"M 33.015625 40.375 \r\nQ 26.375 40.375 22.484375 35.828125 \r\nQ 18.609375 31.296875 18.609375 23.390625 \r\nQ 18.609375 15.53125 22.484375 10.953125 \r\nQ 26.375 6.390625 33.015625 6.390625 \r\nQ 39.65625 6.390625 43.53125 10.953125 \r\nQ 47.40625 15.53125 47.40625 23.390625 \r\nQ 47.40625 31.296875 43.53125 35.828125 \r\nQ 39.65625 40.375 33.015625 40.375 \r\nz\r\nM 52.59375 71.296875 \r\nL 52.59375 62.3125 \r\nQ 48.875 64.0625 45.09375 64.984375 \r\nQ 41.3125 65.921875 37.59375 65.921875 \r\nQ 27.828125 65.921875 22.671875 59.328125 \r\nQ 17.53125 52.734375 16.796875 39.40625 \r\nQ 19.671875 43.65625 24.015625 45.921875 \r\nQ 28.375 48.1875 33.59375 48.1875 \r\nQ 44.578125 48.1875 50.953125 41.515625 \r\nQ 57.328125 34.859375 57.328125 23.390625 \r\nQ 57.328125 12.15625 50.6875 5.359375 \r\nQ 44.046875 -1.421875 33.015625 -1.421875 \r\nQ 20.359375 -1.421875 13.671875 8.265625 \r\nQ 6.984375 17.96875 6.984375 36.375 \r\nQ 6.984375 53.65625 15.1875 63.9375 \r\nQ 23.390625 74.21875 37.203125 74.21875 \r\nQ 40.921875 74.21875 44.703125 73.484375 \r\nQ 48.484375 72.75 52.59375 71.296875 \r\nz\r\n\" id=\"DejaVuSans-54\"/>\r\n      </defs>\r\n      <g transform=\"translate(229.534801 239.238437)scale(0.1 -0.1)\">\r\n       <use xlink:href=\"#DejaVuSans-48\"/>\r\n       <use x=\"63.623047\" xlink:href=\"#DejaVuSans-46\"/>\r\n       <use x=\"95.410156\" xlink:href=\"#DejaVuSans-54\"/>\r\n      </g>\r\n     </g>\r\n    </g>\r\n    <g id=\"xtick_5\">\r\n     <g id=\"line2d_5\">\r\n      <g>\r\n       <use style=\"stroke:#000000;stroke-width:0.8;\" x=\"298.359091\" xlink:href=\"#md551df1276\" y=\"224.64\"/>\r\n      </g>\r\n     </g>\r\n     <g id=\"text_5\">\r\n      <!-- 0.8 -->\r\n      <defs>\r\n       <path d=\"M 31.78125 34.625 \r\nQ 24.75 34.625 20.71875 30.859375 \r\nQ 16.703125 27.09375 16.703125 20.515625 \r\nQ 16.703125 13.921875 20.71875 10.15625 \r\nQ 24.75 6.390625 31.78125 6.390625 \r\nQ 38.8125 6.390625 42.859375 10.171875 \r\nQ 46.921875 13.96875 46.921875 20.515625 \r\nQ 46.921875 27.09375 42.890625 30.859375 \r\nQ 38.875 34.625 31.78125 34.625 \r\nz\r\nM 21.921875 38.8125 \r\nQ 15.578125 40.375 12.03125 44.71875 \r\nQ 8.5 49.078125 8.5 55.328125 \r\nQ 8.5 64.0625 14.71875 69.140625 \r\nQ 20.953125 74.21875 31.78125 74.21875 \r\nQ 42.671875 74.21875 48.875 69.140625 \r\nQ 55.078125 64.0625 55.078125 55.328125 \r\nQ 55.078125 49.078125 51.53125 44.71875 \r\nQ 48 40.375 41.703125 38.8125 \r\nQ 48.828125 37.15625 52.796875 32.3125 \r\nQ 56.78125 27.484375 56.78125 20.515625 \r\nQ 56.78125 9.90625 50.3125 4.234375 \r\nQ 43.84375 -1.421875 31.78125 -1.421875 \r\nQ 19.734375 -1.421875 13.25 4.234375 \r\nQ 6.78125 9.90625 6.78125 20.515625 \r\nQ 6.78125 27.484375 10.78125 32.3125 \r\nQ 14.796875 37.15625 21.921875 38.8125 \r\nz\r\nM 18.3125 54.390625 \r\nQ 18.3125 48.734375 21.84375 45.5625 \r\nQ 25.390625 42.390625 31.78125 42.390625 \r\nQ 38.140625 42.390625 41.71875 45.5625 \r\nQ 45.3125 48.734375 45.3125 54.390625 \r\nQ 45.3125 60.0625 41.71875 63.234375 \r\nQ 38.140625 66.40625 31.78125 66.40625 \r\nQ 25.390625 66.40625 21.84375 63.234375 \r\nQ 18.3125 60.0625 18.3125 54.390625 \r\nz\r\n\" id=\"DejaVuSans-56\"/>\r\n      </defs>\r\n      <g transform=\"translate(290.407528 239.238437)scale(0.1 -0.1)\">\r\n       <use xlink:href=\"#DejaVuSans-48\"/>\r\n       <use x=\"63.623047\" xlink:href=\"#DejaVuSans-46\"/>\r\n       <use x=\"95.410156\" xlink:href=\"#DejaVuSans-56\"/>\r\n      </g>\r\n     </g>\r\n    </g>\r\n    <g id=\"xtick_6\">\r\n     <g id=\"line2d_6\">\r\n      <g>\r\n       <use style=\"stroke:#000000;stroke-width:0.8;\" x=\"359.231818\" xlink:href=\"#md551df1276\" y=\"224.64\"/>\r\n      </g>\r\n     </g>\r\n     <g id=\"text_6\">\r\n      <!-- 1.0 -->\r\n      <defs>\r\n       <path d=\"M 12.40625 8.296875 \r\nL 28.515625 8.296875 \r\nL 28.515625 63.921875 \r\nL 10.984375 60.40625 \r\nL 10.984375 69.390625 \r\nL 28.421875 72.90625 \r\nL 38.28125 72.90625 \r\nL 38.28125 8.296875 \r\nL 54.390625 8.296875 \r\nL 54.390625 0 \r\nL 12.40625 0 \r\nz\r\n\" id=\"DejaVuSans-49\"/>\r\n      </defs>\r\n      <g transform=\"translate(351.280256 239.238437)scale(0.1 -0.1)\">\r\n       <use xlink:href=\"#DejaVuSans-49\"/>\r\n       <use x=\"63.623047\" xlink:href=\"#DejaVuSans-46\"/>\r\n       <use x=\"95.410156\" xlink:href=\"#DejaVuSans-48\"/>\r\n      </g>\r\n     </g>\r\n    </g>\r\n   </g>\r\n   <g id=\"matplotlib.axis_2\">\r\n    <g id=\"ytick_1\">\r\n     <g id=\"line2d_7\">\r\n      <defs>\r\n       <path d=\"M 0 0 \r\nL -3.5 0 \r\n\" id=\"m6959a9f80b\" style=\"stroke:#000000;stroke-width:0.8;\"/>\r\n      </defs>\r\n      <g>\r\n       <use style=\"stroke:#000000;stroke-width:0.8;\" x=\"39.65\" xlink:href=\"#m6959a9f80b\" y=\"224.64\"/>\r\n      </g>\r\n     </g>\r\n     <g id=\"text_7\">\r\n      <!-- 0 -->\r\n      <g transform=\"translate(26.2875 228.439219)scale(0.1 -0.1)\">\r\n       <use xlink:href=\"#DejaVuSans-48\"/>\r\n      </g>\r\n     </g>\r\n    </g>\r\n    <g id=\"ytick_2\">\r\n     <g id=\"line2d_8\">\r\n      <g>\r\n       <use style=\"stroke:#000000;stroke-width:0.8;\" x=\"39.65\" xlink:href=\"#m6959a9f80b\" y=\"184.983601\"/>\r\n      </g>\r\n     </g>\r\n     <g id=\"text_8\">\r\n      <!-- 500 -->\r\n      <defs>\r\n       <path d=\"M 10.796875 72.90625 \r\nL 49.515625 72.90625 \r\nL 49.515625 64.59375 \r\nL 19.828125 64.59375 \r\nL 19.828125 46.734375 \r\nQ 21.96875 47.46875 24.109375 47.828125 \r\nQ 26.265625 48.1875 28.421875 48.1875 \r\nQ 40.625 48.1875 47.75 41.5 \r\nQ 54.890625 34.8125 54.890625 23.390625 \r\nQ 54.890625 11.625 47.5625 5.09375 \r\nQ 40.234375 -1.421875 26.90625 -1.421875 \r\nQ 22.3125 -1.421875 17.546875 -0.640625 \r\nQ 12.796875 0.140625 7.71875 1.703125 \r\nL 7.71875 11.625 \r\nQ 12.109375 9.234375 16.796875 8.0625 \r\nQ 21.484375 6.890625 26.703125 6.890625 \r\nQ 35.15625 6.890625 40.078125 11.328125 \r\nQ 45.015625 15.765625 45.015625 23.390625 \r\nQ 45.015625 31 40.078125 35.4375 \r\nQ 35.15625 39.890625 26.703125 39.890625 \r\nQ 22.75 39.890625 18.8125 39.015625 \r\nQ 14.890625 38.140625 10.796875 36.28125 \r\nz\r\n\" id=\"DejaVuSans-53\"/>\r\n      </defs>\r\n      <g transform=\"translate(13.5625 188.78282)scale(0.1 -0.1)\">\r\n       <use xlink:href=\"#DejaVuSans-53\"/>\r\n       <use x=\"63.623047\" xlink:href=\"#DejaVuSans-48\"/>\r\n       <use x=\"127.246094\" xlink:href=\"#DejaVuSans-48\"/>\r\n      </g>\r\n     </g>\r\n    </g>\r\n    <g id=\"ytick_3\">\r\n     <g id=\"line2d_9\">\r\n      <g>\r\n       <use style=\"stroke:#000000;stroke-width:0.8;\" x=\"39.65\" xlink:href=\"#m6959a9f80b\" y=\"145.327202\"/>\r\n      </g>\r\n     </g>\r\n     <g id=\"text_9\">\r\n      <!-- 1000 -->\r\n      <g transform=\"translate(7.2 149.126421)scale(0.1 -0.1)\">\r\n       <use xlink:href=\"#DejaVuSans-49\"/>\r\n       <use x=\"63.623047\" xlink:href=\"#DejaVuSans-48\"/>\r\n       <use x=\"127.246094\" xlink:href=\"#DejaVuSans-48\"/>\r\n       <use x=\"190.869141\" xlink:href=\"#DejaVuSans-48\"/>\r\n      </g>\r\n     </g>\r\n    </g>\r\n    <g id=\"ytick_4\">\r\n     <g id=\"line2d_10\">\r\n      <g>\r\n       <use style=\"stroke:#000000;stroke-width:0.8;\" x=\"39.65\" xlink:href=\"#m6959a9f80b\" y=\"105.670804\"/>\r\n      </g>\r\n     </g>\r\n     <g id=\"text_10\">\r\n      <!-- 1500 -->\r\n      <g transform=\"translate(7.2 109.470022)scale(0.1 -0.1)\">\r\n       <use xlink:href=\"#DejaVuSans-49\"/>\r\n       <use x=\"63.623047\" xlink:href=\"#DejaVuSans-53\"/>\r\n       <use x=\"127.246094\" xlink:href=\"#DejaVuSans-48\"/>\r\n       <use x=\"190.869141\" xlink:href=\"#DejaVuSans-48\"/>\r\n      </g>\r\n     </g>\r\n    </g>\r\n    <g id=\"ytick_5\">\r\n     <g id=\"line2d_11\">\r\n      <g>\r\n       <use style=\"stroke:#000000;stroke-width:0.8;\" x=\"39.65\" xlink:href=\"#m6959a9f80b\" y=\"66.014405\"/>\r\n      </g>\r\n     </g>\r\n     <g id=\"text_11\">\r\n      <!-- 2000 -->\r\n      <g transform=\"translate(7.2 69.813624)scale(0.1 -0.1)\">\r\n       <use xlink:href=\"#DejaVuSans-50\"/>\r\n       <use x=\"63.623047\" xlink:href=\"#DejaVuSans-48\"/>\r\n       <use x=\"127.246094\" xlink:href=\"#DejaVuSans-48\"/>\r\n       <use x=\"190.869141\" xlink:href=\"#DejaVuSans-48\"/>\r\n      </g>\r\n     </g>\r\n    </g>\r\n    <g id=\"ytick_6\">\r\n     <g id=\"line2d_12\">\r\n      <g>\r\n       <use style=\"stroke:#000000;stroke-width:0.8;\" x=\"39.65\" xlink:href=\"#m6959a9f80b\" y=\"26.358006\"/>\r\n      </g>\r\n     </g>\r\n     <g id=\"text_12\">\r\n      <!-- 2500 -->\r\n      <g transform=\"translate(7.2 30.157225)scale(0.1 -0.1)\">\r\n       <use xlink:href=\"#DejaVuSans-50\"/>\r\n       <use x=\"63.623047\" xlink:href=\"#DejaVuSans-53\"/>\r\n       <use x=\"127.246094\" xlink:href=\"#DejaVuSans-48\"/>\r\n       <use x=\"190.869141\" xlink:href=\"#DejaVuSans-48\"/>\r\n      </g>\r\n     </g>\r\n    </g>\r\n   </g>\r\n   <g id=\"patch_13\">\r\n    <path d=\"M 39.65 224.64 \r\nL 39.65 7.2 \r\n\" style=\"fill:none;stroke:#000000;stroke-linecap:square;stroke-linejoin:miter;stroke-width:0.8;\"/>\r\n   </g>\r\n   <g id=\"patch_14\">\r\n    <path d=\"M 374.45 224.64 \r\nL 374.45 7.2 \r\n\" style=\"fill:none;stroke:#000000;stroke-linecap:square;stroke-linejoin:miter;stroke-width:0.8;\"/>\r\n   </g>\r\n   <g id=\"patch_15\">\r\n    <path d=\"M 39.65 224.64 \r\nL 374.45 224.64 \r\n\" style=\"fill:none;stroke:#000000;stroke-linecap:square;stroke-linejoin:miter;stroke-width:0.8;\"/>\r\n   </g>\r\n   <g id=\"patch_16\">\r\n    <path d=\"M 39.65 7.2 \r\nL 374.45 7.2 \r\n\" style=\"fill:none;stroke:#000000;stroke-linecap:square;stroke-linejoin:miter;stroke-width:0.8;\"/>\r\n   </g>\r\n  </g>\r\n </g>\r\n <defs>\r\n  <clipPath id=\"p91575037c4\">\r\n   <rect height=\"217.44\" width=\"334.8\" x=\"39.65\" y=\"7.2\"/>\r\n  </clipPath>\r\n </defs>\r\n</svg>\r\n",
      "image/png": "[encoded data removed]"
     },
     "metadata": {
      "needs_background": "light"
     }
    }
   ],
   "source": [
    "plt.hist(check.astype(int))"
   ]
  },
  {
   "cell_type": "code",
   "execution_count": 83,
   "metadata": {},
   "outputs": [],
   "source": [
    "training = data[check]\n",
    "testing = data[~check]"
   ]
  },
  {
   "cell_type": "code",
   "execution_count": 84,
   "metadata": {},
   "outputs": [
    {
     "output_type": "execute_result",
     "data": {
      "text/plain": "722"
     },
     "metadata": {},
     "execution_count": 84
    }
   ],
   "source": [
    "len (testing)"
   ]
  },
  {
   "cell_type": "code",
   "execution_count": 85,
   "metadata": {},
   "outputs": [
    {
     "output_type": "execute_result",
     "data": {
      "text/plain": "2611"
     },
     "metadata": {},
     "execution_count": 85
    }
   ],
   "source": [
    "len(training)"
   ]
  },
  {
   "cell_type": "markdown",
   "metadata": {},
   "source": [
    "## Con la Libreria sklearn"
   ]
  },
  {
   "cell_type": "code",
   "execution_count": 88,
   "metadata": {},
   "outputs": [],
   "source": [
    "from sklearn.model_selection import train_test_split as tts"
   ]
  },
  {
   "cell_type": "code",
   "execution_count": 89,
   "metadata": {},
   "outputs": [],
   "source": [
    "train, test = tts(data, test_size = 0.2)"
   ]
  },
  {
   "cell_type": "code",
   "execution_count": 90,
   "metadata": {},
   "outputs": [
    {
     "output_type": "execute_result",
     "data": {
      "text/plain": "2666"
     },
     "metadata": {},
     "execution_count": 90
    }
   ],
   "source": [
    "len (train)"
   ]
  },
  {
   "cell_type": "code",
   "execution_count": 91,
   "metadata": {},
   "outputs": [
    {
     "output_type": "execute_result",
     "data": {
      "text/plain": "667"
     },
     "metadata": {},
     "execution_count": 91
    }
   ],
   "source": [
    "len (test)"
   ]
  },
  {
   "cell_type": "markdown",
   "metadata": {},
   "source": [
    "## Usando una función de shuffle"
   ]
  },
  {
   "cell_type": "code",
   "execution_count": 93,
   "metadata": {},
   "outputs": [],
   "source": [
    "import sklearn as skl"
   ]
  },
  {
   "cell_type": "code",
   "execution_count": 95,
   "metadata": {},
   "outputs": [],
   "source": [
    "data = skl.utils.shuffle(data)"
   ]
  },
  {
   "cell_type": "code",
   "execution_count": 99,
   "metadata": {},
   "outputs": [],
   "source": [
    "cut_id = int (0.75 * len (data))\n",
    "train_data = data[:cut_id]\n",
    "test_data = data[cut_id:]"
   ]
  },
  {
   "cell_type": "code",
   "execution_count": 100,
   "metadata": {},
   "outputs": [
    {
     "output_type": "execute_result",
     "data": {
      "text/plain": "2499"
     },
     "metadata": {},
     "execution_count": 100
    }
   ],
   "source": [
    "len(train_data)"
   ]
  },
  {
   "cell_type": "code",
   "execution_count": 101,
   "metadata": {},
   "outputs": [
    {
     "output_type": "execute_result",
     "data": {
      "text/plain": "834"
     },
     "metadata": {},
     "execution_count": 101
    }
   ],
   "source": [
    "len(test_data)"
   ]
  },
  {
   "cell_type": "markdown",
   "metadata": {},
   "source": [
    "kaggle.com, pagina para ejercicios de data science y concursos"
   ]
  },
  {
   "cell_type": "code",
   "execution_count": null,
   "metadata": {},
   "outputs": [],
   "source": []
  }
 ],
 "metadata": {
  "language_info": {
   "codemirror_mode": {
    "name": "ipython",
    "version": 3
   },
   "file_extension": ".py",
   "mimetype": "text/x-python",
   "name": "python",
   "nbconvert_exporter": "python",
   "pygments_lexer": "ipython3",
   "version": 3
  },
  "orig_nbformat": 2,
  "kernelspec": {
   "name": "python_defaultSpec_1594257417641",
   "display_name": "Python 3.8.0 64-bit"
  }
 },
 "nbformat": 4,
 "nbformat_minor": 2
}