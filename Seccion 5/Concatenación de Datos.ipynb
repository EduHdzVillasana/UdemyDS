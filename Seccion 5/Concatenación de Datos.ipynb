{
 "cells": [
  {
   "cell_type": "markdown",
   "metadata": {},
   "source": [
    "# Concatenar y apendizar data sets"
   ]
  },
  {
   "cell_type": "code",
   "execution_count": 1,
   "metadata": {},
   "outputs": [],
   "source": [
    "import pandas as pd\n",
    "import os"
   ]
  },
  {
   "cell_type": "markdown",
   "metadata": {},
   "source": [
    "Data Set Information:\n",
    "\n",
    "These data are the results of a chemical analysis of wines grown in the same region in Italy but derived from three different cultivars. The analysis determined the quantities of 13 constituents found in each of the three types of wines. \n",
    "\n",
    "I think that the initial data set had around 30 variables, but for some reason I only have the 13 dimensional version. I had a list of what the 30 or so variables were, but a.) I lost it, and b.), I would not know which 13 variables are included in the set. \n",
    "\n",
    "The attributes are (dontated by Riccardo Leardi, riclea '@' anchem.unige.it ) \n",
    "\n",
    "1. Alcohol \n",
    "2. Malic acid \n",
    "3. Ash \n",
    "4. Alcalinity of ash \n",
    "5. Magnesium \n",
    "6. Total phenols \n",
    "7. Flavanoids \n",
    "8. Nonflavanoid phenols \n",
    "9. Proanthocyanins \n",
    "10. Color intensity \n",
    "11. Hue \n",
    "12. OD280/OD315 of diluted wines \n",
    "13. Proline \n",
    "\n",
    "In a classification context, this is a well posed problem with \"well behaved\" class structures. A good data set for first testing of a new classifier, but not very challenging.\n",
    "\n",
    "\n",
    "Attribute Information:\n",
    "\n",
    "All attributes are continuous \n",
    "\n",
    "No statistics available, but suggest to standardise variables for certain uses (e.g. for us with classifiers which are NOT scale invariant) \n",
    "\n",
    "NOTE: 1st attribute is class identifier (1-3)"
   ]
  },
  {
   "cell_type": "code",
   "execution_count": 2,
   "metadata": {},
   "outputs": [],
   "source": [
    "mainpath = \"E:/Curso de Python/Repositorio/python-ml-course/datasets/\"\n",
    "white_path = \"wine/winequality-white.csv\"\n",
    "red_path = \"wine/winequality-red.csv\"\n",
    "withe_wine_data = pd.read_csv(os.path.join(mainpath,white_path), sep = ';')\n",
    "red_wine_data = pd.read_csv(os.path.join(mainpath, red_path), sep = ';')"
   ]
  },
  {
   "cell_type": "code",
   "execution_count": 3,
   "metadata": {},
   "outputs": [
    {
     "output_type": "execute_result",
     "data": {
      "text/plain": "   fixed acidity  volatile acidity  citric acid  residual sugar  chlorides  \\\n0            7.4              0.70         0.00             1.9      0.076   \n1            7.8              0.88         0.00             2.6      0.098   \n2            7.8              0.76         0.04             2.3      0.092   \n3           11.2              0.28         0.56             1.9      0.075   \n4            7.4              0.70         0.00             1.9      0.076   \n\n   free sulfur dioxide  total sulfur dioxide  density    pH  sulphates  \\\n0                 11.0                  34.0   0.9978  3.51       0.56   \n1                 25.0                  67.0   0.9968  3.20       0.68   \n2                 15.0                  54.0   0.9970  3.26       0.65   \n3                 17.0                  60.0   0.9980  3.16       0.58   \n4                 11.0                  34.0   0.9978  3.51       0.56   \n\n   alcohol  quality  \n0      9.4        5  \n1      9.8        5  \n2      9.8        5  \n3      9.8        6  \n4      9.4        5  ",
      "text/html": "<div>\n<style scoped>\n    .dataframe tbody tr th:only-of-type {\n        vertical-align: middle;\n    }\n\n    .dataframe tbody tr th {\n        vertical-align: top;\n    }\n\n    .dataframe thead th {\n        text-align: right;\n    }\n</style>\n<table border=\"1\" class=\"dataframe\">\n  <thead>\n    <tr style=\"text-align: right;\">\n      <th></th>\n      <th>fixed acidity</th>\n      <th>volatile acidity</th>\n      <th>citric acid</th>\n      <th>residual sugar</th>\n      <th>chlorides</th>\n      <th>free sulfur dioxide</th>\n      <th>total sulfur dioxide</th>\n      <th>density</th>\n      <th>pH</th>\n      <th>sulphates</th>\n      <th>alcohol</th>\n      <th>quality</th>\n    </tr>\n  </thead>\n  <tbody>\n    <tr>\n      <th>0</th>\n      <td>7.4</td>\n      <td>0.70</td>\n      <td>0.00</td>\n      <td>1.9</td>\n      <td>0.076</td>\n      <td>11.0</td>\n      <td>34.0</td>\n      <td>0.9978</td>\n      <td>3.51</td>\n      <td>0.56</td>\n      <td>9.4</td>\n      <td>5</td>\n    </tr>\n    <tr>\n      <th>1</th>\n      <td>7.8</td>\n      <td>0.88</td>\n      <td>0.00</td>\n      <td>2.6</td>\n      <td>0.098</td>\n      <td>25.0</td>\n      <td>67.0</td>\n      <td>0.9968</td>\n      <td>3.20</td>\n      <td>0.68</td>\n      <td>9.8</td>\n      <td>5</td>\n    </tr>\n    <tr>\n      <th>2</th>\n      <td>7.8</td>\n      <td>0.76</td>\n      <td>0.04</td>\n      <td>2.3</td>\n      <td>0.092</td>\n      <td>15.0</td>\n      <td>54.0</td>\n      <td>0.9970</td>\n      <td>3.26</td>\n      <td>0.65</td>\n      <td>9.8</td>\n      <td>5</td>\n    </tr>\n    <tr>\n      <th>3</th>\n      <td>11.2</td>\n      <td>0.28</td>\n      <td>0.56</td>\n      <td>1.9</td>\n      <td>0.075</td>\n      <td>17.0</td>\n      <td>60.0</td>\n      <td>0.9980</td>\n      <td>3.16</td>\n      <td>0.58</td>\n      <td>9.8</td>\n      <td>6</td>\n    </tr>\n    <tr>\n      <th>4</th>\n      <td>7.4</td>\n      <td>0.70</td>\n      <td>0.00</td>\n      <td>1.9</td>\n      <td>0.076</td>\n      <td>11.0</td>\n      <td>34.0</td>\n      <td>0.9978</td>\n      <td>3.51</td>\n      <td>0.56</td>\n      <td>9.4</td>\n      <td>5</td>\n    </tr>\n  </tbody>\n</table>\n</div>"
     },
     "metadata": {},
     "execution_count": 3
    }
   ],
   "source": [
    "red_wine_data.head()"
   ]
  },
  {
   "cell_type": "code",
   "execution_count": 4,
   "metadata": {},
   "outputs": [
    {
     "output_type": "execute_result",
     "data": {
      "text/plain": "   fixed acidity  volatile acidity  citric acid  residual sugar  chlorides  \\\n0            7.0              0.27         0.36            20.7      0.045   \n1            6.3              0.30         0.34             1.6      0.049   \n2            8.1              0.28         0.40             6.9      0.050   \n3            7.2              0.23         0.32             8.5      0.058   \n4            7.2              0.23         0.32             8.5      0.058   \n\n   free sulfur dioxide  total sulfur dioxide  density    pH  sulphates  \\\n0                 45.0                 170.0   1.0010  3.00       0.45   \n1                 14.0                 132.0   0.9940  3.30       0.49   \n2                 30.0                  97.0   0.9951  3.26       0.44   \n3                 47.0                 186.0   0.9956  3.19       0.40   \n4                 47.0                 186.0   0.9956  3.19       0.40   \n\n   alcohol  quality  \n0      8.8        6  \n1      9.5        6  \n2     10.1        6  \n3      9.9        6  \n4      9.9        6  ",
      "text/html": "<div>\n<style scoped>\n    .dataframe tbody tr th:only-of-type {\n        vertical-align: middle;\n    }\n\n    .dataframe tbody tr th {\n        vertical-align: top;\n    }\n\n    .dataframe thead th {\n        text-align: right;\n    }\n</style>\n<table border=\"1\" class=\"dataframe\">\n  <thead>\n    <tr style=\"text-align: right;\">\n      <th></th>\n      <th>fixed acidity</th>\n      <th>volatile acidity</th>\n      <th>citric acid</th>\n      <th>residual sugar</th>\n      <th>chlorides</th>\n      <th>free sulfur dioxide</th>\n      <th>total sulfur dioxide</th>\n      <th>density</th>\n      <th>pH</th>\n      <th>sulphates</th>\n      <th>alcohol</th>\n      <th>quality</th>\n    </tr>\n  </thead>\n  <tbody>\n    <tr>\n      <th>0</th>\n      <td>7.0</td>\n      <td>0.27</td>\n      <td>0.36</td>\n      <td>20.7</td>\n      <td>0.045</td>\n      <td>45.0</td>\n      <td>170.0</td>\n      <td>1.0010</td>\n      <td>3.00</td>\n      <td>0.45</td>\n      <td>8.8</td>\n      <td>6</td>\n    </tr>\n    <tr>\n      <th>1</th>\n      <td>6.3</td>\n      <td>0.30</td>\n      <td>0.34</td>\n      <td>1.6</td>\n      <td>0.049</td>\n      <td>14.0</td>\n      <td>132.0</td>\n      <td>0.9940</td>\n      <td>3.30</td>\n      <td>0.49</td>\n      <td>9.5</td>\n      <td>6</td>\n    </tr>\n    <tr>\n      <th>2</th>\n      <td>8.1</td>\n      <td>0.28</td>\n      <td>0.40</td>\n      <td>6.9</td>\n      <td>0.050</td>\n      <td>30.0</td>\n      <td>97.0</td>\n      <td>0.9951</td>\n      <td>3.26</td>\n      <td>0.44</td>\n      <td>10.1</td>\n      <td>6</td>\n    </tr>\n    <tr>\n      <th>3</th>\n      <td>7.2</td>\n      <td>0.23</td>\n      <td>0.32</td>\n      <td>8.5</td>\n      <td>0.058</td>\n      <td>47.0</td>\n      <td>186.0</td>\n      <td>0.9956</td>\n      <td>3.19</td>\n      <td>0.40</td>\n      <td>9.9</td>\n      <td>6</td>\n    </tr>\n    <tr>\n      <th>4</th>\n      <td>7.2</td>\n      <td>0.23</td>\n      <td>0.32</td>\n      <td>8.5</td>\n      <td>0.058</td>\n      <td>47.0</td>\n      <td>186.0</td>\n      <td>0.9956</td>\n      <td>3.19</td>\n      <td>0.40</td>\n      <td>9.9</td>\n      <td>6</td>\n    </tr>\n  </tbody>\n</table>\n</div>"
     },
     "metadata": {},
     "execution_count": 4
    }
   ],
   "source": [
    "withe_wine_data.head()"
   ]
  },
  {
   "cell_type": "markdown",
   "metadata": {},
   "source": [
    "En python, tenemos dos tipos de ejes:\n",
    "* axis = 0, denota el eje horizontal.\n",
    "* axis = 1, denota el eje horizontal."
   ]
  },
  {
   "cell_type": "code",
   "execution_count": 5,
   "metadata": {},
   "outputs": [],
   "source": [
    "wine_data = pd.concat([red_wine_data, withe_wine_data], axis = 0)"
   ]
  },
  {
   "cell_type": "code",
   "execution_count": 6,
   "metadata": {},
   "outputs": [
    {
     "output_type": "execute_result",
     "data": {
      "text/plain": "(6497, 12)"
     },
     "metadata": {},
     "execution_count": 6
    }
   ],
   "source": [
    "wine_data.shape"
   ]
  },
  {
   "cell_type": "code",
   "execution_count": 7,
   "metadata": {},
   "outputs": [
    {
     "output_type": "execute_result",
     "data": {
      "text/plain": "   fixed acidity  volatile acidity  citric acid  residual sugar  chlorides  \\\n0            7.4              0.70         0.00             1.9      0.076   \n1            7.8              0.88         0.00             2.6      0.098   \n2            7.8              0.76         0.04             2.3      0.092   \n3           11.2              0.28         0.56             1.9      0.075   \n4            7.4              0.70         0.00             1.9      0.076   \n\n   free sulfur dioxide  total sulfur dioxide  density    pH  sulphates  \\\n0                 11.0                  34.0   0.9978  3.51       0.56   \n1                 25.0                  67.0   0.9968  3.20       0.68   \n2                 15.0                  54.0   0.9970  3.26       0.65   \n3                 17.0                  60.0   0.9980  3.16       0.58   \n4                 11.0                  34.0   0.9978  3.51       0.56   \n\n   alcohol  quality  \n0      9.4        5  \n1      9.8        5  \n2      9.8        5  \n3      9.8        6  \n4      9.4        5  ",
      "text/html": "<div>\n<style scoped>\n    .dataframe tbody tr th:only-of-type {\n        vertical-align: middle;\n    }\n\n    .dataframe tbody tr th {\n        vertical-align: top;\n    }\n\n    .dataframe thead th {\n        text-align: right;\n    }\n</style>\n<table border=\"1\" class=\"dataframe\">\n  <thead>\n    <tr style=\"text-align: right;\">\n      <th></th>\n      <th>fixed acidity</th>\n      <th>volatile acidity</th>\n      <th>citric acid</th>\n      <th>residual sugar</th>\n      <th>chlorides</th>\n      <th>free sulfur dioxide</th>\n      <th>total sulfur dioxide</th>\n      <th>density</th>\n      <th>pH</th>\n      <th>sulphates</th>\n      <th>alcohol</th>\n      <th>quality</th>\n    </tr>\n  </thead>\n  <tbody>\n    <tr>\n      <th>0</th>\n      <td>7.4</td>\n      <td>0.70</td>\n      <td>0.00</td>\n      <td>1.9</td>\n      <td>0.076</td>\n      <td>11.0</td>\n      <td>34.0</td>\n      <td>0.9978</td>\n      <td>3.51</td>\n      <td>0.56</td>\n      <td>9.4</td>\n      <td>5</td>\n    </tr>\n    <tr>\n      <th>1</th>\n      <td>7.8</td>\n      <td>0.88</td>\n      <td>0.00</td>\n      <td>2.6</td>\n      <td>0.098</td>\n      <td>25.0</td>\n      <td>67.0</td>\n      <td>0.9968</td>\n      <td>3.20</td>\n      <td>0.68</td>\n      <td>9.8</td>\n      <td>5</td>\n    </tr>\n    <tr>\n      <th>2</th>\n      <td>7.8</td>\n      <td>0.76</td>\n      <td>0.04</td>\n      <td>2.3</td>\n      <td>0.092</td>\n      <td>15.0</td>\n      <td>54.0</td>\n      <td>0.9970</td>\n      <td>3.26</td>\n      <td>0.65</td>\n      <td>9.8</td>\n      <td>5</td>\n    </tr>\n    <tr>\n      <th>3</th>\n      <td>11.2</td>\n      <td>0.28</td>\n      <td>0.56</td>\n      <td>1.9</td>\n      <td>0.075</td>\n      <td>17.0</td>\n      <td>60.0</td>\n      <td>0.9980</td>\n      <td>3.16</td>\n      <td>0.58</td>\n      <td>9.8</td>\n      <td>6</td>\n    </tr>\n    <tr>\n      <th>4</th>\n      <td>7.4</td>\n      <td>0.70</td>\n      <td>0.00</td>\n      <td>1.9</td>\n      <td>0.076</td>\n      <td>11.0</td>\n      <td>34.0</td>\n      <td>0.9978</td>\n      <td>3.51</td>\n      <td>0.56</td>\n      <td>9.4</td>\n      <td>5</td>\n    </tr>\n  </tbody>\n</table>\n</div>"
     },
     "metadata": {},
     "execution_count": 7
    }
   ],
   "source": [
    "wine_data.head()"
   ]
  },
  {
   "cell_type": "markdown",
   "metadata": {},
   "source": [
    "# Datos Distribuidos"
   ]
  },
  {
   "cell_type": "code",
   "execution_count": 8,
   "metadata": {},
   "outputs": [
    {
     "output_type": "execute_result",
     "data": {
      "text/plain": "         Date  sulfate  nitrate  ID\n0  2003-01-01      NaN      NaN   1\n1  2003-01-02      NaN      NaN   1\n2  2003-01-03      NaN      NaN   1\n3  2003-01-04      NaN      NaN   1\n4  2003-01-05      NaN      NaN   1",
      "text/html": "<div>\n<style scoped>\n    .dataframe tbody tr th:only-of-type {\n        vertical-align: middle;\n    }\n\n    .dataframe tbody tr th {\n        vertical-align: top;\n    }\n\n    .dataframe thead th {\n        text-align: right;\n    }\n</style>\n<table border=\"1\" class=\"dataframe\">\n  <thead>\n    <tr style=\"text-align: right;\">\n      <th></th>\n      <th>Date</th>\n      <th>sulfate</th>\n      <th>nitrate</th>\n      <th>ID</th>\n    </tr>\n  </thead>\n  <tbody>\n    <tr>\n      <th>0</th>\n      <td>2003-01-01</td>\n      <td>NaN</td>\n      <td>NaN</td>\n      <td>1</td>\n    </tr>\n    <tr>\n      <th>1</th>\n      <td>2003-01-02</td>\n      <td>NaN</td>\n      <td>NaN</td>\n      <td>1</td>\n    </tr>\n    <tr>\n      <th>2</th>\n      <td>2003-01-03</td>\n      <td>NaN</td>\n      <td>NaN</td>\n      <td>1</td>\n    </tr>\n    <tr>\n      <th>3</th>\n      <td>2003-01-04</td>\n      <td>NaN</td>\n      <td>NaN</td>\n      <td>1</td>\n    </tr>\n    <tr>\n      <th>4</th>\n      <td>2003-01-05</td>\n      <td>NaN</td>\n      <td>NaN</td>\n      <td>1</td>\n    </tr>\n  </tbody>\n</table>\n</div>"
     },
     "metadata": {},
     "execution_count": 8
    }
   ],
   "source": [
    "data = pd.read_csv(os.path.join(mainpath,\"distributed-data/001.csv\"))\n",
    "data.head()"
   ]
  },
  {
   "cell_type": "code",
   "execution_count": 9,
   "metadata": {
    "tags": []
   },
   "outputs": [
    {
     "output_type": "execute_result",
     "data": {
      "text/plain": "(772087, 4)"
     },
     "metadata": {},
     "execution_count": 9
    }
   ],
   "source": [
    "df_list = []\n",
    "folder = \"distributed-data\"\n",
    "for i in range (1,333):\n",
    "    if i < 10:\n",
    "        file = \"00\" + str(i) + \".csv\"\n",
    "    elif i < 100:\n",
    "        file = \"0\" + str(i) + \".csv\"\n",
    "    else: \n",
    "        file = str(i) + \".csv\"\n",
    "    path = os.path.join(mainpath, folder, file)\n",
    "    df_list.append(pd.read_csv(path))\n",
    "data = pd.concat(df_list, axis = 0)\n",
    "data.shape\n"
   ]
  },
  {
   "cell_type": "code",
   "execution_count": 10,
   "metadata": {},
   "outputs": [
    {
     "output_type": "execute_result",
     "data": {
      "text/plain": "           Date  sulfate  nitrate   ID\n726  2004-12-27      NaN      NaN  332\n727  2004-12-28      NaN      NaN  332\n728  2004-12-29      NaN      NaN  332\n729  2004-12-30      NaN      NaN  332\n730  2004-12-31      NaN      NaN  332",
      "text/html": "<div>\n<style scoped>\n    .dataframe tbody tr th:only-of-type {\n        vertical-align: middle;\n    }\n\n    .dataframe tbody tr th {\n        vertical-align: top;\n    }\n\n    .dataframe thead th {\n        text-align: right;\n    }\n</style>\n<table border=\"1\" class=\"dataframe\">\n  <thead>\n    <tr style=\"text-align: right;\">\n      <th></th>\n      <th>Date</th>\n      <th>sulfate</th>\n      <th>nitrate</th>\n      <th>ID</th>\n    </tr>\n  </thead>\n  <tbody>\n    <tr>\n      <th>726</th>\n      <td>2004-12-27</td>\n      <td>NaN</td>\n      <td>NaN</td>\n      <td>332</td>\n    </tr>\n    <tr>\n      <th>727</th>\n      <td>2004-12-28</td>\n      <td>NaN</td>\n      <td>NaN</td>\n      <td>332</td>\n    </tr>\n    <tr>\n      <th>728</th>\n      <td>2004-12-29</td>\n      <td>NaN</td>\n      <td>NaN</td>\n      <td>332</td>\n    </tr>\n    <tr>\n      <th>729</th>\n      <td>2004-12-30</td>\n      <td>NaN</td>\n      <td>NaN</td>\n      <td>332</td>\n    </tr>\n    <tr>\n      <th>730</th>\n      <td>2004-12-31</td>\n      <td>NaN</td>\n      <td>NaN</td>\n      <td>332</td>\n    </tr>\n  </tbody>\n</table>\n</div>"
     },
     "metadata": {},
     "execution_count": 10
    }
   ],
   "source": [
    "data.tail()"
   ]
  },
  {
   "cell_type": "code",
   "execution_count": 30,
   "metadata": {},
   "outputs": [
    {
     "output_type": "execute_result",
     "data": {
      "text/plain": "           Date  sulfate  nitrate  ID\n0    2003-01-01      NaN      NaN   1\n1    2003-01-02      NaN      NaN   1\n2    2003-01-03      NaN      NaN   1\n3    2003-01-04      NaN      NaN   1\n4    2003-01-05      NaN      NaN   1\n..          ...      ...      ...  ..\n361  2000-12-27      NaN      NaN  55\n362  2000-12-28      NaN      NaN  55\n363  2000-12-29     1.72    0.893  55\n364  2000-12-30      NaN      NaN  55\n365  2000-12-31      NaN      NaN  55\n\n[20090 rows x 4 columns]",
      "text/html": "<div>\n<style scoped>\n    .dataframe tbody tr th:only-of-type {\n        vertical-align: middle;\n    }\n\n    .dataframe tbody tr th {\n        vertical-align: top;\n    }\n\n    .dataframe thead th {\n        text-align: right;\n    }\n</style>\n<table border=\"1\" class=\"dataframe\">\n  <thead>\n    <tr style=\"text-align: right;\">\n      <th></th>\n      <th>Date</th>\n      <th>sulfate</th>\n      <th>nitrate</th>\n      <th>ID</th>\n    </tr>\n  </thead>\n  <tbody>\n    <tr>\n      <th>0</th>\n      <td>2003-01-01</td>\n      <td>NaN</td>\n      <td>NaN</td>\n      <td>1</td>\n    </tr>\n    <tr>\n      <th>1</th>\n      <td>2003-01-02</td>\n      <td>NaN</td>\n      <td>NaN</td>\n      <td>1</td>\n    </tr>\n    <tr>\n      <th>2</th>\n      <td>2003-01-03</td>\n      <td>NaN</td>\n      <td>NaN</td>\n      <td>1</td>\n    </tr>\n    <tr>\n      <th>3</th>\n      <td>2003-01-04</td>\n      <td>NaN</td>\n      <td>NaN</td>\n      <td>1</td>\n    </tr>\n    <tr>\n      <th>4</th>\n      <td>2003-01-05</td>\n      <td>NaN</td>\n      <td>NaN</td>\n      <td>1</td>\n    </tr>\n    <tr>\n      <th>...</th>\n      <td>...</td>\n      <td>...</td>\n      <td>...</td>\n      <td>...</td>\n    </tr>\n    <tr>\n      <th>361</th>\n      <td>2000-12-27</td>\n      <td>NaN</td>\n      <td>NaN</td>\n      <td>55</td>\n    </tr>\n    <tr>\n      <th>362</th>\n      <td>2000-12-28</td>\n      <td>NaN</td>\n      <td>NaN</td>\n      <td>55</td>\n    </tr>\n    <tr>\n      <th>363</th>\n      <td>2000-12-29</td>\n      <td>1.72</td>\n      <td>0.893</td>\n      <td>55</td>\n    </tr>\n    <tr>\n      <th>364</th>\n      <td>2000-12-30</td>\n      <td>NaN</td>\n      <td>NaN</td>\n      <td>55</td>\n    </tr>\n    <tr>\n      <th>365</th>\n      <td>2000-12-31</td>\n      <td>NaN</td>\n      <td>NaN</td>\n      <td>55</td>\n    </tr>\n  </tbody>\n</table>\n<p>20090 rows × 4 columns</p>\n</div>"
     },
     "metadata": {},
     "execution_count": 30
    }
   ],
   "source": []
  },
  {
   "cell_type": "markdown",
   "metadata": {},
   "source": [
    "# Join de datasets"
   ]
  },
  {
   "cell_type": "code",
   "execution_count": 11,
   "metadata": {},
   "outputs": [],
   "source": [
    "folder = \"athletes\""
   ]
  },
  {
   "cell_type": "code",
   "execution_count": 12,
   "metadata": {},
   "outputs": [
    {
     "output_type": "execute_result",
     "data": {
      "text/plain": "            Athlete   Age  Year Closing Ceremony Date  Gold Medals  \\\n0    Michael Phelps  23.0  2008            08/24/2008            8   \n1    Michael Phelps  19.0  2004            08/29/2004            6   \n2    Michael Phelps  27.0  2012            08/12/2012            4   \n3  Natalie Coughlin  25.0  2008            08/24/2008            1   \n4     Aleksey Nemov  24.0  2000            10/01/2000            2   \n\n   Silver Medals  Bronze Medals  Total Medals  \n0              0              0             8  \n1              0              2             8  \n2              2              0             6  \n3              2              3             6  \n4              1              3             6  ",
      "text/html": "<div>\n<style scoped>\n    .dataframe tbody tr th:only-of-type {\n        vertical-align: middle;\n    }\n\n    .dataframe tbody tr th {\n        vertical-align: top;\n    }\n\n    .dataframe thead th {\n        text-align: right;\n    }\n</style>\n<table border=\"1\" class=\"dataframe\">\n  <thead>\n    <tr style=\"text-align: right;\">\n      <th></th>\n      <th>Athlete</th>\n      <th>Age</th>\n      <th>Year</th>\n      <th>Closing Ceremony Date</th>\n      <th>Gold Medals</th>\n      <th>Silver Medals</th>\n      <th>Bronze Medals</th>\n      <th>Total Medals</th>\n    </tr>\n  </thead>\n  <tbody>\n    <tr>\n      <th>0</th>\n      <td>Michael Phelps</td>\n      <td>23.0</td>\n      <td>2008</td>\n      <td>08/24/2008</td>\n      <td>8</td>\n      <td>0</td>\n      <td>0</td>\n      <td>8</td>\n    </tr>\n    <tr>\n      <th>1</th>\n      <td>Michael Phelps</td>\n      <td>19.0</td>\n      <td>2004</td>\n      <td>08/29/2004</td>\n      <td>6</td>\n      <td>0</td>\n      <td>2</td>\n      <td>8</td>\n    </tr>\n    <tr>\n      <th>2</th>\n      <td>Michael Phelps</td>\n      <td>27.0</td>\n      <td>2012</td>\n      <td>08/12/2012</td>\n      <td>4</td>\n      <td>2</td>\n      <td>0</td>\n      <td>6</td>\n    </tr>\n    <tr>\n      <th>3</th>\n      <td>Natalie Coughlin</td>\n      <td>25.0</td>\n      <td>2008</td>\n      <td>08/24/2008</td>\n      <td>1</td>\n      <td>2</td>\n      <td>3</td>\n      <td>6</td>\n    </tr>\n    <tr>\n      <th>4</th>\n      <td>Aleksey Nemov</td>\n      <td>24.0</td>\n      <td>2000</td>\n      <td>10/01/2000</td>\n      <td>2</td>\n      <td>1</td>\n      <td>3</td>\n      <td>6</td>\n    </tr>\n  </tbody>\n</table>\n</div>"
     },
     "metadata": {},
     "execution_count": 12
    }
   ],
   "source": [
    "data_main = pd.read_csv(os.path.join(mainpath,folder,\"Medals.csv\"), encoding = \"ISO-8859-1\")\n",
    "data_main.head()"
   ]
  },
  {
   "cell_type": "code",
   "execution_count": 13,
   "metadata": {},
   "outputs": [
    {
     "output_type": "execute_result",
     "data": {
      "text/plain": "6956"
     },
     "metadata": {},
     "execution_count": 13
    }
   ],
   "source": [
    "a = data_main[\"Athlete\"].unique().tolist()\n",
    "len(a)"
   ]
  },
  {
   "cell_type": "code",
   "execution_count": 14,
   "metadata": {},
   "outputs": [
    {
     "output_type": "execute_result",
     "data": {
      "text/plain": "(8618, 8)"
     },
     "metadata": {},
     "execution_count": 14
    }
   ],
   "source": [
    "data_main.shape"
   ]
  },
  {
   "cell_type": "code",
   "execution_count": 15,
   "metadata": {},
   "outputs": [
    {
     "output_type": "execute_result",
     "data": {
      "text/plain": "            Athlete        Country\n0    Michael Phelps  United States\n1  Natalie Coughlin  United States\n2     Aleksey Nemov         Russia\n3     Alicia Coutts      Australia\n4    Missy Franklin  United States",
      "text/html": "<div>\n<style scoped>\n    .dataframe tbody tr th:only-of-type {\n        vertical-align: middle;\n    }\n\n    .dataframe tbody tr th {\n        vertical-align: top;\n    }\n\n    .dataframe thead th {\n        text-align: right;\n    }\n</style>\n<table border=\"1\" class=\"dataframe\">\n  <thead>\n    <tr style=\"text-align: right;\">\n      <th></th>\n      <th>Athlete</th>\n      <th>Country</th>\n    </tr>\n  </thead>\n  <tbody>\n    <tr>\n      <th>0</th>\n      <td>Michael Phelps</td>\n      <td>United States</td>\n    </tr>\n    <tr>\n      <th>1</th>\n      <td>Natalie Coughlin</td>\n      <td>United States</td>\n    </tr>\n    <tr>\n      <th>2</th>\n      <td>Aleksey Nemov</td>\n      <td>Russia</td>\n    </tr>\n    <tr>\n      <th>3</th>\n      <td>Alicia Coutts</td>\n      <td>Australia</td>\n    </tr>\n    <tr>\n      <th>4</th>\n      <td>Missy Franklin</td>\n      <td>United States</td>\n    </tr>\n  </tbody>\n</table>\n</div>"
     },
     "metadata": {},
     "execution_count": 15
    }
   ],
   "source": [
    "data_country = pd.read_csv(os.path.join(mainpath, folder, \"Athelete_Country_Map.csv\"), encoding = \"ISO-8859-1\")\n",
    "data_country.head()"
   ]
  },
  {
   "cell_type": "code",
   "execution_count": 16,
   "metadata": {},
   "outputs": [
    {
     "output_type": "execute_result",
     "data": {
      "text/plain": "6970"
     },
     "metadata": {},
     "execution_count": 16
    }
   ],
   "source": [
    "len(data_country)"
   ]
  },
  {
   "cell_type": "code",
   "execution_count": 17,
   "metadata": {},
   "outputs": [
    {
     "output_type": "execute_result",
     "data": {
      "text/plain": "               Athlete                Country\n1029  Aleksandar Ciric                 Serbia\n1086  Aleksandar Ciric  Serbia and Montenegro",
      "text/html": "<div>\n<style scoped>\n    .dataframe tbody tr th:only-of-type {\n        vertical-align: middle;\n    }\n\n    .dataframe tbody tr th {\n        vertical-align: top;\n    }\n\n    .dataframe thead th {\n        text-align: right;\n    }\n</style>\n<table border=\"1\" class=\"dataframe\">\n  <thead>\n    <tr style=\"text-align: right;\">\n      <th></th>\n      <th>Athlete</th>\n      <th>Country</th>\n    </tr>\n  </thead>\n  <tbody>\n    <tr>\n      <th>1029</th>\n      <td>Aleksandar Ciric</td>\n      <td>Serbia</td>\n    </tr>\n    <tr>\n      <th>1086</th>\n      <td>Aleksandar Ciric</td>\n      <td>Serbia and Montenegro</td>\n    </tr>\n  </tbody>\n</table>\n</div>"
     },
     "metadata": {},
     "execution_count": 17
    }
   ],
   "source": [
    "data_country[data_country[\"Athlete\"] == \"Aleksandar Ciric\"]"
   ]
  },
  {
   "cell_type": "code",
   "execution_count": 18,
   "metadata": {},
   "outputs": [
    {
     "output_type": "execute_result",
     "data": {
      "text/plain": "            Athlete       Sport\n0    Michael Phelps    Swimming\n1  Natalie Coughlin    Swimming\n2     Aleksey Nemov  Gymnastics\n3     Alicia Coutts    Swimming\n4    Missy Franklin    Swimming",
      "text/html": "<div>\n<style scoped>\n    .dataframe tbody tr th:only-of-type {\n        vertical-align: middle;\n    }\n\n    .dataframe tbody tr th {\n        vertical-align: top;\n    }\n\n    .dataframe thead th {\n        text-align: right;\n    }\n</style>\n<table border=\"1\" class=\"dataframe\">\n  <thead>\n    <tr style=\"text-align: right;\">\n      <th></th>\n      <th>Athlete</th>\n      <th>Sport</th>\n    </tr>\n  </thead>\n  <tbody>\n    <tr>\n      <th>0</th>\n      <td>Michael Phelps</td>\n      <td>Swimming</td>\n    </tr>\n    <tr>\n      <th>1</th>\n      <td>Natalie Coughlin</td>\n      <td>Swimming</td>\n    </tr>\n    <tr>\n      <th>2</th>\n      <td>Aleksey Nemov</td>\n      <td>Gymnastics</td>\n    </tr>\n    <tr>\n      <th>3</th>\n      <td>Alicia Coutts</td>\n      <td>Swimming</td>\n    </tr>\n    <tr>\n      <th>4</th>\n      <td>Missy Franklin</td>\n      <td>Swimming</td>\n    </tr>\n  </tbody>\n</table>\n</div>"
     },
     "metadata": {},
     "execution_count": 18
    }
   ],
   "source": [
    "data_sports = pd.read_csv(os.path.join(mainpath,folder,\"Athelete_Sports_Map.csv\"), encoding = \"ISO-8859-1\")\n",
    "data_sports.head()"
   ]
  },
  {
   "cell_type": "code",
   "execution_count": 19,
   "metadata": {},
   "outputs": [
    {
     "output_type": "execute_result",
     "data": {
      "text/plain": "6975"
     },
     "metadata": {},
     "execution_count": 19
    }
   ],
   "source": [
    "len(data_sports)"
   ]
  },
  {
   "cell_type": "code",
   "execution_count": 20,
   "metadata": {},
   "outputs": [
    {
     "output_type": "execute_result",
     "data": {
      "text/plain": "6956"
     },
     "metadata": {},
     "execution_count": 20
    }
   ],
   "source": [
    "len(data_sports[\"Athlete\"].unique().tolist())"
   ]
  },
  {
   "cell_type": "code",
   "execution_count": 21,
   "metadata": {},
   "outputs": [
    {
     "output_type": "execute_result",
     "data": {
      "text/plain": "               Athlete         Sport\n528   Richard Thompson     Athletics\n1308         Chen Jing    Volleyball\n1419         Chen Jing  Table Tennis\n2727         Matt Ryan        Rowing\n5003         Matt Ryan    Equestrian\n5691  Richard Thompson      Baseball",
      "text/html": "<div>\n<style scoped>\n    .dataframe tbody tr th:only-of-type {\n        vertical-align: middle;\n    }\n\n    .dataframe tbody tr th {\n        vertical-align: top;\n    }\n\n    .dataframe thead th {\n        text-align: right;\n    }\n</style>\n<table border=\"1\" class=\"dataframe\">\n  <thead>\n    <tr style=\"text-align: right;\">\n      <th></th>\n      <th>Athlete</th>\n      <th>Sport</th>\n    </tr>\n  </thead>\n  <tbody>\n    <tr>\n      <th>528</th>\n      <td>Richard Thompson</td>\n      <td>Athletics</td>\n    </tr>\n    <tr>\n      <th>1308</th>\n      <td>Chen Jing</td>\n      <td>Volleyball</td>\n    </tr>\n    <tr>\n      <th>1419</th>\n      <td>Chen Jing</td>\n      <td>Table Tennis</td>\n    </tr>\n    <tr>\n      <th>2727</th>\n      <td>Matt Ryan</td>\n      <td>Rowing</td>\n    </tr>\n    <tr>\n      <th>5003</th>\n      <td>Matt Ryan</td>\n      <td>Equestrian</td>\n    </tr>\n    <tr>\n      <th>5691</th>\n      <td>Richard Thompson</td>\n      <td>Baseball</td>\n    </tr>\n  </tbody>\n</table>\n</div>"
     },
     "metadata": {},
     "execution_count": 21
    }
   ],
   "source": [
    "data_sports[\n",
    "        (data_sports[\"Athlete\"] == \"Chen Jing\") | \n",
    "        (data_sports[\"Athlete\"] == \"Richard Thompson\") | \n",
    "        (data_sports[\"Athlete\"] == \"Matt Ryan\")\n",
    "    ]"
   ]
  },
  {
   "cell_type": "markdown",
   "metadata": {},
   "source": [
    "# Concatenar los datos con merge"
   ]
  },
  {
   "cell_type": "code",
   "execution_count": 25,
   "metadata": {},
   "outputs": [],
   "source": [
    "data_country_dp = data_country.drop_duplicates(subset = \"Athlete\")"
   ]
  },
  {
   "cell_type": "code",
   "execution_count": 26,
   "metadata": {},
   "outputs": [
    {
     "output_type": "execute_result",
     "data": {
      "text/plain": "               Athlete Country\n1029  Aleksandar Ciric  Serbia",
      "text/html": "<div>\n<style scoped>\n    .dataframe tbody tr th:only-of-type {\n        vertical-align: middle;\n    }\n\n    .dataframe tbody tr th {\n        vertical-align: top;\n    }\n\n    .dataframe thead th {\n        text-align: right;\n    }\n</style>\n<table border=\"1\" class=\"dataframe\">\n  <thead>\n    <tr style=\"text-align: right;\">\n      <th></th>\n      <th>Athlete</th>\n      <th>Country</th>\n    </tr>\n  </thead>\n  <tbody>\n    <tr>\n      <th>1029</th>\n      <td>Aleksandar Ciric</td>\n      <td>Serbia</td>\n    </tr>\n  </tbody>\n</table>\n</div>"
     },
     "metadata": {},
     "execution_count": 26
    }
   ],
   "source": [
    "data_country_dp[data_country_dp[\"Athlete\"] == \"Aleksandar Ciric\"]"
   ]
  },
  {
   "cell_type": "code",
   "execution_count": 29,
   "metadata": {},
   "outputs": [
    {
     "output_type": "execute_result",
     "data": {
      "text/plain": "            Athlete   Age  Year Closing Ceremony Date  Gold Medals  \\\n0    Michael Phelps  23.0  2008            08/24/2008            8   \n1    Michael Phelps  19.0  2004            08/29/2004            6   \n2    Michael Phelps  27.0  2012            08/12/2012            4   \n3  Natalie Coughlin  25.0  2008            08/24/2008            1   \n4  Natalie Coughlin  21.0  2004            08/29/2004            2   \n\n   Silver Medals  Bronze Medals  Total Medals        Country  \n0              0              0             8  United States  \n1              0              2             8  United States  \n2              2              0             6  United States  \n3              2              3             6  United States  \n4              2              1             5  United States  ",
      "text/html": "<div>\n<style scoped>\n    .dataframe tbody tr th:only-of-type {\n        vertical-align: middle;\n    }\n\n    .dataframe tbody tr th {\n        vertical-align: top;\n    }\n\n    .dataframe thead th {\n        text-align: right;\n    }\n</style>\n<table border=\"1\" class=\"dataframe\">\n  <thead>\n    <tr style=\"text-align: right;\">\n      <th></th>\n      <th>Athlete</th>\n      <th>Age</th>\n      <th>Year</th>\n      <th>Closing Ceremony Date</th>\n      <th>Gold Medals</th>\n      <th>Silver Medals</th>\n      <th>Bronze Medals</th>\n      <th>Total Medals</th>\n      <th>Country</th>\n    </tr>\n  </thead>\n  <tbody>\n    <tr>\n      <th>0</th>\n      <td>Michael Phelps</td>\n      <td>23.0</td>\n      <td>2008</td>\n      <td>08/24/2008</td>\n      <td>8</td>\n      <td>0</td>\n      <td>0</td>\n      <td>8</td>\n      <td>United States</td>\n    </tr>\n    <tr>\n      <th>1</th>\n      <td>Michael Phelps</td>\n      <td>19.0</td>\n      <td>2004</td>\n      <td>08/29/2004</td>\n      <td>6</td>\n      <td>0</td>\n      <td>2</td>\n      <td>8</td>\n      <td>United States</td>\n    </tr>\n    <tr>\n      <th>2</th>\n      <td>Michael Phelps</td>\n      <td>27.0</td>\n      <td>2012</td>\n      <td>08/12/2012</td>\n      <td>4</td>\n      <td>2</td>\n      <td>0</td>\n      <td>6</td>\n      <td>United States</td>\n    </tr>\n    <tr>\n      <th>3</th>\n      <td>Natalie Coughlin</td>\n      <td>25.0</td>\n      <td>2008</td>\n      <td>08/24/2008</td>\n      <td>1</td>\n      <td>2</td>\n      <td>3</td>\n      <td>6</td>\n      <td>United States</td>\n    </tr>\n    <tr>\n      <th>4</th>\n      <td>Natalie Coughlin</td>\n      <td>21.0</td>\n      <td>2004</td>\n      <td>08/29/2004</td>\n      <td>2</td>\n      <td>2</td>\n      <td>1</td>\n      <td>5</td>\n      <td>United States</td>\n    </tr>\n  </tbody>\n</table>\n</div>"
     },
     "metadata": {},
     "execution_count": 29
    }
   ],
   "source": [
    "data_main_country = pd.merge(left = data_main, right = data_country_dp, \n",
    "                    left_on = \"Athlete\", right_on = \"Athlete\")\n",
    "data_main_country.head()"
   ]
  },
  {
   "cell_type": "code",
   "execution_count": 30,
   "metadata": {},
   "outputs": [
    {
     "output_type": "execute_result",
     "data": {
      "text/plain": "               Athlete   Age  Year Closing Ceremony Date  Gold Medals  \\\n1491  Aleksandar Ciric  30.0  2008            08/24/2008            0   \n1492  Aleksandar Ciric  26.0  2004            08/29/2004            0   \n1493  Aleksandar Ciric  22.0  2000            10/01/2000            0   \n\n      Silver Medals  Bronze Medals  Total Medals Country  \n1491              0              1             1  Serbia  \n1492              1              0             1  Serbia  \n1493              0              1             1  Serbia  ",
      "text/html": "<div>\n<style scoped>\n    .dataframe tbody tr th:only-of-type {\n        vertical-align: middle;\n    }\n\n    .dataframe tbody tr th {\n        vertical-align: top;\n    }\n\n    .dataframe thead th {\n        text-align: right;\n    }\n</style>\n<table border=\"1\" class=\"dataframe\">\n  <thead>\n    <tr style=\"text-align: right;\">\n      <th></th>\n      <th>Athlete</th>\n      <th>Age</th>\n      <th>Year</th>\n      <th>Closing Ceremony Date</th>\n      <th>Gold Medals</th>\n      <th>Silver Medals</th>\n      <th>Bronze Medals</th>\n      <th>Total Medals</th>\n      <th>Country</th>\n    </tr>\n  </thead>\n  <tbody>\n    <tr>\n      <th>1491</th>\n      <td>Aleksandar Ciric</td>\n      <td>30.0</td>\n      <td>2008</td>\n      <td>08/24/2008</td>\n      <td>0</td>\n      <td>0</td>\n      <td>1</td>\n      <td>1</td>\n      <td>Serbia</td>\n    </tr>\n    <tr>\n      <th>1492</th>\n      <td>Aleksandar Ciric</td>\n      <td>26.0</td>\n      <td>2004</td>\n      <td>08/29/2004</td>\n      <td>0</td>\n      <td>1</td>\n      <td>0</td>\n      <td>1</td>\n      <td>Serbia</td>\n    </tr>\n    <tr>\n      <th>1493</th>\n      <td>Aleksandar Ciric</td>\n      <td>22.0</td>\n      <td>2000</td>\n      <td>10/01/2000</td>\n      <td>0</td>\n      <td>0</td>\n      <td>1</td>\n      <td>1</td>\n      <td>Serbia</td>\n    </tr>\n  </tbody>\n</table>\n</div>"
     },
     "metadata": {},
     "execution_count": 30
    }
   ],
   "source": [
    "data_main_country[data_main_country[\"Athlete\"] == \"Aleksandar Ciric\"] # Hace un inner join"
   ]
  },
  {
   "cell_type": "code",
   "execution_count": 32,
   "metadata": {},
   "outputs": [
    {
     "output_type": "execute_result",
     "data": {
      "text/plain": "(8618, 9)"
     },
     "metadata": {},
     "execution_count": 32
    }
   ],
   "source": [
    "data_main_country.shape"
   ]
  },
  {
   "cell_type": "code",
   "execution_count": 33,
   "metadata": {},
   "outputs": [],
   "source": [
    "data_sports_dp = data_sports.drop_duplicates(subset = \"Athlete\")"
   ]
  },
  {
   "cell_type": "code",
   "execution_count": 34,
   "metadata": {},
   "outputs": [
    {
     "output_type": "execute_result",
     "data": {
      "text/plain": "(6956, 2)"
     },
     "metadata": {},
     "execution_count": 34
    }
   ],
   "source": [
    "data_sports_dp.shape"
   ]
  },
  {
   "cell_type": "code",
   "execution_count": 35,
   "metadata": {},
   "outputs": [],
   "source": [
    "data_final = pd.merge(left = data_main_country, right = data_sports_dp, left_on = \"Athlete\", right_on = \"Athlete\")"
   ]
  },
  {
   "cell_type": "code",
   "execution_count": 36,
   "metadata": {},
   "outputs": [
    {
     "output_type": "execute_result",
     "data": {
      "text/plain": "            Athlete   Age  Year Closing Ceremony Date  Gold Medals  \\\n0    Michael Phelps  23.0  2008            08/24/2008            8   \n1    Michael Phelps  19.0  2004            08/29/2004            6   \n2    Michael Phelps  27.0  2012            08/12/2012            4   \n3  Natalie Coughlin  25.0  2008            08/24/2008            1   \n4  Natalie Coughlin  21.0  2004            08/29/2004            2   \n\n   Silver Medals  Bronze Medals  Total Medals        Country     Sport  \n0              0              0             8  United States  Swimming  \n1              0              2             8  United States  Swimming  \n2              2              0             6  United States  Swimming  \n3              2              3             6  United States  Swimming  \n4              2              1             5  United States  Swimming  ",
      "text/html": "<div>\n<style scoped>\n    .dataframe tbody tr th:only-of-type {\n        vertical-align: middle;\n    }\n\n    .dataframe tbody tr th {\n        vertical-align: top;\n    }\n\n    .dataframe thead th {\n        text-align: right;\n    }\n</style>\n<table border=\"1\" class=\"dataframe\">\n  <thead>\n    <tr style=\"text-align: right;\">\n      <th></th>\n      <th>Athlete</th>\n      <th>Age</th>\n      <th>Year</th>\n      <th>Closing Ceremony Date</th>\n      <th>Gold Medals</th>\n      <th>Silver Medals</th>\n      <th>Bronze Medals</th>\n      <th>Total Medals</th>\n      <th>Country</th>\n      <th>Sport</th>\n    </tr>\n  </thead>\n  <tbody>\n    <tr>\n      <th>0</th>\n      <td>Michael Phelps</td>\n      <td>23.0</td>\n      <td>2008</td>\n      <td>08/24/2008</td>\n      <td>8</td>\n      <td>0</td>\n      <td>0</td>\n      <td>8</td>\n      <td>United States</td>\n      <td>Swimming</td>\n    </tr>\n    <tr>\n      <th>1</th>\n      <td>Michael Phelps</td>\n      <td>19.0</td>\n      <td>2004</td>\n      <td>08/29/2004</td>\n      <td>6</td>\n      <td>0</td>\n      <td>2</td>\n      <td>8</td>\n      <td>United States</td>\n      <td>Swimming</td>\n    </tr>\n    <tr>\n      <th>2</th>\n      <td>Michael Phelps</td>\n      <td>27.0</td>\n      <td>2012</td>\n      <td>08/12/2012</td>\n      <td>4</td>\n      <td>2</td>\n      <td>0</td>\n      <td>6</td>\n      <td>United States</td>\n      <td>Swimming</td>\n    </tr>\n    <tr>\n      <th>3</th>\n      <td>Natalie Coughlin</td>\n      <td>25.0</td>\n      <td>2008</td>\n      <td>08/24/2008</td>\n      <td>1</td>\n      <td>2</td>\n      <td>3</td>\n      <td>6</td>\n      <td>United States</td>\n      <td>Swimming</td>\n    </tr>\n    <tr>\n      <th>4</th>\n      <td>Natalie Coughlin</td>\n      <td>21.0</td>\n      <td>2004</td>\n      <td>08/29/2004</td>\n      <td>2</td>\n      <td>2</td>\n      <td>1</td>\n      <td>5</td>\n      <td>United States</td>\n      <td>Swimming</td>\n    </tr>\n  </tbody>\n</table>\n</div>"
     },
     "metadata": {},
     "execution_count": 36
    }
   ],
   "source": [
    "data_final.head()"
   ]
  },
  {
   "cell_type": "code",
   "execution_count": 37,
   "metadata": {},
   "outputs": [
    {
     "output_type": "execute_result",
     "data": {
      "text/plain": "(8618, 10)"
     },
     "metadata": {},
     "execution_count": 37
    }
   ],
   "source": [
    "data_final.shape"
   ]
  },
  {
   "cell_type": "code",
   "execution_count": null,
   "metadata": {},
   "outputs": [],
   "source": []
  }
 ],
 "metadata": {
  "language_info": {
   "codemirror_mode": {
    "name": "ipython",
    "version": 3
   },
   "file_extension": ".py",
   "mimetype": "text/x-python",
   "name": "python",
   "nbconvert_exporter": "python",
   "pygments_lexer": "ipython3",
   "version": 3
  },
  "orig_nbformat": 2,
  "kernelspec": {
   "name": "python_defaultSpec_1594355655204",
   "display_name": "Python 3.8.0 64-bit"
  }
 },
 "nbformat": 4,
 "nbformat_minor": 2
}