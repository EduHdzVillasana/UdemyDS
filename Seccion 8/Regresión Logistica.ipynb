{
 "metadata": {
  "language_info": {
   "codemirror_mode": {
    "name": "ipython",
    "version": 3
   },
   "file_extension": ".py",
   "mimetype": "text/x-python",
   "name": "python",
   "nbconvert_exporter": "python",
   "pygments_lexer": "ipython3",
   "version": "3.9.0-final"
  },
  "orig_nbformat": 2,
  "kernelspec": {
   "name": "python3",
   "display_name": "Python 3.9.0 64-bit",
   "metadata": {
    "interpreter": {
     "hash": "1f65e174391277f634e70871feaa21300658cb740b5dabfc689c4c43dbc10e3e"
    }
   }
  }
 },
 "nbformat": 4,
 "nbformat_minor": 2,
 "cells": [
  {
   "source": [
    "# Regresión Logistica\n",
    "## Las tablas de contingencia"
   ],
   "cell_type": "markdown",
   "metadata": {}
  },
  {
   "cell_type": "code",
   "execution_count": 1,
   "metadata": {},
   "outputs": [],
   "source": [
    "import pandas as pd\n",
    "import numpy as np"
   ]
  },
  {
   "cell_type": "code",
   "execution_count": 2,
   "metadata": {},
   "outputs": [],
   "source": [
    "mainpath = \"E:/Curso de Python/Repositorio/python-ml-course/datasets/\"\n",
    "filepath = \"gender-purchase/Gender Purchase.csv\"\n",
    "data = pd.read_csv(os.path.join(mainpath,filepath))"
   ]
  },
  {
   "cell_type": "code",
   "execution_count": 3,
   "metadata": {},
   "outputs": [
    {
     "output_type": "execute_result",
     "data": {
      "text/plain": [
       "   Gender Purchase\n",
       "0  Female      Yes\n",
       "1  Female      Yes\n",
       "2  Female       No\n",
       "3    Male       No\n",
       "4    Male      Yes"
      ],
      "text/html": "<div>\n<style scoped>\n    .dataframe tbody tr th:only-of-type {\n        vertical-align: middle;\n    }\n\n    .dataframe tbody tr th {\n        vertical-align: top;\n    }\n\n    .dataframe thead th {\n        text-align: right;\n    }\n</style>\n<table border=\"1\" class=\"dataframe\">\n  <thead>\n    <tr style=\"text-align: right;\">\n      <th></th>\n      <th>Gender</th>\n      <th>Purchase</th>\n    </tr>\n  </thead>\n  <tbody>\n    <tr>\n      <th>0</th>\n      <td>Female</td>\n      <td>Yes</td>\n    </tr>\n    <tr>\n      <th>1</th>\n      <td>Female</td>\n      <td>Yes</td>\n    </tr>\n    <tr>\n      <th>2</th>\n      <td>Female</td>\n      <td>No</td>\n    </tr>\n    <tr>\n      <th>3</th>\n      <td>Male</td>\n      <td>No</td>\n    </tr>\n    <tr>\n      <th>4</th>\n      <td>Male</td>\n      <td>Yes</td>\n    </tr>\n  </tbody>\n</table>\n</div>"
     },
     "metadata": {},
     "execution_count": 3
    }
   ],
   "source": [
    "data.head()"
   ]
  },
  {
   "cell_type": "code",
   "execution_count": 4,
   "metadata": {},
   "outputs": [
    {
     "output_type": "execute_result",
     "data": {
      "text/plain": [
       "(511, 2)"
      ]
     },
     "metadata": {},
     "execution_count": 4
    }
   ],
   "source": [
    "data.shape"
   ]
  },
  {
   "source": [
    "### Se hace una tabla de contingencia"
   ],
   "cell_type": "markdown",
   "metadata": {}
  },
  {
   "cell_type": "code",
   "execution_count": 5,
   "metadata": {},
   "outputs": [
    {
     "output_type": "execute_result",
     "data": {
      "text/plain": [
       "Purchase   No  Yes\n",
       "Gender            \n",
       "Female    106  159\n",
       "Male      125  121"
      ],
      "text/html": "<div>\n<style scoped>\n    .dataframe tbody tr th:only-of-type {\n        vertical-align: middle;\n    }\n\n    .dataframe tbody tr th {\n        vertical-align: top;\n    }\n\n    .dataframe thead th {\n        text-align: right;\n    }\n</style>\n<table border=\"1\" class=\"dataframe\">\n  <thead>\n    <tr style=\"text-align: right;\">\n      <th>Purchase</th>\n      <th>No</th>\n      <th>Yes</th>\n    </tr>\n    <tr>\n      <th>Gender</th>\n      <th></th>\n      <th></th>\n    </tr>\n  </thead>\n  <tbody>\n    <tr>\n      <th>Female</th>\n      <td>106</td>\n      <td>159</td>\n    </tr>\n    <tr>\n      <th>Male</th>\n      <td>125</td>\n      <td>121</td>\n    </tr>\n  </tbody>\n</table>\n</div>"
     },
     "metadata": {},
     "execution_count": 5
    }
   ],
   "source": [
    "contingencyTable = pd.crosstab(data[\"Gender\"],data[\"Purchase\"])\n",
    "contingencyTable"
   ]
  },
  {
   "cell_type": "code",
   "execution_count": 6,
   "metadata": {},
   "outputs": [
    {
     "output_type": "execute_result",
     "data": {
      "text/plain": [
       "Gender\n",
       "Female    265\n",
       "Male      246\n",
       "dtype: int64"
      ]
     },
     "metadata": {},
     "execution_count": 6
    }
   ],
   "source": [
    "contingencyTable.sum(axis = 1)"
   ]
  },
  {
   "cell_type": "code",
   "execution_count": 7,
   "metadata": {},
   "outputs": [
    {
     "output_type": "execute_result",
     "data": {
      "text/plain": [
       "Purchase\n",
       "No     231\n",
       "Yes    280\n",
       "dtype: int64"
      ]
     },
     "metadata": {},
     "execution_count": 7
    }
   ],
   "source": [
    "contingencyTable.sum(axis = 0)"
   ]
  },
  {
   "cell_type": "code",
   "execution_count": 8,
   "metadata": {},
   "outputs": [
    {
     "output_type": "execute_result",
     "data": {
      "text/plain": [
       "Purchase       No      Yes\n",
       "Gender                    \n",
       "Female    0.40000  0.60000\n",
       "Male      0.50813  0.49187"
      ],
      "text/html": "<div>\n<style scoped>\n    .dataframe tbody tr th:only-of-type {\n        vertical-align: middle;\n    }\n\n    .dataframe tbody tr th {\n        vertical-align: top;\n    }\n\n    .dataframe thead th {\n        text-align: right;\n    }\n</style>\n<table border=\"1\" class=\"dataframe\">\n  <thead>\n    <tr style=\"text-align: right;\">\n      <th>Purchase</th>\n      <th>No</th>\n      <th>Yes</th>\n    </tr>\n    <tr>\n      <th>Gender</th>\n      <th></th>\n      <th></th>\n    </tr>\n  </thead>\n  <tbody>\n    <tr>\n      <th>Female</th>\n      <td>0.40000</td>\n      <td>0.60000</td>\n    </tr>\n    <tr>\n      <th>Male</th>\n      <td>0.50813</td>\n      <td>0.49187</td>\n    </tr>\n  </tbody>\n</table>\n</div>"
     },
     "metadata": {},
     "execution_count": 8
    }
   ],
   "source": [
    "contingencyTable.astype(\"float\").div(contingencyTable.sum(axis = 1), axis = 0)"
   ]
  },
  {
   "cell_type": "code",
   "execution_count": 9,
   "metadata": {},
   "outputs": [],
   "source": [
    "from IPython.display import display, Math, Latex"
   ]
  },
  {
   "source": [
    "## Probabilidad condicional\n",
    "* ¿Cual es la Probabilidad de que un cliente compre un prodicto sabiendo que es un hombre?\n",
    "$$P(Purchase|Male) = \\frac{\\text{Numero total de compras hechas por hombres}}{\\text{Numero total de hombres del grupo}} = \\frac{Puechase \\cap Male}{Male}$$\n",
    "* ¿Cual es la Probabilidad de que sabiendo que un cliente compra un producto sea mujer?\n",
    "$$P(Female|Purchase) = \\frac{\\text{Numero total de mujeres que compraron}}{\\text{Numero total de clientes que compraron}} = \\frac{Purchase \\cap Female}{Purchase}$$\n"
   ],
   "cell_type": "markdown",
   "metadata": {}
  },
  {
   "source": [
    "## Ratio de Probabilidades\n",
    "Cociente entre los casos de éxito sobre los de fracaso en el suceso estudiado y para cada grupo, sea:\n",
    "\n",
    "$P_m =$ probabilidad de hacer compra sabiendo que es un hombre\n",
    "\n",
    "$P_f =$ probabilidad de hacer compra sabiendo que es una mujer\n",
    "$$\\large{odds_{purchase\\ male} = \\frac{P_m}{1-P_m} = \\frac{N_{p,m}}{N_{\\bar p,m}}}$$\n",
    "$$\\large{odds_{purchase\\ female} = \\frac{P_f}{1-P_f} = \\frac{N_{p,f}}{N_{\\bar p,f}}}$$\n",
    "\n",
    "* Si el ratio es superior a 1, es más probable el éxito que el fracaso. Cuanto mayor es el ratio, más probabilidad de éxito en el suceso.\n",
    "* Si el ratio es exactamente igual a 1, éxito y fracaso son equiprobables\n",
    "* Si el ratio es menor que 1, el fracaso es más probable del éxito. Cuanto menor es el ratio, menor es la probabilidad de éxito del suceso.\n",
    "\n",
    "$$\\large{odds_{ratio} = \\frac{odds_{purchase\\ male}}{odds_{purchase\\ female}}}$$"
   ],
   "cell_type": "markdown",
   "metadata": {}
  },
  {
   "cell_type": "code",
   "execution_count": 10,
   "metadata": {},
   "outputs": [],
   "source": [
    "p_m = 121/246\n",
    "p_f = 159/265"
   ]
  },
  {
   "cell_type": "code",
   "execution_count": 11,
   "metadata": {},
   "outputs": [],
   "source": [
    "odds_m = p_m/(1-p_m)\n",
    "odds_f = p_f/(1-p_f)\n",
    "odds_r = odds_m/odds_f"
   ]
  },
  {
   "cell_type": "code",
   "execution_count": 13,
   "metadata": {},
   "outputs": [
    {
     "output_type": "execute_result",
     "data": {
      "text/plain": [
       "(0.9680000000000002, 1.4999999999999998, 0.6453333333333335)"
      ]
     },
     "metadata": {},
     "execution_count": 13
    }
   ],
   "source": [
    "odds_m,odds_f,odds_r"
   ]
  },
  {
   "source": [
    "# La regresión logística desde la regresión lineal\n",
    "## Regresión lineal:\n",
    "\n",
    "$$\\large{y=\\alpha + \\beta \\cdot x}$$\n",
    "$$\\large{y \\in [-\\infty, +\\infty]}$$\n",
    "$$\\large{x \\in [-\\infty, +\\infty]}$$\n",
    "\n",
    "## Regresión logística:\n",
    "\n",
    "$$\\large{Y \\in {0,1}}$$\n",
    "$$\\large{P \\in [0,1]}$$\n",
    "$$\\large{\\bf{X} \\in [-\\infty,+\\infty]}$$\n",
    "$$\\large{P = \\frac{1}{1+e^{-(\\alpha + \\bf{\\beta} \\cdot \\bf{X})}}}$$\n",
    "\n",
    "* Si $\\alpha + \\bf{\\beta} \\cdot \\bf{X}$ es muy pequeño, entonces $P$ tiende a 0\n",
    "* Si $\\alpha + \\bf{\\beta} \\cdot \\bf{X}$ es muy grande, entonces $P$ tiende a 1"
   ],
   "cell_type": "markdown",
   "metadata": {}
  }
 ]
}