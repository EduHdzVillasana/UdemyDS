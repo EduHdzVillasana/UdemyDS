{
  "nbformat": 4,
  "nbformat_minor": 0,
  "metadata": {
    "kernelspec": {
      "display_name": "Python 3",
      "language": "python",
      "name": "python3"
    },
    "language_info": {
      "codemirror_mode": {
        "name": "ipython",
        "version": 3
      },
      "file_extension": ".py",
      "mimetype": "text/x-python",
      "name": "python",
      "nbconvert_exporter": "python",
      "pygments_lexer": "ipython3",
      "version": "3.8.5"
    },
    "colab": {
      "name": "T6 - 3 - K-Means.ipynb",
      "provenance": [],
      "toc_visible": true,
      "include_colab_link": true
    }
  },
  "cells": [
    {
      "cell_type": "markdown",
      "metadata": {
        "id": "view-in-github",
        "colab_type": "text"
      },
      "source": [
        "<a href=\"https://colab.research.google.com/github/EduHdzVillasana/UdemyDS/blob/main/Seccion%209/K_Means.ipynb\" target=\"_parent\"><img src=\"https://colab.research.google.com/assets/colab-badge.svg\" alt=\"Open In Colab\"/></a>"
      ]
    },
    {
      "cell_type": "markdown",
      "metadata": {
        "id": "tYiIgQ35Xm06"
      },
      "source": [
        "# El método de k-means"
      ]
    },
    {
      "cell_type": "code",
      "metadata": {
        "id": "OYkhB2KEXm0_"
      },
      "source": [
        "import numpy as np"
      ],
      "execution_count": 1,
      "outputs": []
    },
    {
      "cell_type": "code",
      "metadata": {
        "id": "k2ILSdtUXm1A",
        "outputId": "cfe6f563-0fd8-43d6-d40f-1a7431f9c624",
        "colab": {
          "base_uri": "https://localhost:8080/"
        }
      },
      "source": [
        "data = np.random.random(90).reshape(30,3)\n",
        "data"
      ],
      "execution_count": 63,
      "outputs": [
        {
          "output_type": "execute_result",
          "data": {
            "text/plain": [
              "array([[0.64358383, 0.63692916, 0.13124007],\n",
              "       [0.08518052, 0.89594949, 0.72390058],\n",
              "       [0.58539905, 0.51957764, 0.20974377],\n",
              "       [0.88100802, 0.01303332, 0.57278414],\n",
              "       [0.8690916 , 0.96676867, 0.26860985],\n",
              "       [0.46184491, 0.22728384, 0.5651682 ],\n",
              "       [0.50385963, 0.67459036, 0.66583833],\n",
              "       [0.1224869 , 0.95579457, 0.79159436],\n",
              "       [0.28936018, 0.70221339, 0.44840817],\n",
              "       [0.37142059, 0.70201057, 0.24410801],\n",
              "       [0.84138585, 0.3396555 , 0.04449028],\n",
              "       [0.25755513, 0.1224976 , 0.65192349],\n",
              "       [0.01384815, 0.85904191, 0.28784848],\n",
              "       [0.0016954 , 0.71436921, 0.1659088 ],\n",
              "       [0.29525136, 0.27510443, 0.27179597],\n",
              "       [0.50941031, 0.47179869, 0.35515086],\n",
              "       [0.23738222, 0.63988018, 0.09510135],\n",
              "       [0.95080924, 0.79951005, 0.79855511],\n",
              "       [0.79773251, 0.15632879, 0.33084807],\n",
              "       [0.76419733, 0.29580916, 0.34733994],\n",
              "       [0.16391157, 0.21413879, 0.59830401],\n",
              "       [0.08221575, 0.78028775, 0.07050819],\n",
              "       [0.13522405, 0.75965922, 0.85140947],\n",
              "       [0.1765208 , 0.64634487, 0.10876922],\n",
              "       [0.75163504, 0.48837709, 0.07299347],\n",
              "       [0.86937495, 0.58928151, 0.91523495],\n",
              "       [0.28521575, 0.10065742, 0.2108557 ],\n",
              "       [0.58815747, 0.92797063, 0.38372577],\n",
              "       [0.53099217, 0.42090228, 0.09676075],\n",
              "       [0.01526698, 0.09520406, 0.37700569]])"
            ]
          },
          "metadata": {
            "tags": []
          },
          "execution_count": 63
        }
      ]
    },
    {
      "cell_type": "code",
      "metadata": {
        "id": "7ydOr2G0Xm1A",
        "outputId": "99fae94f-d5fa-48d0-c13f-7879ee806cb1",
        "colab": {
          "base_uri": "https://localhost:8080/"
        }
      },
      "source": [
        "c1 = np.random.choice(range(len(data)))\n",
        "c2 = np.random.choice(range(len(data)))\n",
        "clust_centers = np.vstack([data[c1], data[c2]])\n",
        "clust_centers"
      ],
      "execution_count": 64,
      "outputs": [
        {
          "output_type": "execute_result",
          "data": {
            "text/plain": [
              "array([[0.50941031, 0.47179869, 0.35515086],\n",
              "       [0.37142059, 0.70201057, 0.24410801]])"
            ]
          },
          "metadata": {
            "tags": []
          },
          "execution_count": 64
        }
      ]
    },
    {
      "cell_type": "code",
      "metadata": {
        "id": "AFXMuAQEXm1B"
      },
      "source": [
        "from scipy.cluster.vq import vq"
      ],
      "execution_count": 4,
      "outputs": []
    },
    {
      "cell_type": "code",
      "metadata": {
        "id": "e1kGsqiyXm1B",
        "outputId": "262ec257-53da-483b-9faa-fa2cd3c20145",
        "colab": {
          "base_uri": "https://localhost:8080/"
        }
      },
      "source": [
        "clusters = vq(data, clust_centers)\n",
        "clusters"
      ],
      "execution_count": 65,
      "outputs": [
        {
          "output_type": "execute_result",
          "data": {
            "text/plain": [
              "(array([1, 1, 0, 0, 1, 0, 0, 1, 1, 1, 0, 0, 1, 1, 0, 0, 1, 0, 0, 0, 0, 1,\n",
              "        1, 1, 0, 0, 0, 1, 0, 0], dtype=int32),\n",
              " array([0.30174094, 0.59139377, 0.17088106, 0.62921758, 0.56424607,\n",
              "        0.32581784, 0.37105522, 0.65277531, 0.22016473, 0.        ,\n",
              "        0.47347606, 0.52298784, 0.39297598, 0.37810656, 0.30249087,\n",
              "        0.        , 0.20983197, 0.70628257, 0.42806726, 0.30975756,\n",
              "        0.49485498, 0.34627107, 0.65416147, 0.24372359, 0.3722371 ,\n",
              "        0.67607022, 0.45697937, 0.34282056, 0.2642379 , 0.62167418]))"
            ]
          },
          "metadata": {
            "tags": []
          },
          "execution_count": 65
        }
      ]
    },
    {
      "cell_type": "code",
      "metadata": {
        "id": "xF4bzljwXm1B",
        "outputId": "a44d03a3-bfef-47cb-f0a2-32acdedd14ef",
        "colab": {
          "base_uri": "https://localhost:8080/"
        }
      },
      "source": [
        "labels = clusters[0]\n",
        "labels"
      ],
      "execution_count": 66,
      "outputs": [
        {
          "output_type": "execute_result",
          "data": {
            "text/plain": [
              "array([1, 1, 0, 0, 1, 0, 0, 1, 1, 1, 0, 0, 1, 1, 0, 0, 1, 0, 0, 0, 0, 1,\n",
              "       1, 1, 0, 0, 0, 1, 0, 0], dtype=int32)"
            ]
          },
          "metadata": {
            "tags": []
          },
          "execution_count": 66
        }
      ]
    },
    {
      "cell_type": "code",
      "metadata": {
        "id": "1y6204vga_yx",
        "outputId": "aac5ec84-a7fc-475c-87d1-4e454c29a232",
        "colab": {
          "base_uri": "https://localhost:8080/"
        }
      },
      "source": [
        "!pip install chart_studio"
      ],
      "execution_count": 7,
      "outputs": [
        {
          "output_type": "stream",
          "text": [
            "Collecting chart_studio\n",
            "\u001b[?25l  Downloading https://files.pythonhosted.org/packages/ca/ce/330794a6b6ca4b9182c38fc69dd2a9cbff60fd49421cb8648ee5fee352dc/chart_studio-1.1.0-py3-none-any.whl (64kB)\n",
            "\r\u001b[K     |█████                           | 10kB 14.5MB/s eta 0:00:01\r\u001b[K     |██████████▏                     | 20kB 12.5MB/s eta 0:00:01\r\u001b[K     |███████████████▎                | 30kB 10.1MB/s eta 0:00:01\r\u001b[K     |████████████████████▍           | 40kB 8.7MB/s eta 0:00:01\r\u001b[K     |█████████████████████████▍      | 51kB 5.5MB/s eta 0:00:01\r\u001b[K     |██████████████████████████████▌ | 61kB 5.8MB/s eta 0:00:01\r\u001b[K     |████████████████████████████████| 71kB 3.9MB/s \n",
            "\u001b[?25hRequirement already satisfied: six in /usr/local/lib/python3.7/dist-packages (from chart_studio) (1.15.0)\n",
            "Requirement already satisfied: plotly in /usr/local/lib/python3.7/dist-packages (from chart_studio) (4.4.1)\n",
            "Requirement already satisfied: retrying>=1.3.3 in /usr/local/lib/python3.7/dist-packages (from chart_studio) (1.3.3)\n",
            "Requirement already satisfied: requests in /usr/local/lib/python3.7/dist-packages (from chart_studio) (2.23.0)\n",
            "Requirement already satisfied: certifi>=2017.4.17 in /usr/local/lib/python3.7/dist-packages (from requests->chart_studio) (2020.12.5)\n",
            "Requirement already satisfied: chardet<4,>=3.0.2 in /usr/local/lib/python3.7/dist-packages (from requests->chart_studio) (3.0.4)\n",
            "Requirement already satisfied: idna<3,>=2.5 in /usr/local/lib/python3.7/dist-packages (from requests->chart_studio) (2.10)\n",
            "Requirement already satisfied: urllib3!=1.25.0,!=1.25.1,<1.26,>=1.21.1 in /usr/local/lib/python3.7/dist-packages (from requests->chart_studio) (1.24.3)\n",
            "Installing collected packages: chart-studio\n",
            "Successfully installed chart-studio-1.1.0\n"
          ],
          "name": "stdout"
        }
      ]
    },
    {
      "cell_type": "code",
      "metadata": {
        "id": "5rCrgBj7bIP8",
        "outputId": "0002fb1c-2eff-4627-e159-b5a8337b75bb",
        "colab": {
          "base_uri": "https://localhost:8080/"
        }
      },
      "source": [
        "!pip install plotly"
      ],
      "execution_count": 10,
      "outputs": [
        {
          "output_type": "stream",
          "text": [
            "Requirement already satisfied: plotly in /usr/local/lib/python3.7/dist-packages (4.4.1)\n",
            "Requirement already satisfied: six in /usr/local/lib/python3.7/dist-packages (from plotly) (1.15.0)\n",
            "Requirement already satisfied: retrying>=1.3.3 in /usr/local/lib/python3.7/dist-packages (from plotly) (1.3.3)\n"
          ],
          "name": "stdout"
        }
      ]
    },
    {
      "cell_type": "code",
      "metadata": {
        "id": "BquaIA8OmvKa"
      },
      "source": [
        "# Con función\n",
        "cluster_3D (data,labels,name = \"Clusters_fun.html\")"
      ],
      "execution_count": 78,
      "outputs": []
    },
    {
      "cell_type": "code",
      "metadata": {
        "id": "XD9OrXx6Xm1C"
      },
      "source": [
        "import chart_studio.plotly as py\n",
        "import plotly.graph_objects as go\n",
        "import plotly.offline as ply"
      ],
      "execution_count": 13,
      "outputs": []
    },
    {
      "cell_type": "code",
      "metadata": {
        "id": "8B9wTbouXm1C",
        "outputId": "741e31cc-af97-4dee-f0f6-c7df47234e40",
        "colab": {
          "base_uri": "https://localhost:8080/",
          "height": 102
        }
      },
      "source": [
        "x = []\n",
        "y = []\n",
        "z = []\n",
        "x2 = []\n",
        "y2 = []\n",
        "z2 = []\n",
        "\n",
        "for i in range(0, len(labels)):\n",
        "    if(labels[i] == 0):\n",
        "        x.append(data[i,0])\n",
        "        y.append(data[i,1])\n",
        "        z.append(data[i,2])\n",
        "        \n",
        "    else:\n",
        "        x2.append(data[i,0])\n",
        "        y2.append(data[i,1])\n",
        "        z2.append(data[i,2])\n",
        "\n",
        "cluster1 = go.Scatter3d(\n",
        "    x=x,\n",
        "    y=y,\n",
        "    z=z,\n",
        "    mode='markers',\n",
        "    marker=dict(\n",
        "        size=12,\n",
        "        line=dict(\n",
        "            color='rgba(217, 217, 217, 0.14)',\n",
        "            width=0.5\n",
        "        ),\n",
        "        opacity=0.9\n",
        "    ),\n",
        "    name=\"Cluster 0\"\n",
        ")\n",
        "\n",
        "\n",
        "cluster2 = go.Scatter3d(\n",
        "    x=x2,\n",
        "    y=y2,\n",
        "    z=z2,\n",
        "    mode='markers',\n",
        "    marker=dict(\n",
        "        color='rgb(127, 127, 127)',\n",
        "        size=12,\n",
        "        symbol='circle',\n",
        "        line=dict(\n",
        "            color='rgb(204, 204, 204)',\n",
        "            width=1\n",
        "        ),\n",
        "        opacity=0.9\n",
        "    ),\n",
        "    name=\"Cluster 1\"\n",
        ")\n",
        "data2 = [cluster1, cluster2]\n",
        "layout = go.Layout(\n",
        "    margin=dict(\n",
        "        l=0,\n",
        "        r=0,\n",
        "        b=0,\n",
        "        t=30\n",
        "    )\n",
        ")\n",
        "\n",
        "fig = go.Figure(data=data2, layout=layout)\n",
        "ply.plot(fig, filename='Clusters')\n"
      ],
      "execution_count": 17,
      "outputs": [
        {
          "output_type": "stream",
          "text": [
            "/usr/local/lib/python3.7/dist-packages/plotly/offline/offline.py:562: UserWarning:\n",
            "\n",
            "Your filename `Clusters` didn't end with .html. Adding .html to the end of your file.\n",
            "\n"
          ],
          "name": "stderr"
        },
        {
          "output_type": "execute_result",
          "data": {
            "application/vnd.google.colaboratory.intrinsic+json": {
              "type": "string"
            },
            "text/plain": [
              "'Clusters.html'"
            ]
          },
          "metadata": {
            "tags": []
          },
          "execution_count": 17
        }
      ]
    },
    {
      "cell_type": "code",
      "metadata": {
        "id": "IO6B5D1zXm1C"
      },
      "source": [
        "from scipy.cluster.vq import kmeans"
      ],
      "execution_count": 14,
      "outputs": []
    },
    {
      "cell_type": "code",
      "metadata": {
        "id": "Dx8X--8LXm1D",
        "outputId": "333f3b6e-4418-4021-8a09-85659be7c87b",
        "colab": {
          "base_uri": "https://localhost:8080/"
        }
      },
      "source": [
        "kmeans(data, clust_centers)"
      ],
      "execution_count": 15,
      "outputs": [
        {
          "output_type": "execute_result",
          "data": {
            "text/plain": [
              "(array([[0.19636865, 0.63731352, 0.56104339],\n",
              "        [0.72226867, 0.34359787, 0.35863768]]), 0.3799034535789873)"
            ]
          },
          "metadata": {
            "tags": []
          },
          "execution_count": 15
        }
      ]
    },
    {
      "cell_type": "code",
      "metadata": {
        "id": "YD7e982UXm1D",
        "outputId": "89084fe2-d8d3-4d0e-d344-90b549eeb546",
        "colab": {
          "base_uri": "https://localhost:8080/"
        }
      },
      "source": [
        "kmeans(data, 2)"
      ],
      "execution_count": 16,
      "outputs": [
        {
          "output_type": "execute_result",
          "data": {
            "text/plain": [
              "(array([[0.21791004, 0.64807852, 0.53235259],\n",
              "        [0.73578729, 0.31325183, 0.37383477]]), 0.37990727999295676)"
            ]
          },
          "metadata": {
            "tags": []
          },
          "execution_count": 16
        }
      ]
    },
    {
      "cell_type": "markdown",
      "metadata": {
        "id": "MVho6CFAccuw"
      },
      "source": [
        "## Se comprueba el metodo con lo visto anteriormente"
      ]
    },
    {
      "cell_type": "code",
      "metadata": {
        "id": "VAs7jyiacuFQ"
      },
      "source": [
        "import matplotlib.pyplot as plt"
      ],
      "execution_count": 18,
      "outputs": []
    },
    {
      "cell_type": "code",
      "metadata": {
        "id": "-Y9UJHbXdOPY",
        "outputId": "db0bc895-14db-419c-9f82-4de94f92e332",
        "colab": {
          "base_uri": "https://localhost:8080/",
          "height": 282
        }
      },
      "source": [
        "np.random.seed(4711)\n",
        "a = np.random.multivariate_normal([10,0],[[3,1],[1,4]], size = [100,])\n",
        "b = np.random.multivariate_normal([0,20], [[3,1],[1,4]], size = [50,])\n",
        "c = np.random.multivariate_normal([40,40],[[20,1],[1,30]], size=[200,])\n",
        "d = np.random.multivariate_normal([80,80],[[30,1],[1,30]], size=[200,])\n",
        "e = np.random.multivariate_normal([0,100],[[100,1],[1,100]], size=[200,])\n",
        "X = np.concatenate((a,b,c,d,e))\n",
        "print(X.shape)\n",
        "plt.scatter(X[:,0], X[:,1])\n",
        "plt.show()"
      ],
      "execution_count": 20,
      "outputs": [
        {
          "output_type": "stream",
          "text": [
            "(750, 2)\n"
          ],
          "name": "stdout"
        },
        {
          "output_type": "display_data",
          "data": {
            "image/png": "[encoded data removed]",
            "text/plain": [
              "<Figure size 432x288 with 1 Axes>"
            ]
          },
          "metadata": {
            "tags": [],
            "needs_background": "light"
          }
        }
      ]
    },
    {
      "cell_type": "code",
      "metadata": {
        "id": "NnlBeFzDdO0s",
        "outputId": "d4fe7acc-82bb-4af8-acd0-bf1474553fb1",
        "colab": {
          "base_uri": "https://localhost:8080/"
        }
      },
      "source": [
        "k_means = kmeans(X,6)\n",
        "k_means"
      ],
      "execution_count": 35,
      "outputs": [
        {
          "output_type": "execute_result",
          "data": {
            "text/plain": [
              "(array([[ 3.99451024e+01,  3.98164371e+01],\n",
              "        [ 8.01963855e+01,  7.97268473e+01],\n",
              "        [ 9.96258848e+00,  6.08658678e-02],\n",
              "        [ 3.30463079e-01,  1.99275108e+01],\n",
              "        [ 7.08762724e+00,  1.01530735e+02],\n",
              "        [-9.56790193e+00,  9.71473194e+01]]), 6.740963078792524)"
            ]
          },
          "metadata": {
            "tags": []
          },
          "execution_count": 35
        }
      ]
    },
    {
      "cell_type": "code",
      "metadata": {
        "id": "uxTKHRl4eIsO"
      },
      "source": [
        "clust_centers = k_means[0]"
      ],
      "execution_count": 36,
      "outputs": []
    },
    {
      "cell_type": "code",
      "metadata": {
        "id": "w7WrMtGkeDVU"
      },
      "source": [
        "clusters = vq(X, clust_centers)\n",
        "labels = clusters[0]"
      ],
      "execution_count": 37,
      "outputs": []
    },
    {
      "cell_type": "code",
      "metadata": {
        "id": "DlnyB7AyhIwE",
        "outputId": "56ecb4f5-c4fd-469f-8f36-7d58d507eedb",
        "colab": {
          "base_uri": "https://localhost:8080/",
          "height": 483
        }
      },
      "source": [
        "clusters_2D(X,labels) "
      ],
      "execution_count": 49,
      "outputs": [
        {
          "output_type": "display_data",
          "data": {
            "image/png": "[encoded data removed]",
            "text/plain": [
              "<Figure size 720x576 with 1 Axes>"
            ]
          },
          "metadata": {
            "tags": [],
            "needs_background": "light"
          }
        }
      ]
    },
    {
      "cell_type": "markdown",
      "metadata": {
        "id": "pmeUp6Wrhl_v"
      },
      "source": [
        "Clusters en 3D"
      ]
    },
    {
      "cell_type": "code",
      "metadata": {
        "id": "muKMJmwfhr8A"
      },
      "source": [
        ""
      ],
      "execution_count": null,
      "outputs": []
    },
    {
      "cell_type": "markdown",
      "metadata": {
        "id": "hbxZAXgpfXYy"
      },
      "source": [
        "### Creación de las funciones"
      ]
    },
    {
      "cell_type": "code",
      "metadata": {
        "id": "5pW9l0llfbf3"
      },
      "source": [
        "def clusters_2D (data, labels, cmap = \"prism\", size = (10,8)):\n",
        "  plt.figure(figsize = size)\n",
        "  plt.scatter(data[:,0], data[:,1], c = labels, cmap = cmap)\n",
        "  plt.show()"
      ],
      "execution_count": 43,
      "outputs": []
    },
    {
      "cell_type": "code",
      "metadata": {
        "id": "OsZlxNzXhyhF"
      },
      "source": [
        "def cluster_3D (data,labels,name = \"Clusters.html\", path = \"\"):\n",
        "  import chart_studio.plotly as py\n",
        "  import plotly.graph_objects as go\n",
        "  import plotly.offline as ply\n",
        "  import numpy as np\n",
        "  import os\n",
        "  \n",
        "  n_clusters = len(np.unique(labels))\n",
        "  clusters = []\n",
        "  for i in range(n_clusters):\n",
        "    dicc = {\"x\":[],\"y\":[],\"z\":[]}\n",
        "    clusters.append(dicc)\n",
        "  \n",
        "  for i in range(len(labels)):\n",
        "    clusters[labels[i]][\"x\"].append(data[i,0])\n",
        "    clusters[labels[i]][\"y\"].append(data[i,1])\n",
        "    clusters[labels[i]][\"z\"].append(data[i,2])\n",
        "  data2 = []\n",
        "  for i in range(n_clusters):\n",
        "    cluster_name = \"Cluster \"+str(i)\n",
        "    cluster_plot = go.Scatter3d(\n",
        "        x = clusters[i][\"x\"],\n",
        "        y = clusters[i][\"y\"],\n",
        "        z = clusters[i][\"z\"],\n",
        "        mode = 'markers',\n",
        "        marker = dict(\n",
        "            size = 12,\n",
        "            symbol = 'circle',\n",
        "            line = dict(\n",
        "                color = \"rgba(217, 217, 217, 0.14)\",\n",
        "                width=0.5\n",
        "            ),\n",
        "        ),\n",
        "        name = cluster_name\n",
        "    )\n",
        "  layout = go.Layout(\n",
        "      margin = dict(\n",
        "          l=0,\n",
        "          r=0,\n",
        "          b=0,\n",
        "          t=30\n",
        "      )\n",
        "  )\n",
        "  fig = go.Figure(data = data2, layout = layout)\n",
        "  mainpath = \"\"\n",
        "  if (path != \"\"):\n",
        "    mainpath = os.path.join(path,name)\n",
        "  else:\n",
        "    mainpath = name\n",
        "  \n",
        "  ply.plot(fig, filename = mainpath)"
      ],
      "execution_count": 77,
      "outputs": []
    }
  ]
}