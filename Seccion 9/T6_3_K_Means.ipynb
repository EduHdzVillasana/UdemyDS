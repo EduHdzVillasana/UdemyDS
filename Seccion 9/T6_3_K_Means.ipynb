{
  "nbformat": 4,
  "nbformat_minor": 0,
  "metadata": {
    "kernelspec": {
      "display_name": "Python 3",
      "language": "python",
      "name": "python3"
    },
    "language_info": {
      "codemirror_mode": {
        "name": "ipython",
        "version": 3
      },
      "file_extension": ".py",
      "mimetype": "text/x-python",
      "name": "python",
      "nbconvert_exporter": "python",
      "pygments_lexer": "ipython3",
      "version": "3.8.5"
    },
    "colab": {
      "name": "T6 - 3 - K-Means.ipynb",
      "provenance": [],
      "include_colab_link": true
    }
  },
  "cells": [
    {
      "cell_type": "markdown",
      "metadata": {
        "id": "view-in-github",
        "colab_type": "text"
      },
      "source": [
        "<a href=\"https://colab.research.google.com/github/EduHdzVillasana/UdemyDS/blob/main/Seccion%209/T6_3_K_Means.ipynb\" target=\"_parent\"><img src=\"https://colab.research.google.com/assets/colab-badge.svg\" alt=\"Open In Colab\"/></a>"
      ]
    },
    {
      "cell_type": "markdown",
      "metadata": {
        "id": "tYiIgQ35Xm06"
      },
      "source": [
        "# El método de k-means"
      ]
    },
    {
      "cell_type": "code",
      "metadata": {
        "id": "OYkhB2KEXm0_"
      },
      "source": [
        "import numpy as np"
      ],
      "execution_count": null,
      "outputs": []
    },
    {
      "cell_type": "code",
      "metadata": {
        "id": "k2ILSdtUXm1A",
        "outputId": "da43576e-f9fe-407d-badb-249e1f1c861d"
      },
      "source": [
        "data = np.random.random(90).reshape(30,3)\n",
        "data"
      ],
      "execution_count": null,
      "outputs": [
        {
          "output_type": "execute_result",
          "data": {
            "text/plain": [
              "array([[6.29147980e-01, 6.06404205e-01, 1.88141032e-01],\n",
              "       [1.26149489e-02, 5.16384408e-01, 2.84904055e-01],\n",
              "       [7.41433480e-01, 3.38824753e-01, 8.88956404e-01],\n",
              "       [5.62906682e-01, 3.26042026e-01, 6.63232583e-01],\n",
              "       [4.27731985e-01, 2.58430836e-01, 2.03435285e-01],\n",
              "       [8.56002964e-01, 9.74937992e-02, 1.63879425e-01],\n",
              "       [1.83413083e-01, 7.85274616e-01, 5.22590376e-01],\n",
              "       [1.08497479e-01, 8.40478007e-01, 5.11016484e-01],\n",
              "       [6.46451183e-01, 6.19757354e-01, 5.29945925e-01],\n",
              "       [7.80874043e-01, 5.21973134e-02, 1.71662529e-01],\n",
              "       [6.59423402e-01, 1.69502919e-01, 8.33304614e-02],\n",
              "       [3.56848606e-01, 1.16374844e-01, 2.30458097e-01],\n",
              "       [5.84120109e-01, 8.40197797e-01, 9.72455374e-01],\n",
              "       [9.16082529e-01, 2.33083741e-01, 6.75067566e-01],\n",
              "       [9.95222781e-01, 6.29975622e-01, 3.92362489e-01],\n",
              "       [1.34723208e-01, 5.38025756e-01, 1.15284999e-01],\n",
              "       [5.83957662e-02, 5.37907566e-01, 1.33294137e-01],\n",
              "       [9.46400776e-01, 1.64623730e-01, 6.34832584e-01],\n",
              "       [8.93746931e-01, 2.80637595e-01, 1.65130691e-01],\n",
              "       [5.39562360e-01, 2.07266311e-02, 7.97995111e-02],\n",
              "       [8.19704004e-01, 5.95519544e-01, 5.69995785e-01],\n",
              "       [6.85071290e-01, 6.23518529e-01, 5.90798667e-01],\n",
              "       [4.06128687e-01, 1.12649853e-02, 3.96032651e-01],\n",
              "       [8.52166022e-01, 5.94052984e-01, 5.36217408e-01],\n",
              "       [6.23095629e-01, 6.80364719e-01, 1.60587705e-04],\n",
              "       [4.32550951e-01, 3.16329561e-01, 2.62452668e-01],\n",
              "       [6.33852484e-01, 6.59820999e-01, 9.43297565e-01],\n",
              "       [1.01694869e-01, 4.54377517e-01, 2.53691294e-02],\n",
              "       [8.05619994e-01, 3.88882031e-01, 6.32589586e-01],\n",
              "       [6.22258356e-02, 4.05728994e-01, 4.97752949e-01]])"
            ]
          },
          "metadata": {
            "tags": []
          },
          "execution_count": 2
        }
      ]
    },
    {
      "cell_type": "code",
      "metadata": {
        "id": "7ydOr2G0Xm1A",
        "outputId": "5b93e71f-527b-48be-889b-059aaebed770"
      },
      "source": [
        "c1 = np.random.choice(range(len(data)))\n",
        "c2 = np.random.choice(range(len(data)))\n",
        "clust_centers = np.vstack([data[c1], data[c2]])\n",
        "clust_centers"
      ],
      "execution_count": null,
      "outputs": [
        {
          "output_type": "execute_result",
          "data": {
            "text/plain": [
              "array([[0.85216602, 0.59405298, 0.53621741],\n",
              "       [0.35684861, 0.11637484, 0.2304581 ]])"
            ]
          },
          "metadata": {
            "tags": []
          },
          "execution_count": 3
        }
      ]
    },
    {
      "cell_type": "code",
      "metadata": {
        "id": "AFXMuAQEXm1B"
      },
      "source": [
        "from scipy.cluster.vq import vq"
      ],
      "execution_count": null,
      "outputs": []
    },
    {
      "cell_type": "code",
      "metadata": {
        "id": "e1kGsqiyXm1B",
        "outputId": "ffcb21aa-874a-4eae-d423-8f3bda2e674a"
      },
      "source": [
        "clusters = vq(data, clust_centers)\n",
        "clusters"
      ],
      "execution_count": null,
      "outputs": [
        {
          "output_type": "execute_result",
          "data": {
            "text/plain": [
              "(array([0, 1, 0, 0, 1, 1, 0, 0, 0, 1, 1, 1, 0, 0, 0, 1, 1, 0, 0, 1, 0, 0,\n",
              "        1, 0, 0, 1, 0, 1, 0, 1], dtype=int32),\n",
              " array([0.413578  , 0.53053636, 0.44925265, 0.41428697, 0.1610422 ,\n",
              "        0.50392885, 0.69568808, 0.78383881, 0.20740936, 0.43286631,\n",
              "        0.34061803, 0.        , 0.56810161, 0.39199934, 0.20603376,\n",
              "        0.49029994, 0.52555187, 0.45057144, 0.48750747, 0.25540342,\n",
              "        0.04687123, 0.17823575, 0.20221657, 0.        , 0.58930457,\n",
              "        0.216186  , 0.46658385, 0.47054301, 0.23140711, 0.49190948]))"
            ]
          },
          "metadata": {
            "tags": []
          },
          "execution_count": 5
        }
      ]
    },
    {
      "cell_type": "code",
      "metadata": {
        "id": "xF4bzljwXm1B",
        "outputId": "08a28ddf-cb02-4d2e-efff-06ecf836367e"
      },
      "source": [
        "labels = clusters[0]\n",
        "labels"
      ],
      "execution_count": null,
      "outputs": [
        {
          "output_type": "execute_result",
          "data": {
            "text/plain": [
              "array([0, 1, 0, 0, 1, 1, 0, 0, 0, 1, 1, 1, 0, 0, 0, 1, 1, 0, 0, 1, 0, 0,\n",
              "       1, 0, 0, 1, 0, 1, 0, 1], dtype=int32)"
            ]
          },
          "metadata": {
            "tags": []
          },
          "execution_count": 6
        }
      ]
    },
    {
      "cell_type": "code",
      "metadata": {
        "id": "XD9OrXx6Xm1C",
        "outputId": "9b93a6ba-45ad-498b-88a7-c0a9f2987593"
      },
      "source": [
        "import plotly.plotly as py\n",
        "import plotly.graph_objs as go\n",
        "import plotly.offline as ply"
      ],
      "execution_count": null,
      "outputs": [
        {
          "output_type": "error",
          "ename": "ImportError",
          "evalue": "\nThe plotly.plotly module is deprecated,\nplease install the chart-studio package and use the\nchart_studio.plotly module instead. \n",
          "traceback": [
            "\u001b[0;31m---------------------------------------------------------------------------\u001b[0m",
            "\u001b[0;31mImportError\u001b[0m                               Traceback (most recent call last)",
            "\u001b[0;32m<ipython-input-7-56589139b65c>\u001b[0m in \u001b[0;36m<module>\u001b[0;34m\u001b[0m\n\u001b[0;32m----> 1\u001b[0;31m \u001b[0;32mimport\u001b[0m \u001b[0mplotly\u001b[0m\u001b[0;34m.\u001b[0m\u001b[0mplotly\u001b[0m \u001b[0;32mas\u001b[0m \u001b[0mpy\u001b[0m\u001b[0;34m\u001b[0m\u001b[0;34m\u001b[0m\u001b[0m\n\u001b[0m\u001b[1;32m      2\u001b[0m \u001b[0;32mimport\u001b[0m \u001b[0mplotly\u001b[0m\u001b[0;34m.\u001b[0m\u001b[0mgraph_objs\u001b[0m \u001b[0;32mas\u001b[0m \u001b[0mgo\u001b[0m\u001b[0;34m\u001b[0m\u001b[0;34m\u001b[0m\u001b[0m\n\u001b[1;32m      3\u001b[0m \u001b[0;32mimport\u001b[0m \u001b[0mplotly\u001b[0m\u001b[0;34m.\u001b[0m\u001b[0moffline\u001b[0m \u001b[0;32mas\u001b[0m \u001b[0mply\u001b[0m\u001b[0;34m\u001b[0m\u001b[0;34m\u001b[0m\u001b[0m\n",
            "\u001b[0;32m~/opt/anaconda3/lib/python3.8/site-packages/plotly/plotly/__init__.py\u001b[0m in \u001b[0;36m<module>\u001b[0;34m\u001b[0m\n\u001b[1;32m      2\u001b[0m \u001b[0;32mfrom\u001b[0m \u001b[0m_plotly_future_\u001b[0m \u001b[0;32mimport\u001b[0m \u001b[0m_chart_studio_error\u001b[0m\u001b[0;34m\u001b[0m\u001b[0;34m\u001b[0m\u001b[0m\n\u001b[1;32m      3\u001b[0m \u001b[0;34m\u001b[0m\u001b[0m\n\u001b[0;32m----> 4\u001b[0;31m \u001b[0m_chart_studio_error\u001b[0m\u001b[0;34m(\u001b[0m\u001b[0;34m\"plotly\"\u001b[0m\u001b[0;34m)\u001b[0m\u001b[0;34m\u001b[0m\u001b[0;34m\u001b[0m\u001b[0m\n\u001b[0m",
            "\u001b[0;32m~/opt/anaconda3/lib/python3.8/site-packages/_plotly_future_/__init__.py\u001b[0m in \u001b[0;36m_chart_studio_error\u001b[0;34m(submodule)\u001b[0m\n\u001b[1;32m     41\u001b[0m \u001b[0;34m\u001b[0m\u001b[0m\n\u001b[1;32m     42\u001b[0m \u001b[0;32mdef\u001b[0m \u001b[0m_chart_studio_error\u001b[0m\u001b[0;34m(\u001b[0m\u001b[0msubmodule\u001b[0m\u001b[0;34m)\u001b[0m\u001b[0;34m:\u001b[0m\u001b[0;34m\u001b[0m\u001b[0;34m\u001b[0m\u001b[0m\n\u001b[0;32m---> 43\u001b[0;31m     raise ImportError(\n\u001b[0m\u001b[1;32m     44\u001b[0m         \"\"\"\n\u001b[1;32m     45\u001b[0m \u001b[0mThe\u001b[0m \u001b[0mplotly\u001b[0m\u001b[0;34m.\u001b[0m\u001b[0;34m{\u001b[0m\u001b[0msubmodule\u001b[0m\u001b[0;34m}\u001b[0m \u001b[0mmodule\u001b[0m \u001b[0;32mis\u001b[0m \u001b[0mdeprecated\u001b[0m\u001b[0;34m,\u001b[0m\u001b[0;34m\u001b[0m\u001b[0;34m\u001b[0m\u001b[0m\n",
            "\u001b[0;31mImportError\u001b[0m: \nThe plotly.plotly module is deprecated,\nplease install the chart-studio package and use the\nchart_studio.plotly module instead. \n"
          ]
        }
      ]
    },
    {
      "cell_type": "code",
      "metadata": {
        "id": "8B9wTbouXm1C"
      },
      "source": [
        "x = []\n",
        "y = []\n",
        "z = []\n",
        "x2 = []\n",
        "y2 = []\n",
        "z2 = []\n",
        "\n",
        "for i in range(0, len(labels)):\n",
        "    if(labels[i] == 0):\n",
        "        x.append(data[i,0])\n",
        "        y.append(data[i,1])\n",
        "        z.append(data[i,2])\n",
        "        \n",
        "    else:\n",
        "        x2.append(data[i,0])\n",
        "        y2.append(data[i,1])\n",
        "        z2.append(data[i,2])\n",
        "\n",
        "cluster1 = go.Scatter3d(\n",
        "    x=x,\n",
        "    y=y,\n",
        "    z=z,\n",
        "    mode='markers',\n",
        "    marker=dict(\n",
        "        size=12,\n",
        "        line=dict(\n",
        "            color='rgba(217, 217, 217, 0.14)',\n",
        "            width=0.5\n",
        "        ),\n",
        "        opacity=0.9\n",
        "    ),\n",
        "    name=\"Cluster 0\"\n",
        ")\n",
        "\n",
        "\n",
        "cluster2 = go.Scatter3d(\n",
        "    x=x2,\n",
        "    y=y2,\n",
        "    z=z2,\n",
        "    mode='markers',\n",
        "    marker=dict(\n",
        "        color='rgb(127, 127, 127)',\n",
        "        size=12,\n",
        "        symbol='circle',\n",
        "        line=dict(\n",
        "            color='rgb(204, 204, 204)',\n",
        "            width=1\n",
        "        ),\n",
        "        opacity=0.9\n",
        "    ),\n",
        "    name=\"Cluster 1\"\n",
        ")\n",
        "data2 = [cluster1, cluster2]\n",
        "layout = go.Layout(\n",
        "    margin=dict(\n",
        "        l=0,\n",
        "        r=0,\n",
        "        b=0,\n",
        "        t=30\n",
        "    )\n",
        ")\n",
        "\n",
        "fig = go.Figure(data=data2, layout=layout)\n",
        "ply.plot(fig, filename='Clusters')\n"
      ],
      "execution_count": null,
      "outputs": []
    },
    {
      "cell_type": "code",
      "metadata": {
        "id": "IO6B5D1zXm1C"
      },
      "source": [
        "from scipy.cluster.vq import kmeans"
      ],
      "execution_count": null,
      "outputs": []
    },
    {
      "cell_type": "code",
      "metadata": {
        "id": "Dx8X--8LXm1D",
        "outputId": "7723e259-63ec-4beb-fe3e-d52db9d4eed7"
      },
      "source": [
        "kmeans(data, clust_centers)"
      ],
      "execution_count": null,
      "outputs": [
        {
          "output_type": "execute_result",
          "data": {
            "text/plain": [
              "(array([[0.67721014, 0.54571798, 0.64738277],\n",
              "        [0.43592301, 0.31638448, 0.18756801]]),\n",
              " 0.3454152706463719)"
            ]
          },
          "metadata": {
            "tags": []
          },
          "execution_count": 9
        }
      ]
    },
    {
      "cell_type": "code",
      "metadata": {
        "id": "YD7e982UXm1D",
        "outputId": "aa208d20-21be-443d-b392-d40b6776c897"
      },
      "source": [
        "kmeans(data, 2)"
      ],
      "execution_count": null,
      "outputs": [
        {
          "output_type": "execute_result",
          "data": {
            "text/plain": [
              "(array([[0.76575261, 0.50119159, 0.66914599],\n",
              "        [0.40370437, 0.37155024, 0.22414973]]),\n",
              " 0.34445385283461694)"
            ]
          },
          "metadata": {
            "tags": []
          },
          "execution_count": 10
        }
      ]
    }
  ]
}